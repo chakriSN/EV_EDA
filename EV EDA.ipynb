{
 "cells": [
  {
   "cell_type": "code",
   "execution_count": 37,
   "id": "ff2565db",
   "metadata": {},
   "outputs": [],
   "source": [
    "import pandas as pd\n",
    "import numpy as np\n",
    "import matplotlib.pyplot as plt\n",
    "import seaborn as sns\n",
    "import statsmodels.api as sm\n",
    "import plotly. express as px\n",
    "from matplotlib.animation import FuncAnimation\n",
    "%matplotlib inline"
   ]
  },
  {
   "cell_type": "code",
   "execution_count": 38,
   "id": "4e7dddfd",
   "metadata": {},
   "outputs": [],
   "source": [
    "df = pd.read_csv('dataset.csv')"
   ]
  },
  {
   "cell_type": "code",
   "execution_count": 39,
   "id": "44f91d74",
   "metadata": {},
   "outputs": [
    {
     "data": {
      "text/html": [
       "<div>\n",
       "<style scoped>\n",
       "    .dataframe tbody tr th:only-of-type {\n",
       "        vertical-align: middle;\n",
       "    }\n",
       "\n",
       "    .dataframe tbody tr th {\n",
       "        vertical-align: top;\n",
       "    }\n",
       "\n",
       "    .dataframe thead th {\n",
       "        text-align: right;\n",
       "    }\n",
       "</style>\n",
       "<table border=\"1\" class=\"dataframe\">\n",
       "  <thead>\n",
       "    <tr style=\"text-align: right;\">\n",
       "      <th></th>\n",
       "      <th>VIN (1-10)</th>\n",
       "      <th>County</th>\n",
       "      <th>City</th>\n",
       "      <th>State</th>\n",
       "      <th>Postal Code</th>\n",
       "      <th>Model Year</th>\n",
       "      <th>Make</th>\n",
       "      <th>Model</th>\n",
       "      <th>Electric Vehicle Type</th>\n",
       "      <th>Clean Alternative Fuel Vehicle (CAFV) Eligibility</th>\n",
       "      <th>Electric Range</th>\n",
       "      <th>Base MSRP</th>\n",
       "      <th>Legislative District</th>\n",
       "      <th>DOL Vehicle ID</th>\n",
       "      <th>Vehicle Location</th>\n",
       "      <th>Electric Utility</th>\n",
       "      <th>2020 Census Tract</th>\n",
       "    </tr>\n",
       "  </thead>\n",
       "  <tbody>\n",
       "    <tr>\n",
       "      <th>0</th>\n",
       "      <td>JTMEB3FV6N</td>\n",
       "      <td>Monroe</td>\n",
       "      <td>Key West</td>\n",
       "      <td>FL</td>\n",
       "      <td>33040</td>\n",
       "      <td>2022</td>\n",
       "      <td>TOYOTA</td>\n",
       "      <td>RAV4 PRIME</td>\n",
       "      <td>Plug-in Hybrid Electric Vehicle (PHEV)</td>\n",
       "      <td>Clean Alternative Fuel Vehicle Eligible</td>\n",
       "      <td>42</td>\n",
       "      <td>0</td>\n",
       "      <td>NaN</td>\n",
       "      <td>198968248</td>\n",
       "      <td>POINT (-81.80023 24.5545)</td>\n",
       "      <td>NaN</td>\n",
       "      <td>12087972100</td>\n",
       "    </tr>\n",
       "    <tr>\n",
       "      <th>1</th>\n",
       "      <td>1G1RD6E45D</td>\n",
       "      <td>Clark</td>\n",
       "      <td>Laughlin</td>\n",
       "      <td>NV</td>\n",
       "      <td>89029</td>\n",
       "      <td>2013</td>\n",
       "      <td>CHEVROLET</td>\n",
       "      <td>VOLT</td>\n",
       "      <td>Plug-in Hybrid Electric Vehicle (PHEV)</td>\n",
       "      <td>Clean Alternative Fuel Vehicle Eligible</td>\n",
       "      <td>38</td>\n",
       "      <td>0</td>\n",
       "      <td>NaN</td>\n",
       "      <td>5204412</td>\n",
       "      <td>POINT (-114.57245 35.16815)</td>\n",
       "      <td>NaN</td>\n",
       "      <td>32003005702</td>\n",
       "    </tr>\n",
       "    <tr>\n",
       "      <th>2</th>\n",
       "      <td>JN1AZ0CP8B</td>\n",
       "      <td>Yakima</td>\n",
       "      <td>Yakima</td>\n",
       "      <td>WA</td>\n",
       "      <td>98901</td>\n",
       "      <td>2011</td>\n",
       "      <td>NISSAN</td>\n",
       "      <td>LEAF</td>\n",
       "      <td>Battery Electric Vehicle (BEV)</td>\n",
       "      <td>Clean Alternative Fuel Vehicle Eligible</td>\n",
       "      <td>73</td>\n",
       "      <td>0</td>\n",
       "      <td>15.0</td>\n",
       "      <td>218972519</td>\n",
       "      <td>POINT (-120.50721 46.60448)</td>\n",
       "      <td>PACIFICORP</td>\n",
       "      <td>53077001602</td>\n",
       "    </tr>\n",
       "    <tr>\n",
       "      <th>3</th>\n",
       "      <td>1G1FW6S08H</td>\n",
       "      <td>Skagit</td>\n",
       "      <td>Concrete</td>\n",
       "      <td>WA</td>\n",
       "      <td>98237</td>\n",
       "      <td>2017</td>\n",
       "      <td>CHEVROLET</td>\n",
       "      <td>BOLT EV</td>\n",
       "      <td>Battery Electric Vehicle (BEV)</td>\n",
       "      <td>Clean Alternative Fuel Vehicle Eligible</td>\n",
       "      <td>238</td>\n",
       "      <td>0</td>\n",
       "      <td>39.0</td>\n",
       "      <td>186750406</td>\n",
       "      <td>POINT (-121.7515 48.53892)</td>\n",
       "      <td>PUGET SOUND ENERGY INC</td>\n",
       "      <td>53057951101</td>\n",
       "    </tr>\n",
       "    <tr>\n",
       "      <th>4</th>\n",
       "      <td>3FA6P0SU1K</td>\n",
       "      <td>Snohomish</td>\n",
       "      <td>Everett</td>\n",
       "      <td>WA</td>\n",
       "      <td>98201</td>\n",
       "      <td>2019</td>\n",
       "      <td>FORD</td>\n",
       "      <td>FUSION</td>\n",
       "      <td>Plug-in Hybrid Electric Vehicle (PHEV)</td>\n",
       "      <td>Not eligible due to low battery range</td>\n",
       "      <td>26</td>\n",
       "      <td>0</td>\n",
       "      <td>38.0</td>\n",
       "      <td>2006714</td>\n",
       "      <td>POINT (-122.20596 47.97659)</td>\n",
       "      <td>PUGET SOUND ENERGY INC</td>\n",
       "      <td>53061041500</td>\n",
       "    </tr>\n",
       "  </tbody>\n",
       "</table>\n",
       "</div>"
      ],
      "text/plain": [
       "   VIN (1-10)     County      City State  Postal Code  Model Year       Make  \\\n",
       "0  JTMEB3FV6N     Monroe  Key West    FL        33040        2022     TOYOTA   \n",
       "1  1G1RD6E45D      Clark  Laughlin    NV        89029        2013  CHEVROLET   \n",
       "2  JN1AZ0CP8B     Yakima    Yakima    WA        98901        2011     NISSAN   \n",
       "3  1G1FW6S08H     Skagit  Concrete    WA        98237        2017  CHEVROLET   \n",
       "4  3FA6P0SU1K  Snohomish   Everett    WA        98201        2019       FORD   \n",
       "\n",
       "        Model                   Electric Vehicle Type  \\\n",
       "0  RAV4 PRIME  Plug-in Hybrid Electric Vehicle (PHEV)   \n",
       "1        VOLT  Plug-in Hybrid Electric Vehicle (PHEV)   \n",
       "2        LEAF          Battery Electric Vehicle (BEV)   \n",
       "3     BOLT EV          Battery Electric Vehicle (BEV)   \n",
       "4      FUSION  Plug-in Hybrid Electric Vehicle (PHEV)   \n",
       "\n",
       "  Clean Alternative Fuel Vehicle (CAFV) Eligibility  Electric Range  \\\n",
       "0           Clean Alternative Fuel Vehicle Eligible              42   \n",
       "1           Clean Alternative Fuel Vehicle Eligible              38   \n",
       "2           Clean Alternative Fuel Vehicle Eligible              73   \n",
       "3           Clean Alternative Fuel Vehicle Eligible             238   \n",
       "4             Not eligible due to low battery range              26   \n",
       "\n",
       "   Base MSRP  Legislative District  DOL Vehicle ID  \\\n",
       "0          0                   NaN       198968248   \n",
       "1          0                   NaN         5204412   \n",
       "2          0                  15.0       218972519   \n",
       "3          0                  39.0       186750406   \n",
       "4          0                  38.0         2006714   \n",
       "\n",
       "              Vehicle Location        Electric Utility  2020 Census Tract  \n",
       "0    POINT (-81.80023 24.5545)                     NaN        12087972100  \n",
       "1  POINT (-114.57245 35.16815)                     NaN        32003005702  \n",
       "2  POINT (-120.50721 46.60448)              PACIFICORP        53077001602  \n",
       "3   POINT (-121.7515 48.53892)  PUGET SOUND ENERGY INC        53057951101  \n",
       "4  POINT (-122.20596 47.97659)  PUGET SOUND ENERGY INC        53061041500  "
      ]
     },
     "execution_count": 39,
     "metadata": {},
     "output_type": "execute_result"
    }
   ],
   "source": [
    "df.head()"
   ]
  },
  {
   "cell_type": "code",
   "execution_count": 40,
   "id": "08640a7b",
   "metadata": {
    "scrolled": true
   },
   "outputs": [
    {
     "name": "stdout",
     "output_type": "stream",
     "text": [
      "<class 'pandas.core.frame.DataFrame'>\n",
      "RangeIndex: 112634 entries, 0 to 112633\n",
      "Data columns (total 17 columns):\n",
      " #   Column                                             Non-Null Count   Dtype  \n",
      "---  ------                                             --------------   -----  \n",
      " 0   VIN (1-10)                                         112634 non-null  object \n",
      " 1   County                                             112634 non-null  object \n",
      " 2   City                                               112634 non-null  object \n",
      " 3   State                                              112634 non-null  object \n",
      " 4   Postal Code                                        112634 non-null  int64  \n",
      " 5   Model Year                                         112634 non-null  int64  \n",
      " 6   Make                                               112634 non-null  object \n",
      " 7   Model                                              112614 non-null  object \n",
      " 8   Electric Vehicle Type                              112634 non-null  object \n",
      " 9   Clean Alternative Fuel Vehicle (CAFV) Eligibility  112634 non-null  object \n",
      " 10  Electric Range                                     112634 non-null  int64  \n",
      " 11  Base MSRP                                          112634 non-null  int64  \n",
      " 12  Legislative District                               112348 non-null  float64\n",
      " 13  DOL Vehicle ID                                     112634 non-null  int64  \n",
      " 14  Vehicle Location                                   112610 non-null  object \n",
      " 15  Electric Utility                                   112191 non-null  object \n",
      " 16  2020 Census Tract                                  112634 non-null  int64  \n",
      "dtypes: float64(1), int64(6), object(10)\n",
      "memory usage: 14.6+ MB\n"
     ]
    }
   ],
   "source": [
    "df.info()"
   ]
  },
  {
   "cell_type": "code",
   "execution_count": 41,
   "id": "bdbe3ec2",
   "metadata": {},
   "outputs": [
    {
     "data": {
      "text/plain": [
       "VIN (1-10)                                             7548\n",
       "County                                                  165\n",
       "City                                                    629\n",
       "State                                                    45\n",
       "Postal Code                                             773\n",
       "Model Year                                               20\n",
       "Make                                                     34\n",
       "Model                                                   114\n",
       "Electric Vehicle Type                                     2\n",
       "Clean Alternative Fuel Vehicle (CAFV) Eligibility         3\n",
       "Electric Range                                          101\n",
       "Base MSRP                                                30\n",
       "Legislative District                                     49\n",
       "DOL Vehicle ID                                       112634\n",
       "Vehicle Location                                        758\n",
       "Electric Utility                                         73\n",
       "2020 Census Tract                                      2026\n",
       "dtype: int64"
      ]
     },
     "execution_count": 41,
     "metadata": {},
     "output_type": "execute_result"
    }
   ],
   "source": [
    "df.nunique()"
   ]
  },
  {
   "cell_type": "code",
   "execution_count": 42,
   "id": "e65c762c",
   "metadata": {},
   "outputs": [
    {
     "data": {
      "text/plain": [
       "(112634, 17)"
      ]
     },
     "execution_count": 42,
     "metadata": {},
     "output_type": "execute_result"
    }
   ],
   "source": [
    "df.shape"
   ]
  },
  {
   "cell_type": "code",
   "execution_count": 43,
   "id": "ea29d44b",
   "metadata": {},
   "outputs": [
    {
     "data": {
      "text/plain": [
       "VIN (1-10)                                            object\n",
       "County                                                object\n",
       "City                                                  object\n",
       "State                                                 object\n",
       "Postal Code                                            int64\n",
       "Model Year                                             int64\n",
       "Make                                                  object\n",
       "Model                                                 object\n",
       "Electric Vehicle Type                                 object\n",
       "Clean Alternative Fuel Vehicle (CAFV) Eligibility     object\n",
       "Electric Range                                         int64\n",
       "Base MSRP                                              int64\n",
       "Legislative District                                 float64\n",
       "DOL Vehicle ID                                         int64\n",
       "Vehicle Location                                      object\n",
       "Electric Utility                                      object\n",
       "2020 Census Tract                                      int64\n",
       "dtype: object"
      ]
     },
     "execution_count": 43,
     "metadata": {},
     "output_type": "execute_result"
    }
   ],
   "source": [
    "df.dtypes"
   ]
  },
  {
   "cell_type": "code",
   "execution_count": 44,
   "id": "d4b4faac",
   "metadata": {},
   "outputs": [
    {
     "data": {
      "text/html": [
       "<div>\n",
       "<style scoped>\n",
       "    .dataframe tbody tr th:only-of-type {\n",
       "        vertical-align: middle;\n",
       "    }\n",
       "\n",
       "    .dataframe tbody tr th {\n",
       "        vertical-align: top;\n",
       "    }\n",
       "\n",
       "    .dataframe thead th {\n",
       "        text-align: right;\n",
       "    }\n",
       "</style>\n",
       "<table border=\"1\" class=\"dataframe\">\n",
       "  <thead>\n",
       "    <tr style=\"text-align: right;\">\n",
       "      <th></th>\n",
       "      <th>Postal Code</th>\n",
       "      <th>Model Year</th>\n",
       "      <th>Electric Range</th>\n",
       "      <th>Base MSRP</th>\n",
       "      <th>Legislative District</th>\n",
       "      <th>DOL Vehicle ID</th>\n",
       "      <th>2020 Census Tract</th>\n",
       "    </tr>\n",
       "  </thead>\n",
       "  <tbody>\n",
       "    <tr>\n",
       "      <th>count</th>\n",
       "      <td>112634.000000</td>\n",
       "      <td>112634.000000</td>\n",
       "      <td>112634.000000</td>\n",
       "      <td>112634.000000</td>\n",
       "      <td>112348.000000</td>\n",
       "      <td>1.126340e+05</td>\n",
       "      <td>1.126340e+05</td>\n",
       "    </tr>\n",
       "    <tr>\n",
       "      <th>mean</th>\n",
       "      <td>98156.226850</td>\n",
       "      <td>2019.003365</td>\n",
       "      <td>87.812987</td>\n",
       "      <td>1793.439681</td>\n",
       "      <td>29.805604</td>\n",
       "      <td>1.994567e+08</td>\n",
       "      <td>5.296650e+10</td>\n",
       "    </tr>\n",
       "    <tr>\n",
       "      <th>std</th>\n",
       "      <td>2648.733064</td>\n",
       "      <td>2.892364</td>\n",
       "      <td>102.334216</td>\n",
       "      <td>10783.753486</td>\n",
       "      <td>14.700545</td>\n",
       "      <td>9.398427e+07</td>\n",
       "      <td>1.699104e+09</td>\n",
       "    </tr>\n",
       "    <tr>\n",
       "      <th>min</th>\n",
       "      <td>1730.000000</td>\n",
       "      <td>1997.000000</td>\n",
       "      <td>0.000000</td>\n",
       "      <td>0.000000</td>\n",
       "      <td>1.000000</td>\n",
       "      <td>4.777000e+03</td>\n",
       "      <td>1.101001e+09</td>\n",
       "    </tr>\n",
       "    <tr>\n",
       "      <th>25%</th>\n",
       "      <td>98052.000000</td>\n",
       "      <td>2017.000000</td>\n",
       "      <td>0.000000</td>\n",
       "      <td>0.000000</td>\n",
       "      <td>18.000000</td>\n",
       "      <td>1.484142e+08</td>\n",
       "      <td>5.303301e+10</td>\n",
       "    </tr>\n",
       "    <tr>\n",
       "      <th>50%</th>\n",
       "      <td>98119.000000</td>\n",
       "      <td>2020.000000</td>\n",
       "      <td>32.000000</td>\n",
       "      <td>0.000000</td>\n",
       "      <td>34.000000</td>\n",
       "      <td>1.923896e+08</td>\n",
       "      <td>5.303303e+10</td>\n",
       "    </tr>\n",
       "    <tr>\n",
       "      <th>75%</th>\n",
       "      <td>98370.000000</td>\n",
       "      <td>2022.000000</td>\n",
       "      <td>208.000000</td>\n",
       "      <td>0.000000</td>\n",
       "      <td>43.000000</td>\n",
       "      <td>2.191899e+08</td>\n",
       "      <td>5.305307e+10</td>\n",
       "    </tr>\n",
       "    <tr>\n",
       "      <th>max</th>\n",
       "      <td>99701.000000</td>\n",
       "      <td>2023.000000</td>\n",
       "      <td>337.000000</td>\n",
       "      <td>845000.000000</td>\n",
       "      <td>49.000000</td>\n",
       "      <td>4.792548e+08</td>\n",
       "      <td>5.603300e+10</td>\n",
       "    </tr>\n",
       "  </tbody>\n",
       "</table>\n",
       "</div>"
      ],
      "text/plain": [
       "         Postal Code     Model Year  Electric Range      Base MSRP  \\\n",
       "count  112634.000000  112634.000000   112634.000000  112634.000000   \n",
       "mean    98156.226850    2019.003365       87.812987    1793.439681   \n",
       "std      2648.733064       2.892364      102.334216   10783.753486   \n",
       "min      1730.000000    1997.000000        0.000000       0.000000   \n",
       "25%     98052.000000    2017.000000        0.000000       0.000000   \n",
       "50%     98119.000000    2020.000000       32.000000       0.000000   \n",
       "75%     98370.000000    2022.000000      208.000000       0.000000   \n",
       "max     99701.000000    2023.000000      337.000000  845000.000000   \n",
       "\n",
       "       Legislative District  DOL Vehicle ID  2020 Census Tract  \n",
       "count         112348.000000    1.126340e+05       1.126340e+05  \n",
       "mean              29.805604    1.994567e+08       5.296650e+10  \n",
       "std               14.700545    9.398427e+07       1.699104e+09  \n",
       "min                1.000000    4.777000e+03       1.101001e+09  \n",
       "25%               18.000000    1.484142e+08       5.303301e+10  \n",
       "50%               34.000000    1.923896e+08       5.303303e+10  \n",
       "75%               43.000000    2.191899e+08       5.305307e+10  \n",
       "max               49.000000    4.792548e+08       5.603300e+10  "
      ]
     },
     "execution_count": 44,
     "metadata": {},
     "output_type": "execute_result"
    }
   ],
   "source": [
    "df.describe()"
   ]
  },
  {
   "cell_type": "code",
   "execution_count": 45,
   "id": "236970dd",
   "metadata": {
    "scrolled": false
   },
   "outputs": [
    {
     "data": {
      "text/html": [
       "<div>\n",
       "<style scoped>\n",
       "    .dataframe tbody tr th:only-of-type {\n",
       "        vertical-align: middle;\n",
       "    }\n",
       "\n",
       "    .dataframe tbody tr th {\n",
       "        vertical-align: top;\n",
       "    }\n",
       "\n",
       "    .dataframe thead th {\n",
       "        text-align: right;\n",
       "    }\n",
       "</style>\n",
       "<table border=\"1\" class=\"dataframe\">\n",
       "  <thead>\n",
       "    <tr style=\"text-align: right;\">\n",
       "      <th></th>\n",
       "      <th>VIN (1-10)</th>\n",
       "      <th>County</th>\n",
       "      <th>City</th>\n",
       "      <th>State</th>\n",
       "      <th>Postal Code</th>\n",
       "      <th>Model Year</th>\n",
       "      <th>Make</th>\n",
       "      <th>Model</th>\n",
       "      <th>Electric Vehicle Type</th>\n",
       "      <th>Clean Alternative Fuel Vehicle (CAFV) Eligibility</th>\n",
       "      <th>Electric Range</th>\n",
       "      <th>Base MSRP</th>\n",
       "      <th>Legislative District</th>\n",
       "      <th>DOL Vehicle ID</th>\n",
       "      <th>Vehicle Location</th>\n",
       "      <th>Electric Utility</th>\n",
       "      <th>2020 Census Tract</th>\n",
       "    </tr>\n",
       "  </thead>\n",
       "  <tbody>\n",
       "    <tr>\n",
       "      <th>2</th>\n",
       "      <td>JN1AZ0CP8B</td>\n",
       "      <td>Yakima</td>\n",
       "      <td>Yakima</td>\n",
       "      <td>WA</td>\n",
       "      <td>98901</td>\n",
       "      <td>2011</td>\n",
       "      <td>NISSAN</td>\n",
       "      <td>LEAF</td>\n",
       "      <td>Battery Electric Vehicle (BEV)</td>\n",
       "      <td>Clean Alternative Fuel Vehicle Eligible</td>\n",
       "      <td>73</td>\n",
       "      <td>0</td>\n",
       "      <td>15.0</td>\n",
       "      <td>218972519</td>\n",
       "      <td>POINT (-120.50721 46.60448)</td>\n",
       "      <td>PACIFICORP</td>\n",
       "      <td>53077001602</td>\n",
       "    </tr>\n",
       "    <tr>\n",
       "      <th>3</th>\n",
       "      <td>1G1FW6S08H</td>\n",
       "      <td>Skagit</td>\n",
       "      <td>Concrete</td>\n",
       "      <td>WA</td>\n",
       "      <td>98237</td>\n",
       "      <td>2017</td>\n",
       "      <td>CHEVROLET</td>\n",
       "      <td>BOLT EV</td>\n",
       "      <td>Battery Electric Vehicle (BEV)</td>\n",
       "      <td>Clean Alternative Fuel Vehicle Eligible</td>\n",
       "      <td>238</td>\n",
       "      <td>0</td>\n",
       "      <td>39.0</td>\n",
       "      <td>186750406</td>\n",
       "      <td>POINT (-121.7515 48.53892)</td>\n",
       "      <td>PUGET SOUND ENERGY INC</td>\n",
       "      <td>53057951101</td>\n",
       "    </tr>\n",
       "    <tr>\n",
       "      <th>4</th>\n",
       "      <td>3FA6P0SU1K</td>\n",
       "      <td>Snohomish</td>\n",
       "      <td>Everett</td>\n",
       "      <td>WA</td>\n",
       "      <td>98201</td>\n",
       "      <td>2019</td>\n",
       "      <td>FORD</td>\n",
       "      <td>FUSION</td>\n",
       "      <td>Plug-in Hybrid Electric Vehicle (PHEV)</td>\n",
       "      <td>Not eligible due to low battery range</td>\n",
       "      <td>26</td>\n",
       "      <td>0</td>\n",
       "      <td>38.0</td>\n",
       "      <td>2006714</td>\n",
       "      <td>POINT (-122.20596 47.97659)</td>\n",
       "      <td>PUGET SOUND ENERGY INC</td>\n",
       "      <td>53061041500</td>\n",
       "    </tr>\n",
       "    <tr>\n",
       "      <th>5</th>\n",
       "      <td>5YJ3E1EB5J</td>\n",
       "      <td>Snohomish</td>\n",
       "      <td>Bothell</td>\n",
       "      <td>WA</td>\n",
       "      <td>98021</td>\n",
       "      <td>2018</td>\n",
       "      <td>TESLA</td>\n",
       "      <td>MODEL 3</td>\n",
       "      <td>Battery Electric Vehicle (BEV)</td>\n",
       "      <td>Clean Alternative Fuel Vehicle Eligible</td>\n",
       "      <td>215</td>\n",
       "      <td>0</td>\n",
       "      <td>1.0</td>\n",
       "      <td>475635324</td>\n",
       "      <td>POINT (-122.18384 47.8031)</td>\n",
       "      <td>PUGET SOUND ENERGY INC</td>\n",
       "      <td>53061051916</td>\n",
       "    </tr>\n",
       "    <tr>\n",
       "      <th>6</th>\n",
       "      <td>1N4AZ0CP4D</td>\n",
       "      <td>Snohomish</td>\n",
       "      <td>Everett</td>\n",
       "      <td>WA</td>\n",
       "      <td>98203</td>\n",
       "      <td>2013</td>\n",
       "      <td>NISSAN</td>\n",
       "      <td>LEAF</td>\n",
       "      <td>Battery Electric Vehicle (BEV)</td>\n",
       "      <td>Clean Alternative Fuel Vehicle Eligible</td>\n",
       "      <td>75</td>\n",
       "      <td>0</td>\n",
       "      <td>38.0</td>\n",
       "      <td>253546023</td>\n",
       "      <td>POINT (-122.23019 47.94949)</td>\n",
       "      <td>PUGET SOUND ENERGY INC</td>\n",
       "      <td>53061040900</td>\n",
       "    </tr>\n",
       "    <tr>\n",
       "      <th>...</th>\n",
       "      <td>...</td>\n",
       "      <td>...</td>\n",
       "      <td>...</td>\n",
       "      <td>...</td>\n",
       "      <td>...</td>\n",
       "      <td>...</td>\n",
       "      <td>...</td>\n",
       "      <td>...</td>\n",
       "      <td>...</td>\n",
       "      <td>...</td>\n",
       "      <td>...</td>\n",
       "      <td>...</td>\n",
       "      <td>...</td>\n",
       "      <td>...</td>\n",
       "      <td>...</td>\n",
       "      <td>...</td>\n",
       "      <td>...</td>\n",
       "    </tr>\n",
       "    <tr>\n",
       "      <th>112629</th>\n",
       "      <td>7SAYGDEF2N</td>\n",
       "      <td>King</td>\n",
       "      <td>Duvall</td>\n",
       "      <td>WA</td>\n",
       "      <td>98019</td>\n",
       "      <td>2022</td>\n",
       "      <td>TESLA</td>\n",
       "      <td>MODEL Y</td>\n",
       "      <td>Battery Electric Vehicle (BEV)</td>\n",
       "      <td>Eligibility unknown as battery range has not b...</td>\n",
       "      <td>0</td>\n",
       "      <td>0</td>\n",
       "      <td>45.0</td>\n",
       "      <td>217955265</td>\n",
       "      <td>POINT (-121.98609 47.74068)</td>\n",
       "      <td>PUGET SOUND ENERGY INC||CITY OF TACOMA - (WA)</td>\n",
       "      <td>53033032401</td>\n",
       "    </tr>\n",
       "    <tr>\n",
       "      <th>112630</th>\n",
       "      <td>1N4BZ1CP7K</td>\n",
       "      <td>San Juan</td>\n",
       "      <td>Friday Harbor</td>\n",
       "      <td>WA</td>\n",
       "      <td>98250</td>\n",
       "      <td>2019</td>\n",
       "      <td>NISSAN</td>\n",
       "      <td>LEAF</td>\n",
       "      <td>Battery Electric Vehicle (BEV)</td>\n",
       "      <td>Clean Alternative Fuel Vehicle Eligible</td>\n",
       "      <td>150</td>\n",
       "      <td>0</td>\n",
       "      <td>40.0</td>\n",
       "      <td>103663227</td>\n",
       "      <td>POINT (-123.01648 48.53448)</td>\n",
       "      <td>BONNEVILLE POWER ADMINISTRATION||ORCAS POWER &amp;...</td>\n",
       "      <td>53055960301</td>\n",
       "    </tr>\n",
       "    <tr>\n",
       "      <th>112631</th>\n",
       "      <td>1FMCU0KZ4N</td>\n",
       "      <td>King</td>\n",
       "      <td>Vashon</td>\n",
       "      <td>WA</td>\n",
       "      <td>98070</td>\n",
       "      <td>2022</td>\n",
       "      <td>FORD</td>\n",
       "      <td>ESCAPE</td>\n",
       "      <td>Plug-in Hybrid Electric Vehicle (PHEV)</td>\n",
       "      <td>Clean Alternative Fuel Vehicle Eligible</td>\n",
       "      <td>38</td>\n",
       "      <td>0</td>\n",
       "      <td>34.0</td>\n",
       "      <td>193878387</td>\n",
       "      <td>POINT (-122.4573 47.44929)</td>\n",
       "      <td>PUGET SOUND ENERGY INC||CITY OF TACOMA - (WA)</td>\n",
       "      <td>53033027702</td>\n",
       "    </tr>\n",
       "    <tr>\n",
       "      <th>112632</th>\n",
       "      <td>KNDCD3LD4J</td>\n",
       "      <td>King</td>\n",
       "      <td>Covington</td>\n",
       "      <td>WA</td>\n",
       "      <td>98042</td>\n",
       "      <td>2018</td>\n",
       "      <td>KIA</td>\n",
       "      <td>NIRO</td>\n",
       "      <td>Plug-in Hybrid Electric Vehicle (PHEV)</td>\n",
       "      <td>Not eligible due to low battery range</td>\n",
       "      <td>26</td>\n",
       "      <td>0</td>\n",
       "      <td>47.0</td>\n",
       "      <td>125039043</td>\n",
       "      <td>POINT (-122.09124 47.33778)</td>\n",
       "      <td>PUGET SOUND ENERGY INC||CITY OF TACOMA - (WA)</td>\n",
       "      <td>53033032007</td>\n",
       "    </tr>\n",
       "    <tr>\n",
       "      <th>112633</th>\n",
       "      <td>YV4BR0CL8N</td>\n",
       "      <td>King</td>\n",
       "      <td>Covington</td>\n",
       "      <td>WA</td>\n",
       "      <td>98042</td>\n",
       "      <td>2022</td>\n",
       "      <td>VOLVO</td>\n",
       "      <td>XC90</td>\n",
       "      <td>Plug-in Hybrid Electric Vehicle (PHEV)</td>\n",
       "      <td>Not eligible due to low battery range</td>\n",
       "      <td>18</td>\n",
       "      <td>0</td>\n",
       "      <td>47.0</td>\n",
       "      <td>194673692</td>\n",
       "      <td>POINT (-122.09124 47.33778)</td>\n",
       "      <td>PUGET SOUND ENERGY INC||CITY OF TACOMA - (WA)</td>\n",
       "      <td>53033032005</td>\n",
       "    </tr>\n",
       "  </tbody>\n",
       "</table>\n",
       "<p>112152 rows × 17 columns</p>\n",
       "</div>"
      ],
      "text/plain": [
       "        VIN (1-10)     County           City State  Postal Code  Model Year  \\\n",
       "2       JN1AZ0CP8B     Yakima         Yakima    WA        98901        2011   \n",
       "3       1G1FW6S08H     Skagit       Concrete    WA        98237        2017   \n",
       "4       3FA6P0SU1K  Snohomish        Everett    WA        98201        2019   \n",
       "5       5YJ3E1EB5J  Snohomish        Bothell    WA        98021        2018   \n",
       "6       1N4AZ0CP4D  Snohomish        Everett    WA        98203        2013   \n",
       "...            ...        ...            ...   ...          ...         ...   \n",
       "112629  7SAYGDEF2N       King         Duvall    WA        98019        2022   \n",
       "112630  1N4BZ1CP7K   San Juan  Friday Harbor    WA        98250        2019   \n",
       "112631  1FMCU0KZ4N       King         Vashon    WA        98070        2022   \n",
       "112632  KNDCD3LD4J       King      Covington    WA        98042        2018   \n",
       "112633  YV4BR0CL8N       King      Covington    WA        98042        2022   \n",
       "\n",
       "             Make    Model                   Electric Vehicle Type  \\\n",
       "2          NISSAN     LEAF          Battery Electric Vehicle (BEV)   \n",
       "3       CHEVROLET  BOLT EV          Battery Electric Vehicle (BEV)   \n",
       "4            FORD   FUSION  Plug-in Hybrid Electric Vehicle (PHEV)   \n",
       "5           TESLA  MODEL 3          Battery Electric Vehicle (BEV)   \n",
       "6          NISSAN     LEAF          Battery Electric Vehicle (BEV)   \n",
       "...           ...      ...                                     ...   \n",
       "112629      TESLA  MODEL Y          Battery Electric Vehicle (BEV)   \n",
       "112630     NISSAN     LEAF          Battery Electric Vehicle (BEV)   \n",
       "112631       FORD   ESCAPE  Plug-in Hybrid Electric Vehicle (PHEV)   \n",
       "112632        KIA     NIRO  Plug-in Hybrid Electric Vehicle (PHEV)   \n",
       "112633      VOLVO     XC90  Plug-in Hybrid Electric Vehicle (PHEV)   \n",
       "\n",
       "        Clean Alternative Fuel Vehicle (CAFV) Eligibility  Electric Range  \\\n",
       "2                 Clean Alternative Fuel Vehicle Eligible              73   \n",
       "3                 Clean Alternative Fuel Vehicle Eligible             238   \n",
       "4                   Not eligible due to low battery range              26   \n",
       "5                 Clean Alternative Fuel Vehicle Eligible             215   \n",
       "6                 Clean Alternative Fuel Vehicle Eligible              75   \n",
       "...                                                   ...             ...   \n",
       "112629  Eligibility unknown as battery range has not b...               0   \n",
       "112630            Clean Alternative Fuel Vehicle Eligible             150   \n",
       "112631            Clean Alternative Fuel Vehicle Eligible              38   \n",
       "112632              Not eligible due to low battery range              26   \n",
       "112633              Not eligible due to low battery range              18   \n",
       "\n",
       "        Base MSRP  Legislative District  DOL Vehicle ID  \\\n",
       "2               0                  15.0       218972519   \n",
       "3               0                  39.0       186750406   \n",
       "4               0                  38.0         2006714   \n",
       "5               0                   1.0       475635324   \n",
       "6               0                  38.0       253546023   \n",
       "...           ...                   ...             ...   \n",
       "112629          0                  45.0       217955265   \n",
       "112630          0                  40.0       103663227   \n",
       "112631          0                  34.0       193878387   \n",
       "112632          0                  47.0       125039043   \n",
       "112633          0                  47.0       194673692   \n",
       "\n",
       "                   Vehicle Location  \\\n",
       "2       POINT (-120.50721 46.60448)   \n",
       "3        POINT (-121.7515 48.53892)   \n",
       "4       POINT (-122.20596 47.97659)   \n",
       "5        POINT (-122.18384 47.8031)   \n",
       "6       POINT (-122.23019 47.94949)   \n",
       "...                             ...   \n",
       "112629  POINT (-121.98609 47.74068)   \n",
       "112630  POINT (-123.01648 48.53448)   \n",
       "112631   POINT (-122.4573 47.44929)   \n",
       "112632  POINT (-122.09124 47.33778)   \n",
       "112633  POINT (-122.09124 47.33778)   \n",
       "\n",
       "                                         Electric Utility  2020 Census Tract  \n",
       "2                                              PACIFICORP        53077001602  \n",
       "3                                  PUGET SOUND ENERGY INC        53057951101  \n",
       "4                                  PUGET SOUND ENERGY INC        53061041500  \n",
       "5                                  PUGET SOUND ENERGY INC        53061051916  \n",
       "6                                  PUGET SOUND ENERGY INC        53061040900  \n",
       "...                                                   ...                ...  \n",
       "112629      PUGET SOUND ENERGY INC||CITY OF TACOMA - (WA)        53033032401  \n",
       "112630  BONNEVILLE POWER ADMINISTRATION||ORCAS POWER &...        53055960301  \n",
       "112631      PUGET SOUND ENERGY INC||CITY OF TACOMA - (WA)        53033027702  \n",
       "112632      PUGET SOUND ENERGY INC||CITY OF TACOMA - (WA)        53033032007  \n",
       "112633      PUGET SOUND ENERGY INC||CITY OF TACOMA - (WA)        53033032005  \n",
       "\n",
       "[112152 rows x 17 columns]"
      ]
     },
     "execution_count": 45,
     "metadata": {},
     "output_type": "execute_result"
    }
   ],
   "source": [
    "df.dropna()"
   ]
  },
  {
   "cell_type": "code",
   "execution_count": 46,
   "id": "eb9a449d",
   "metadata": {},
   "outputs": [
    {
     "data": {
      "text/plain": [
       "VIN (1-10)                                             0\n",
       "County                                                 0\n",
       "City                                                   0\n",
       "State                                                  0\n",
       "Postal Code                                            0\n",
       "Model Year                                             0\n",
       "Make                                                   0\n",
       "Model                                                 20\n",
       "Electric Vehicle Type                                  0\n",
       "Clean Alternative Fuel Vehicle (CAFV) Eligibility      0\n",
       "Electric Range                                         0\n",
       "Base MSRP                                              0\n",
       "Legislative District                                 286\n",
       "DOL Vehicle ID                                         0\n",
       "Vehicle Location                                      24\n",
       "Electric Utility                                     443\n",
       "2020 Census Tract                                      0\n",
       "dtype: int64"
      ]
     },
     "execution_count": 46,
     "metadata": {},
     "output_type": "execute_result"
    }
   ],
   "source": [
    "df.isnull().sum()"
   ]
  },
  {
   "cell_type": "code",
   "execution_count": 47,
   "id": "da673ac1",
   "metadata": {},
   "outputs": [],
   "source": [
    "df = df.dropna()"
   ]
  },
  {
   "cell_type": "code",
   "execution_count": 48,
   "id": "1129733b",
   "metadata": {},
   "outputs": [
    {
     "data": {
      "text/plain": [
       "VIN (1-10)                                           0\n",
       "County                                               0\n",
       "City                                                 0\n",
       "State                                                0\n",
       "Postal Code                                          0\n",
       "Model Year                                           0\n",
       "Make                                                 0\n",
       "Model                                                0\n",
       "Electric Vehicle Type                                0\n",
       "Clean Alternative Fuel Vehicle (CAFV) Eligibility    0\n",
       "Electric Range                                       0\n",
       "Base MSRP                                            0\n",
       "Legislative District                                 0\n",
       "DOL Vehicle ID                                       0\n",
       "Vehicle Location                                     0\n",
       "Electric Utility                                     0\n",
       "2020 Census Tract                                    0\n",
       "dtype: int64"
      ]
     },
     "execution_count": 48,
     "metadata": {},
     "output_type": "execute_result"
    }
   ],
   "source": [
    "df.isnull().sum()"
   ]
  },
  {
   "cell_type": "code",
   "execution_count": 49,
   "id": "59878e12",
   "metadata": {},
   "outputs": [
    {
     "data": {
      "text/plain": [
       "Index(['VIN (1-10)', 'County', 'City', 'State', 'Postal Code', 'Model Year',\n",
       "       'Make', 'Model', 'Electric Vehicle Type',\n",
       "       'Clean Alternative Fuel Vehicle (CAFV) Eligibility', 'Electric Range',\n",
       "       'Base MSRP', 'Legislative District', 'DOL Vehicle ID',\n",
       "       'Vehicle Location', 'Electric Utility', '2020 Census Tract'],\n",
       "      dtype='object')"
      ]
     },
     "execution_count": 49,
     "metadata": {},
     "output_type": "execute_result"
    }
   ],
   "source": [
    "df.columns"
   ]
  },
  {
   "cell_type": "markdown",
   "id": "3a2ee385",
   "metadata": {},
   "source": [
    "# TASK - 1"
   ]
  },
  {
   "cell_type": "markdown",
   "id": "4a56b7c6",
   "metadata": {},
   "source": [
    "## 1. Univariate Analysis: "
   ]
  },
  {
   "cell_type": "markdown",
   "id": "7b8e9bac",
   "metadata": {},
   "source": [
    "`Definition`\n",
    "**Univariate analysis explores each variable in a data set, separately. It looks at the range of values, as well as the central tendency of the values. It describes the pattern of response to the variable. It describes each variable on its own. Descriptive statistics describe and summarize data.**\n"
   ]
  },
  {
   "cell_type": "markdown",
   "id": "5fdd8d37",
   "metadata": {},
   "source": [
    "In `Univariate analysis`, we analyze each variable individually to understand its distribution, central tendency, and spread.\n",
    "`Model Year`, `Make`, `County`, `City`"
   ]
  },
  {
   "cell_type": "code",
   "execution_count": 50,
   "id": "7c085b1e",
   "metadata": {},
   "outputs": [
    {
     "data": {
      "text/plain": [
       "count    112152.000000\n",
       "mean       2019.004494\n",
       "std           2.891859\n",
       "min        1997.000000\n",
       "25%        2017.000000\n",
       "50%        2020.000000\n",
       "75%        2022.000000\n",
       "max        2023.000000\n",
       "Name: Model Year, dtype: float64"
      ]
     },
     "execution_count": 50,
     "metadata": {},
     "output_type": "execute_result"
    }
   ],
   "source": [
    "df['Model Year'].describe()"
   ]
  },
  {
   "cell_type": "code",
   "execution_count": 51,
   "id": "396e3307",
   "metadata": {},
   "outputs": [
    {
     "data": {
      "image/png": "[encoded data removed]",
      "text/plain": [
       "<Figure size 800x400 with 1 Axes>"
      ]
     },
     "metadata": {},
     "output_type": "display_data"
    }
   ],
   "source": [
    "#  Histogram for 'Model Year'\n",
    "plt.figure(figsize=(8, 4))\n",
    "sns.histplot(df['Model Year'], bins=20, kde=True, color='red')\n",
    "plt.title('Distribution of Model Year', fontsize=15)\n",
    "plt.xlabel('Model Year', fontsize=12)\n",
    "plt.ylabel('Frequency', fontsize=12)\n",
    "plt.show()"
   ]
  },
  {
   "cell_type": "code",
   "execution_count": 52,
   "id": "7554cd4c",
   "metadata": {},
   "outputs": [
    {
     "data": {
      "image/png": "[encoded data removed]",
      "text/plain": [
       "<Figure size 500x500 with 1 Axes>"
      ]
     },
     "metadata": {},
     "output_type": "display_data"
    }
   ],
   "source": [
    "# Countplot for 'Make'\n",
    "top_makes_counts = df['Make'].value_counts().head(10)\n",
    "\n",
    "# Create a pie chart\n",
    "plt.figure(figsize=(5, 5))\n",
    "plt.pie(top_makes_counts, labels=top_makes_counts.index, autopct='%1.1f%%', startangle=140, colors=plt.cm.viridis(np.linspace(0, 1, len(top_makes_counts))))\n",
    "plt.title('Top 10 Car Makes Proportion', fontsize=15)\n",
    "plt.axis('equal')\n",
    "plt.show()"
   ]
  },
  {
   "cell_type": "code",
   "execution_count": 53,
   "id": "1c5a2469",
   "metadata": {},
   "outputs": [
    {
     "data": {
      "image/png": "[encoded data removed]",
      "text/plain": [
       "<Figure size 1000x600 with 1 Axes>"
      ]
     },
     "metadata": {},
     "output_type": "display_data"
    }
   ],
   "source": [
    "# Countplot for 'County'\n",
    "top_counties = df['County'].value_counts().head(10)\n",
    "\n",
    "# Create a figure for the histogram\n",
    "plt.figure(figsize=(10, 6))\n",
    "sns.barplot(x=top_counties.index, y=top_counties.values, palette='coolwarm')\n",
    "plt.title('Top 10 Counties with Most Vehicles', fontsize=15)\n",
    "plt.xlabel('County', fontsize=12)\n",
    "plt.ylabel('Count', fontsize=12)\n",
    "plt.xticks(rotation=45)\n",
    "plt.show()"
   ]
  },
  {
   "cell_type": "code",
   "execution_count": 54,
   "id": "dd0d4f6d",
   "metadata": {},
   "outputs": [
    {
     "data": {
      "image/png": "[encoded data removed]",
      "text/plain": [
       "<Figure size 800x600 with 1 Axes>"
      ]
     },
     "metadata": {},
     "output_type": "display_data"
    }
   ],
   "source": [
    "# Countplot for 'City'\n",
    "plt.figure(figsize=(8, 6))\n",
    "top_cities = df['City'].value_counts().head(10).index\n",
    "sns.countplot(data=df[df['City'].isin(top_cities)], x='City', order=top_cities, palette='Blues')\n",
    "plt.title('Top 10 Cities with Most Vehicles', fontsize=15)\n",
    "plt.xlabel('City', fontsize=12)\n",
    "plt.ylabel('Count', fontsize=12)\n",
    "plt.xticks(rotation=45)\n",
    "plt.show()\n"
   ]
  },
  {
   "cell_type": "markdown",
   "id": "71371c7b",
   "metadata": {},
   "source": [
    "# Bivariate analysis"
   ]
  },
  {
   "cell_type": "code",
   "execution_count": 55,
   "id": "b8fa986e",
   "metadata": {},
   "outputs": [
    {
     "data": {
      "image/png": "[encoded data removed]",
      "text/plain": [
       "<Figure size 1000x600 with 1 Axes>"
      ]
     },
     "metadata": {},
     "output_type": "display_data"
    }
   ],
   "source": [
    "# Electric Range vs. Base MSRP\n",
    "plt.figure(figsize=(10, 6))\n",
    "sns.scatterplot(data=df, x='Base MSRP', y='Electric Range', hue='Electric Vehicle Type', alpha=0.7)\n",
    "plt.title('Electric Range vs. Base MSRP')\n",
    "plt.xlabel('Base MSRP')\n",
    "plt.ylabel('Electric Range')\n",
    "plt.legend(title='Electric Vehicle Type')\n",
    "plt.show()\n",
    "\n"
   ]
  },
  {
   "cell_type": "code",
   "execution_count": 56,
   "id": "6b7e1b8b",
   "metadata": {},
   "outputs": [
    {
     "ename": "AttributeError",
     "evalue": "module 'matplotlib.pyplot' has no attribute 'xlabeal'",
     "output_type": "error",
     "traceback": [
      "\u001b[1;31m---------------------------------------------------------------------------\u001b[0m",
      "\u001b[1;31mAttributeError\u001b[0m                            Traceback (most recent call last)",
      "\u001b[1;32m~\\AppData\\Local\\Temp\\ipykernel_7300\\44016586.py\u001b[0m in \u001b[0;36m<module>\u001b[1;34m\u001b[0m\n\u001b[0;32m      8\u001b[0m \u001b[0mplt\u001b[0m\u001b[1;33m.\u001b[0m\u001b[0mtitle\u001b[0m\u001b[1;33m(\u001b[0m\u001b[1;34m'Electric Vehicle Type vs. Electric Range'\u001b[0m\u001b[1;33m,\u001b[0m \u001b[0mfontsize\u001b[0m\u001b[1;33m=\u001b[0m\u001b[1;36m12\u001b[0m\u001b[1;33m)\u001b[0m\u001b[1;33m\u001b[0m\u001b[1;33m\u001b[0m\u001b[0m\n\u001b[0;32m      9\u001b[0m \u001b[0mplt\u001b[0m\u001b[1;33m.\u001b[0m\u001b[0mxticks\u001b[0m\u001b[1;33m(\u001b[0m\u001b[0mrotation\u001b[0m\u001b[1;33m=\u001b[0m\u001b[1;36m45\u001b[0m\u001b[1;33m)\u001b[0m\u001b[1;33m\u001b[0m\u001b[1;33m\u001b[0m\u001b[0m\n\u001b[1;32m---> 10\u001b[1;33m \u001b[0mplt\u001b[0m\u001b[1;33m.\u001b[0m\u001b[0mxlabeal\u001b[0m\u001b[1;33m(\u001b[0m\u001b[1;34m'Electric Vehicle Type'\u001b[0m\u001b[1;33m,\u001b[0m \u001b[0mfontsize\u001b[0m\u001b[1;33m=\u001b[0m\u001b[1;36m18\u001b[0m\u001b[1;33m)\u001b[0m\u001b[1;33m\u001b[0m\u001b[1;33m\u001b[0m\u001b[0m\n\u001b[0m\u001b[0;32m     11\u001b[0m \u001b[0mplt\u001b[0m\u001b[1;33m.\u001b[0m\u001b[0mylabel\u001b[0m\u001b[1;33m(\u001b[0m\u001b[1;34m'Electric Range (miles)'\u001b[0m\u001b[1;33m,\u001b[0m \u001b[0mfontsize\u001b[0m\u001b[1;33m=\u001b[0m\u001b[1;36m18\u001b[0m\u001b[1;33m)\u001b[0m\u001b[1;33m\u001b[0m\u001b[1;33m\u001b[0m\u001b[0m\n\u001b[0;32m     12\u001b[0m \u001b[1;33m\u001b[0m\u001b[0m\n",
      "\u001b[1;31mAttributeError\u001b[0m: module 'matplotlib.pyplot' has no attribute 'xlabeal'"
     ]
    },
    {
     "data": {
      "image/png": "[encoded data removed]",
      "text/plain": [
       "<Figure size 1800x1500 with 1 Axes>"
      ]
     },
     "metadata": {},
     "output_type": "display_data"
    }
   ],
   "source": [
    "# Electric Vehicle Type vs. Electric Range\n",
    "# Set the aesthetics for seaborn\n",
    "sns.set(style=\"whitegrid\")\n",
    "# Create a violin plot for Electric Vehicle Type vs. Electric Range\n",
    "plt.figure(figsize=(18, 15))\n",
    "violin_plot = sns.violinplot(data=df, x='Electric Vehicle Type', y='Electric Range', inner=\"quartile\")\n",
    "# Set plot title and labels\n",
    "plt.title('Electric Vehicle Type vs. Electric Range', fontsize=12)\n",
    "plt.xticks(rotation=45)\n",
    "plt.xlabeal('Electric Vehicle Type', fontsize=18)\n",
    "plt.ylabel('Electric Range (miles)', fontsize=18)\n",
    "\n",
    "# Show the plot\n",
    "plt.tight_layout()\n",
    "plt.show()\n"
   ]
  },
  {
   "cell_type": "code",
   "execution_count": null,
   "id": "da6ae339",
   "metadata": {},
   "outputs": [],
   "source": [
    "# Model Year vs. Base MSRP\n",
    "plt.figure(figsize=(10, 6))\n",
    "sns.lineplot(data=df, x='Model Year', y='Base MSRP', ci=None)\n",
    "plt.title('Trend of Base MSRP Over Model Years')\n",
    "plt.xlabel('Model Year')\n",
    "plt.ylabel('Base MSRP')\n",
    "plt.show()\n"
   ]
  },
  {
   "cell_type": "markdown",
   "id": "063f78ac",
   "metadata": {},
   "source": [
    "# TASK - 2"
   ]
  },
  {
   "cell_type": "markdown",
   "id": "276b29c5",
   "metadata": {},
   "source": [
    "### Creating Choropleth using plotly.express to display the number of EV vehicles based on location."
   ]
  },
  {
   "cell_type": "code",
   "execution_count": 96,
   "id": "69f6831a",
   "metadata": {
    "scrolled": false
   },
   "outputs": [
    {
     "data": {
      "text/html": [
       "<div>\n",
       "<style scoped>\n",
       "    .dataframe tbody tr th:only-of-type {\n",
       "        vertical-align: middle;\n",
       "    }\n",
       "\n",
       "    .dataframe tbody tr th {\n",
       "        vertical-align: top;\n",
       "    }\n",
       "\n",
       "    .dataframe thead th {\n",
       "        text-align: right;\n",
       "    }\n",
       "</style>\n",
       "<table border=\"1\" class=\"dataframe\">\n",
       "  <thead>\n",
       "    <tr style=\"text-align: right;\">\n",
       "      <th></th>\n",
       "      <th>VIN (1-10)</th>\n",
       "      <th>County</th>\n",
       "      <th>City</th>\n",
       "      <th>State</th>\n",
       "      <th>Postal Code</th>\n",
       "      <th>Model Year</th>\n",
       "      <th>Make</th>\n",
       "      <th>Model</th>\n",
       "      <th>Electric Vehicle Type</th>\n",
       "      <th>Clean Alternative Fuel Vehicle (CAFV) Eligibility</th>\n",
       "      <th>Electric Range</th>\n",
       "      <th>Base MSRP</th>\n",
       "      <th>Legislative District</th>\n",
       "      <th>DOL Vehicle ID</th>\n",
       "      <th>Vehicle Location</th>\n",
       "      <th>Electric Utility</th>\n",
       "      <th>2020 Census Tract</th>\n",
       "    </tr>\n",
       "  </thead>\n",
       "  <tbody>\n",
       "    <tr>\n",
       "      <th>0</th>\n",
       "      <td>JTMEB3FV6N</td>\n",
       "      <td>Monroe</td>\n",
       "      <td>Key West</td>\n",
       "      <td>FL</td>\n",
       "      <td>33040</td>\n",
       "      <td>2022</td>\n",
       "      <td>TOYOTA</td>\n",
       "      <td>RAV4 PRIME</td>\n",
       "      <td>Plug-in Hybrid Electric Vehicle (PHEV)</td>\n",
       "      <td>Clean Alternative Fuel Vehicle Eligible</td>\n",
       "      <td>42</td>\n",
       "      <td>0</td>\n",
       "      <td>NaN</td>\n",
       "      <td>198968248</td>\n",
       "      <td>POINT (-81.80023 24.5545)</td>\n",
       "      <td>NaN</td>\n",
       "      <td>12087972100</td>\n",
       "    </tr>\n",
       "    <tr>\n",
       "      <th>1</th>\n",
       "      <td>1G1RD6E45D</td>\n",
       "      <td>Clark</td>\n",
       "      <td>Laughlin</td>\n",
       "      <td>NV</td>\n",
       "      <td>89029</td>\n",
       "      <td>2013</td>\n",
       "      <td>CHEVROLET</td>\n",
       "      <td>VOLT</td>\n",
       "      <td>Plug-in Hybrid Electric Vehicle (PHEV)</td>\n",
       "      <td>Clean Alternative Fuel Vehicle Eligible</td>\n",
       "      <td>38</td>\n",
       "      <td>0</td>\n",
       "      <td>NaN</td>\n",
       "      <td>5204412</td>\n",
       "      <td>POINT (-114.57245 35.16815)</td>\n",
       "      <td>NaN</td>\n",
       "      <td>32003005702</td>\n",
       "    </tr>\n",
       "    <tr>\n",
       "      <th>2</th>\n",
       "      <td>JN1AZ0CP8B</td>\n",
       "      <td>Yakima</td>\n",
       "      <td>Yakima</td>\n",
       "      <td>WA</td>\n",
       "      <td>98901</td>\n",
       "      <td>2011</td>\n",
       "      <td>NISSAN</td>\n",
       "      <td>LEAF</td>\n",
       "      <td>Battery Electric Vehicle (BEV)</td>\n",
       "      <td>Clean Alternative Fuel Vehicle Eligible</td>\n",
       "      <td>73</td>\n",
       "      <td>0</td>\n",
       "      <td>15.0</td>\n",
       "      <td>218972519</td>\n",
       "      <td>POINT (-120.50721 46.60448)</td>\n",
       "      <td>PACIFICORP</td>\n",
       "      <td>53077001602</td>\n",
       "    </tr>\n",
       "    <tr>\n",
       "      <th>3</th>\n",
       "      <td>1G1FW6S08H</td>\n",
       "      <td>Skagit</td>\n",
       "      <td>Concrete</td>\n",
       "      <td>WA</td>\n",
       "      <td>98237</td>\n",
       "      <td>2017</td>\n",
       "      <td>CHEVROLET</td>\n",
       "      <td>BOLT EV</td>\n",
       "      <td>Battery Electric Vehicle (BEV)</td>\n",
       "      <td>Clean Alternative Fuel Vehicle Eligible</td>\n",
       "      <td>238</td>\n",
       "      <td>0</td>\n",
       "      <td>39.0</td>\n",
       "      <td>186750406</td>\n",
       "      <td>POINT (-121.7515 48.53892)</td>\n",
       "      <td>PUGET SOUND ENERGY INC</td>\n",
       "      <td>53057951101</td>\n",
       "    </tr>\n",
       "    <tr>\n",
       "      <th>4</th>\n",
       "      <td>3FA6P0SU1K</td>\n",
       "      <td>Snohomish</td>\n",
       "      <td>Everett</td>\n",
       "      <td>WA</td>\n",
       "      <td>98201</td>\n",
       "      <td>2019</td>\n",
       "      <td>FORD</td>\n",
       "      <td>FUSION</td>\n",
       "      <td>Plug-in Hybrid Electric Vehicle (PHEV)</td>\n",
       "      <td>Not eligible due to low battery range</td>\n",
       "      <td>26</td>\n",
       "      <td>0</td>\n",
       "      <td>38.0</td>\n",
       "      <td>2006714</td>\n",
       "      <td>POINT (-122.20596 47.97659)</td>\n",
       "      <td>PUGET SOUND ENERGY INC</td>\n",
       "      <td>53061041500</td>\n",
       "    </tr>\n",
       "    <tr>\n",
       "      <th>...</th>\n",
       "      <td>...</td>\n",
       "      <td>...</td>\n",
       "      <td>...</td>\n",
       "      <td>...</td>\n",
       "      <td>...</td>\n",
       "      <td>...</td>\n",
       "      <td>...</td>\n",
       "      <td>...</td>\n",
       "      <td>...</td>\n",
       "      <td>...</td>\n",
       "      <td>...</td>\n",
       "      <td>...</td>\n",
       "      <td>...</td>\n",
       "      <td>...</td>\n",
       "      <td>...</td>\n",
       "      <td>...</td>\n",
       "      <td>...</td>\n",
       "    </tr>\n",
       "    <tr>\n",
       "      <th>112629</th>\n",
       "      <td>7SAYGDEF2N</td>\n",
       "      <td>King</td>\n",
       "      <td>Duvall</td>\n",
       "      <td>WA</td>\n",
       "      <td>98019</td>\n",
       "      <td>2022</td>\n",
       "      <td>TESLA</td>\n",
       "      <td>MODEL Y</td>\n",
       "      <td>Battery Electric Vehicle (BEV)</td>\n",
       "      <td>Eligibility unknown as battery range has not b...</td>\n",
       "      <td>0</td>\n",
       "      <td>0</td>\n",
       "      <td>45.0</td>\n",
       "      <td>217955265</td>\n",
       "      <td>POINT (-121.98609 47.74068)</td>\n",
       "      <td>PUGET SOUND ENERGY INC||CITY OF TACOMA - (WA)</td>\n",
       "      <td>53033032401</td>\n",
       "    </tr>\n",
       "    <tr>\n",
       "      <th>112630</th>\n",
       "      <td>1N4BZ1CP7K</td>\n",
       "      <td>San Juan</td>\n",
       "      <td>Friday Harbor</td>\n",
       "      <td>WA</td>\n",
       "      <td>98250</td>\n",
       "      <td>2019</td>\n",
       "      <td>NISSAN</td>\n",
       "      <td>LEAF</td>\n",
       "      <td>Battery Electric Vehicle (BEV)</td>\n",
       "      <td>Clean Alternative Fuel Vehicle Eligible</td>\n",
       "      <td>150</td>\n",
       "      <td>0</td>\n",
       "      <td>40.0</td>\n",
       "      <td>103663227</td>\n",
       "      <td>POINT (-123.01648 48.53448)</td>\n",
       "      <td>BONNEVILLE POWER ADMINISTRATION||ORCAS POWER &amp;...</td>\n",
       "      <td>53055960301</td>\n",
       "    </tr>\n",
       "    <tr>\n",
       "      <th>112631</th>\n",
       "      <td>1FMCU0KZ4N</td>\n",
       "      <td>King</td>\n",
       "      <td>Vashon</td>\n",
       "      <td>WA</td>\n",
       "      <td>98070</td>\n",
       "      <td>2022</td>\n",
       "      <td>FORD</td>\n",
       "      <td>ESCAPE</td>\n",
       "      <td>Plug-in Hybrid Electric Vehicle (PHEV)</td>\n",
       "      <td>Clean Alternative Fuel Vehicle Eligible</td>\n",
       "      <td>38</td>\n",
       "      <td>0</td>\n",
       "      <td>34.0</td>\n",
       "      <td>193878387</td>\n",
       "      <td>POINT (-122.4573 47.44929)</td>\n",
       "      <td>PUGET SOUND ENERGY INC||CITY OF TACOMA - (WA)</td>\n",
       "      <td>53033027702</td>\n",
       "    </tr>\n",
       "    <tr>\n",
       "      <th>112632</th>\n",
       "      <td>KNDCD3LD4J</td>\n",
       "      <td>King</td>\n",
       "      <td>Covington</td>\n",
       "      <td>WA</td>\n",
       "      <td>98042</td>\n",
       "      <td>2018</td>\n",
       "      <td>KIA</td>\n",
       "      <td>NIRO</td>\n",
       "      <td>Plug-in Hybrid Electric Vehicle (PHEV)</td>\n",
       "      <td>Not eligible due to low battery range</td>\n",
       "      <td>26</td>\n",
       "      <td>0</td>\n",
       "      <td>47.0</td>\n",
       "      <td>125039043</td>\n",
       "      <td>POINT (-122.09124 47.33778)</td>\n",
       "      <td>PUGET SOUND ENERGY INC||CITY OF TACOMA - (WA)</td>\n",
       "      <td>53033032007</td>\n",
       "    </tr>\n",
       "    <tr>\n",
       "      <th>112633</th>\n",
       "      <td>YV4BR0CL8N</td>\n",
       "      <td>King</td>\n",
       "      <td>Covington</td>\n",
       "      <td>WA</td>\n",
       "      <td>98042</td>\n",
       "      <td>2022</td>\n",
       "      <td>VOLVO</td>\n",
       "      <td>XC90</td>\n",
       "      <td>Plug-in Hybrid Electric Vehicle (PHEV)</td>\n",
       "      <td>Not eligible due to low battery range</td>\n",
       "      <td>18</td>\n",
       "      <td>0</td>\n",
       "      <td>47.0</td>\n",
       "      <td>194673692</td>\n",
       "      <td>POINT (-122.09124 47.33778)</td>\n",
       "      <td>PUGET SOUND ENERGY INC||CITY OF TACOMA - (WA)</td>\n",
       "      <td>53033032005</td>\n",
       "    </tr>\n",
       "  </tbody>\n",
       "</table>\n",
       "<p>112634 rows × 17 columns</p>\n",
       "</div>"
      ],
      "text/plain": [
       "        VIN (1-10)     County           City State  Postal Code Model Year  \\\n",
       "0       JTMEB3FV6N     Monroe       Key West    FL        33040       2022   \n",
       "1       1G1RD6E45D      Clark       Laughlin    NV        89029       2013   \n",
       "2       JN1AZ0CP8B     Yakima         Yakima    WA        98901       2011   \n",
       "3       1G1FW6S08H     Skagit       Concrete    WA        98237       2017   \n",
       "4       3FA6P0SU1K  Snohomish        Everett    WA        98201       2019   \n",
       "...            ...        ...            ...   ...          ...        ...   \n",
       "112629  7SAYGDEF2N       King         Duvall    WA        98019       2022   \n",
       "112630  1N4BZ1CP7K   San Juan  Friday Harbor    WA        98250       2019   \n",
       "112631  1FMCU0KZ4N       King         Vashon    WA        98070       2022   \n",
       "112632  KNDCD3LD4J       King      Covington    WA        98042       2018   \n",
       "112633  YV4BR0CL8N       King      Covington    WA        98042       2022   \n",
       "\n",
       "             Make       Model                   Electric Vehicle Type  \\\n",
       "0          TOYOTA  RAV4 PRIME  Plug-in Hybrid Electric Vehicle (PHEV)   \n",
       "1       CHEVROLET        VOLT  Plug-in Hybrid Electric Vehicle (PHEV)   \n",
       "2          NISSAN        LEAF          Battery Electric Vehicle (BEV)   \n",
       "3       CHEVROLET     BOLT EV          Battery Electric Vehicle (BEV)   \n",
       "4            FORD      FUSION  Plug-in Hybrid Electric Vehicle (PHEV)   \n",
       "...           ...         ...                                     ...   \n",
       "112629      TESLA     MODEL Y          Battery Electric Vehicle (BEV)   \n",
       "112630     NISSAN        LEAF          Battery Electric Vehicle (BEV)   \n",
       "112631       FORD      ESCAPE  Plug-in Hybrid Electric Vehicle (PHEV)   \n",
       "112632        KIA        NIRO  Plug-in Hybrid Electric Vehicle (PHEV)   \n",
       "112633      VOLVO        XC90  Plug-in Hybrid Electric Vehicle (PHEV)   \n",
       "\n",
       "        Clean Alternative Fuel Vehicle (CAFV) Eligibility  Electric Range  \\\n",
       "0                 Clean Alternative Fuel Vehicle Eligible              42   \n",
       "1                 Clean Alternative Fuel Vehicle Eligible              38   \n",
       "2                 Clean Alternative Fuel Vehicle Eligible              73   \n",
       "3                 Clean Alternative Fuel Vehicle Eligible             238   \n",
       "4                   Not eligible due to low battery range              26   \n",
       "...                                                   ...             ...   \n",
       "112629  Eligibility unknown as battery range has not b...               0   \n",
       "112630            Clean Alternative Fuel Vehicle Eligible             150   \n",
       "112631            Clean Alternative Fuel Vehicle Eligible              38   \n",
       "112632              Not eligible due to low battery range              26   \n",
       "112633              Not eligible due to low battery range              18   \n",
       "\n",
       "        Base MSRP  Legislative District  DOL Vehicle ID  \\\n",
       "0               0                   NaN       198968248   \n",
       "1               0                   NaN         5204412   \n",
       "2               0                  15.0       218972519   \n",
       "3               0                  39.0       186750406   \n",
       "4               0                  38.0         2006714   \n",
       "...           ...                   ...             ...   \n",
       "112629          0                  45.0       217955265   \n",
       "112630          0                  40.0       103663227   \n",
       "112631          0                  34.0       193878387   \n",
       "112632          0                  47.0       125039043   \n",
       "112633          0                  47.0       194673692   \n",
       "\n",
       "                   Vehicle Location  \\\n",
       "0         POINT (-81.80023 24.5545)   \n",
       "1       POINT (-114.57245 35.16815)   \n",
       "2       POINT (-120.50721 46.60448)   \n",
       "3        POINT (-121.7515 48.53892)   \n",
       "4       POINT (-122.20596 47.97659)   \n",
       "...                             ...   \n",
       "112629  POINT (-121.98609 47.74068)   \n",
       "112630  POINT (-123.01648 48.53448)   \n",
       "112631   POINT (-122.4573 47.44929)   \n",
       "112632  POINT (-122.09124 47.33778)   \n",
       "112633  POINT (-122.09124 47.33778)   \n",
       "\n",
       "                                         Electric Utility  2020 Census Tract  \n",
       "0                                                     NaN        12087972100  \n",
       "1                                                     NaN        32003005702  \n",
       "2                                              PACIFICORP        53077001602  \n",
       "3                                  PUGET SOUND ENERGY INC        53057951101  \n",
       "4                                  PUGET SOUND ENERGY INC        53061041500  \n",
       "...                                                   ...                ...  \n",
       "112629      PUGET SOUND ENERGY INC||CITY OF TACOMA - (WA)        53033032401  \n",
       "112630  BONNEVILLE POWER ADMINISTRATION||ORCAS POWER &...        53055960301  \n",
       "112631      PUGET SOUND ENERGY INC||CITY OF TACOMA - (WA)        53033027702  \n",
       "112632      PUGET SOUND ENERGY INC||CITY OF TACOMA - (WA)        53033032007  \n",
       "112633      PUGET SOUND ENERGY INC||CITY OF TACOMA - (WA)        53033032005  \n",
       "\n",
       "[112634 rows x 17 columns]"
      ]
     },
     "execution_count": 96,
     "metadata": {},
     "output_type": "execute_result"
    }
   ],
   "source": [
    "df"
   ]
  },
  {
   "cell_type": "code",
   "execution_count": 102,
   "id": "40d97424",
   "metadata": {},
   "outputs": [
    {
     "data": {
      "text/plain": [
       "WA    112348\n",
       "CA        76\n",
       "VA        36\n",
       "MD        26\n",
       "TX        14\n",
       "CO         9\n",
       "NV         8\n",
       "GA         7\n",
       "NC         7\n",
       "CT         6\n",
       "DC         6\n",
       "FL         6\n",
       "AZ         6\n",
       "IL         6\n",
       "SC         5\n",
       "OR         5\n",
       "NE         5\n",
       "HI         4\n",
       "UT         4\n",
       "AR         4\n",
       "NY         4\n",
       "TN         3\n",
       "KS         3\n",
       "MO         3\n",
       "PA         3\n",
       "MA         3\n",
       "LA         3\n",
       "NJ         3\n",
       "NH         2\n",
       "OH         2\n",
       "WY         2\n",
       "ID         2\n",
       "KY         1\n",
       "RI         1\n",
       "ME         1\n",
       "MN         1\n",
       "SD         1\n",
       "WI         1\n",
       "NM         1\n",
       "AK         1\n",
       "MS         1\n",
       "AL         1\n",
       "DE         1\n",
       "OK         1\n",
       "ND         1\n",
       "Name: State, dtype: int64"
      ]
     },
     "execution_count": 102,
     "metadata": {},
     "output_type": "execute_result"
    }
   ],
   "source": [
    "df['State'].value_counts()"
   ]
  },
  {
   "cell_type": "code",
   "execution_count": 100,
   "id": "c017f66d",
   "metadata": {},
   "outputs": [
    {
     "data": {
      "application/vnd.plotly.v1+json": {
       "config": {
        "plotlyServerURL": "https://plot.ly"
       },
       "data": [
        {
         "coloraxis": "coloraxis",
         "geo": "geo",
         "hovertemplate": "State=%{location}<br>Number of EV Vehicles=%{z}<extra></extra>",
         "locationmode": "USA-states",
         "locations": [
          "AK",
          "AL",
          "AR",
          "AZ",
          "CA",
          "CO",
          "CT",
          "DC",
          "DE",
          "FL",
          "GA",
          "HI",
          "ID",
          "IL",
          "KS",
          "KY",
          "LA",
          "MA",
          "MD",
          "ME",
          "MN",
          "MO",
          "MS",
          "NC",
          "ND",
          "NE",
          "NH",
          "NJ",
          "NM",
          "NV",
          "NY",
          "OH",
          "OK",
          "OR",
          "PA",
          "RI",
          "SC",
          "SD",
          "TN",
          "TX",
          "UT",
          "VA",
          "WA",
          "WI",
          "WY"
         ],
         "name": "",
         "type": "choropleth",
         "z": [
          1,
          1,
          4,
          6,
          76,
          9,
          6,
          6,
          1,
          6,
          7,
          4,
          2,
          6,
          3,
          1,
          3,
          3,
          26,
          1,
          1,
          3,
          1,
          7,
          1,
          5,
          2,
          3,
          1,
          8,
          4,
          2,
          1,
          5,
          3,
          1,
          5,
          1,
          3,
          14,
          4,
          36,
          112348,
          1,
          2
         ]
        }
       ],
       "layout": {
        "coloraxis": {
         "colorbar": {
          "title": {
           "text": "Number of EV Vehicles"
          }
         },
         "colorscale": [
          [
           0,
           "#440154"
          ],
          [
           0.1111111111111111,
           "#482878"
          ],
          [
           0.2222222222222222,
           "#3e4989"
          ],
          [
           0.3333333333333333,
           "#31688e"
          ],
          [
           0.4444444444444444,
           "#26828e"
          ],
          [
           0.5555555555555556,
           "#1f9e89"
          ],
          [
           0.6666666666666666,
           "#35b779"
          ],
          [
           0.7777777777777778,
           "#6ece58"
          ],
          [
           0.8888888888888888,
           "#b5de2b"
          ],
          [
           1,
           "#fde725"
          ]
         ]
        },
        "geo": {
         "center": {},
         "domain": {
          "x": [
           0,
           1
          ],
          "y": [
           0,
           1
          ]
         },
         "scope": "usa"
        },
        "legend": {
         "tracegroupgap": 0
        },
        "margin": {
         "t": 60
        },
        "template": {
         "data": {
          "bar": [
           {
            "error_x": {
             "color": "#2a3f5f"
            },
            "error_y": {
             "color": "#2a3f5f"
            },
            "marker": {
             "line": {
              "color": "#E5ECF6",
              "width": 0.5
             },
             "pattern": {
              "fillmode": "overlay",
              "size": 10,
              "solidity": 0.2
             }
            },
            "type": "bar"
           }
          ],
          "barpolar": [
           {
            "marker": {
             "line": {
              "color": "#E5ECF6",
              "width": 0.5
             },
             "pattern": {
              "fillmode": "overlay",
              "size": 10,
              "solidity": 0.2
             }
            },
            "type": "barpolar"
           }
          ],
          "carpet": [
           {
            "aaxis": {
             "endlinecolor": "#2a3f5f",
             "gridcolor": "white",
             "linecolor": "white",
             "minorgridcolor": "white",
             "startlinecolor": "#2a3f5f"
            },
            "baxis": {
             "endlinecolor": "#2a3f5f",
             "gridcolor": "white",
             "linecolor": "white",
             "minorgridcolor": "white",
             "startlinecolor": "#2a3f5f"
            },
            "type": "carpet"
           }
          ],
          "choropleth": [
           {
            "colorbar": {
             "outlinewidth": 0,
             "ticks": ""
            },
            "type": "choropleth"
           }
          ],
          "contour": [
           {
            "colorbar": {
             "outlinewidth": 0,
             "ticks": ""
            },
            "colorscale": [
             [
              0,
              "#0d0887"
             ],
             [
              0.1111111111111111,
              "#46039f"
             ],
             [
              0.2222222222222222,
              "#7201a8"
             ],
             [
              0.3333333333333333,
              "#9c179e"
             ],
             [
              0.4444444444444444,
              "#bd3786"
             ],
             [
              0.5555555555555556,
              "#d8576b"
             ],
             [
              0.6666666666666666,
              "#ed7953"
             ],
             [
              0.7777777777777778,
              "#fb9f3a"
             ],
             [
              0.8888888888888888,
              "#fdca26"
             ],
             [
              1,
              "#f0f921"
             ]
            ],
            "type": "contour"
           }
          ],
          "contourcarpet": [
           {
            "colorbar": {
             "outlinewidth": 0,
             "ticks": ""
            },
            "type": "contourcarpet"
           }
          ],
          "heatmap": [
           {
            "colorbar": {
             "outlinewidth": 0,
             "ticks": ""
            },
            "colorscale": [
             [
              0,
              "#0d0887"
             ],
             [
              0.1111111111111111,
              "#46039f"
             ],
             [
              0.2222222222222222,
              "#7201a8"
             ],
             [
              0.3333333333333333,
              "#9c179e"
             ],
             [
              0.4444444444444444,
              "#bd3786"
             ],
             [
              0.5555555555555556,
              "#d8576b"
             ],
             [
              0.6666666666666666,
              "#ed7953"
             ],
             [
              0.7777777777777778,
              "#fb9f3a"
             ],
             [
              0.8888888888888888,
              "#fdca26"
             ],
             [
              1,
              "#f0f921"
             ]
            ],
            "type": "heatmap"
           }
          ],
          "heatmapgl": [
           {
            "colorbar": {
             "outlinewidth": 0,
             "ticks": ""
            },
            "colorscale": [
             [
              0,
              "#0d0887"
             ],
             [
              0.1111111111111111,
              "#46039f"
             ],
             [
              0.2222222222222222,
              "#7201a8"
             ],
             [
              0.3333333333333333,
              "#9c179e"
             ],
             [
              0.4444444444444444,
              "#bd3786"
             ],
             [
              0.5555555555555556,
              "#d8576b"
             ],
             [
              0.6666666666666666,
              "#ed7953"
             ],
             [
              0.7777777777777778,
              "#fb9f3a"
             ],
             [
              0.8888888888888888,
              "#fdca26"
             ],
             [
              1,
              "#f0f921"
             ]
            ],
            "type": "heatmapgl"
           }
          ],
          "histogram": [
           {
            "marker": {
             "pattern": {
              "fillmode": "overlay",
              "size": 10,
              "solidity": 0.2
             }
            },
            "type": "histogram"
           }
          ],
          "histogram2d": [
           {
            "colorbar": {
             "outlinewidth": 0,
             "ticks": ""
            },
            "colorscale": [
             [
              0,
              "#0d0887"
             ],
             [
              0.1111111111111111,
              "#46039f"
             ],
             [
              0.2222222222222222,
              "#7201a8"
             ],
             [
              0.3333333333333333,
              "#9c179e"
             ],
             [
              0.4444444444444444,
              "#bd3786"
             ],
             [
              0.5555555555555556,
              "#d8576b"
             ],
             [
              0.6666666666666666,
              "#ed7953"
             ],
             [
              0.7777777777777778,
              "#fb9f3a"
             ],
             [
              0.8888888888888888,
              "#fdca26"
             ],
             [
              1,
              "#f0f921"
             ]
            ],
            "type": "histogram2d"
           }
          ],
          "histogram2dcontour": [
           {
            "colorbar": {
             "outlinewidth": 0,
             "ticks": ""
            },
            "colorscale": [
             [
              0,
              "#0d0887"
             ],
             [
              0.1111111111111111,
              "#46039f"
             ],
             [
              0.2222222222222222,
              "#7201a8"
             ],
             [
              0.3333333333333333,
              "#9c179e"
             ],
             [
              0.4444444444444444,
              "#bd3786"
             ],
             [
              0.5555555555555556,
              "#d8576b"
             ],
             [
              0.6666666666666666,
              "#ed7953"
             ],
             [
              0.7777777777777778,
              "#fb9f3a"
             ],
             [
              0.8888888888888888,
              "#fdca26"
             ],
             [
              1,
              "#f0f921"
             ]
            ],
            "type": "histogram2dcontour"
           }
          ],
          "mesh3d": [
           {
            "colorbar": {
             "outlinewidth": 0,
             "ticks": ""
            },
            "type": "mesh3d"
           }
          ],
          "parcoords": [
           {
            "line": {
             "colorbar": {
              "outlinewidth": 0,
              "ticks": ""
             }
            },
            "type": "parcoords"
           }
          ],
          "pie": [
           {
            "automargin": true,
            "type": "pie"
           }
          ],
          "scatter": [
           {
            "fillpattern": {
             "fillmode": "overlay",
             "size": 10,
             "solidity": 0.2
            },
            "type": "scatter"
           }
          ],
          "scatter3d": [
           {
            "line": {
             "colorbar": {
              "outlinewidth": 0,
              "ticks": ""
             }
            },
            "marker": {
             "colorbar": {
              "outlinewidth": 0,
              "ticks": ""
             }
            },
            "type": "scatter3d"
           }
          ],
          "scattercarpet": [
           {
            "marker": {
             "colorbar": {
              "outlinewidth": 0,
              "ticks": ""
             }
            },
            "type": "scattercarpet"
           }
          ],
          "scattergeo": [
           {
            "marker": {
             "colorbar": {
              "outlinewidth": 0,
              "ticks": ""
             }
            },
            "type": "scattergeo"
           }
          ],
          "scattergl": [
           {
            "marker": {
             "colorbar": {
              "outlinewidth": 0,
              "ticks": ""
             }
            },
            "type": "scattergl"
           }
          ],
          "scattermapbox": [
           {
            "marker": {
             "colorbar": {
              "outlinewidth": 0,
              "ticks": ""
             }
            },
            "type": "scattermapbox"
           }
          ],
          "scatterpolar": [
           {
            "marker": {
             "colorbar": {
              "outlinewidth": 0,
              "ticks": ""
             }
            },
            "type": "scatterpolar"
           }
          ],
          "scatterpolargl": [
           {
            "marker": {
             "colorbar": {
              "outlinewidth": 0,
              "ticks": ""
             }
            },
            "type": "scatterpolargl"
           }
          ],
          "scatterternary": [
           {
            "marker": {
             "colorbar": {
              "outlinewidth": 0,
              "ticks": ""
             }
            },
            "type": "scatterternary"
           }
          ],
          "surface": [
           {
            "colorbar": {
             "outlinewidth": 0,
             "ticks": ""
            },
            "colorscale": [
             [
              0,
              "#0d0887"
             ],
             [
              0.1111111111111111,
              "#46039f"
             ],
             [
              0.2222222222222222,
              "#7201a8"
             ],
             [
              0.3333333333333333,
              "#9c179e"
             ],
             [
              0.4444444444444444,
              "#bd3786"
             ],
             [
              0.5555555555555556,
              "#d8576b"
             ],
             [
              0.6666666666666666,
              "#ed7953"
             ],
             [
              0.7777777777777778,
              "#fb9f3a"
             ],
             [
              0.8888888888888888,
              "#fdca26"
             ],
             [
              1,
              "#f0f921"
             ]
            ],
            "type": "surface"
           }
          ],
          "table": [
           {
            "cells": {
             "fill": {
              "color": "#EBF0F8"
             },
             "line": {
              "color": "white"
             }
            },
            "header": {
             "fill": {
              "color": "#C8D4E3"
             },
             "line": {
              "color": "white"
             }
            },
            "type": "table"
           }
          ]
         },
         "layout": {
          "annotationdefaults": {
           "arrowcolor": "#2a3f5f",
           "arrowhead": 0,
           "arrowwidth": 1
          },
          "autotypenumbers": "strict",
          "coloraxis": {
           "colorbar": {
            "outlinewidth": 0,
            "ticks": ""
           }
          },
          "colorscale": {
           "diverging": [
            [
             0,
             "#8e0152"
            ],
            [
             0.1,
             "#c51b7d"
            ],
            [
             0.2,
             "#de77ae"
            ],
            [
             0.3,
             "#f1b6da"
            ],
            [
             0.4,
             "#fde0ef"
            ],
            [
             0.5,
             "#f7f7f7"
            ],
            [
             0.6,
             "#e6f5d0"
            ],
            [
             0.7,
             "#b8e186"
            ],
            [
             0.8,
             "#7fbc41"
            ],
            [
             0.9,
             "#4d9221"
            ],
            [
             1,
             "#276419"
            ]
           ],
           "sequential": [
            [
             0,
             "#0d0887"
            ],
            [
             0.1111111111111111,
             "#46039f"
            ],
            [
             0.2222222222222222,
             "#7201a8"
            ],
            [
             0.3333333333333333,
             "#9c179e"
            ],
            [
             0.4444444444444444,
             "#bd3786"
            ],
            [
             0.5555555555555556,
             "#d8576b"
            ],
            [
             0.6666666666666666,
             "#ed7953"
            ],
            [
             0.7777777777777778,
             "#fb9f3a"
            ],
            [
             0.8888888888888888,
             "#fdca26"
            ],
            [
             1,
             "#f0f921"
            ]
           ],
           "sequentialminus": [
            [
             0,
             "#0d0887"
            ],
            [
             0.1111111111111111,
             "#46039f"
            ],
            [
             0.2222222222222222,
             "#7201a8"
            ],
            [
             0.3333333333333333,
             "#9c179e"
            ],
            [
             0.4444444444444444,
             "#bd3786"
            ],
            [
             0.5555555555555556,
             "#d8576b"
            ],
            [
             0.6666666666666666,
             "#ed7953"
            ],
            [
             0.7777777777777778,
             "#fb9f3a"
            ],
            [
             0.8888888888888888,
             "#fdca26"
            ],
            [
             1,
             "#f0f921"
            ]
           ]
          },
          "colorway": [
           "#636efa",
           "#EF553B",
           "#00cc96",
           "#ab63fa",
           "#FFA15A",
           "#19d3f3",
           "#FF6692",
           "#B6E880",
           "#FF97FF",
           "#FECB52"
          ],
          "font": {
           "color": "#2a3f5f"
          },
          "geo": {
           "bgcolor": "white",
           "lakecolor": "white",
           "landcolor": "#E5ECF6",
           "showlakes": true,
           "showland": true,
           "subunitcolor": "white"
          },
          "hoverlabel": {
           "align": "left"
          },
          "hovermode": "closest",
          "mapbox": {
           "style": "light"
          },
          "paper_bgcolor": "white",
          "plot_bgcolor": "#E5ECF6",
          "polar": {
           "angularaxis": {
            "gridcolor": "white",
            "linecolor": "white",
            "ticks": ""
           },
           "bgcolor": "#E5ECF6",
           "radialaxis": {
            "gridcolor": "white",
            "linecolor": "white",
            "ticks": ""
           }
          },
          "scene": {
           "xaxis": {
            "backgroundcolor": "#E5ECF6",
            "gridcolor": "white",
            "gridwidth": 2,
            "linecolor": "white",
            "showbackground": true,
            "ticks": "",
            "zerolinecolor": "white"
           },
           "yaxis": {
            "backgroundcolor": "#E5ECF6",
            "gridcolor": "white",
            "gridwidth": 2,
            "linecolor": "white",
            "showbackground": true,
            "ticks": "",
            "zerolinecolor": "white"
           },
           "zaxis": {
            "backgroundcolor": "#E5ECF6",
            "gridcolor": "white",
            "gridwidth": 2,
            "linecolor": "white",
            "showbackground": true,
            "ticks": "",
            "zerolinecolor": "white"
           }
          },
          "shapedefaults": {
           "line": {
            "color": "#2a3f5f"
           }
          },
          "ternary": {
           "aaxis": {
            "gridcolor": "white",
            "linecolor": "white",
            "ticks": ""
           },
           "baxis": {
            "gridcolor": "white",
            "linecolor": "white",
            "ticks": ""
           },
           "bgcolor": "#E5ECF6",
           "caxis": {
            "gridcolor": "white",
            "linecolor": "white",
            "ticks": ""
           }
          },
          "title": {
           "x": 0.05
          },
          "xaxis": {
           "automargin": true,
           "gridcolor": "white",
           "linecolor": "white",
           "ticks": "",
           "title": {
            "standoff": 15
           },
           "zerolinecolor": "white",
           "zerolinewidth": 2
          },
          "yaxis": {
           "automargin": true,
           "gridcolor": "white",
           "linecolor": "white",
           "ticks": "",
           "title": {
            "standoff": 15
           },
           "zerolinecolor": "white",
           "zerolinewidth": 2
          }
         }
        }
       }
      },
      "text/html": [
       "<div>                            <div id=\"9bbe696c-e688-483c-ac8a-f61797fa2eca\" class=\"plotly-graph-div\" style=\"height:525px; width:100%;\"></div>            <script type=\"text/javascript\">                require([\"plotly\"], function(Plotly) {                    window.PLOTLYENV=window.PLOTLYENV || {};                                    if (document.getElementById(\"9bbe696c-e688-483c-ac8a-f61797fa2eca\")) {                    Plotly.newPlot(                        \"9bbe696c-e688-483c-ac8a-f61797fa2eca\",                        [{\"coloraxis\":\"coloraxis\",\"geo\":\"geo\",\"hovertemplate\":\"State=%{location}<br>Number of EV Vehicles=%{z}<extra></extra>\",\"locationmode\":\"USA-states\",\"locations\":[\"AK\",\"AL\",\"AR\",\"AZ\",\"CA\",\"CO\",\"CT\",\"DC\",\"DE\",\"FL\",\"GA\",\"HI\",\"ID\",\"IL\",\"KS\",\"KY\",\"LA\",\"MA\",\"MD\",\"ME\",\"MN\",\"MO\",\"MS\",\"NC\",\"ND\",\"NE\",\"NH\",\"NJ\",\"NM\",\"NV\",\"NY\",\"OH\",\"OK\",\"OR\",\"PA\",\"RI\",\"SC\",\"SD\",\"TN\",\"TX\",\"UT\",\"VA\",\"WA\",\"WI\",\"WY\"],\"name\":\"\",\"z\":[1,1,4,6,76,9,6,6,1,6,7,4,2,6,3,1,3,3,26,1,1,3,1,7,1,5,2,3,1,8,4,2,1,5,3,1,5,1,3,14,4,36,112348,1,2],\"type\":\"choropleth\"}],                        {\"template\":{\"data\":{\"histogram2dcontour\":[{\"type\":\"histogram2dcontour\",\"colorbar\":{\"outlinewidth\":0,\"ticks\":\"\"},\"colorscale\":[[0.0,\"#0d0887\"],[0.1111111111111111,\"#46039f\"],[0.2222222222222222,\"#7201a8\"],[0.3333333333333333,\"#9c179e\"],[0.4444444444444444,\"#bd3786\"],[0.5555555555555556,\"#d8576b\"],[0.6666666666666666,\"#ed7953\"],[0.7777777777777778,\"#fb9f3a\"],[0.8888888888888888,\"#fdca26\"],[1.0,\"#f0f921\"]]}],\"choropleth\":[{\"type\":\"choropleth\",\"colorbar\":{\"outlinewidth\":0,\"ticks\":\"\"}}],\"histogram2d\":[{\"type\":\"histogram2d\",\"colorbar\":{\"outlinewidth\":0,\"ticks\":\"\"},\"colorscale\":[[0.0,\"#0d0887\"],[0.1111111111111111,\"#46039f\"],[0.2222222222222222,\"#7201a8\"],[0.3333333333333333,\"#9c179e\"],[0.4444444444444444,\"#bd3786\"],[0.5555555555555556,\"#d8576b\"],[0.6666666666666666,\"#ed7953\"],[0.7777777777777778,\"#fb9f3a\"],[0.8888888888888888,\"#fdca26\"],[1.0,\"#f0f921\"]]}],\"heatmap\":[{\"type\":\"heatmap\",\"colorbar\":{\"outlinewidth\":0,\"ticks\":\"\"},\"colorscale\":[[0.0,\"#0d0887\"],[0.1111111111111111,\"#46039f\"],[0.2222222222222222,\"#7201a8\"],[0.3333333333333333,\"#9c179e\"],[0.4444444444444444,\"#bd3786\"],[0.5555555555555556,\"#d8576b\"],[0.6666666666666666,\"#ed7953\"],[0.7777777777777778,\"#fb9f3a\"],[0.8888888888888888,\"#fdca26\"],[1.0,\"#f0f921\"]]}],\"heatmapgl\":[{\"type\":\"heatmapgl\",\"colorbar\":{\"outlinewidth\":0,\"ticks\":\"\"},\"colorscale\":[[0.0,\"#0d0887\"],[0.1111111111111111,\"#46039f\"],[0.2222222222222222,\"#7201a8\"],[0.3333333333333333,\"#9c179e\"],[0.4444444444444444,\"#bd3786\"],[0.5555555555555556,\"#d8576b\"],[0.6666666666666666,\"#ed7953\"],[0.7777777777777778,\"#fb9f3a\"],[0.8888888888888888,\"#fdca26\"],[1.0,\"#f0f921\"]]}],\"contourcarpet\":[{\"type\":\"contourcarpet\",\"colorbar\":{\"outlinewidth\":0,\"ticks\":\"\"}}],\"contour\":[{\"type\":\"contour\",\"colorbar\":{\"outlinewidth\":0,\"ticks\":\"\"},\"colorscale\":[[0.0,\"#0d0887\"],[0.1111111111111111,\"#46039f\"],[0.2222222222222222,\"#7201a8\"],[0.3333333333333333,\"#9c179e\"],[0.4444444444444444,\"#bd3786\"],[0.5555555555555556,\"#d8576b\"],[0.6666666666666666,\"#ed7953\"],[0.7777777777777778,\"#fb9f3a\"],[0.8888888888888888,\"#fdca26\"],[1.0,\"#f0f921\"]]}],\"surface\":[{\"type\":\"surface\",\"colorbar\":{\"outlinewidth\":0,\"ticks\":\"\"},\"colorscale\":[[0.0,\"#0d0887\"],[0.1111111111111111,\"#46039f\"],[0.2222222222222222,\"#7201a8\"],[0.3333333333333333,\"#9c179e\"],[0.4444444444444444,\"#bd3786\"],[0.5555555555555556,\"#d8576b\"],[0.6666666666666666,\"#ed7953\"],[0.7777777777777778,\"#fb9f3a\"],[0.8888888888888888,\"#fdca26\"],[1.0,\"#f0f921\"]]}],\"mesh3d\":[{\"type\":\"mesh3d\",\"colorbar\":{\"outlinewidth\":0,\"ticks\":\"\"}}],\"scatter\":[{\"fillpattern\":{\"fillmode\":\"overlay\",\"size\":10,\"solidity\":0.2},\"type\":\"scatter\"}],\"parcoords\":[{\"type\":\"parcoords\",\"line\":{\"colorbar\":{\"outlinewidth\":0,\"ticks\":\"\"}}}],\"scatterpolargl\":[{\"type\":\"scatterpolargl\",\"marker\":{\"colorbar\":{\"outlinewidth\":0,\"ticks\":\"\"}}}],\"bar\":[{\"error_x\":{\"color\":\"#2a3f5f\"},\"error_y\":{\"color\":\"#2a3f5f\"},\"marker\":{\"line\":{\"color\":\"#E5ECF6\",\"width\":0.5},\"pattern\":{\"fillmode\":\"overlay\",\"size\":10,\"solidity\":0.2}},\"type\":\"bar\"}],\"scattergeo\":[{\"type\":\"scattergeo\",\"marker\":{\"colorbar\":{\"outlinewidth\":0,\"ticks\":\"\"}}}],\"scatterpolar\":[{\"type\":\"scatterpolar\",\"marker\":{\"colorbar\":{\"outlinewidth\":0,\"ticks\":\"\"}}}],\"histogram\":[{\"marker\":{\"pattern\":{\"fillmode\":\"overlay\",\"size\":10,\"solidity\":0.2}},\"type\":\"histogram\"}],\"scattergl\":[{\"type\":\"scattergl\",\"marker\":{\"colorbar\":{\"outlinewidth\":0,\"ticks\":\"\"}}}],\"scatter3d\":[{\"type\":\"scatter3d\",\"line\":{\"colorbar\":{\"outlinewidth\":0,\"ticks\":\"\"}},\"marker\":{\"colorbar\":{\"outlinewidth\":0,\"ticks\":\"\"}}}],\"scattermapbox\":[{\"type\":\"scattermapbox\",\"marker\":{\"colorbar\":{\"outlinewidth\":0,\"ticks\":\"\"}}}],\"scatterternary\":[{\"type\":\"scatterternary\",\"marker\":{\"colorbar\":{\"outlinewidth\":0,\"ticks\":\"\"}}}],\"scattercarpet\":[{\"type\":\"scattercarpet\",\"marker\":{\"colorbar\":{\"outlinewidth\":0,\"ticks\":\"\"}}}],\"carpet\":[{\"aaxis\":{\"endlinecolor\":\"#2a3f5f\",\"gridcolor\":\"white\",\"linecolor\":\"white\",\"minorgridcolor\":\"white\",\"startlinecolor\":\"#2a3f5f\"},\"baxis\":{\"endlinecolor\":\"#2a3f5f\",\"gridcolor\":\"white\",\"linecolor\":\"white\",\"minorgridcolor\":\"white\",\"startlinecolor\":\"#2a3f5f\"},\"type\":\"carpet\"}],\"table\":[{\"cells\":{\"fill\":{\"color\":\"#EBF0F8\"},\"line\":{\"color\":\"white\"}},\"header\":{\"fill\":{\"color\":\"#C8D4E3\"},\"line\":{\"color\":\"white\"}},\"type\":\"table\"}],\"barpolar\":[{\"marker\":{\"line\":{\"color\":\"#E5ECF6\",\"width\":0.5},\"pattern\":{\"fillmode\":\"overlay\",\"size\":10,\"solidity\":0.2}},\"type\":\"barpolar\"}],\"pie\":[{\"automargin\":true,\"type\":\"pie\"}]},\"layout\":{\"autotypenumbers\":\"strict\",\"colorway\":[\"#636efa\",\"#EF553B\",\"#00cc96\",\"#ab63fa\",\"#FFA15A\",\"#19d3f3\",\"#FF6692\",\"#B6E880\",\"#FF97FF\",\"#FECB52\"],\"font\":{\"color\":\"#2a3f5f\"},\"hovermode\":\"closest\",\"hoverlabel\":{\"align\":\"left\"},\"paper_bgcolor\":\"white\",\"plot_bgcolor\":\"#E5ECF6\",\"polar\":{\"bgcolor\":\"#E5ECF6\",\"angularaxis\":{\"gridcolor\":\"white\",\"linecolor\":\"white\",\"ticks\":\"\"},\"radialaxis\":{\"gridcolor\":\"white\",\"linecolor\":\"white\",\"ticks\":\"\"}},\"ternary\":{\"bgcolor\":\"#E5ECF6\",\"aaxis\":{\"gridcolor\":\"white\",\"linecolor\":\"white\",\"ticks\":\"\"},\"baxis\":{\"gridcolor\":\"white\",\"linecolor\":\"white\",\"ticks\":\"\"},\"caxis\":{\"gridcolor\":\"white\",\"linecolor\":\"white\",\"ticks\":\"\"}},\"coloraxis\":{\"colorbar\":{\"outlinewidth\":0,\"ticks\":\"\"}},\"colorscale\":{\"sequential\":[[0.0,\"#0d0887\"],[0.1111111111111111,\"#46039f\"],[0.2222222222222222,\"#7201a8\"],[0.3333333333333333,\"#9c179e\"],[0.4444444444444444,\"#bd3786\"],[0.5555555555555556,\"#d8576b\"],[0.6666666666666666,\"#ed7953\"],[0.7777777777777778,\"#fb9f3a\"],[0.8888888888888888,\"#fdca26\"],[1.0,\"#f0f921\"]],\"sequentialminus\":[[0.0,\"#0d0887\"],[0.1111111111111111,\"#46039f\"],[0.2222222222222222,\"#7201a8\"],[0.3333333333333333,\"#9c179e\"],[0.4444444444444444,\"#bd3786\"],[0.5555555555555556,\"#d8576b\"],[0.6666666666666666,\"#ed7953\"],[0.7777777777777778,\"#fb9f3a\"],[0.8888888888888888,\"#fdca26\"],[1.0,\"#f0f921\"]],\"diverging\":[[0,\"#8e0152\"],[0.1,\"#c51b7d\"],[0.2,\"#de77ae\"],[0.3,\"#f1b6da\"],[0.4,\"#fde0ef\"],[0.5,\"#f7f7f7\"],[0.6,\"#e6f5d0\"],[0.7,\"#b8e186\"],[0.8,\"#7fbc41\"],[0.9,\"#4d9221\"],[1,\"#276419\"]]},\"xaxis\":{\"gridcolor\":\"white\",\"linecolor\":\"white\",\"ticks\":\"\",\"title\":{\"standoff\":15},\"zerolinecolor\":\"white\",\"automargin\":true,\"zerolinewidth\":2},\"yaxis\":{\"gridcolor\":\"white\",\"linecolor\":\"white\",\"ticks\":\"\",\"title\":{\"standoff\":15},\"zerolinecolor\":\"white\",\"automargin\":true,\"zerolinewidth\":2},\"scene\":{\"xaxis\":{\"backgroundcolor\":\"#E5ECF6\",\"gridcolor\":\"white\",\"linecolor\":\"white\",\"showbackground\":true,\"ticks\":\"\",\"zerolinecolor\":\"white\",\"gridwidth\":2},\"yaxis\":{\"backgroundcolor\":\"#E5ECF6\",\"gridcolor\":\"white\",\"linecolor\":\"white\",\"showbackground\":true,\"ticks\":\"\",\"zerolinecolor\":\"white\",\"gridwidth\":2},\"zaxis\":{\"backgroundcolor\":\"#E5ECF6\",\"gridcolor\":\"white\",\"linecolor\":\"white\",\"showbackground\":true,\"ticks\":\"\",\"zerolinecolor\":\"white\",\"gridwidth\":2}},\"shapedefaults\":{\"line\":{\"color\":\"#2a3f5f\"}},\"annotationdefaults\":{\"arrowcolor\":\"#2a3f5f\",\"arrowhead\":0,\"arrowwidth\":1},\"geo\":{\"bgcolor\":\"white\",\"landcolor\":\"#E5ECF6\",\"subunitcolor\":\"white\",\"showland\":true,\"showlakes\":true,\"lakecolor\":\"white\"},\"title\":{\"x\":0.05},\"mapbox\":{\"style\":\"light\"}}},\"geo\":{\"domain\":{\"x\":[0.0,1.0],\"y\":[0.0,1.0]},\"center\":{},\"scope\":\"usa\"},\"coloraxis\":{\"colorbar\":{\"title\":{\"text\":\"Number of EV Vehicles\"}},\"colorscale\":[[0.0,\"#440154\"],[0.1111111111111111,\"#482878\"],[0.2222222222222222,\"#3e4989\"],[0.3333333333333333,\"#31688e\"],[0.4444444444444444,\"#26828e\"],[0.5555555555555556,\"#1f9e89\"],[0.6666666666666666,\"#35b779\"],[0.7777777777777778,\"#6ece58\"],[0.8888888888888888,\"#b5de2b\"],[1.0,\"#fde725\"]]},\"legend\":{\"tracegroupgap\":0},\"margin\":{\"t\":60}},                        {\"responsive\": true}                    ).then(function(){\n",
       "                            \n",
       "var gd = document.getElementById('9bbe696c-e688-483c-ac8a-f61797fa2eca');\n",
       "var x = new MutationObserver(function (mutations, observer) {{\n",
       "        var display = window.getComputedStyle(gd).display;\n",
       "        if (!display || display === 'none') {{\n",
       "            console.log([gd, 'removed!']);\n",
       "            Plotly.purge(gd);\n",
       "            observer.disconnect();\n",
       "        }}\n",
       "}});\n",
       "\n",
       "// Listen for the removal of the full notebook cells\n",
       "var notebookContainer = gd.closest('#notebook-container');\n",
       "if (notebookContainer) {{\n",
       "    x.observe(notebookContainer, {childList: true});\n",
       "}}\n",
       "\n",
       "// Listen for the clearing of the current output cell\n",
       "var outputEl = gd.closest('.output');\n",
       "if (outputEl) {{\n",
       "    x.observe(outputEl, {childList: true});\n",
       "}}\n",
       "\n",
       "                        })                };                });            </script>        </div>"
      ]
     },
     "metadata": {},
     "output_type": "display_data"
    }
   ],
   "source": [
    "import plotly.express as px\n",
    "\n",
    "# Assuming your DataFrame is named 'df'\n",
    "\n",
    "# Group the data by 'State' and count the number of EV vehicles\n",
    "ev_count_by_state = df.groupby('State').size().reset_index(name='EV Count')\n",
    "\n",
    "# Create the choropleth map\n",
    "fig = px.choropleth(ev_count_by_state, locations=\"State\", \n",
    "                    locationmode=\"USA-states\", color=\"EV Count\",\n",
    "                    scope=\"usa\",\n",
    "                    color_continuous_scale=\"Viridis\",\n",
    "                    labels={\"EV Count\": \"Number of EV Vehicles\"})\n",
    "\n",
    "# Show the map\n",
    "fig.show()"
   ]
  },
  {
   "cell_type": "markdown",
   "id": "cebb2f9f",
   "metadata": {},
   "source": [
    "# TASK - 3"
   ]
  },
  {
   "cell_type": "markdown",
   "id": "d19450e7",
   "metadata": {},
   "source": [
    "### Create a Racing Bar Plot to display the animation of EV Make and its count each year. "
   ]
  },
  {
   "cell_type": "code",
   "execution_count": 120,
   "id": "f8241f65",
   "metadata": {
    "scrolled": false
   },
   "outputs": [
    {
     "data": {
      "application/vnd.plotly.v1+json": {
       "config": {
        "plotlyServerURL": "https://plot.ly"
       },
       "data": [
        {
         "alignmentgroup": "True",
         "hovertemplate": "Make=%{y}<br>Model Year=2016<br>Number of EV Vehicles=%{x}<extra></extra>",
         "legendgroup": "AUDI",
         "marker": {
          "color": "#636efa",
          "pattern": {
           "shape": ""
          }
         },
         "name": "AUDI",
         "offsetgroup": "AUDI",
         "orientation": "h",
         "showlegend": true,
         "textfont": {
          "size": 16
         },
         "textposition": "outside",
         "texttemplate": "%{x}",
         "type": "bar",
         "x": [
          214
         ],
         "xaxis": "x",
         "y": [
          "AUDI"
         ],
         "yaxis": "y"
        },
        {
         "alignmentgroup": "True",
         "hovertemplate": "Make=%{y}<br>Model Year=2016<br>Number of EV Vehicles=%{x}<extra></extra>",
         "legendgroup": "BMW",
         "marker": {
          "color": "#ab63fa",
          "pattern": {
           "shape": ""
          }
         },
         "name": "BMW",
         "offsetgroup": "BMW",
         "orientation": "h",
         "showlegend": true,
         "textfont": {
          "size": 16
         },
         "textposition": "outside",
         "texttemplate": "%{x}",
         "type": "bar",
         "x": [
          381
         ],
         "xaxis": "x",
         "y": [
          "BMW"
         ],
         "yaxis": "y"
        },
        {
         "alignmentgroup": "True",
         "hovertemplate": "Make=%{y}<br>Model Year=2016<br>Number of EV Vehicles=%{x}<extra></extra>",
         "legendgroup": "CADILLAC",
         "marker": {
          "color": "#FFA15A",
          "pattern": {
           "shape": ""
          }
         },
         "name": "CADILLAC",
         "offsetgroup": "CADILLAC",
         "orientation": "h",
         "showlegend": true,
         "textfont": {
          "size": 16
         },
         "textposition": "outside",
         "texttemplate": "%{x}",
         "type": "bar",
         "x": [
          18
         ],
         "xaxis": "x",
         "y": [
          "CADILLAC"
         ],
         "yaxis": "y"
        },
        {
         "alignmentgroup": "True",
         "hovertemplate": "Make=%{y}<br>Model Year=2016<br>Number of EV Vehicles=%{x}<extra></extra>",
         "legendgroup": "CHEVROLET",
         "marker": {
          "color": "#19d3f3",
          "pattern": {
           "shape": ""
          }
         },
         "name": "CHEVROLET",
         "offsetgroup": "CHEVROLET",
         "orientation": "h",
         "showlegend": true,
         "textfont": {
          "size": 16
         },
         "textposition": "outside",
         "texttemplate": "%{x}",
         "type": "bar",
         "x": [
          309
         ],
         "xaxis": "x",
         "y": [
          "CHEVROLET"
         ],
         "yaxis": "y"
        },
        {
         "alignmentgroup": "True",
         "hovertemplate": "Make=%{y}<br>Model Year=2016<br>Number of EV Vehicles=%{x}<extra></extra>",
         "legendgroup": "FIAT",
         "marker": {
          "color": "#B6E880",
          "pattern": {
           "shape": ""
          }
         },
         "name": "FIAT",
         "offsetgroup": "FIAT",
         "orientation": "h",
         "showlegend": true,
         "textfont": {
          "size": 16
         },
         "textposition": "outside",
         "texttemplate": "%{x}",
         "type": "bar",
         "x": [
          147
         ],
         "xaxis": "x",
         "y": [
          "FIAT"
         ],
         "yaxis": "y"
        },
        {
         "alignmentgroup": "True",
         "hovertemplate": "Make=%{y}<br>Model Year=2016<br>Number of EV Vehicles=%{x}<extra></extra>",
         "legendgroup": "FORD",
         "marker": {
          "color": "#FECB52",
          "pattern": {
           "shape": ""
          }
         },
         "name": "FORD",
         "offsetgroup": "FORD",
         "orientation": "h",
         "showlegend": true,
         "textfont": {
          "size": 16
         },
         "textposition": "outside",
         "texttemplate": "%{x}",
         "type": "bar",
         "x": [
          774
         ],
         "xaxis": "x",
         "y": [
          "FORD"
         ],
         "yaxis": "y"
        },
        {
         "alignmentgroup": "True",
         "hovertemplate": "Make=%{y}<br>Model Year=2016<br>Number of EV Vehicles=%{x}<extra></extra>",
         "legendgroup": "HYUNDAI",
         "marker": {
          "color": "#00cc96",
          "pattern": {
           "shape": ""
          }
         },
         "name": "HYUNDAI",
         "offsetgroup": "HYUNDAI",
         "orientation": "h",
         "showlegend": true,
         "textfont": {
          "size": 16
         },
         "textposition": "outside",
         "texttemplate": "%{x}",
         "type": "bar",
         "x": [
          44
         ],
         "xaxis": "x",
         "y": [
          "HYUNDAI"
         ],
         "yaxis": "y"
        },
        {
         "alignmentgroup": "True",
         "hovertemplate": "Make=%{y}<br>Model Year=2016<br>Number of EV Vehicles=%{x}<extra></extra>",
         "legendgroup": "KIA",
         "marker": {
          "color": "#19d3f3",
          "pattern": {
           "shape": ""
          }
         },
         "name": "KIA",
         "offsetgroup": "KIA",
         "orientation": "h",
         "showlegend": true,
         "textfont": {
          "size": 16
         },
         "textposition": "outside",
         "texttemplate": "%{x}",
         "type": "bar",
         "x": [
          407
         ],
         "xaxis": "x",
         "y": [
          "KIA"
         ],
         "yaxis": "y"
        },
        {
         "alignmentgroup": "True",
         "hovertemplate": "Make=%{y}<br>Model Year=2016<br>Number of EV Vehicles=%{x}<extra></extra>",
         "legendgroup": "MERCEDES-BENZ",
         "marker": {
          "color": "#636efa",
          "pattern": {
           "shape": ""
          }
         },
         "name": "MERCEDES-BENZ",
         "offsetgroup": "MERCEDES-BENZ",
         "orientation": "h",
         "showlegend": true,
         "textfont": {
          "size": 16
         },
         "textposition": "outside",
         "texttemplate": "%{x}",
         "type": "bar",
         "x": [
          35
         ],
         "xaxis": "x",
         "y": [
          "MERCEDES-BENZ"
         ],
         "yaxis": "y"
        },
        {
         "alignmentgroup": "True",
         "hovertemplate": "Make=%{y}<br>Model Year=2016<br>Number of EV Vehicles=%{x}<extra></extra>",
         "legendgroup": "MITSUBISHI",
         "marker": {
          "color": "#00cc96",
          "pattern": {
           "shape": ""
          }
         },
         "name": "MITSUBISHI",
         "offsetgroup": "MITSUBISHI",
         "orientation": "h",
         "showlegend": true,
         "textfont": {
          "size": 16
         },
         "textposition": "outside",
         "texttemplate": "%{x}",
         "type": "bar",
         "x": [
          12
         ],
         "xaxis": "x",
         "y": [
          "MITSUBISHI"
         ],
         "yaxis": "y"
        },
        {
         "alignmentgroup": "True",
         "hovertemplate": "Make=%{y}<br>Model Year=2016<br>Number of EV Vehicles=%{x}<extra></extra>",
         "legendgroup": "NISSAN",
         "marker": {
          "color": "#ab63fa",
          "pattern": {
           "shape": ""
          }
         },
         "name": "NISSAN",
         "offsetgroup": "NISSAN",
         "orientation": "h",
         "showlegend": true,
         "textfont": {
          "size": 16
         },
         "textposition": "outside",
         "texttemplate": "%{x}",
         "type": "bar",
         "x": [
          1208
         ],
         "xaxis": "x",
         "y": [
          "NISSAN"
         ],
         "yaxis": "y"
        },
        {
         "alignmentgroup": "True",
         "hovertemplate": "Make=%{y}<br>Model Year=2016<br>Number of EV Vehicles=%{x}<extra></extra>",
         "legendgroup": "PORSCHE",
         "marker": {
          "color": "#19d3f3",
          "pattern": {
           "shape": ""
          }
         },
         "name": "PORSCHE",
         "offsetgroup": "PORSCHE",
         "orientation": "h",
         "showlegend": true,
         "textfont": {
          "size": 16
         },
         "textposition": "outside",
         "texttemplate": "%{x}",
         "type": "bar",
         "x": [
          78
         ],
         "xaxis": "x",
         "y": [
          "PORSCHE"
         ],
         "yaxis": "y"
        },
        {
         "alignmentgroup": "True",
         "hovertemplate": "Make=%{y}<br>Model Year=2016<br>Number of EV Vehicles=%{x}<extra></extra>",
         "legendgroup": "SMART",
         "marker": {
          "color": "#B6E880",
          "pattern": {
           "shape": ""
          }
         },
         "name": "SMART",
         "offsetgroup": "SMART",
         "orientation": "h",
         "showlegend": true,
         "textfont": {
          "size": 16
         },
         "textposition": "outside",
         "texttemplate": "%{x}",
         "type": "bar",
         "x": [
          31
         ],
         "xaxis": "x",
         "y": [
          "SMART"
         ],
         "yaxis": "y"
        },
        {
         "alignmentgroup": "True",
         "hovertemplate": "Make=%{y}<br>Model Year=2016<br>Number of EV Vehicles=%{x}<extra></extra>",
         "legendgroup": "TESLA",
         "marker": {
          "color": "#FECB52",
          "pattern": {
           "shape": ""
          }
         },
         "name": "TESLA",
         "offsetgroup": "TESLA",
         "orientation": "h",
         "showlegend": true,
         "textfont": {
          "size": 16
         },
         "textposition": "outside",
         "texttemplate": "%{x}",
         "type": "bar",
         "x": [
          1632
         ],
         "xaxis": "x",
         "y": [
          "TESLA"
         ],
         "yaxis": "y"
        },
        {
         "alignmentgroup": "True",
         "hovertemplate": "Make=%{y}<br>Model Year=2016<br>Number of EV Vehicles=%{x}<extra></extra>",
         "legendgroup": "VOLKSWAGEN",
         "marker": {
          "color": "#00cc96",
          "pattern": {
           "shape": ""
          }
         },
         "name": "VOLKSWAGEN",
         "offsetgroup": "VOLKSWAGEN",
         "orientation": "h",
         "showlegend": true,
         "textfont": {
          "size": 16
         },
         "textposition": "outside",
         "texttemplate": "%{x}",
         "type": "bar",
         "x": [
          319
         ],
         "xaxis": "x",
         "y": [
          "VOLKSWAGEN"
         ],
         "yaxis": "y"
        },
        {
         "alignmentgroup": "True",
         "hovertemplate": "Make=%{y}<br>Model Year=2016<br>Number of EV Vehicles=%{x}<extra></extra>",
         "legendgroup": "VOLVO",
         "marker": {
          "color": "#ab63fa",
          "pattern": {
           "shape": ""
          }
         },
         "name": "VOLVO",
         "offsetgroup": "VOLVO",
         "orientation": "h",
         "showlegend": true,
         "textfont": {
          "size": 16
         },
         "textposition": "outside",
         "texttemplate": "%{x}",
         "type": "bar",
         "x": [
          112
         ],
         "xaxis": "x",
         "y": [
          "VOLVO"
         ],
         "yaxis": "y"
        }
       ],
       "frames": [
        {
         "data": [
          {
           "alignmentgroup": "True",
           "hovertemplate": "Make=%{y}<br>Model Year=2016<br>Number of EV Vehicles=%{x}<extra></extra>",
           "legendgroup": "AUDI",
           "marker": {
            "color": "#636efa",
            "pattern": {
             "shape": ""
            }
           },
           "name": "AUDI",
           "offsetgroup": "AUDI",
           "orientation": "h",
           "showlegend": true,
           "textposition": "auto",
           "type": "bar",
           "x": [
            214
           ],
           "xaxis": "x",
           "y": [
            "AUDI"
           ],
           "yaxis": "y"
          },
          {
           "alignmentgroup": "True",
           "hovertemplate": "Make=%{y}<br>Model Year=2016<br>Number of EV Vehicles=%{x}<extra></extra>",
           "legendgroup": "BMW",
           "marker": {
            "color": "#ab63fa",
            "pattern": {
             "shape": ""
            }
           },
           "name": "BMW",
           "offsetgroup": "BMW",
           "orientation": "h",
           "showlegend": true,
           "textposition": "auto",
           "type": "bar",
           "x": [
            381
           ],
           "xaxis": "x",
           "y": [
            "BMW"
           ],
           "yaxis": "y"
          },
          {
           "alignmentgroup": "True",
           "hovertemplate": "Make=%{y}<br>Model Year=2016<br>Number of EV Vehicles=%{x}<extra></extra>",
           "legendgroup": "CADILLAC",
           "marker": {
            "color": "#FFA15A",
            "pattern": {
             "shape": ""
            }
           },
           "name": "CADILLAC",
           "offsetgroup": "CADILLAC",
           "orientation": "h",
           "showlegend": true,
           "textposition": "auto",
           "type": "bar",
           "x": [
            18
           ],
           "xaxis": "x",
           "y": [
            "CADILLAC"
           ],
           "yaxis": "y"
          },
          {
           "alignmentgroup": "True",
           "hovertemplate": "Make=%{y}<br>Model Year=2016<br>Number of EV Vehicles=%{x}<extra></extra>",
           "legendgroup": "CHEVROLET",
           "marker": {
            "color": "#19d3f3",
            "pattern": {
             "shape": ""
            }
           },
           "name": "CHEVROLET",
           "offsetgroup": "CHEVROLET",
           "orientation": "h",
           "showlegend": true,
           "textposition": "auto",
           "type": "bar",
           "x": [
            309
           ],
           "xaxis": "x",
           "y": [
            "CHEVROLET"
           ],
           "yaxis": "y"
          },
          {
           "alignmentgroup": "True",
           "hovertemplate": "Make=%{y}<br>Model Year=2016<br>Number of EV Vehicles=%{x}<extra></extra>",
           "legendgroup": "FIAT",
           "marker": {
            "color": "#B6E880",
            "pattern": {
             "shape": ""
            }
           },
           "name": "FIAT",
           "offsetgroup": "FIAT",
           "orientation": "h",
           "showlegend": true,
           "textposition": "auto",
           "type": "bar",
           "x": [
            147
           ],
           "xaxis": "x",
           "y": [
            "FIAT"
           ],
           "yaxis": "y"
          },
          {
           "alignmentgroup": "True",
           "hovertemplate": "Make=%{y}<br>Model Year=2016<br>Number of EV Vehicles=%{x}<extra></extra>",
           "legendgroup": "FORD",
           "marker": {
            "color": "#FECB52",
            "pattern": {
             "shape": ""
            }
           },
           "name": "FORD",
           "offsetgroup": "FORD",
           "orientation": "h",
           "showlegend": true,
           "textposition": "auto",
           "type": "bar",
           "x": [
            774
           ],
           "xaxis": "x",
           "y": [
            "FORD"
           ],
           "yaxis": "y"
          },
          {
           "alignmentgroup": "True",
           "hovertemplate": "Make=%{y}<br>Model Year=2016<br>Number of EV Vehicles=%{x}<extra></extra>",
           "legendgroup": "HYUNDAI",
           "marker": {
            "color": "#00cc96",
            "pattern": {
             "shape": ""
            }
           },
           "name": "HYUNDAI",
           "offsetgroup": "HYUNDAI",
           "orientation": "h",
           "showlegend": true,
           "textposition": "auto",
           "type": "bar",
           "x": [
            44
           ],
           "xaxis": "x",
           "y": [
            "HYUNDAI"
           ],
           "yaxis": "y"
          },
          {
           "alignmentgroup": "True",
           "hovertemplate": "Make=%{y}<br>Model Year=2016<br>Number of EV Vehicles=%{x}<extra></extra>",
           "legendgroup": "KIA",
           "marker": {
            "color": "#19d3f3",
            "pattern": {
             "shape": ""
            }
           },
           "name": "KIA",
           "offsetgroup": "KIA",
           "orientation": "h",
           "showlegend": true,
           "textposition": "auto",
           "type": "bar",
           "x": [
            407
           ],
           "xaxis": "x",
           "y": [
            "KIA"
           ],
           "yaxis": "y"
          },
          {
           "alignmentgroup": "True",
           "hovertemplate": "Make=%{y}<br>Model Year=2016<br>Number of EV Vehicles=%{x}<extra></extra>",
           "legendgroup": "MERCEDES-BENZ",
           "marker": {
            "color": "#636efa",
            "pattern": {
             "shape": ""
            }
           },
           "name": "MERCEDES-BENZ",
           "offsetgroup": "MERCEDES-BENZ",
           "orientation": "h",
           "showlegend": true,
           "textposition": "auto",
           "type": "bar",
           "x": [
            35
           ],
           "xaxis": "x",
           "y": [
            "MERCEDES-BENZ"
           ],
           "yaxis": "y"
          },
          {
           "alignmentgroup": "True",
           "hovertemplate": "Make=%{y}<br>Model Year=2016<br>Number of EV Vehicles=%{x}<extra></extra>",
           "legendgroup": "MITSUBISHI",
           "marker": {
            "color": "#00cc96",
            "pattern": {
             "shape": ""
            }
           },
           "name": "MITSUBISHI",
           "offsetgroup": "MITSUBISHI",
           "orientation": "h",
           "showlegend": true,
           "textposition": "auto",
           "type": "bar",
           "x": [
            12
           ],
           "xaxis": "x",
           "y": [
            "MITSUBISHI"
           ],
           "yaxis": "y"
          },
          {
           "alignmentgroup": "True",
           "hovertemplate": "Make=%{y}<br>Model Year=2016<br>Number of EV Vehicles=%{x}<extra></extra>",
           "legendgroup": "NISSAN",
           "marker": {
            "color": "#ab63fa",
            "pattern": {
             "shape": ""
            }
           },
           "name": "NISSAN",
           "offsetgroup": "NISSAN",
           "orientation": "h",
           "showlegend": true,
           "textposition": "auto",
           "type": "bar",
           "x": [
            1208
           ],
           "xaxis": "x",
           "y": [
            "NISSAN"
           ],
           "yaxis": "y"
          },
          {
           "alignmentgroup": "True",
           "hovertemplate": "Make=%{y}<br>Model Year=2016<br>Number of EV Vehicles=%{x}<extra></extra>",
           "legendgroup": "PORSCHE",
           "marker": {
            "color": "#19d3f3",
            "pattern": {
             "shape": ""
            }
           },
           "name": "PORSCHE",
           "offsetgroup": "PORSCHE",
           "orientation": "h",
           "showlegend": true,
           "textposition": "auto",
           "type": "bar",
           "x": [
            78
           ],
           "xaxis": "x",
           "y": [
            "PORSCHE"
           ],
           "yaxis": "y"
          },
          {
           "alignmentgroup": "True",
           "hovertemplate": "Make=%{y}<br>Model Year=2016<br>Number of EV Vehicles=%{x}<extra></extra>",
           "legendgroup": "SMART",
           "marker": {
            "color": "#B6E880",
            "pattern": {
             "shape": ""
            }
           },
           "name": "SMART",
           "offsetgroup": "SMART",
           "orientation": "h",
           "showlegend": true,
           "textposition": "auto",
           "type": "bar",
           "x": [
            31
           ],
           "xaxis": "x",
           "y": [
            "SMART"
           ],
           "yaxis": "y"
          },
          {
           "alignmentgroup": "True",
           "hovertemplate": "Make=%{y}<br>Model Year=2016<br>Number of EV Vehicles=%{x}<extra></extra>",
           "legendgroup": "TESLA",
           "marker": {
            "color": "#FECB52",
            "pattern": {
             "shape": ""
            }
           },
           "name": "TESLA",
           "offsetgroup": "TESLA",
           "orientation": "h",
           "showlegend": true,
           "textposition": "auto",
           "type": "bar",
           "x": [
            1632
           ],
           "xaxis": "x",
           "y": [
            "TESLA"
           ],
           "yaxis": "y"
          },
          {
           "alignmentgroup": "True",
           "hovertemplate": "Make=%{y}<br>Model Year=2016<br>Number of EV Vehicles=%{x}<extra></extra>",
           "legendgroup": "VOLKSWAGEN",
           "marker": {
            "color": "#00cc96",
            "pattern": {
             "shape": ""
            }
           },
           "name": "VOLKSWAGEN",
           "offsetgroup": "VOLKSWAGEN",
           "orientation": "h",
           "showlegend": true,
           "textposition": "auto",
           "type": "bar",
           "x": [
            319
           ],
           "xaxis": "x",
           "y": [
            "VOLKSWAGEN"
           ],
           "yaxis": "y"
          },
          {
           "alignmentgroup": "True",
           "hovertemplate": "Make=%{y}<br>Model Year=2016<br>Number of EV Vehicles=%{x}<extra></extra>",
           "legendgroup": "VOLVO",
           "marker": {
            "color": "#ab63fa",
            "pattern": {
             "shape": ""
            }
           },
           "name": "VOLVO",
           "offsetgroup": "VOLVO",
           "orientation": "h",
           "showlegend": true,
           "textposition": "auto",
           "type": "bar",
           "x": [
            112
           ],
           "xaxis": "x",
           "y": [
            "VOLVO"
           ],
           "yaxis": "y"
          }
         ],
         "name": "2016"
        },
        {
         "data": [
          {
           "alignmentgroup": "True",
           "hovertemplate": "Make=%{y}<br>Model Year=2017<br>Number of EV Vehicles=%{x}<extra></extra>",
           "legendgroup": "AUDI",
           "marker": {
            "color": "#636efa",
            "pattern": {
             "shape": ""
            }
           },
           "name": "AUDI",
           "offsetgroup": "AUDI",
           "orientation": "h",
           "showlegend": true,
           "textposition": "auto",
           "type": "bar",
           "x": [
            185
           ],
           "xaxis": "x",
           "y": [
            "AUDI"
           ],
           "yaxis": "y"
          },
          {
           "alignmentgroup": "True",
           "hovertemplate": "Make=%{y}<br>Model Year=2017<br>Number of EV Vehicles=%{x}<extra></extra>",
           "legendgroup": "BMW",
           "marker": {
            "color": "#ab63fa",
            "pattern": {
             "shape": ""
            }
           },
           "name": "BMW",
           "offsetgroup": "BMW",
           "orientation": "h",
           "showlegend": true,
           "textposition": "auto",
           "type": "bar",
           "x": [
            686
           ],
           "xaxis": "x",
           "y": [
            "BMW"
           ],
           "yaxis": "y"
          },
          {
           "alignmentgroup": "True",
           "hovertemplate": "Make=%{y}<br>Model Year=2017<br>Number of EV Vehicles=%{x}<extra></extra>",
           "legendgroup": "CADILLAC",
           "marker": {
            "color": "#FFA15A",
            "pattern": {
             "shape": ""
            }
           },
           "name": "CADILLAC",
           "offsetgroup": "CADILLAC",
           "orientation": "h",
           "showlegend": true,
           "textposition": "auto",
           "type": "bar",
           "x": [
            15
           ],
           "xaxis": "x",
           "y": [
            "CADILLAC"
           ],
           "yaxis": "y"
          },
          {
           "alignmentgroup": "True",
           "hovertemplate": "Make=%{y}<br>Model Year=2017<br>Number of EV Vehicles=%{x}<extra></extra>",
           "legendgroup": "CHEVROLET",
           "marker": {
            "color": "#19d3f3",
            "pattern": {
             "shape": ""
            }
           },
           "name": "CHEVROLET",
           "offsetgroup": "CHEVROLET",
           "orientation": "h",
           "showlegend": true,
           "textposition": "auto",
           "type": "bar",
           "x": [
            2741
           ],
           "xaxis": "x",
           "y": [
            "CHEVROLET"
           ],
           "yaxis": "y"
          },
          {
           "alignmentgroup": "True",
           "hovertemplate": "Make=%{y}<br>Model Year=2017<br>Number of EV Vehicles=%{x}<extra></extra>",
           "legendgroup": "CHRYSLER",
           "marker": {
            "color": "#FF6692",
            "pattern": {
             "shape": ""
            }
           },
           "name": "CHRYSLER",
           "offsetgroup": "CHRYSLER",
           "orientation": "h",
           "showlegend": true,
           "textposition": "auto",
           "type": "bar",
           "x": [
            94
           ],
           "xaxis": "x",
           "y": [
            "CHRYSLER"
           ],
           "yaxis": "y"
          },
          {
           "alignmentgroup": "True",
           "hovertemplate": "Make=%{y}<br>Model Year=2017<br>Number of EV Vehicles=%{x}<extra></extra>",
           "legendgroup": "FIAT",
           "marker": {
            "color": "#B6E880",
            "pattern": {
             "shape": ""
            }
           },
           "name": "FIAT",
           "offsetgroup": "FIAT",
           "orientation": "h",
           "showlegend": true,
           "textposition": "auto",
           "type": "bar",
           "x": [
            167
           ],
           "xaxis": "x",
           "y": [
            "FIAT"
           ],
           "yaxis": "y"
          },
          {
           "alignmentgroup": "True",
           "hovertemplate": "Make=%{y}<br>Model Year=2017<br>Number of EV Vehicles=%{x}<extra></extra>",
           "legendgroup": "FORD",
           "marker": {
            "color": "#FECB52",
            "pattern": {
             "shape": ""
            }
           },
           "name": "FORD",
           "offsetgroup": "FORD",
           "orientation": "h",
           "showlegend": true,
           "textposition": "auto",
           "type": "bar",
           "x": [
            657
           ],
           "xaxis": "x",
           "y": [
            "FORD"
           ],
           "yaxis": "y"
          },
          {
           "alignmentgroup": "True",
           "hovertemplate": "Make=%{y}<br>Model Year=2017<br>Number of EV Vehicles=%{x}<extra></extra>",
           "legendgroup": "HYUNDAI",
           "marker": {
            "color": "#00cc96",
            "pattern": {
             "shape": ""
            }
           },
           "name": "HYUNDAI",
           "offsetgroup": "HYUNDAI",
           "orientation": "h",
           "showlegend": true,
           "textposition": "auto",
           "type": "bar",
           "x": [
            46
           ],
           "xaxis": "x",
           "y": [
            "HYUNDAI"
           ],
           "yaxis": "y"
          },
          {
           "alignmentgroup": "True",
           "hovertemplate": "Make=%{y}<br>Model Year=2017<br>Number of EV Vehicles=%{x}<extra></extra>",
           "legendgroup": "KIA",
           "marker": {
            "color": "#19d3f3",
            "pattern": {
             "shape": ""
            }
           },
           "name": "KIA",
           "offsetgroup": "KIA",
           "orientation": "h",
           "showlegend": true,
           "textposition": "auto",
           "type": "bar",
           "x": [
            210
           ],
           "xaxis": "x",
           "y": [
            "KIA"
           ],
           "yaxis": "y"
          },
          {
           "alignmentgroup": "True",
           "hovertemplate": "Make=%{y}<br>Model Year=2017<br>Number of EV Vehicles=%{x}<extra></extra>",
           "legendgroup": "MERCEDES-BENZ",
           "marker": {
            "color": "#636efa",
            "pattern": {
             "shape": ""
            }
           },
           "name": "MERCEDES-BENZ",
           "offsetgroup": "MERCEDES-BENZ",
           "orientation": "h",
           "showlegend": true,
           "textposition": "auto",
           "type": "bar",
           "x": [
            45
           ],
           "xaxis": "x",
           "y": [
            "MERCEDES-BENZ"
           ],
           "yaxis": "y"
          },
          {
           "alignmentgroup": "True",
           "hovertemplate": "Make=%{y}<br>Model Year=2017<br>Number of EV Vehicles=%{x}<extra></extra>",
           "legendgroup": "MITSUBISHI",
           "marker": {
            "color": "#00cc96",
            "pattern": {
             "shape": ""
            }
           },
           "name": "MITSUBISHI",
           "offsetgroup": "MITSUBISHI",
           "orientation": "h",
           "showlegend": true,
           "textposition": "auto",
           "type": "bar",
           "x": [
            1
           ],
           "xaxis": "x",
           "y": [
            "MITSUBISHI"
           ],
           "yaxis": "y"
          },
          {
           "alignmentgroup": "True",
           "hovertemplate": "Make=%{y}<br>Model Year=2017<br>Number of EV Vehicles=%{x}<extra></extra>",
           "legendgroup": "NISSAN",
           "marker": {
            "color": "#ab63fa",
            "pattern": {
             "shape": ""
            }
           },
           "name": "NISSAN",
           "offsetgroup": "NISSAN",
           "orientation": "h",
           "showlegend": true,
           "textposition": "auto",
           "type": "bar",
           "x": [
            933
           ],
           "xaxis": "x",
           "y": [
            "NISSAN"
           ],
           "yaxis": "y"
          },
          {
           "alignmentgroup": "True",
           "hovertemplate": "Make=%{y}<br>Model Year=2017<br>Number of EV Vehicles=%{x}<extra></extra>",
           "legendgroup": "PORSCHE",
           "marker": {
            "color": "#19d3f3",
            "pattern": {
             "shape": ""
            }
           },
           "name": "PORSCHE",
           "offsetgroup": "PORSCHE",
           "orientation": "h",
           "showlegend": true,
           "textposition": "auto",
           "type": "bar",
           "x": [
            71
           ],
           "xaxis": "x",
           "y": [
            "PORSCHE"
           ],
           "yaxis": "y"
          },
          {
           "alignmentgroup": "True",
           "hovertemplate": "Make=%{y}<br>Model Year=2017<br>Number of EV Vehicles=%{x}<extra></extra>",
           "legendgroup": "SMART",
           "marker": {
            "color": "#B6E880",
            "pattern": {
             "shape": ""
            }
           },
           "name": "SMART",
           "offsetgroup": "SMART",
           "orientation": "h",
           "showlegend": true,
           "textposition": "auto",
           "type": "bar",
           "x": [
            34
           ],
           "xaxis": "x",
           "y": [
            "SMART"
           ],
           "yaxis": "y"
          },
          {
           "alignmentgroup": "True",
           "hovertemplate": "Make=%{y}<br>Model Year=2017<br>Number of EV Vehicles=%{x}<extra></extra>",
           "legendgroup": "TESLA",
           "marker": {
            "color": "#FECB52",
            "pattern": {
             "shape": ""
            }
           },
           "name": "TESLA",
           "offsetgroup": "TESLA",
           "orientation": "h",
           "showlegend": true,
           "textposition": "auto",
           "type": "bar",
           "x": [
            1673
           ],
           "xaxis": "x",
           "y": [
            "TESLA"
           ],
           "yaxis": "y"
          },
          {
           "alignmentgroup": "True",
           "hovertemplate": "Make=%{y}<br>Model Year=2017<br>Number of EV Vehicles=%{x}<extra></extra>",
           "legendgroup": "TOYOTA",
           "marker": {
            "color": "#EF553B",
            "pattern": {
             "shape": ""
            }
           },
           "name": "TOYOTA",
           "offsetgroup": "TOYOTA",
           "orientation": "h",
           "showlegend": true,
           "textposition": "auto",
           "type": "bar",
           "x": [
            895
           ],
           "xaxis": "x",
           "y": [
            "TOYOTA"
           ],
           "yaxis": "y"
          },
          {
           "alignmentgroup": "True",
           "hovertemplate": "Make=%{y}<br>Model Year=2017<br>Number of EV Vehicles=%{x}<extra></extra>",
           "legendgroup": "VOLKSWAGEN",
           "marker": {
            "color": "#00cc96",
            "pattern": {
             "shape": ""
            }
           },
           "name": "VOLKSWAGEN",
           "offsetgroup": "VOLKSWAGEN",
           "orientation": "h",
           "showlegend": true,
           "textposition": "auto",
           "type": "bar",
           "x": [
            52
           ],
           "xaxis": "x",
           "y": [
            "VOLKSWAGEN"
           ],
           "yaxis": "y"
          },
          {
           "alignmentgroup": "True",
           "hovertemplate": "Make=%{y}<br>Model Year=2017<br>Number of EV Vehicles=%{x}<extra></extra>",
           "legendgroup": "VOLVO",
           "marker": {
            "color": "#ab63fa",
            "pattern": {
             "shape": ""
            }
           },
           "name": "VOLVO",
           "offsetgroup": "VOLVO",
           "orientation": "h",
           "showlegend": true,
           "textposition": "auto",
           "type": "bar",
           "x": [
            115
           ],
           "xaxis": "x",
           "y": [
            "VOLVO"
           ],
           "yaxis": "y"
          }
         ],
         "name": "2017"
        },
        {
         "data": [
          {
           "alignmentgroup": "True",
           "hovertemplate": "Make=%{y}<br>Model Year=2018<br>Number of EV Vehicles=%{x}<extra></extra>",
           "legendgroup": "AUDI",
           "marker": {
            "color": "#636efa",
            "pattern": {
             "shape": ""
            }
           },
           "name": "AUDI",
           "offsetgroup": "AUDI",
           "orientation": "h",
           "showlegend": true,
           "textposition": "auto",
           "type": "bar",
           "x": [
            174
           ],
           "xaxis": "x",
           "y": [
            "AUDI"
           ],
           "yaxis": "y"
          },
          {
           "alignmentgroup": "True",
           "hovertemplate": "Make=%{y}<br>Model Year=2018<br>Number of EV Vehicles=%{x}<extra></extra>",
           "legendgroup": "BMW",
           "marker": {
            "color": "#ab63fa",
            "pattern": {
             "shape": ""
            }
           },
           "name": "BMW",
           "offsetgroup": "BMW",
           "orientation": "h",
           "showlegend": true,
           "textposition": "auto",
           "type": "bar",
           "x": [
            709
           ],
           "xaxis": "x",
           "y": [
            "BMW"
           ],
           "yaxis": "y"
          },
          {
           "alignmentgroup": "True",
           "hovertemplate": "Make=%{y}<br>Model Year=2018<br>Number of EV Vehicles=%{x}<extra></extra>",
           "legendgroup": "CADILLAC",
           "marker": {
            "color": "#FFA15A",
            "pattern": {
             "shape": ""
            }
           },
           "name": "CADILLAC",
           "offsetgroup": "CADILLAC",
           "orientation": "h",
           "showlegend": true,
           "textposition": "auto",
           "type": "bar",
           "x": [
            17
           ],
           "xaxis": "x",
           "y": [
            "CADILLAC"
           ],
           "yaxis": "y"
          },
          {
           "alignmentgroup": "True",
           "hovertemplate": "Make=%{y}<br>Model Year=2018<br>Number of EV Vehicles=%{x}<extra></extra>",
           "legendgroup": "CHEVROLET",
           "marker": {
            "color": "#19d3f3",
            "pattern": {
             "shape": ""
            }
           },
           "name": "CHEVROLET",
           "offsetgroup": "CHEVROLET",
           "orientation": "h",
           "showlegend": true,
           "textposition": "auto",
           "type": "bar",
           "x": [
            1122
           ],
           "xaxis": "x",
           "y": [
            "CHEVROLET"
           ],
           "yaxis": "y"
          },
          {
           "alignmentgroup": "True",
           "hovertemplate": "Make=%{y}<br>Model Year=2018<br>Number of EV Vehicles=%{x}<extra></extra>",
           "legendgroup": "CHRYSLER",
           "marker": {
            "color": "#FF6692",
            "pattern": {
             "shape": ""
            }
           },
           "name": "CHRYSLER",
           "offsetgroup": "CHRYSLER",
           "orientation": "h",
           "showlegend": true,
           "textposition": "auto",
           "type": "bar",
           "x": [
            548
           ],
           "xaxis": "x",
           "y": [
            "CHRYSLER"
           ],
           "yaxis": "y"
          },
          {
           "alignmentgroup": "True",
           "hovertemplate": "Make=%{y}<br>Model Year=2018<br>Number of EV Vehicles=%{x}<extra></extra>",
           "legendgroup": "FIAT",
           "marker": {
            "color": "#B6E880",
            "pattern": {
             "shape": ""
            }
           },
           "name": "FIAT",
           "offsetgroup": "FIAT",
           "orientation": "h",
           "showlegend": true,
           "textposition": "auto",
           "type": "bar",
           "x": [
            53
           ],
           "xaxis": "x",
           "y": [
            "FIAT"
           ],
           "yaxis": "y"
          },
          {
           "alignmentgroup": "True",
           "hovertemplate": "Make=%{y}<br>Model Year=2018<br>Number of EV Vehicles=%{x}<extra></extra>",
           "legendgroup": "FORD",
           "marker": {
            "color": "#FECB52",
            "pattern": {
             "shape": ""
            }
           },
           "name": "FORD",
           "offsetgroup": "FORD",
           "orientation": "h",
           "showlegend": true,
           "textposition": "auto",
           "type": "bar",
           "x": [
            170
           ],
           "xaxis": "x",
           "y": [
            "FORD"
           ],
           "yaxis": "y"
          },
          {
           "alignmentgroup": "True",
           "hovertemplate": "Make=%{y}<br>Model Year=2018<br>Number of EV Vehicles=%{x}<extra></extra>",
           "legendgroup": "HONDA",
           "marker": {
            "color": "#EF553B",
            "pattern": {
             "shape": ""
            }
           },
           "name": "HONDA",
           "offsetgroup": "HONDA",
           "orientation": "h",
           "showlegend": true,
           "textposition": "auto",
           "type": "bar",
           "x": [
            612
           ],
           "xaxis": "x",
           "y": [
            "HONDA"
           ],
           "yaxis": "y"
          },
          {
           "alignmentgroup": "True",
           "hovertemplate": "Make=%{y}<br>Model Year=2018<br>Number of EV Vehicles=%{x}<extra></extra>",
           "legendgroup": "HYUNDAI",
           "marker": {
            "color": "#00cc96",
            "pattern": {
             "shape": ""
            }
           },
           "name": "HYUNDAI",
           "offsetgroup": "HYUNDAI",
           "orientation": "h",
           "showlegend": true,
           "textposition": "auto",
           "type": "bar",
           "x": [
            20
           ],
           "xaxis": "x",
           "y": [
            "HYUNDAI"
           ],
           "yaxis": "y"
          },
          {
           "alignmentgroup": "True",
           "hovertemplate": "Make=%{y}<br>Model Year=2018<br>Number of EV Vehicles=%{x}<extra></extra>",
           "legendgroup": "KIA",
           "marker": {
            "color": "#19d3f3",
            "pattern": {
             "shape": ""
            }
           },
           "name": "KIA",
           "offsetgroup": "KIA",
           "orientation": "h",
           "showlegend": true,
           "textposition": "auto",
           "type": "bar",
           "x": [
            322
           ],
           "xaxis": "x",
           "y": [
            "KIA"
           ],
           "yaxis": "y"
          },
          {
           "alignmentgroup": "True",
           "hovertemplate": "Make=%{y}<br>Model Year=2018<br>Number of EV Vehicles=%{x}<extra></extra>",
           "legendgroup": "MERCEDES-BENZ",
           "marker": {
            "color": "#636efa",
            "pattern": {
             "shape": ""
            }
           },
           "name": "MERCEDES-BENZ",
           "offsetgroup": "MERCEDES-BENZ",
           "orientation": "h",
           "showlegend": true,
           "textposition": "auto",
           "type": "bar",
           "x": [
            53
           ],
           "xaxis": "x",
           "y": [
            "MERCEDES-BENZ"
           ],
           "yaxis": "y"
          },
          {
           "alignmentgroup": "True",
           "hovertemplate": "Make=%{y}<br>Model Year=2018<br>Number of EV Vehicles=%{x}<extra></extra>",
           "legendgroup": "MINI",
           "marker": {
            "color": "#EF553B",
            "pattern": {
             "shape": ""
            }
           },
           "name": "MINI",
           "offsetgroup": "MINI",
           "orientation": "h",
           "showlegend": true,
           "textposition": "auto",
           "type": "bar",
           "x": [
            50
           ],
           "xaxis": "x",
           "y": [
            "MINI"
           ],
           "yaxis": "y"
          },
          {
           "alignmentgroup": "True",
           "hovertemplate": "Make=%{y}<br>Model Year=2018<br>Number of EV Vehicles=%{x}<extra></extra>",
           "legendgroup": "MITSUBISHI",
           "marker": {
            "color": "#00cc96",
            "pattern": {
             "shape": ""
            }
           },
           "name": "MITSUBISHI",
           "offsetgroup": "MITSUBISHI",
           "orientation": "h",
           "showlegend": true,
           "textposition": "auto",
           "type": "bar",
           "x": [
            181
           ],
           "xaxis": "x",
           "y": [
            "MITSUBISHI"
           ],
           "yaxis": "y"
          },
          {
           "alignmentgroup": "True",
           "hovertemplate": "Make=%{y}<br>Model Year=2018<br>Number of EV Vehicles=%{x}<extra></extra>",
           "legendgroup": "NISSAN",
           "marker": {
            "color": "#ab63fa",
            "pattern": {
             "shape": ""
            }
           },
           "name": "NISSAN",
           "offsetgroup": "NISSAN",
           "orientation": "h",
           "showlegend": true,
           "textposition": "auto",
           "type": "bar",
           "x": [
            1230
           ],
           "xaxis": "x",
           "y": [
            "NISSAN"
           ],
           "yaxis": "y"
          },
          {
           "alignmentgroup": "True",
           "hovertemplate": "Make=%{y}<br>Model Year=2018<br>Number of EV Vehicles=%{x}<extra></extra>",
           "legendgroup": "PORSCHE",
           "marker": {
            "color": "#19d3f3",
            "pattern": {
             "shape": ""
            }
           },
           "name": "PORSCHE",
           "offsetgroup": "PORSCHE",
           "orientation": "h",
           "showlegend": true,
           "textposition": "auto",
           "type": "bar",
           "x": [
            77
           ],
           "xaxis": "x",
           "y": [
            "PORSCHE"
           ],
           "yaxis": "y"
          },
          {
           "alignmentgroup": "True",
           "hovertemplate": "Make=%{y}<br>Model Year=2018<br>Number of EV Vehicles=%{x}<extra></extra>",
           "legendgroup": "SMART",
           "marker": {
            "color": "#B6E880",
            "pattern": {
             "shape": ""
            }
           },
           "name": "SMART",
           "offsetgroup": "SMART",
           "orientation": "h",
           "showlegend": true,
           "textposition": "auto",
           "type": "bar",
           "x": [
            47
           ],
           "xaxis": "x",
           "y": [
            "SMART"
           ],
           "yaxis": "y"
          },
          {
           "alignmentgroup": "True",
           "hovertemplate": "Make=%{y}<br>Model Year=2018<br>Number of EV Vehicles=%{x}<extra></extra>",
           "legendgroup": "TESLA",
           "marker": {
            "color": "#FECB52",
            "pattern": {
             "shape": ""
            }
           },
           "name": "TESLA",
           "offsetgroup": "TESLA",
           "orientation": "h",
           "showlegend": true,
           "textposition": "auto",
           "type": "bar",
           "x": [
            7900
           ],
           "xaxis": "x",
           "y": [
            "TESLA"
           ],
           "yaxis": "y"
          },
          {
           "alignmentgroup": "True",
           "hovertemplate": "Make=%{y}<br>Model Year=2018<br>Number of EV Vehicles=%{x}<extra></extra>",
           "legendgroup": "TOYOTA",
           "marker": {
            "color": "#EF553B",
            "pattern": {
             "shape": ""
            }
           },
           "name": "TOYOTA",
           "offsetgroup": "TOYOTA",
           "orientation": "h",
           "showlegend": true,
           "textposition": "auto",
           "type": "bar",
           "x": [
            659
           ],
           "xaxis": "x",
           "y": [
            "TOYOTA"
           ],
           "yaxis": "y"
          },
          {
           "alignmentgroup": "True",
           "hovertemplate": "Make=%{y}<br>Model Year=2018<br>Number of EV Vehicles=%{x}<extra></extra>",
           "legendgroup": "VOLKSWAGEN",
           "marker": {
            "color": "#00cc96",
            "pattern": {
             "shape": ""
            }
           },
           "name": "VOLKSWAGEN",
           "offsetgroup": "VOLKSWAGEN",
           "orientation": "h",
           "showlegend": true,
           "textposition": "auto",
           "type": "bar",
           "x": [
            39
           ],
           "xaxis": "x",
           "y": [
            "VOLKSWAGEN"
           ],
           "yaxis": "y"
          },
          {
           "alignmentgroup": "True",
           "hovertemplate": "Make=%{y}<br>Model Year=2018<br>Number of EV Vehicles=%{x}<extra></extra>",
           "legendgroup": "VOLVO",
           "marker": {
            "color": "#ab63fa",
            "pattern": {
             "shape": ""
            }
           },
           "name": "VOLVO",
           "offsetgroup": "VOLVO",
           "orientation": "h",
           "showlegend": true,
           "textposition": "auto",
           "type": "bar",
           "x": [
            226
           ],
           "xaxis": "x",
           "y": [
            "VOLVO"
           ],
           "yaxis": "y"
          }
         ],
         "name": "2018"
        },
        {
         "data": [
          {
           "alignmentgroup": "True",
           "hovertemplate": "Make=%{y}<br>Model Year=2019<br>Number of EV Vehicles=%{x}<extra></extra>",
           "legendgroup": "AUDI",
           "marker": {
            "color": "#636efa",
            "pattern": {
             "shape": ""
            }
           },
           "name": "AUDI",
           "offsetgroup": "AUDI",
           "orientation": "h",
           "showlegend": true,
           "textposition": "auto",
           "type": "bar",
           "x": [
            391
           ],
           "xaxis": "x",
           "y": [
            "AUDI"
           ],
           "yaxis": "y"
          },
          {
           "alignmentgroup": "True",
           "hovertemplate": "Make=%{y}<br>Model Year=2019<br>Number of EV Vehicles=%{x}<extra></extra>",
           "legendgroup": "BMW",
           "marker": {
            "color": "#ab63fa",
            "pattern": {
             "shape": ""
            }
           },
           "name": "BMW",
           "offsetgroup": "BMW",
           "orientation": "h",
           "showlegend": true,
           "textposition": "auto",
           "type": "bar",
           "x": [
            279
           ],
           "xaxis": "x",
           "y": [
            "BMW"
           ],
           "yaxis": "y"
          },
          {
           "alignmentgroup": "True",
           "hovertemplate": "Make=%{y}<br>Model Year=2019<br>Number of EV Vehicles=%{x}<extra></extra>",
           "legendgroup": "CHEVROLET",
           "marker": {
            "color": "#19d3f3",
            "pattern": {
             "shape": ""
            }
           },
           "name": "CHEVROLET",
           "offsetgroup": "CHEVROLET",
           "orientation": "h",
           "showlegend": true,
           "textposition": "auto",
           "type": "bar",
           "x": [
            966
           ],
           "xaxis": "x",
           "y": [
            "CHEVROLET"
           ],
           "yaxis": "y"
          },
          {
           "alignmentgroup": "True",
           "hovertemplate": "Make=%{y}<br>Model Year=2019<br>Number of EV Vehicles=%{x}<extra></extra>",
           "legendgroup": "CHRYSLER",
           "marker": {
            "color": "#FF6692",
            "pattern": {
             "shape": ""
            }
           },
           "name": "CHRYSLER",
           "offsetgroup": "CHRYSLER",
           "orientation": "h",
           "showlegend": true,
           "textposition": "auto",
           "type": "bar",
           "x": [
            118
           ],
           "xaxis": "x",
           "y": [
            "CHRYSLER"
           ],
           "yaxis": "y"
          },
          {
           "alignmentgroup": "True",
           "hovertemplate": "Make=%{y}<br>Model Year=2019<br>Number of EV Vehicles=%{x}<extra></extra>",
           "legendgroup": "FIAT",
           "marker": {
            "color": "#B6E880",
            "pattern": {
             "shape": ""
            }
           },
           "name": "FIAT",
           "offsetgroup": "FIAT",
           "orientation": "h",
           "showlegend": true,
           "textposition": "auto",
           "type": "bar",
           "x": [
            9
           ],
           "xaxis": "x",
           "y": [
            "FIAT"
           ],
           "yaxis": "y"
          },
          {
           "alignmentgroup": "True",
           "hovertemplate": "Make=%{y}<br>Model Year=2019<br>Number of EV Vehicles=%{x}<extra></extra>",
           "legendgroup": "FORD",
           "marker": {
            "color": "#FECB52",
            "pattern": {
             "shape": ""
            }
           },
           "name": "FORD",
           "offsetgroup": "FORD",
           "orientation": "h",
           "showlegend": true,
           "textposition": "auto",
           "type": "bar",
           "x": [
            135
           ],
           "xaxis": "x",
           "y": [
            "FORD"
           ],
           "yaxis": "y"
          },
          {
           "alignmentgroup": "True",
           "hovertemplate": "Make=%{y}<br>Model Year=2019<br>Number of EV Vehicles=%{x}<extra></extra>",
           "legendgroup": "HONDA",
           "marker": {
            "color": "#EF553B",
            "pattern": {
             "shape": ""
            }
           },
           "name": "HONDA",
           "offsetgroup": "HONDA",
           "orientation": "h",
           "showlegend": true,
           "textposition": "auto",
           "type": "bar",
           "x": [
            73
           ],
           "xaxis": "x",
           "y": [
            "HONDA"
           ],
           "yaxis": "y"
          },
          {
           "alignmentgroup": "True",
           "hovertemplate": "Make=%{y}<br>Model Year=2019<br>Number of EV Vehicles=%{x}<extra></extra>",
           "legendgroup": "HYUNDAI",
           "marker": {
            "color": "#00cc96",
            "pattern": {
             "shape": ""
            }
           },
           "name": "HYUNDAI",
           "offsetgroup": "HYUNDAI",
           "orientation": "h",
           "showlegend": true,
           "textposition": "auto",
           "type": "bar",
           "x": [
            115
           ],
           "xaxis": "x",
           "y": [
            "HYUNDAI"
           ],
           "yaxis": "y"
          },
          {
           "alignmentgroup": "True",
           "hovertemplate": "Make=%{y}<br>Model Year=2019<br>Number of EV Vehicles=%{x}<extra></extra>",
           "legendgroup": "JAGUAR",
           "marker": {
            "color": "#ab63fa",
            "pattern": {
             "shape": ""
            }
           },
           "name": "JAGUAR",
           "offsetgroup": "JAGUAR",
           "orientation": "h",
           "showlegend": true,
           "textposition": "auto",
           "type": "bar",
           "x": [
            119
           ],
           "xaxis": "x",
           "y": [
            "JAGUAR"
           ],
           "yaxis": "y"
          },
          {
           "alignmentgroup": "True",
           "hovertemplate": "Make=%{y}<br>Model Year=2019<br>Number of EV Vehicles=%{x}<extra></extra>",
           "legendgroup": "KIA",
           "marker": {
            "color": "#19d3f3",
            "pattern": {
             "shape": ""
            }
           },
           "name": "KIA",
           "offsetgroup": "KIA",
           "orientation": "h",
           "showlegend": true,
           "textposition": "auto",
           "type": "bar",
           "x": [
            680
           ],
           "xaxis": "x",
           "y": [
            "KIA"
           ],
           "yaxis": "y"
          },
          {
           "alignmentgroup": "True",
           "hovertemplate": "Make=%{y}<br>Model Year=2019<br>Number of EV Vehicles=%{x}<extra></extra>",
           "legendgroup": "MERCEDES-BENZ",
           "marker": {
            "color": "#636efa",
            "pattern": {
             "shape": ""
            }
           },
           "name": "MERCEDES-BENZ",
           "offsetgroup": "MERCEDES-BENZ",
           "orientation": "h",
           "showlegend": true,
           "textposition": "auto",
           "type": "bar",
           "x": [
            132
           ],
           "xaxis": "x",
           "y": [
            "MERCEDES-BENZ"
           ],
           "yaxis": "y"
          },
          {
           "alignmentgroup": "True",
           "hovertemplate": "Make=%{y}<br>Model Year=2019<br>Number of EV Vehicles=%{x}<extra></extra>",
           "legendgroup": "MINI",
           "marker": {
            "color": "#EF553B",
            "pattern": {
             "shape": ""
            }
           },
           "name": "MINI",
           "offsetgroup": "MINI",
           "orientation": "h",
           "showlegend": true,
           "textposition": "auto",
           "type": "bar",
           "x": [
            100
           ],
           "xaxis": "x",
           "y": [
            "MINI"
           ],
           "yaxis": "y"
          },
          {
           "alignmentgroup": "True",
           "hovertemplate": "Make=%{y}<br>Model Year=2019<br>Number of EV Vehicles=%{x}<extra></extra>",
           "legendgroup": "MITSUBISHI",
           "marker": {
            "color": "#00cc96",
            "pattern": {
             "shape": ""
            }
           },
           "name": "MITSUBISHI",
           "offsetgroup": "MITSUBISHI",
           "orientation": "h",
           "showlegend": true,
           "textposition": "auto",
           "type": "bar",
           "x": [
            146
           ],
           "xaxis": "x",
           "y": [
            "MITSUBISHI"
           ],
           "yaxis": "y"
          },
          {
           "alignmentgroup": "True",
           "hovertemplate": "Make=%{y}<br>Model Year=2019<br>Number of EV Vehicles=%{x}<extra></extra>",
           "legendgroup": "NISSAN",
           "marker": {
            "color": "#ab63fa",
            "pattern": {
             "shape": ""
            }
           },
           "name": "NISSAN",
           "offsetgroup": "NISSAN",
           "orientation": "h",
           "showlegend": true,
           "textposition": "auto",
           "type": "bar",
           "x": [
            1407
           ],
           "xaxis": "x",
           "y": [
            "NISSAN"
           ],
           "yaxis": "y"
          },
          {
           "alignmentgroup": "True",
           "hovertemplate": "Make=%{y}<br>Model Year=2019<br>Number of EV Vehicles=%{x}<extra></extra>",
           "legendgroup": "PORSCHE",
           "marker": {
            "color": "#19d3f3",
            "pattern": {
             "shape": ""
            }
           },
           "name": "PORSCHE",
           "offsetgroup": "PORSCHE",
           "orientation": "h",
           "showlegend": true,
           "textposition": "auto",
           "type": "bar",
           "x": [
            62
           ],
           "xaxis": "x",
           "y": [
            "PORSCHE"
           ],
           "yaxis": "y"
          },
          {
           "alignmentgroup": "True",
           "hovertemplate": "Make=%{y}<br>Model Year=2019<br>Number of EV Vehicles=%{x}<extra></extra>",
           "legendgroup": "SMART",
           "marker": {
            "color": "#B6E880",
            "pattern": {
             "shape": ""
            }
           },
           "name": "SMART",
           "offsetgroup": "SMART",
           "orientation": "h",
           "showlegend": true,
           "textposition": "auto",
           "type": "bar",
           "x": [
            9
           ],
           "xaxis": "x",
           "y": [
            "SMART"
           ],
           "yaxis": "y"
          },
          {
           "alignmentgroup": "True",
           "hovertemplate": "Make=%{y}<br>Model Year=2019<br>Number of EV Vehicles=%{x}<extra></extra>",
           "legendgroup": "SUBARU",
           "marker": {
            "color": "#FF97FF",
            "pattern": {
             "shape": ""
            }
           },
           "name": "SUBARU",
           "offsetgroup": "SUBARU",
           "orientation": "h",
           "showlegend": true,
           "textposition": "auto",
           "type": "bar",
           "x": [
            58
           ],
           "xaxis": "x",
           "y": [
            "SUBARU"
           ],
           "yaxis": "y"
          },
          {
           "alignmentgroup": "True",
           "hovertemplate": "Make=%{y}<br>Model Year=2019<br>Number of EV Vehicles=%{x}<extra></extra>",
           "legendgroup": "TESLA",
           "marker": {
            "color": "#FECB52",
            "pattern": {
             "shape": ""
            }
           },
           "name": "TESLA",
           "offsetgroup": "TESLA",
           "orientation": "h",
           "showlegend": true,
           "textposition": "auto",
           "type": "bar",
           "x": [
            4569
           ],
           "xaxis": "x",
           "y": [
            "TESLA"
           ],
           "yaxis": "y"
          },
          {
           "alignmentgroup": "True",
           "hovertemplate": "Make=%{y}<br>Model Year=2019<br>Number of EV Vehicles=%{x}<extra></extra>",
           "legendgroup": "TOYOTA",
           "marker": {
            "color": "#EF553B",
            "pattern": {
             "shape": ""
            }
           },
           "name": "TOYOTA",
           "offsetgroup": "TOYOTA",
           "orientation": "h",
           "showlegend": true,
           "textposition": "auto",
           "type": "bar",
           "x": [
            189
           ],
           "xaxis": "x",
           "y": [
            "TOYOTA"
           ],
           "yaxis": "y"
          },
          {
           "alignmentgroup": "True",
           "hovertemplate": "Make=%{y}<br>Model Year=2019<br>Number of EV Vehicles=%{x}<extra></extra>",
           "legendgroup": "VOLKSWAGEN",
           "marker": {
            "color": "#00cc96",
            "pattern": {
             "shape": ""
            }
           },
           "name": "VOLKSWAGEN",
           "offsetgroup": "VOLKSWAGEN",
           "orientation": "h",
           "showlegend": true,
           "textposition": "auto",
           "type": "bar",
           "x": [
            494
           ],
           "xaxis": "x",
           "y": [
            "VOLKSWAGEN"
           ],
           "yaxis": "y"
          },
          {
           "alignmentgroup": "True",
           "hovertemplate": "Make=%{y}<br>Model Year=2019<br>Number of EV Vehicles=%{x}<extra></extra>",
           "legendgroup": "VOLVO",
           "marker": {
            "color": "#ab63fa",
            "pattern": {
             "shape": ""
            }
           },
           "name": "VOLVO",
           "offsetgroup": "VOLVO",
           "orientation": "h",
           "showlegend": true,
           "textposition": "auto",
           "type": "bar",
           "x": [
            190
           ],
           "xaxis": "x",
           "y": [
            "VOLVO"
           ],
           "yaxis": "y"
          }
         ],
         "name": "2019"
        },
        {
         "data": [
          {
           "alignmentgroup": "True",
           "hovertemplate": "Make=%{y}<br>Model Year=2020<br>Number of EV Vehicles=%{x}<extra></extra>",
           "legendgroup": "AUDI",
           "marker": {
            "color": "#636efa",
            "pattern": {
             "shape": ""
            }
           },
           "name": "AUDI",
           "offsetgroup": "AUDI",
           "orientation": "h",
           "showlegend": true,
           "textposition": "auto",
           "type": "bar",
           "x": [
            224
           ],
           "xaxis": "x",
           "y": [
            "AUDI"
           ],
           "yaxis": "y"
          },
          {
           "alignmentgroup": "True",
           "hovertemplate": "Make=%{y}<br>Model Year=2020<br>Number of EV Vehicles=%{x}<extra></extra>",
           "legendgroup": "BENTLEY",
           "marker": {
            "color": "#00cc96",
            "pattern": {
             "shape": ""
            }
           },
           "name": "BENTLEY",
           "offsetgroup": "BENTLEY",
           "orientation": "h",
           "showlegend": true,
           "textposition": "auto",
           "type": "bar",
           "x": [
            1
           ],
           "xaxis": "x",
           "y": [
            "BENTLEY"
           ],
           "yaxis": "y"
          },
          {
           "alignmentgroup": "True",
           "hovertemplate": "Make=%{y}<br>Model Year=2020<br>Number of EV Vehicles=%{x}<extra></extra>",
           "legendgroup": "BMW",
           "marker": {
            "color": "#ab63fa",
            "pattern": {
             "shape": ""
            }
           },
           "name": "BMW",
           "offsetgroup": "BMW",
           "orientation": "h",
           "showlegend": true,
           "textposition": "auto",
           "type": "bar",
           "x": [
            143
           ],
           "xaxis": "x",
           "y": [
            "BMW"
           ],
           "yaxis": "y"
          },
          {
           "alignmentgroup": "True",
           "hovertemplate": "Make=%{y}<br>Model Year=2020<br>Number of EV Vehicles=%{x}<extra></extra>",
           "legendgroup": "CHEVROLET",
           "marker": {
            "color": "#19d3f3",
            "pattern": {
             "shape": ""
            }
           },
           "name": "CHEVROLET",
           "offsetgroup": "CHEVROLET",
           "orientation": "h",
           "showlegend": true,
           "textposition": "auto",
           "type": "bar",
           "x": [
            1013
           ],
           "xaxis": "x",
           "y": [
            "CHEVROLET"
           ],
           "yaxis": "y"
          },
          {
           "alignmentgroup": "True",
           "hovertemplate": "Make=%{y}<br>Model Year=2020<br>Number of EV Vehicles=%{x}<extra></extra>",
           "legendgroup": "CHRYSLER",
           "marker": {
            "color": "#FF6692",
            "pattern": {
             "shape": ""
            }
           },
           "name": "CHRYSLER",
           "offsetgroup": "CHRYSLER",
           "orientation": "h",
           "showlegend": true,
           "textposition": "auto",
           "type": "bar",
           "x": [
            283
           ],
           "xaxis": "x",
           "y": [
            "CHRYSLER"
           ],
           "yaxis": "y"
          },
          {
           "alignmentgroup": "True",
           "hovertemplate": "Make=%{y}<br>Model Year=2020<br>Number of EV Vehicles=%{x}<extra></extra>",
           "legendgroup": "FORD",
           "marker": {
            "color": "#FECB52",
            "pattern": {
             "shape": ""
            }
           },
           "name": "FORD",
           "offsetgroup": "FORD",
           "orientation": "h",
           "showlegend": true,
           "textposition": "auto",
           "type": "bar",
           "x": [
            65
           ],
           "xaxis": "x",
           "y": [
            "FORD"
           ],
           "yaxis": "y"
          },
          {
           "alignmentgroup": "True",
           "hovertemplate": "Make=%{y}<br>Model Year=2020<br>Number of EV Vehicles=%{x}<extra></extra>",
           "legendgroup": "HONDA",
           "marker": {
            "color": "#EF553B",
            "pattern": {
             "shape": ""
            }
           },
           "name": "HONDA",
           "offsetgroup": "HONDA",
           "orientation": "h",
           "showlegend": true,
           "textposition": "auto",
           "type": "bar",
           "x": [
            79
           ],
           "xaxis": "x",
           "y": [
            "HONDA"
           ],
           "yaxis": "y"
          },
          {
           "alignmentgroup": "True",
           "hovertemplate": "Make=%{y}<br>Model Year=2020<br>Number of EV Vehicles=%{x}<extra></extra>",
           "legendgroup": "HYUNDAI",
           "marker": {
            "color": "#00cc96",
            "pattern": {
             "shape": ""
            }
           },
           "name": "HYUNDAI",
           "offsetgroup": "HYUNDAI",
           "orientation": "h",
           "showlegend": true,
           "textposition": "auto",
           "type": "bar",
           "x": [
            212
           ],
           "xaxis": "x",
           "y": [
            "HYUNDAI"
           ],
           "yaxis": "y"
          },
          {
           "alignmentgroup": "True",
           "hovertemplate": "Make=%{y}<br>Model Year=2020<br>Number of EV Vehicles=%{x}<extra></extra>",
           "legendgroup": "JAGUAR",
           "marker": {
            "color": "#ab63fa",
            "pattern": {
             "shape": ""
            }
           },
           "name": "JAGUAR",
           "offsetgroup": "JAGUAR",
           "orientation": "h",
           "showlegend": true,
           "textposition": "auto",
           "type": "bar",
           "x": [
            74
           ],
           "xaxis": "x",
           "y": [
            "JAGUAR"
           ],
           "yaxis": "y"
          },
          {
           "alignmentgroup": "True",
           "hovertemplate": "Make=%{y}<br>Model Year=2020<br>Number of EV Vehicles=%{x}<extra></extra>",
           "legendgroup": "KIA",
           "marker": {
            "color": "#19d3f3",
            "pattern": {
             "shape": ""
            }
           },
           "name": "KIA",
           "offsetgroup": "KIA",
           "orientation": "h",
           "showlegend": true,
           "textposition": "auto",
           "type": "bar",
           "x": [
            534
           ],
           "xaxis": "x",
           "y": [
            "KIA"
           ],
           "yaxis": "y"
          },
          {
           "alignmentgroup": "True",
           "hovertemplate": "Make=%{y}<br>Model Year=2020<br>Number of EV Vehicles=%{x}<extra></extra>",
           "legendgroup": "LAND ROVER",
           "marker": {
            "color": "#FF6692",
            "pattern": {
             "shape": ""
            }
           },
           "name": "LAND ROVER",
           "offsetgroup": "LAND ROVER",
           "orientation": "h",
           "showlegend": true,
           "textposition": "auto",
           "type": "bar",
           "x": [
            30
           ],
           "xaxis": "x",
           "y": [
            "LAND ROVER"
           ],
           "yaxis": "y"
          },
          {
           "alignmentgroup": "True",
           "hovertemplate": "Make=%{y}<br>Model Year=2020<br>Number of EV Vehicles=%{x}<extra></extra>",
           "legendgroup": "LINCOLN",
           "marker": {
            "color": "#FF97FF",
            "pattern": {
             "shape": ""
            }
           },
           "name": "LINCOLN",
           "offsetgroup": "LINCOLN",
           "orientation": "h",
           "showlegend": true,
           "textposition": "auto",
           "type": "bar",
           "x": [
            29
           ],
           "xaxis": "x",
           "y": [
            "LINCOLN"
           ],
           "yaxis": "y"
          },
          {
           "alignmentgroup": "True",
           "hovertemplate": "Make=%{y}<br>Model Year=2020<br>Number of EV Vehicles=%{x}<extra></extra>",
           "legendgroup": "MERCEDES-BENZ",
           "marker": {
            "color": "#636efa",
            "pattern": {
             "shape": ""
            }
           },
           "name": "MERCEDES-BENZ",
           "offsetgroup": "MERCEDES-BENZ",
           "orientation": "h",
           "showlegend": true,
           "textposition": "auto",
           "type": "bar",
           "x": [
            31
           ],
           "xaxis": "x",
           "y": [
            "MERCEDES-BENZ"
           ],
           "yaxis": "y"
          },
          {
           "alignmentgroup": "True",
           "hovertemplate": "Make=%{y}<br>Model Year=2020<br>Number of EV Vehicles=%{x}<extra></extra>",
           "legendgroup": "MINI",
           "marker": {
            "color": "#EF553B",
            "pattern": {
             "shape": ""
            }
           },
           "name": "MINI",
           "offsetgroup": "MINI",
           "orientation": "h",
           "showlegend": true,
           "textposition": "auto",
           "type": "bar",
           "x": [
            3
           ],
           "xaxis": "x",
           "y": [
            "MINI"
           ],
           "yaxis": "y"
          },
          {
           "alignmentgroup": "True",
           "hovertemplate": "Make=%{y}<br>Model Year=2020<br>Number of EV Vehicles=%{x}<extra></extra>",
           "legendgroup": "MITSUBISHI",
           "marker": {
            "color": "#00cc96",
            "pattern": {
             "shape": ""
            }
           },
           "name": "MITSUBISHI",
           "offsetgroup": "MITSUBISHI",
           "orientation": "h",
           "showlegend": true,
           "textposition": "auto",
           "type": "bar",
           "x": [
            97
           ],
           "xaxis": "x",
           "y": [
            "MITSUBISHI"
           ],
           "yaxis": "y"
          },
          {
           "alignmentgroup": "True",
           "hovertemplate": "Make=%{y}<br>Model Year=2020<br>Number of EV Vehicles=%{x}<extra></extra>",
           "legendgroup": "NISSAN",
           "marker": {
            "color": "#ab63fa",
            "pattern": {
             "shape": ""
            }
           },
           "name": "NISSAN",
           "offsetgroup": "NISSAN",
           "orientation": "h",
           "showlegend": true,
           "textposition": "auto",
           "type": "bar",
           "x": [
            580
           ],
           "xaxis": "x",
           "y": [
            "NISSAN"
           ],
           "yaxis": "y"
          },
          {
           "alignmentgroup": "True",
           "hovertemplate": "Make=%{y}<br>Model Year=2020<br>Number of EV Vehicles=%{x}<extra></extra>",
           "legendgroup": "PORSCHE",
           "marker": {
            "color": "#19d3f3",
            "pattern": {
             "shape": ""
            }
           },
           "name": "PORSCHE",
           "offsetgroup": "PORSCHE",
           "orientation": "h",
           "showlegend": true,
           "textposition": "auto",
           "type": "bar",
           "x": [
            143
           ],
           "xaxis": "x",
           "y": [
            "PORSCHE"
           ],
           "yaxis": "y"
          },
          {
           "alignmentgroup": "True",
           "hovertemplate": "Make=%{y}<br>Model Year=2020<br>Number of EV Vehicles=%{x}<extra></extra>",
           "legendgroup": "TESLA",
           "marker": {
            "color": "#FECB52",
            "pattern": {
             "shape": ""
            }
           },
           "name": "TESLA",
           "offsetgroup": "TESLA",
           "orientation": "h",
           "showlegend": true,
           "textposition": "auto",
           "type": "bar",
           "x": [
            6996
           ],
           "xaxis": "x",
           "y": [
            "TESLA"
           ],
           "yaxis": "y"
          },
          {
           "alignmentgroup": "True",
           "hovertemplate": "Make=%{y}<br>Model Year=2020<br>Number of EV Vehicles=%{x}<extra></extra>",
           "legendgroup": "TOYOTA",
           "marker": {
            "color": "#EF553B",
            "pattern": {
             "shape": ""
            }
           },
           "name": "TOYOTA",
           "offsetgroup": "TOYOTA",
           "orientation": "h",
           "showlegend": true,
           "textposition": "auto",
           "type": "bar",
           "x": [
            310
           ],
           "xaxis": "x",
           "y": [
            "TOYOTA"
           ],
           "yaxis": "y"
          },
          {
           "alignmentgroup": "True",
           "hovertemplate": "Make=%{y}<br>Model Year=2020<br>Number of EV Vehicles=%{x}<extra></extra>",
           "legendgroup": "VOLVO",
           "marker": {
            "color": "#ab63fa",
            "pattern": {
             "shape": ""
            }
           },
           "name": "VOLVO",
           "offsetgroup": "VOLVO",
           "orientation": "h",
           "showlegend": true,
           "textposition": "auto",
           "type": "bar",
           "x": [
            162
           ],
           "xaxis": "x",
           "y": [
            "VOLVO"
           ],
           "yaxis": "y"
          }
         ],
         "name": "2020"
        },
        {
         "data": [
          {
           "alignmentgroup": "True",
           "hovertemplate": "Make=%{y}<br>Model Year=2021<br>Number of EV Vehicles=%{x}<extra></extra>",
           "legendgroup": "AUDI",
           "marker": {
            "color": "#636efa",
            "pattern": {
             "shape": ""
            }
           },
           "name": "AUDI",
           "offsetgroup": "AUDI",
           "orientation": "h",
           "showlegend": true,
           "textposition": "auto",
           "type": "bar",
           "x": [
            543
           ],
           "xaxis": "x",
           "y": [
            "AUDI"
           ],
           "yaxis": "y"
          },
          {
           "alignmentgroup": "True",
           "hovertemplate": "Make=%{y}<br>Model Year=2021<br>Number of EV Vehicles=%{x}<extra></extra>",
           "legendgroup": "BENTLEY",
           "marker": {
            "color": "#00cc96",
            "pattern": {
             "shape": ""
            }
           },
           "name": "BENTLEY",
           "offsetgroup": "BENTLEY",
           "orientation": "h",
           "showlegend": true,
           "textposition": "auto",
           "type": "bar",
           "x": [
            1
           ],
           "xaxis": "x",
           "y": [
            "BENTLEY"
           ],
           "yaxis": "y"
          },
          {
           "alignmentgroup": "True",
           "hovertemplate": "Make=%{y}<br>Model Year=2021<br>Number of EV Vehicles=%{x}<extra></extra>",
           "legendgroup": "BMW",
           "marker": {
            "color": "#ab63fa",
            "pattern": {
             "shape": ""
            }
           },
           "name": "BMW",
           "offsetgroup": "BMW",
           "orientation": "h",
           "showlegend": true,
           "textposition": "auto",
           "type": "bar",
           "x": [
            634
           ],
           "xaxis": "x",
           "y": [
            "BMW"
           ],
           "yaxis": "y"
          },
          {
           "alignmentgroup": "True",
           "hovertemplate": "Make=%{y}<br>Model Year=2021<br>Number of EV Vehicles=%{x}<extra></extra>",
           "legendgroup": "CHEVROLET",
           "marker": {
            "color": "#19d3f3",
            "pattern": {
             "shape": ""
            }
           },
           "name": "CHEVROLET",
           "offsetgroup": "CHEVROLET",
           "orientation": "h",
           "showlegend": true,
           "textposition": "auto",
           "type": "bar",
           "x": [
            376
           ],
           "xaxis": "x",
           "y": [
            "CHEVROLET"
           ],
           "yaxis": "y"
          },
          {
           "alignmentgroup": "True",
           "hovertemplate": "Make=%{y}<br>Model Year=2021<br>Number of EV Vehicles=%{x}<extra></extra>",
           "legendgroup": "CHRYSLER",
           "marker": {
            "color": "#FF6692",
            "pattern": {
             "shape": ""
            }
           },
           "name": "CHRYSLER",
           "offsetgroup": "CHRYSLER",
           "orientation": "h",
           "showlegend": true,
           "textposition": "auto",
           "type": "bar",
           "x": [
            501
           ],
           "xaxis": "x",
           "y": [
            "CHRYSLER"
           ],
           "yaxis": "y"
          },
          {
           "alignmentgroup": "True",
           "hovertemplate": "Make=%{y}<br>Model Year=2021<br>Number of EV Vehicles=%{x}<extra></extra>",
           "legendgroup": "FORD",
           "marker": {
            "color": "#FECB52",
            "pattern": {
             "shape": ""
            }
           },
           "name": "FORD",
           "offsetgroup": "FORD",
           "orientation": "h",
           "showlegend": true,
           "textposition": "auto",
           "type": "bar",
           "x": [
            880
           ],
           "xaxis": "x",
           "y": [
            "FORD"
           ],
           "yaxis": "y"
          },
          {
           "alignmentgroup": "True",
           "hovertemplate": "Make=%{y}<br>Model Year=2021<br>Number of EV Vehicles=%{x}<extra></extra>",
           "legendgroup": "HONDA",
           "marker": {
            "color": "#EF553B",
            "pattern": {
             "shape": ""
            }
           },
           "name": "HONDA",
           "offsetgroup": "HONDA",
           "orientation": "h",
           "showlegend": true,
           "textposition": "auto",
           "type": "bar",
           "x": [
            17
           ],
           "xaxis": "x",
           "y": [
            "HONDA"
           ],
           "yaxis": "y"
          },
          {
           "alignmentgroup": "True",
           "hovertemplate": "Make=%{y}<br>Model Year=2021<br>Number of EV Vehicles=%{x}<extra></extra>",
           "legendgroup": "HYUNDAI",
           "marker": {
            "color": "#00cc96",
            "pattern": {
             "shape": ""
            }
           },
           "name": "HYUNDAI",
           "offsetgroup": "HYUNDAI",
           "orientation": "h",
           "showlegend": true,
           "textposition": "auto",
           "type": "bar",
           "x": [
            187
           ],
           "xaxis": "x",
           "y": [
            "HYUNDAI"
           ],
           "yaxis": "y"
          },
          {
           "alignmentgroup": "True",
           "hovertemplate": "Make=%{y}<br>Model Year=2021<br>Number of EV Vehicles=%{x}<extra></extra>",
           "legendgroup": "JAGUAR",
           "marker": {
            "color": "#ab63fa",
            "pattern": {
             "shape": ""
            }
           },
           "name": "JAGUAR",
           "offsetgroup": "JAGUAR",
           "orientation": "h",
           "showlegend": true,
           "textposition": "auto",
           "type": "bar",
           "x": [
            6
           ],
           "xaxis": "x",
           "y": [
            "JAGUAR"
           ],
           "yaxis": "y"
          },
          {
           "alignmentgroup": "True",
           "hovertemplate": "Make=%{y}<br>Model Year=2021<br>Number of EV Vehicles=%{x}<extra></extra>",
           "legendgroup": "JEEP",
           "marker": {
            "color": "#FFA15A",
            "pattern": {
             "shape": ""
            }
           },
           "name": "JEEP",
           "offsetgroup": "JEEP",
           "orientation": "h",
           "showlegend": true,
           "textposition": "auto",
           "type": "bar",
           "x": [
            625
           ],
           "xaxis": "x",
           "y": [
            "JEEP"
           ],
           "yaxis": "y"
          },
          {
           "alignmentgroup": "True",
           "hovertemplate": "Make=%{y}<br>Model Year=2021<br>Number of EV Vehicles=%{x}<extra></extra>",
           "legendgroup": "KIA",
           "marker": {
            "color": "#19d3f3",
            "pattern": {
             "shape": ""
            }
           },
           "name": "KIA",
           "offsetgroup": "KIA",
           "orientation": "h",
           "showlegend": true,
           "textposition": "auto",
           "type": "bar",
           "x": [
            73
           ],
           "xaxis": "x",
           "y": [
            "KIA"
           ],
           "yaxis": "y"
          },
          {
           "alignmentgroup": "True",
           "hovertemplate": "Make=%{y}<br>Model Year=2021<br>Number of EV Vehicles=%{x}<extra></extra>",
           "legendgroup": "LAND ROVER",
           "marker": {
            "color": "#FF6692",
            "pattern": {
             "shape": ""
            }
           },
           "name": "LAND ROVER",
           "offsetgroup": "LAND ROVER",
           "orientation": "h",
           "showlegend": true,
           "textposition": "auto",
           "type": "bar",
           "x": [
            8
           ],
           "xaxis": "x",
           "y": [
            "LAND ROVER"
           ],
           "yaxis": "y"
          },
          {
           "alignmentgroup": "True",
           "hovertemplate": "Make=%{y}<br>Model Year=2021<br>Number of EV Vehicles=%{x}<extra></extra>",
           "legendgroup": "LINCOLN",
           "marker": {
            "color": "#FF97FF",
            "pattern": {
             "shape": ""
            }
           },
           "name": "LINCOLN",
           "offsetgroup": "LINCOLN",
           "orientation": "h",
           "showlegend": true,
           "textposition": "auto",
           "type": "bar",
           "x": [
            41
           ],
           "xaxis": "x",
           "y": [
            "LINCOLN"
           ],
           "yaxis": "y"
          },
          {
           "alignmentgroup": "True",
           "hovertemplate": "Make=%{y}<br>Model Year=2021<br>Number of EV Vehicles=%{x}<extra></extra>",
           "legendgroup": "MINI",
           "marker": {
            "color": "#EF553B",
            "pattern": {
             "shape": ""
            }
           },
           "name": "MINI",
           "offsetgroup": "MINI",
           "orientation": "h",
           "showlegend": true,
           "textposition": "auto",
           "type": "bar",
           "x": [
            143
           ],
           "xaxis": "x",
           "y": [
            "MINI"
           ],
           "yaxis": "y"
          },
          {
           "alignmentgroup": "True",
           "hovertemplate": "Make=%{y}<br>Model Year=2021<br>Number of EV Vehicles=%{x}<extra></extra>",
           "legendgroup": "MITSUBISHI",
           "marker": {
            "color": "#00cc96",
            "pattern": {
             "shape": ""
            }
           },
           "name": "MITSUBISHI",
           "offsetgroup": "MITSUBISHI",
           "orientation": "h",
           "showlegend": true,
           "textposition": "auto",
           "type": "bar",
           "x": [
            8
           ],
           "xaxis": "x",
           "y": [
            "MITSUBISHI"
           ],
           "yaxis": "y"
          },
          {
           "alignmentgroup": "True",
           "hovertemplate": "Make=%{y}<br>Model Year=2021<br>Number of EV Vehicles=%{x}<extra></extra>",
           "legendgroup": "NISSAN",
           "marker": {
            "color": "#ab63fa",
            "pattern": {
             "shape": ""
            }
           },
           "name": "NISSAN",
           "offsetgroup": "NISSAN",
           "orientation": "h",
           "showlegend": true,
           "textposition": "auto",
           "type": "bar",
           "x": [
            533
           ],
           "xaxis": "x",
           "y": [
            "NISSAN"
           ],
           "yaxis": "y"
          },
          {
           "alignmentgroup": "True",
           "hovertemplate": "Make=%{y}<br>Model Year=2021<br>Number of EV Vehicles=%{x}<extra></extra>",
           "legendgroup": "POLESTAR",
           "marker": {
            "color": "#FFA15A",
            "pattern": {
             "shape": ""
            }
           },
           "name": "POLESTAR",
           "offsetgroup": "POLESTAR",
           "orientation": "h",
           "showlegend": true,
           "textposition": "auto",
           "type": "bar",
           "x": [
            97
           ],
           "xaxis": "x",
           "y": [
            "POLESTAR"
           ],
           "yaxis": "y"
          },
          {
           "alignmentgroup": "True",
           "hovertemplate": "Make=%{y}<br>Model Year=2021<br>Number of EV Vehicles=%{x}<extra></extra>",
           "legendgroup": "PORSCHE",
           "marker": {
            "color": "#19d3f3",
            "pattern": {
             "shape": ""
            }
           },
           "name": "PORSCHE",
           "offsetgroup": "PORSCHE",
           "orientation": "h",
           "showlegend": true,
           "textposition": "auto",
           "type": "bar",
           "x": [
            145
           ],
           "xaxis": "x",
           "y": [
            "PORSCHE"
           ],
           "yaxis": "y"
          },
          {
           "alignmentgroup": "True",
           "hovertemplate": "Make=%{y}<br>Model Year=2021<br>Number of EV Vehicles=%{x}<extra></extra>",
           "legendgroup": "TESLA",
           "marker": {
            "color": "#FECB52",
            "pattern": {
             "shape": ""
            }
           },
           "name": "TESLA",
           "offsetgroup": "TESLA",
           "orientation": "h",
           "showlegend": true,
           "textposition": "auto",
           "type": "bar",
           "x": [
            10990
           ],
           "xaxis": "x",
           "y": [
            "TESLA"
           ],
           "yaxis": "y"
          },
          {
           "alignmentgroup": "True",
           "hovertemplate": "Make=%{y}<br>Model Year=2021<br>Number of EV Vehicles=%{x}<extra></extra>",
           "legendgroup": "TOYOTA",
           "marker": {
            "color": "#EF553B",
            "pattern": {
             "shape": ""
            }
           },
           "name": "TOYOTA",
           "offsetgroup": "TOYOTA",
           "orientation": "h",
           "showlegend": true,
           "textposition": "auto",
           "type": "bar",
           "x": [
            930
           ],
           "xaxis": "x",
           "y": [
            "TOYOTA"
           ],
           "yaxis": "y"
          },
          {
           "alignmentgroup": "True",
           "hovertemplate": "Make=%{y}<br>Model Year=2021<br>Number of EV Vehicles=%{x}<extra></extra>",
           "legendgroup": "VOLKSWAGEN",
           "marker": {
            "color": "#00cc96",
            "pattern": {
             "shape": ""
            }
           },
           "name": "VOLKSWAGEN",
           "offsetgroup": "VOLKSWAGEN",
           "orientation": "h",
           "showlegend": true,
           "textposition": "auto",
           "type": "bar",
           "x": [
            984
           ],
           "xaxis": "x",
           "y": [
            "VOLKSWAGEN"
           ],
           "yaxis": "y"
          },
          {
           "alignmentgroup": "True",
           "hovertemplate": "Make=%{y}<br>Model Year=2021<br>Number of EV Vehicles=%{x}<extra></extra>",
           "legendgroup": "VOLVO",
           "marker": {
            "color": "#ab63fa",
            "pattern": {
             "shape": ""
            }
           },
           "name": "VOLVO",
           "offsetgroup": "VOLVO",
           "orientation": "h",
           "showlegend": true,
           "textposition": "auto",
           "type": "bar",
           "x": [
            577
           ],
           "xaxis": "x",
           "y": [
            "VOLVO"
           ],
           "yaxis": "y"
          }
         ],
         "name": "2021"
        },
        {
         "data": [
          {
           "alignmentgroup": "True",
           "hovertemplate": "Make=%{y}<br>Model Year=2022<br>Number of EV Vehicles=%{x}<extra></extra>",
           "legendgroup": "AUDI",
           "marker": {
            "color": "#636efa",
            "pattern": {
             "shape": ""
            }
           },
           "name": "AUDI",
           "offsetgroup": "AUDI",
           "orientation": "h",
           "showlegend": true,
           "textposition": "auto",
           "type": "bar",
           "x": [
            585
           ],
           "xaxis": "x",
           "y": [
            "AUDI"
           ],
           "yaxis": "y"
          },
          {
           "alignmentgroup": "True",
           "hovertemplate": "Make=%{y}<br>Model Year=2022<br>Number of EV Vehicles=%{x}<extra></extra>",
           "legendgroup": "BENTLEY",
           "marker": {
            "color": "#00cc96",
            "pattern": {
             "shape": ""
            }
           },
           "name": "BENTLEY",
           "offsetgroup": "BENTLEY",
           "orientation": "h",
           "showlegend": true,
           "textposition": "auto",
           "type": "bar",
           "x": [
            1
           ],
           "xaxis": "x",
           "y": [
            "BENTLEY"
           ],
           "yaxis": "y"
          },
          {
           "alignmentgroup": "True",
           "hovertemplate": "Make=%{y}<br>Model Year=2022<br>Number of EV Vehicles=%{x}<extra></extra>",
           "legendgroup": "BMW",
           "marker": {
            "color": "#ab63fa",
            "pattern": {
             "shape": ""
            }
           },
           "name": "BMW",
           "offsetgroup": "BMW",
           "orientation": "h",
           "showlegend": true,
           "textposition": "auto",
           "type": "bar",
           "x": [
            901
           ],
           "xaxis": "x",
           "y": [
            "BMW"
           ],
           "yaxis": "y"
          },
          {
           "alignmentgroup": "True",
           "hovertemplate": "Make=%{y}<br>Model Year=2022<br>Number of EV Vehicles=%{x}<extra></extra>",
           "legendgroup": "CHEVROLET",
           "marker": {
            "color": "#19d3f3",
            "pattern": {
             "shape": ""
            }
           },
           "name": "CHEVROLET",
           "offsetgroup": "CHEVROLET",
           "orientation": "h",
           "showlegend": true,
           "textposition": "auto",
           "type": "bar",
           "x": [
            891
           ],
           "xaxis": "x",
           "y": [
            "CHEVROLET"
           ],
           "yaxis": "y"
          },
          {
           "alignmentgroup": "True",
           "hovertemplate": "Make=%{y}<br>Model Year=2022<br>Number of EV Vehicles=%{x}<extra></extra>",
           "legendgroup": "CHRYSLER",
           "marker": {
            "color": "#FF6692",
            "pattern": {
             "shape": ""
            }
           },
           "name": "CHRYSLER",
           "offsetgroup": "CHRYSLER",
           "orientation": "h",
           "showlegend": true,
           "textposition": "auto",
           "type": "bar",
           "x": [
            237
           ],
           "xaxis": "x",
           "y": [
            "CHRYSLER"
           ],
           "yaxis": "y"
          },
          {
           "alignmentgroup": "True",
           "hovertemplate": "Make=%{y}<br>Model Year=2022<br>Number of EV Vehicles=%{x}<extra></extra>",
           "legendgroup": "FORD",
           "marker": {
            "color": "#FECB52",
            "pattern": {
             "shape": ""
            }
           },
           "name": "FORD",
           "offsetgroup": "FORD",
           "orientation": "h",
           "showlegend": true,
           "textposition": "auto",
           "type": "bar",
           "x": [
            1248
           ],
           "xaxis": "x",
           "y": [
            "FORD"
           ],
           "yaxis": "y"
          },
          {
           "alignmentgroup": "True",
           "hovertemplate": "Make=%{y}<br>Model Year=2022<br>Number of EV Vehicles=%{x}<extra></extra>",
           "legendgroup": "HYUNDAI",
           "marker": {
            "color": "#00cc96",
            "pattern": {
             "shape": ""
            }
           },
           "name": "HYUNDAI",
           "offsetgroup": "HYUNDAI",
           "orientation": "h",
           "showlegend": true,
           "textposition": "auto",
           "type": "bar",
           "x": [
            631
           ],
           "xaxis": "x",
           "y": [
            "HYUNDAI"
           ],
           "yaxis": "y"
          },
          {
           "alignmentgroup": "True",
           "hovertemplate": "Make=%{y}<br>Model Year=2022<br>Number of EV Vehicles=%{x}<extra></extra>",
           "legendgroup": "JAGUAR",
           "marker": {
            "color": "#ab63fa",
            "pattern": {
             "shape": ""
            }
           },
           "name": "JAGUAR",
           "offsetgroup": "JAGUAR",
           "orientation": "h",
           "showlegend": true,
           "textposition": "auto",
           "type": "bar",
           "x": [
            19
           ],
           "xaxis": "x",
           "y": [
            "JAGUAR"
           ],
           "yaxis": "y"
          },
          {
           "alignmentgroup": "True",
           "hovertemplate": "Make=%{y}<br>Model Year=2022<br>Number of EV Vehicles=%{x}<extra></extra>",
           "legendgroup": "JEEP",
           "marker": {
            "color": "#FFA15A",
            "pattern": {
             "shape": ""
            }
           },
           "name": "JEEP",
           "offsetgroup": "JEEP",
           "orientation": "h",
           "showlegend": true,
           "textposition": "auto",
           "type": "bar",
           "x": [
            521
           ],
           "xaxis": "x",
           "y": [
            "JEEP"
           ],
           "yaxis": "y"
          },
          {
           "alignmentgroup": "True",
           "hovertemplate": "Make=%{y}<br>Model Year=2022<br>Number of EV Vehicles=%{x}<extra></extra>",
           "legendgroup": "KIA",
           "marker": {
            "color": "#19d3f3",
            "pattern": {
             "shape": ""
            }
           },
           "name": "KIA",
           "offsetgroup": "KIA",
           "orientation": "h",
           "showlegend": true,
           "textposition": "auto",
           "type": "bar",
           "x": [
            2150
           ],
           "xaxis": "x",
           "y": [
            "KIA"
           ],
           "yaxis": "y"
          },
          {
           "alignmentgroup": "True",
           "hovertemplate": "Make=%{y}<br>Model Year=2022<br>Number of EV Vehicles=%{x}<extra></extra>",
           "legendgroup": "LEXUS",
           "marker": {
            "color": "#B6E880",
            "pattern": {
             "shape": ""
            }
           },
           "name": "LEXUS",
           "offsetgroup": "LEXUS",
           "orientation": "h",
           "showlegend": true,
           "textposition": "auto",
           "type": "bar",
           "x": [
            33
           ],
           "xaxis": "x",
           "y": [
            "LEXUS"
           ],
           "yaxis": "y"
          },
          {
           "alignmentgroup": "True",
           "hovertemplate": "Make=%{y}<br>Model Year=2022<br>Number of EV Vehicles=%{x}<extra></extra>",
           "legendgroup": "LINCOLN",
           "marker": {
            "color": "#FF97FF",
            "pattern": {
             "shape": ""
            }
           },
           "name": "LINCOLN",
           "offsetgroup": "LINCOLN",
           "orientation": "h",
           "showlegend": true,
           "textposition": "auto",
           "type": "bar",
           "x": [
            94
           ],
           "xaxis": "x",
           "y": [
            "LINCOLN"
           ],
           "yaxis": "y"
          },
          {
           "alignmentgroup": "True",
           "hovertemplate": "Make=%{y}<br>Model Year=2022<br>Number of EV Vehicles=%{x}<extra></extra>",
           "legendgroup": "LUCID MOTORS",
           "marker": {
            "color": "#FECB52",
            "pattern": {
             "shape": ""
            }
           },
           "name": "LUCID MOTORS",
           "offsetgroup": "LUCID MOTORS",
           "orientation": "h",
           "showlegend": true,
           "textposition": "auto",
           "type": "bar",
           "x": [
            65
           ],
           "xaxis": "x",
           "y": [
            "LUCID MOTORS"
           ],
           "yaxis": "y"
          },
          {
           "alignmentgroup": "True",
           "hovertemplate": "Make=%{y}<br>Model Year=2022<br>Number of EV Vehicles=%{x}<extra></extra>",
           "legendgroup": "MERCEDES-BENZ",
           "marker": {
            "color": "#636efa",
            "pattern": {
             "shape": ""
            }
           },
           "name": "MERCEDES-BENZ",
           "offsetgroup": "MERCEDES-BENZ",
           "orientation": "h",
           "showlegend": true,
           "textposition": "auto",
           "type": "bar",
           "x": [
            130
           ],
           "xaxis": "x",
           "y": [
            "MERCEDES-BENZ"
           ],
           "yaxis": "y"
          },
          {
           "alignmentgroup": "True",
           "hovertemplate": "Make=%{y}<br>Model Year=2022<br>Number of EV Vehicles=%{x}<extra></extra>",
           "legendgroup": "MINI",
           "marker": {
            "color": "#EF553B",
            "pattern": {
             "shape": ""
            }
           },
           "name": "MINI",
           "offsetgroup": "MINI",
           "orientation": "h",
           "showlegend": true,
           "textposition": "auto",
           "type": "bar",
           "x": [
            212
           ],
           "xaxis": "x",
           "y": [
            "MINI"
           ],
           "yaxis": "y"
          },
          {
           "alignmentgroup": "True",
           "hovertemplate": "Make=%{y}<br>Model Year=2022<br>Number of EV Vehicles=%{x}<extra></extra>",
           "legendgroup": "MITSUBISHI",
           "marker": {
            "color": "#00cc96",
            "pattern": {
             "shape": ""
            }
           },
           "name": "MITSUBISHI",
           "offsetgroup": "MITSUBISHI",
           "orientation": "h",
           "showlegend": true,
           "textposition": "auto",
           "type": "bar",
           "x": [
            89
           ],
           "xaxis": "x",
           "y": [
            "MITSUBISHI"
           ],
           "yaxis": "y"
          },
          {
           "alignmentgroup": "True",
           "hovertemplate": "Make=%{y}<br>Model Year=2022<br>Number of EV Vehicles=%{x}<extra></extra>",
           "legendgroup": "NISSAN",
           "marker": {
            "color": "#ab63fa",
            "pattern": {
             "shape": ""
            }
           },
           "name": "NISSAN",
           "offsetgroup": "NISSAN",
           "orientation": "h",
           "showlegend": true,
           "textposition": "auto",
           "type": "bar",
           "x": [
            969
           ],
           "xaxis": "x",
           "y": [
            "NISSAN"
           ],
           "yaxis": "y"
          },
          {
           "alignmentgroup": "True",
           "hovertemplate": "Make=%{y}<br>Model Year=2022<br>Number of EV Vehicles=%{x}<extra></extra>",
           "legendgroup": "POLESTAR",
           "marker": {
            "color": "#FFA15A",
            "pattern": {
             "shape": ""
            }
           },
           "name": "POLESTAR",
           "offsetgroup": "POLESTAR",
           "orientation": "h",
           "showlegend": true,
           "textposition": "auto",
           "type": "bar",
           "x": [
            372
           ],
           "xaxis": "x",
           "y": [
            "POLESTAR"
           ],
           "yaxis": "y"
          },
          {
           "alignmentgroup": "True",
           "hovertemplate": "Make=%{y}<br>Model Year=2022<br>Number of EV Vehicles=%{x}<extra></extra>",
           "legendgroup": "PORSCHE",
           "marker": {
            "color": "#19d3f3",
            "pattern": {
             "shape": ""
            }
           },
           "name": "PORSCHE",
           "offsetgroup": "PORSCHE",
           "orientation": "h",
           "showlegend": true,
           "textposition": "auto",
           "type": "bar",
           "x": [
            200
           ],
           "xaxis": "x",
           "y": [
            "PORSCHE"
           ],
           "yaxis": "y"
          },
          {
           "alignmentgroup": "True",
           "hovertemplate": "Make=%{y}<br>Model Year=2022<br>Number of EV Vehicles=%{x}<extra></extra>",
           "legendgroup": "RIVIAN",
           "marker": {
            "color": "#FF6692",
            "pattern": {
             "shape": ""
            }
           },
           "name": "RIVIAN",
           "offsetgroup": "RIVIAN",
           "orientation": "h",
           "showlegend": true,
           "textposition": "auto",
           "type": "bar",
           "x": [
            884
           ],
           "xaxis": "x",
           "y": [
            "RIVIAN"
           ],
           "yaxis": "y"
          },
          {
           "alignmentgroup": "True",
           "hovertemplate": "Make=%{y}<br>Model Year=2022<br>Number of EV Vehicles=%{x}<extra></extra>",
           "legendgroup": "TESLA",
           "marker": {
            "color": "#FECB52",
            "pattern": {
             "shape": ""
            }
           },
           "name": "TESLA",
           "offsetgroup": "TESLA",
           "orientation": "h",
           "showlegend": true,
           "textposition": "auto",
           "type": "bar",
           "x": [
            14524
           ],
           "xaxis": "x",
           "y": [
            "TESLA"
           ],
           "yaxis": "y"
          },
          {
           "alignmentgroup": "True",
           "hovertemplate": "Make=%{y}<br>Model Year=2022<br>Number of EV Vehicles=%{x}<extra></extra>",
           "legendgroup": "TOYOTA",
           "marker": {
            "color": "#EF553B",
            "pattern": {
             "shape": ""
            }
           },
           "name": "TOYOTA",
           "offsetgroup": "TOYOTA",
           "orientation": "h",
           "showlegend": true,
           "textposition": "auto",
           "type": "bar",
           "x": [
            419
           ],
           "xaxis": "x",
           "y": [
            "TOYOTA"
           ],
           "yaxis": "y"
          },
          {
           "alignmentgroup": "True",
           "hovertemplate": "Make=%{y}<br>Model Year=2022<br>Number of EV Vehicles=%{x}<extra></extra>",
           "legendgroup": "VOLKSWAGEN",
           "marker": {
            "color": "#00cc96",
            "pattern": {
             "shape": ""
            }
           },
           "name": "VOLKSWAGEN",
           "offsetgroup": "VOLKSWAGEN",
           "orientation": "h",
           "showlegend": true,
           "textposition": "auto",
           "type": "bar",
           "x": [
            428
           ],
           "xaxis": "x",
           "y": [
            "VOLKSWAGEN"
           ],
           "yaxis": "y"
          },
          {
           "alignmentgroup": "True",
           "hovertemplate": "Make=%{y}<br>Model Year=2022<br>Number of EV Vehicles=%{x}<extra></extra>",
           "legendgroup": "VOLVO",
           "marker": {
            "color": "#ab63fa",
            "pattern": {
             "shape": ""
            }
           },
           "name": "VOLVO",
           "offsetgroup": "VOLVO",
           "orientation": "h",
           "showlegend": true,
           "textposition": "auto",
           "type": "bar",
           "x": [
            878
           ],
           "xaxis": "x",
           "y": [
            "VOLVO"
           ],
           "yaxis": "y"
          }
         ],
         "name": "2022"
        },
        {
         "data": [
          {
           "alignmentgroup": "True",
           "hovertemplate": "Make=%{y}<br>Model Year=2023<br>Number of EV Vehicles=%{x}<extra></extra>",
           "legendgroup": "AUDI",
           "marker": {
            "color": "#636efa",
            "pattern": {
             "shape": ""
            }
           },
           "name": "AUDI",
           "offsetgroup": "AUDI",
           "orientation": "h",
           "showlegend": true,
           "textposition": "auto",
           "type": "bar",
           "x": [
            11
           ],
           "xaxis": "x",
           "y": [
            "AUDI"
           ],
           "yaxis": "y"
          },
          {
           "alignmentgroup": "True",
           "hovertemplate": "Make=%{y}<br>Model Year=2023<br>Number of EV Vehicles=%{x}<extra></extra>",
           "legendgroup": "BMW",
           "marker": {
            "color": "#ab63fa",
            "pattern": {
             "shape": ""
            }
           },
           "name": "BMW",
           "offsetgroup": "BMW",
           "orientation": "h",
           "showlegend": true,
           "textposition": "auto",
           "type": "bar",
           "x": [
            73
           ],
           "xaxis": "x",
           "y": [
            "BMW"
           ],
           "yaxis": "y"
          },
          {
           "alignmentgroup": "True",
           "hovertemplate": "Make=%{y}<br>Model Year=2023<br>Number of EV Vehicles=%{x}<extra></extra>",
           "legendgroup": "CHEVROLET",
           "marker": {
            "color": "#19d3f3",
            "pattern": {
             "shape": ""
            }
           },
           "name": "CHEVROLET",
           "offsetgroup": "CHEVROLET",
           "orientation": "h",
           "showlegend": true,
           "textposition": "auto",
           "type": "bar",
           "x": [
            177
           ],
           "xaxis": "x",
           "y": [
            "CHEVROLET"
           ],
           "yaxis": "y"
          },
          {
           "alignmentgroup": "True",
           "hovertemplate": "Make=%{y}<br>Model Year=2023<br>Number of EV Vehicles=%{x}<extra></extra>",
           "legendgroup": "FORD",
           "marker": {
            "color": "#FECB52",
            "pattern": {
             "shape": ""
            }
           },
           "name": "FORD",
           "offsetgroup": "FORD",
           "orientation": "h",
           "showlegend": true,
           "textposition": "auto",
           "type": "bar",
           "x": [
            4
           ],
           "xaxis": "x",
           "y": [
            "FORD"
           ],
           "yaxis": "y"
          },
          {
           "alignmentgroup": "True",
           "hovertemplate": "Make=%{y}<br>Model Year=2023<br>Number of EV Vehicles=%{x}<extra></extra>",
           "legendgroup": "GENESIS",
           "marker": {
            "color": "#636efa",
            "pattern": {
             "shape": ""
            }
           },
           "name": "GENESIS",
           "offsetgroup": "GENESIS",
           "orientation": "h",
           "showlegend": true,
           "textposition": "auto",
           "type": "bar",
           "x": [
            18
           ],
           "xaxis": "x",
           "y": [
            "GENESIS"
           ],
           "yaxis": "y"
          },
          {
           "alignmentgroup": "True",
           "hovertemplate": "Make=%{y}<br>Model Year=2023<br>Number of EV Vehicles=%{x}<extra></extra>",
           "legendgroup": "HYUNDAI",
           "marker": {
            "color": "#00cc96",
            "pattern": {
             "shape": ""
            }
           },
           "name": "HYUNDAI",
           "offsetgroup": "HYUNDAI",
           "orientation": "h",
           "showlegend": true,
           "textposition": "auto",
           "type": "bar",
           "x": [
            154
           ],
           "xaxis": "x",
           "y": [
            "HYUNDAI"
           ],
           "yaxis": "y"
          },
          {
           "alignmentgroup": "True",
           "hovertemplate": "Make=%{y}<br>Model Year=2023<br>Number of EV Vehicles=%{x}<extra></extra>",
           "legendgroup": "KIA",
           "marker": {
            "color": "#19d3f3",
            "pattern": {
             "shape": ""
            }
           },
           "name": "KIA",
           "offsetgroup": "KIA",
           "orientation": "h",
           "showlegend": true,
           "textposition": "auto",
           "type": "bar",
           "x": [
            78
           ],
           "xaxis": "x",
           "y": [
            "KIA"
           ],
           "yaxis": "y"
          },
          {
           "alignmentgroup": "True",
           "hovertemplate": "Make=%{y}<br>Model Year=2023<br>Number of EV Vehicles=%{x}<extra></extra>",
           "legendgroup": "LINCOLN",
           "marker": {
            "color": "#FF97FF",
            "pattern": {
             "shape": ""
            }
           },
           "name": "LINCOLN",
           "offsetgroup": "LINCOLN",
           "orientation": "h",
           "showlegend": true,
           "textposition": "auto",
           "type": "bar",
           "x": [
            4
           ],
           "xaxis": "x",
           "y": [
            "LINCOLN"
           ],
           "yaxis": "y"
          },
          {
           "alignmentgroup": "True",
           "hovertemplate": "Make=%{y}<br>Model Year=2023<br>Number of EV Vehicles=%{x}<extra></extra>",
           "legendgroup": "MERCEDES-BENZ",
           "marker": {
            "color": "#636efa",
            "pattern": {
             "shape": ""
            }
           },
           "name": "MERCEDES-BENZ",
           "offsetgroup": "MERCEDES-BENZ",
           "orientation": "h",
           "showlegend": true,
           "textposition": "auto",
           "type": "bar",
           "x": [
            23
           ],
           "xaxis": "x",
           "y": [
            "MERCEDES-BENZ"
           ],
           "yaxis": "y"
          },
          {
           "alignmentgroup": "True",
           "hovertemplate": "Make=%{y}<br>Model Year=2023<br>Number of EV Vehicles=%{x}<extra></extra>",
           "legendgroup": "MINI",
           "marker": {
            "color": "#EF553B",
            "pattern": {
             "shape": ""
            }
           },
           "name": "MINI",
           "offsetgroup": "MINI",
           "orientation": "h",
           "showlegend": true,
           "textposition": "auto",
           "type": "bar",
           "x": [
            124
           ],
           "xaxis": "x",
           "y": [
            "MINI"
           ],
           "yaxis": "y"
          },
          {
           "alignmentgroup": "True",
           "hovertemplate": "Make=%{y}<br>Model Year=2023<br>Number of EV Vehicles=%{x}<extra></extra>",
           "legendgroup": "NISSAN",
           "marker": {
            "color": "#ab63fa",
            "pattern": {
             "shape": ""
            }
           },
           "name": "NISSAN",
           "offsetgroup": "NISSAN",
           "orientation": "h",
           "showlegend": true,
           "textposition": "auto",
           "type": "bar",
           "x": [
            149
           ],
           "xaxis": "x",
           "y": [
            "NISSAN"
           ],
           "yaxis": "y"
          },
          {
           "alignmentgroup": "True",
           "hovertemplate": "Make=%{y}<br>Model Year=2023<br>Number of EV Vehicles=%{x}<extra></extra>",
           "legendgroup": "POLESTAR",
           "marker": {
            "color": "#FFA15A",
            "pattern": {
             "shape": ""
            }
           },
           "name": "POLESTAR",
           "offsetgroup": "POLESTAR",
           "orientation": "h",
           "showlegend": true,
           "textposition": "auto",
           "type": "bar",
           "x": [
            88
           ],
           "xaxis": "x",
           "y": [
            "POLESTAR"
           ],
           "yaxis": "y"
          },
          {
           "alignmentgroup": "True",
           "hovertemplate": "Make=%{y}<br>Model Year=2023<br>Number of EV Vehicles=%{x}<extra></extra>",
           "legendgroup": "SUBARU",
           "marker": {
            "color": "#FF97FF",
            "pattern": {
             "shape": ""
            }
           },
           "name": "SUBARU",
           "offsetgroup": "SUBARU",
           "orientation": "h",
           "showlegend": true,
           "textposition": "auto",
           "type": "bar",
           "x": [
            1
           ],
           "xaxis": "x",
           "y": [
            "SUBARU"
           ],
           "yaxis": "y"
          },
          {
           "alignmentgroup": "True",
           "hovertemplate": "Make=%{y}<br>Model Year=2023<br>Number of EV Vehicles=%{x}<extra></extra>",
           "legendgroup": "TESLA",
           "marker": {
            "color": "#FECB52",
            "pattern": {
             "shape": ""
            }
           },
           "name": "TESLA",
           "offsetgroup": "TESLA",
           "orientation": "h",
           "showlegend": true,
           "textposition": "auto",
           "type": "bar",
           "x": [
            890
           ],
           "xaxis": "x",
           "y": [
            "TESLA"
           ],
           "yaxis": "y"
          },
          {
           "alignmentgroup": "True",
           "hovertemplate": "Make=%{y}<br>Model Year=2023<br>Number of EV Vehicles=%{x}<extra></extra>",
           "legendgroup": "VOLKSWAGEN",
           "marker": {
            "color": "#00cc96",
            "pattern": {
             "shape": ""
            }
           },
           "name": "VOLKSWAGEN",
           "offsetgroup": "VOLKSWAGEN",
           "orientation": "h",
           "showlegend": true,
           "textposition": "auto",
           "type": "bar",
           "x": [
            69
           ],
           "xaxis": "x",
           "y": [
            "VOLKSWAGEN"
           ],
           "yaxis": "y"
          },
          {
           "alignmentgroup": "True",
           "hovertemplate": "Make=%{y}<br>Model Year=2023<br>Number of EV Vehicles=%{x}<extra></extra>",
           "legendgroup": "VOLVO",
           "marker": {
            "color": "#ab63fa",
            "pattern": {
             "shape": ""
            }
           },
           "name": "VOLVO",
           "offsetgroup": "VOLVO",
           "orientation": "h",
           "showlegend": true,
           "textposition": "auto",
           "type": "bar",
           "x": [
            21
           ],
           "xaxis": "x",
           "y": [
            "VOLVO"
           ],
           "yaxis": "y"
          }
         ],
         "name": "2023"
        },
        {
         "data": [
          {
           "alignmentgroup": "True",
           "hovertemplate": "Make=%{y}<br>Model Year=2011<br>Number of EV Vehicles=%{x}<extra></extra>",
           "legendgroup": "AZURE DYNAMICS",
           "marker": {
            "color": "#EF553B",
            "pattern": {
             "shape": ""
            }
           },
           "name": "AZURE DYNAMICS",
           "offsetgroup": "AZURE DYNAMICS",
           "orientation": "h",
           "showlegend": true,
           "textposition": "auto",
           "type": "bar",
           "x": [
            4
           ],
           "xaxis": "x",
           "y": [
            "AZURE DYNAMICS"
           ],
           "yaxis": "y"
          },
          {
           "alignmentgroup": "True",
           "hovertemplate": "Make=%{y}<br>Model Year=2011<br>Number of EV Vehicles=%{x}<extra></extra>",
           "legendgroup": "CHEVROLET",
           "marker": {
            "color": "#19d3f3",
            "pattern": {
             "shape": ""
            }
           },
           "name": "CHEVROLET",
           "offsetgroup": "CHEVROLET",
           "orientation": "h",
           "showlegend": true,
           "textposition": "auto",
           "type": "bar",
           "x": [
            71
           ],
           "xaxis": "x",
           "y": [
            "CHEVROLET"
           ],
           "yaxis": "y"
          },
          {
           "alignmentgroup": "True",
           "hovertemplate": "Make=%{y}<br>Model Year=2011<br>Number of EV Vehicles=%{x}<extra></extra>",
           "legendgroup": "NISSAN",
           "marker": {
            "color": "#ab63fa",
            "pattern": {
             "shape": ""
            }
           },
           "name": "NISSAN",
           "offsetgroup": "NISSAN",
           "orientation": "h",
           "showlegend": true,
           "textposition": "auto",
           "type": "bar",
           "x": [
            754
           ],
           "xaxis": "x",
           "y": [
            "NISSAN"
           ],
           "yaxis": "y"
          },
          {
           "alignmentgroup": "True",
           "hovertemplate": "Make=%{y}<br>Model Year=2011<br>Number of EV Vehicles=%{x}<extra></extra>",
           "legendgroup": "TESLA",
           "marker": {
            "color": "#FECB52",
            "pattern": {
             "shape": ""
            }
           },
           "name": "TESLA",
           "offsetgroup": "TESLA",
           "orientation": "h",
           "showlegend": true,
           "textposition": "auto",
           "type": "bar",
           "x": [
            7
           ],
           "xaxis": "x",
           "y": [
            "TESLA"
           ],
           "yaxis": "y"
          },
          {
           "alignmentgroup": "True",
           "hovertemplate": "Make=%{y}<br>Model Year=2011<br>Number of EV Vehicles=%{x}<extra></extra>",
           "legendgroup": "TH!NK",
           "marker": {
            "color": "#636efa",
            "pattern": {
             "shape": ""
            }
           },
           "name": "TH!NK",
           "offsetgroup": "TH!NK",
           "orientation": "h",
           "showlegend": true,
           "textposition": "auto",
           "type": "bar",
           "x": [
            3
           ],
           "xaxis": "x",
           "y": [
            "TH!NK"
           ],
           "yaxis": "y"
          }
         ],
         "name": "2011"
        },
        {
         "data": [
          {
           "alignmentgroup": "True",
           "hovertemplate": "Make=%{y}<br>Model Year=2012<br>Number of EV Vehicles=%{x}<extra></extra>",
           "legendgroup": "AZURE DYNAMICS",
           "marker": {
            "color": "#EF553B",
            "pattern": {
             "shape": ""
            }
           },
           "name": "AZURE DYNAMICS",
           "offsetgroup": "AZURE DYNAMICS",
           "orientation": "h",
           "showlegend": true,
           "textposition": "auto",
           "type": "bar",
           "x": [
            3
           ],
           "xaxis": "x",
           "y": [
            "AZURE DYNAMICS"
           ],
           "yaxis": "y"
          },
          {
           "alignmentgroup": "True",
           "hovertemplate": "Make=%{y}<br>Model Year=2012<br>Number of EV Vehicles=%{x}<extra></extra>",
           "legendgroup": "CHEVROLET",
           "marker": {
            "color": "#19d3f3",
            "pattern": {
             "shape": ""
            }
           },
           "name": "CHEVROLET",
           "offsetgroup": "CHEVROLET",
           "orientation": "h",
           "showlegend": true,
           "textposition": "auto",
           "type": "bar",
           "x": [
            495
           ],
           "xaxis": "x",
           "y": [
            "CHEVROLET"
           ],
           "yaxis": "y"
          },
          {
           "alignmentgroup": "True",
           "hovertemplate": "Make=%{y}<br>Model Year=2012<br>Number of EV Vehicles=%{x}<extra></extra>",
           "legendgroup": "FISKER",
           "marker": {
            "color": "#FF97FF",
            "pattern": {
             "shape": ""
            }
           },
           "name": "FISKER",
           "offsetgroup": "FISKER",
           "orientation": "h",
           "showlegend": true,
           "textposition": "auto",
           "type": "bar",
           "x": [
            19
           ],
           "xaxis": "x",
           "y": [
            "FISKER"
           ],
           "yaxis": "y"
          },
          {
           "alignmentgroup": "True",
           "hovertemplate": "Make=%{y}<br>Model Year=2012<br>Number of EV Vehicles=%{x}<extra></extra>",
           "legendgroup": "FORD",
           "marker": {
            "color": "#FECB52",
            "pattern": {
             "shape": ""
            }
           },
           "name": "FORD",
           "offsetgroup": "FORD",
           "orientation": "h",
           "showlegend": true,
           "textposition": "auto",
           "type": "bar",
           "x": [
            15
           ],
           "xaxis": "x",
           "y": [
            "FORD"
           ],
           "yaxis": "y"
          },
          {
           "alignmentgroup": "True",
           "hovertemplate": "Make=%{y}<br>Model Year=2012<br>Number of EV Vehicles=%{x}<extra></extra>",
           "legendgroup": "MITSUBISHI",
           "marker": {
            "color": "#00cc96",
            "pattern": {
             "shape": ""
            }
           },
           "name": "MITSUBISHI",
           "offsetgroup": "MITSUBISHI",
           "orientation": "h",
           "showlegend": true,
           "textposition": "auto",
           "type": "bar",
           "x": [
            42
           ],
           "xaxis": "x",
           "y": [
            "MITSUBISHI"
           ],
           "yaxis": "y"
          },
          {
           "alignmentgroup": "True",
           "hovertemplate": "Make=%{y}<br>Model Year=2012<br>Number of EV Vehicles=%{x}<extra></extra>",
           "legendgroup": "NISSAN",
           "marker": {
            "color": "#ab63fa",
            "pattern": {
             "shape": ""
            }
           },
           "name": "NISSAN",
           "offsetgroup": "NISSAN",
           "orientation": "h",
           "showlegend": true,
           "textposition": "auto",
           "type": "bar",
           "x": [
            610
           ],
           "xaxis": "x",
           "y": [
            "NISSAN"
           ],
           "yaxis": "y"
          },
          {
           "alignmentgroup": "True",
           "hovertemplate": "Make=%{y}<br>Model Year=2012<br>Number of EV Vehicles=%{x}<extra></extra>",
           "legendgroup": "TESLA",
           "marker": {
            "color": "#FECB52",
            "pattern": {
             "shape": ""
            }
           },
           "name": "TESLA",
           "offsetgroup": "TESLA",
           "orientation": "h",
           "showlegend": true,
           "textposition": "auto",
           "type": "bar",
           "x": [
            134
           ],
           "xaxis": "x",
           "y": [
            "TESLA"
           ],
           "yaxis": "y"
          },
          {
           "alignmentgroup": "True",
           "hovertemplate": "Make=%{y}<br>Model Year=2012<br>Number of EV Vehicles=%{x}<extra></extra>",
           "legendgroup": "TOYOTA",
           "marker": {
            "color": "#EF553B",
            "pattern": {
             "shape": ""
            }
           },
           "name": "TOYOTA",
           "offsetgroup": "TOYOTA",
           "orientation": "h",
           "showlegend": true,
           "textposition": "auto",
           "type": "bar",
           "x": [
            384
           ],
           "xaxis": "x",
           "y": [
            "TOYOTA"
           ],
           "yaxis": "y"
          }
         ],
         "name": "2012"
        },
        {
         "data": [
          {
           "alignmentgroup": "True",
           "hovertemplate": "Make=%{y}<br>Model Year=2014<br>Number of EV Vehicles=%{x}<extra></extra>",
           "legendgroup": "BMW",
           "marker": {
            "color": "#ab63fa",
            "pattern": {
             "shape": ""
            }
           },
           "name": "BMW",
           "offsetgroup": "BMW",
           "orientation": "h",
           "showlegend": true,
           "textposition": "auto",
           "type": "bar",
           "x": [
            457
           ],
           "xaxis": "x",
           "y": [
            "BMW"
           ],
           "yaxis": "y"
          },
          {
           "alignmentgroup": "True",
           "hovertemplate": "Make=%{y}<br>Model Year=2014<br>Number of EV Vehicles=%{x}<extra></extra>",
           "legendgroup": "CADILLAC",
           "marker": {
            "color": "#FFA15A",
            "pattern": {
             "shape": ""
            }
           },
           "name": "CADILLAC",
           "offsetgroup": "CADILLAC",
           "orientation": "h",
           "showlegend": true,
           "textposition": "auto",
           "type": "bar",
           "x": [
            58
           ],
           "xaxis": "x",
           "y": [
            "CADILLAC"
           ],
           "yaxis": "y"
          },
          {
           "alignmentgroup": "True",
           "hovertemplate": "Make=%{y}<br>Model Year=2014<br>Number of EV Vehicles=%{x}<extra></extra>",
           "legendgroup": "CHEVROLET",
           "marker": {
            "color": "#19d3f3",
            "pattern": {
             "shape": ""
            }
           },
           "name": "CHEVROLET",
           "offsetgroup": "CHEVROLET",
           "orientation": "h",
           "showlegend": true,
           "textposition": "auto",
           "type": "bar",
           "x": [
            720
           ],
           "xaxis": "x",
           "y": [
            "CHEVROLET"
           ],
           "yaxis": "y"
          },
          {
           "alignmentgroup": "True",
           "hovertemplate": "Make=%{y}<br>Model Year=2014<br>Number of EV Vehicles=%{x}<extra></extra>",
           "legendgroup": "FIAT",
           "marker": {
            "color": "#B6E880",
            "pattern": {
             "shape": ""
            }
           },
           "name": "FIAT",
           "offsetgroup": "FIAT",
           "orientation": "h",
           "showlegend": true,
           "textposition": "auto",
           "type": "bar",
           "x": [
            97
           ],
           "xaxis": "x",
           "y": [
            "FIAT"
           ],
           "yaxis": "y"
          },
          {
           "alignmentgroup": "True",
           "hovertemplate": "Make=%{y}<br>Model Year=2014<br>Number of EV Vehicles=%{x}<extra></extra>",
           "legendgroup": "FORD",
           "marker": {
            "color": "#FECB52",
            "pattern": {
             "shape": ""
            }
           },
           "name": "FORD",
           "offsetgroup": "FORD",
           "orientation": "h",
           "showlegend": true,
           "textposition": "auto",
           "type": "bar",
           "x": [
            622
           ],
           "xaxis": "x",
           "y": [
            "FORD"
           ],
           "yaxis": "y"
          },
          {
           "alignmentgroup": "True",
           "hovertemplate": "Make=%{y}<br>Model Year=2014<br>Number of EV Vehicles=%{x}<extra></extra>",
           "legendgroup": "HONDA",
           "marker": {
            "color": "#EF553B",
            "pattern": {
             "shape": ""
            }
           },
           "name": "HONDA",
           "offsetgroup": "HONDA",
           "orientation": "h",
           "showlegend": true,
           "textposition": "auto",
           "type": "bar",
           "x": [
            9
           ],
           "xaxis": "x",
           "y": [
            "HONDA"
           ],
           "yaxis": "y"
          },
          {
           "alignmentgroup": "True",
           "hovertemplate": "Make=%{y}<br>Model Year=2014<br>Number of EV Vehicles=%{x}<extra></extra>",
           "legendgroup": "MERCEDES-BENZ",
           "marker": {
            "color": "#636efa",
            "pattern": {
             "shape": ""
            }
           },
           "name": "MERCEDES-BENZ",
           "offsetgroup": "MERCEDES-BENZ",
           "orientation": "h",
           "showlegend": true,
           "textposition": "auto",
           "type": "bar",
           "x": [
            31
           ],
           "xaxis": "x",
           "y": [
            "MERCEDES-BENZ"
           ],
           "yaxis": "y"
          },
          {
           "alignmentgroup": "True",
           "hovertemplate": "Make=%{y}<br>Model Year=2014<br>Number of EV Vehicles=%{x}<extra></extra>",
           "legendgroup": "MITSUBISHI",
           "marker": {
            "color": "#00cc96",
            "pattern": {
             "shape": ""
            }
           },
           "name": "MITSUBISHI",
           "offsetgroup": "MITSUBISHI",
           "orientation": "h",
           "showlegend": true,
           "textposition": "auto",
           "type": "bar",
           "x": [
            10
           ],
           "xaxis": "x",
           "y": [
            "MITSUBISHI"
           ],
           "yaxis": "y"
          },
          {
           "alignmentgroup": "True",
           "hovertemplate": "Make=%{y}<br>Model Year=2014<br>Number of EV Vehicles=%{x}<extra></extra>",
           "legendgroup": "NISSAN",
           "marker": {
            "color": "#ab63fa",
            "pattern": {
             "shape": ""
            }
           },
           "name": "NISSAN",
           "offsetgroup": "NISSAN",
           "orientation": "h",
           "showlegend": true,
           "textposition": "auto",
           "type": "bar",
           "x": [
            692
           ],
           "xaxis": "x",
           "y": [
            "NISSAN"
           ],
           "yaxis": "y"
          },
          {
           "alignmentgroup": "True",
           "hovertemplate": "Make=%{y}<br>Model Year=2014<br>Number of EV Vehicles=%{x}<extra></extra>",
           "legendgroup": "PORSCHE",
           "marker": {
            "color": "#19d3f3",
            "pattern": {
             "shape": ""
            }
           },
           "name": "PORSCHE",
           "offsetgroup": "PORSCHE",
           "orientation": "h",
           "showlegend": true,
           "textposition": "auto",
           "type": "bar",
           "x": [
            8
           ],
           "xaxis": "x",
           "y": [
            "PORSCHE"
           ],
           "yaxis": "y"
          },
          {
           "alignmentgroup": "True",
           "hovertemplate": "Make=%{y}<br>Model Year=2014<br>Number of EV Vehicles=%{x}<extra></extra>",
           "legendgroup": "SMART",
           "marker": {
            "color": "#B6E880",
            "pattern": {
             "shape": ""
            }
           },
           "name": "SMART",
           "offsetgroup": "SMART",
           "orientation": "h",
           "showlegend": true,
           "textposition": "auto",
           "type": "bar",
           "x": [
            71
           ],
           "xaxis": "x",
           "y": [
            "SMART"
           ],
           "yaxis": "y"
          },
          {
           "alignmentgroup": "True",
           "hovertemplate": "Make=%{y}<br>Model Year=2014<br>Number of EV Vehicles=%{x}<extra></extra>",
           "legendgroup": "TESLA",
           "marker": {
            "color": "#FECB52",
            "pattern": {
             "shape": ""
            }
           },
           "name": "TESLA",
           "offsetgroup": "TESLA",
           "orientation": "h",
           "showlegend": true,
           "textposition": "auto",
           "type": "bar",
           "x": [
            683
           ],
           "xaxis": "x",
           "y": [
            "TESLA"
           ],
           "yaxis": "y"
          },
          {
           "alignmentgroup": "True",
           "hovertemplate": "Make=%{y}<br>Model Year=2014<br>Number of EV Vehicles=%{x}<extra></extra>",
           "legendgroup": "TOYOTA",
           "marker": {
            "color": "#EF553B",
            "pattern": {
             "shape": ""
            }
           },
           "name": "TOYOTA",
           "offsetgroup": "TOYOTA",
           "orientation": "h",
           "showlegend": true,
           "textposition": "auto",
           "type": "bar",
           "x": [
            215
           ],
           "xaxis": "x",
           "y": [
            "TOYOTA"
           ],
           "yaxis": "y"
          }
         ],
         "name": "2014"
        },
        {
         "data": [
          {
           "alignmentgroup": "True",
           "hovertemplate": "Make=%{y}<br>Model Year=2015<br>Number of EV Vehicles=%{x}<extra></extra>",
           "legendgroup": "BMW",
           "marker": {
            "color": "#ab63fa",
            "pattern": {
             "shape": ""
            }
           },
           "name": "BMW",
           "offsetgroup": "BMW",
           "orientation": "h",
           "showlegend": true,
           "textposition": "auto",
           "type": "bar",
           "x": [
            402
           ],
           "xaxis": "x",
           "y": [
            "BMW"
           ],
           "yaxis": "y"
          },
          {
           "alignmentgroup": "True",
           "hovertemplate": "Make=%{y}<br>Model Year=2015<br>Number of EV Vehicles=%{x}<extra></extra>",
           "legendgroup": "CHEVROLET",
           "marker": {
            "color": "#19d3f3",
            "pattern": {
             "shape": ""
            }
           },
           "name": "CHEVROLET",
           "offsetgroup": "CHEVROLET",
           "orientation": "h",
           "showlegend": true,
           "textposition": "auto",
           "type": "bar",
           "x": [
            465
           ],
           "xaxis": "x",
           "y": [
            "CHEVROLET"
           ],
           "yaxis": "y"
          },
          {
           "alignmentgroup": "True",
           "hovertemplate": "Make=%{y}<br>Model Year=2015<br>Number of EV Vehicles=%{x}<extra></extra>",
           "legendgroup": "FIAT",
           "marker": {
            "color": "#B6E880",
            "pattern": {
             "shape": ""
            }
           },
           "name": "FIAT",
           "offsetgroup": "FIAT",
           "orientation": "h",
           "showlegend": true,
           "textposition": "auto",
           "type": "bar",
           "x": [
            242
           ],
           "xaxis": "x",
           "y": [
            "FIAT"
           ],
           "yaxis": "y"
          },
          {
           "alignmentgroup": "True",
           "hovertemplate": "Make=%{y}<br>Model Year=2015<br>Number of EV Vehicles=%{x}<extra></extra>",
           "legendgroup": "FORD",
           "marker": {
            "color": "#FECB52",
            "pattern": {
             "shape": ""
            }
           },
           "name": "FORD",
           "offsetgroup": "FORD",
           "orientation": "h",
           "showlegend": true,
           "textposition": "auto",
           "type": "bar",
           "x": [
            550
           ],
           "xaxis": "x",
           "y": [
            "FORD"
           ],
           "yaxis": "y"
          },
          {
           "alignmentgroup": "True",
           "hovertemplate": "Make=%{y}<br>Model Year=2015<br>Number of EV Vehicles=%{x}<extra></extra>",
           "legendgroup": "KIA",
           "marker": {
            "color": "#19d3f3",
            "pattern": {
             "shape": ""
            }
           },
           "name": "KIA",
           "offsetgroup": "KIA",
           "orientation": "h",
           "showlegend": true,
           "textposition": "auto",
           "type": "bar",
           "x": [
            22
           ],
           "xaxis": "x",
           "y": [
            "KIA"
           ],
           "yaxis": "y"
          },
          {
           "alignmentgroup": "True",
           "hovertemplate": "Make=%{y}<br>Model Year=2015<br>Number of EV Vehicles=%{x}<extra></extra>",
           "legendgroup": "MERCEDES-BENZ",
           "marker": {
            "color": "#636efa",
            "pattern": {
             "shape": ""
            }
           },
           "name": "MERCEDES-BENZ",
           "offsetgroup": "MERCEDES-BENZ",
           "orientation": "h",
           "showlegend": true,
           "textposition": "auto",
           "type": "bar",
           "x": [
            24
           ],
           "xaxis": "x",
           "y": [
            "MERCEDES-BENZ"
           ],
           "yaxis": "y"
          },
          {
           "alignmentgroup": "True",
           "hovertemplate": "Make=%{y}<br>Model Year=2015<br>Number of EV Vehicles=%{x}<extra></extra>",
           "legendgroup": "NISSAN",
           "marker": {
            "color": "#ab63fa",
            "pattern": {
             "shape": ""
            }
           },
           "name": "NISSAN",
           "offsetgroup": "NISSAN",
           "orientation": "h",
           "showlegend": true,
           "textposition": "auto",
           "type": "bar",
           "x": [
            1837
           ],
           "xaxis": "x",
           "y": [
            "NISSAN"
           ],
           "yaxis": "y"
          },
          {
           "alignmentgroup": "True",
           "hovertemplate": "Make=%{y}<br>Model Year=2015<br>Number of EV Vehicles=%{x}<extra></extra>",
           "legendgroup": "PORSCHE",
           "marker": {
            "color": "#19d3f3",
            "pattern": {
             "shape": ""
            }
           },
           "name": "PORSCHE",
           "offsetgroup": "PORSCHE",
           "orientation": "h",
           "showlegend": true,
           "textposition": "auto",
           "type": "bar",
           "x": [
            33
           ],
           "xaxis": "x",
           "y": [
            "PORSCHE"
           ],
           "yaxis": "y"
          },
          {
           "alignmentgroup": "True",
           "hovertemplate": "Make=%{y}<br>Model Year=2015<br>Number of EV Vehicles=%{x}<extra></extra>",
           "legendgroup": "SMART",
           "marker": {
            "color": "#B6E880",
            "pattern": {
             "shape": ""
            }
           },
           "name": "SMART",
           "offsetgroup": "SMART",
           "orientation": "h",
           "showlegend": true,
           "textposition": "auto",
           "type": "bar",
           "x": [
            52
           ],
           "xaxis": "x",
           "y": [
            "SMART"
           ],
           "yaxis": "y"
          },
          {
           "alignmentgroup": "True",
           "hovertemplate": "Make=%{y}<br>Model Year=2015<br>Number of EV Vehicles=%{x}<extra></extra>",
           "legendgroup": "TESLA",
           "marker": {
            "color": "#FECB52",
            "pattern": {
             "shape": ""
            }
           },
           "name": "TESLA",
           "offsetgroup": "TESLA",
           "orientation": "h",
           "showlegend": true,
           "textposition": "auto",
           "type": "bar",
           "x": [
            1086
           ],
           "xaxis": "x",
           "y": [
            "TESLA"
           ],
           "yaxis": "y"
          },
          {
           "alignmentgroup": "True",
           "hovertemplate": "Make=%{y}<br>Model Year=2015<br>Number of EV Vehicles=%{x}<extra></extra>",
           "legendgroup": "TOYOTA",
           "marker": {
            "color": "#EF553B",
            "pattern": {
             "shape": ""
            }
           },
           "name": "TOYOTA",
           "offsetgroup": "TOYOTA",
           "orientation": "h",
           "showlegend": true,
           "textposition": "auto",
           "type": "bar",
           "x": [
            87
           ],
           "xaxis": "x",
           "y": [
            "TOYOTA"
           ],
           "yaxis": "y"
          },
          {
           "alignmentgroup": "True",
           "hovertemplate": "Make=%{y}<br>Model Year=2015<br>Number of EV Vehicles=%{x}<extra></extra>",
           "legendgroup": "VOLKSWAGEN",
           "marker": {
            "color": "#00cc96",
            "pattern": {
             "shape": ""
            }
           },
           "name": "VOLKSWAGEN",
           "offsetgroup": "VOLKSWAGEN",
           "orientation": "h",
           "showlegend": true,
           "textposition": "auto",
           "type": "bar",
           "x": [
            124
           ],
           "xaxis": "x",
           "y": [
            "VOLKSWAGEN"
           ],
           "yaxis": "y"
          }
         ],
         "name": "2015"
        },
        {
         "data": [
          {
           "alignmentgroup": "True",
           "hovertemplate": "Make=%{y}<br>Model Year=1997<br>Number of EV Vehicles=%{x}<extra></extra>",
           "legendgroup": "CHEVROLET",
           "marker": {
            "color": "#19d3f3",
            "pattern": {
             "shape": ""
            }
           },
           "name": "CHEVROLET",
           "offsetgroup": "CHEVROLET",
           "orientation": "h",
           "showlegend": true,
           "textposition": "auto",
           "type": "bar",
           "x": [
            1
           ],
           "xaxis": "x",
           "y": [
            "CHEVROLET"
           ],
           "yaxis": "y"
          }
         ],
         "name": "1997"
        },
        {
         "data": [
          {
           "alignmentgroup": "True",
           "hovertemplate": "Make=%{y}<br>Model Year=2013<br>Number of EV Vehicles=%{x}<extra></extra>",
           "legendgroup": "CHEVROLET",
           "marker": {
            "color": "#19d3f3",
            "pattern": {
             "shape": ""
            }
           },
           "name": "CHEVROLET",
           "offsetgroup": "CHEVROLET",
           "orientation": "h",
           "showlegend": true,
           "textposition": "auto",
           "type": "bar",
           "x": [
            815
           ],
           "xaxis": "x",
           "y": [
            "CHEVROLET"
           ],
           "yaxis": "y"
          },
          {
           "alignmentgroup": "True",
           "hovertemplate": "Make=%{y}<br>Model Year=2013<br>Number of EV Vehicles=%{x}<extra></extra>",
           "legendgroup": "FIAT",
           "marker": {
            "color": "#B6E880",
            "pattern": {
             "shape": ""
            }
           },
           "name": "FIAT",
           "offsetgroup": "FIAT",
           "orientation": "h",
           "showlegend": true,
           "textposition": "auto",
           "type": "bar",
           "x": [
            106
           ],
           "xaxis": "x",
           "y": [
            "FIAT"
           ],
           "yaxis": "y"
          },
          {
           "alignmentgroup": "True",
           "hovertemplate": "Make=%{y}<br>Model Year=2013<br>Number of EV Vehicles=%{x}<extra></extra>",
           "legendgroup": "FORD",
           "marker": {
            "color": "#FECB52",
            "pattern": {
             "shape": ""
            }
           },
           "name": "FORD",
           "offsetgroup": "FORD",
           "orientation": "h",
           "showlegend": true,
           "textposition": "auto",
           "type": "bar",
           "x": [
            661
           ],
           "xaxis": "x",
           "y": [
            "FORD"
           ],
           "yaxis": "y"
          },
          {
           "alignmentgroup": "True",
           "hovertemplate": "Make=%{y}<br>Model Year=2013<br>Number of EV Vehicles=%{x}<extra></extra>",
           "legendgroup": "NISSAN",
           "marker": {
            "color": "#ab63fa",
            "pattern": {
             "shape": ""
            }
           },
           "name": "NISSAN",
           "offsetgroup": "NISSAN",
           "orientation": "h",
           "showlegend": true,
           "textposition": "auto",
           "type": "bar",
           "x": [
            1964
           ],
           "xaxis": "x",
           "y": [
            "NISSAN"
           ],
           "yaxis": "y"
          },
          {
           "alignmentgroup": "True",
           "hovertemplate": "Make=%{y}<br>Model Year=2013<br>Number of EV Vehicles=%{x}<extra></extra>",
           "legendgroup": "SMART",
           "marker": {
            "color": "#B6E880",
            "pattern": {
             "shape": ""
            }
           },
           "name": "SMART",
           "offsetgroup": "SMART",
           "orientation": "h",
           "showlegend": true,
           "textposition": "auto",
           "type": "bar",
           "x": [
            29
           ],
           "xaxis": "x",
           "y": [
            "SMART"
           ],
           "yaxis": "y"
          },
          {
           "alignmentgroup": "True",
           "hovertemplate": "Make=%{y}<br>Model Year=2013<br>Number of EV Vehicles=%{x}<extra></extra>",
           "legendgroup": "TESLA",
           "marker": {
            "color": "#FECB52",
            "pattern": {
             "shape": ""
            }
           },
           "name": "TESLA",
           "offsetgroup": "TESLA",
           "orientation": "h",
           "showlegend": true,
           "textposition": "auto",
           "type": "bar",
           "x": [
            813
           ],
           "xaxis": "x",
           "y": [
            "TESLA"
           ],
           "yaxis": "y"
          },
          {
           "alignmentgroup": "True",
           "hovertemplate": "Make=%{y}<br>Model Year=2013<br>Number of EV Vehicles=%{x}<extra></extra>",
           "legendgroup": "TOYOTA",
           "marker": {
            "color": "#EF553B",
            "pattern": {
             "shape": ""
            }
           },
           "name": "TOYOTA",
           "offsetgroup": "TOYOTA",
           "orientation": "h",
           "showlegend": true,
           "textposition": "auto",
           "type": "bar",
           "x": [
            294
           ],
           "xaxis": "x",
           "y": [
            "TOYOTA"
           ],
           "yaxis": "y"
          }
         ],
         "name": "2013"
        },
        {
         "data": [
          {
           "alignmentgroup": "True",
           "hovertemplate": "Make=%{y}<br>Model Year=1998<br>Number of EV Vehicles=%{x}<extra></extra>",
           "legendgroup": "FORD",
           "marker": {
            "color": "#FECB52",
            "pattern": {
             "shape": ""
            }
           },
           "name": "FORD",
           "offsetgroup": "FORD",
           "orientation": "h",
           "showlegend": true,
           "textposition": "auto",
           "type": "bar",
           "x": [
            1
           ],
           "xaxis": "x",
           "y": [
            "FORD"
           ],
           "yaxis": "y"
          }
         ],
         "name": "1998"
        },
        {
         "data": [
          {
           "alignmentgroup": "True",
           "hovertemplate": "Make=%{y}<br>Model Year=1999<br>Number of EV Vehicles=%{x}<extra></extra>",
           "legendgroup": "FORD",
           "marker": {
            "color": "#FECB52",
            "pattern": {
             "shape": ""
            }
           },
           "name": "FORD",
           "offsetgroup": "FORD",
           "orientation": "h",
           "showlegend": true,
           "textposition": "auto",
           "type": "bar",
           "x": [
            3
           ],
           "xaxis": "x",
           "y": [
            "FORD"
           ],
           "yaxis": "y"
          }
         ],
         "name": "1999"
        },
        {
         "data": [
          {
           "alignmentgroup": "True",
           "hovertemplate": "Make=%{y}<br>Model Year=2000<br>Number of EV Vehicles=%{x}<extra></extra>",
           "legendgroup": "FORD",
           "marker": {
            "color": "#FECB52",
            "pattern": {
             "shape": ""
            }
           },
           "name": "FORD",
           "offsetgroup": "FORD",
           "orientation": "h",
           "showlegend": true,
           "textposition": "auto",
           "type": "bar",
           "x": [
            10
           ],
           "xaxis": "x",
           "y": [
            "FORD"
           ],
           "yaxis": "y"
          }
         ],
         "name": "2000"
        },
        {
         "data": [
          {
           "alignmentgroup": "True",
           "hovertemplate": "Make=%{y}<br>Model Year=2008<br>Number of EV Vehicles=%{x}<extra></extra>",
           "legendgroup": "TESLA",
           "marker": {
            "color": "#FECB52",
            "pattern": {
             "shape": ""
            }
           },
           "name": "TESLA",
           "offsetgroup": "TESLA",
           "orientation": "h",
           "showlegend": true,
           "textposition": "auto",
           "type": "bar",
           "x": [
            23
           ],
           "xaxis": "x",
           "y": [
            "TESLA"
           ],
           "yaxis": "y"
          }
         ],
         "name": "2008"
        },
        {
         "data": [
          {
           "alignmentgroup": "True",
           "hovertemplate": "Make=%{y}<br>Model Year=2010<br>Number of EV Vehicles=%{x}<extra></extra>",
           "legendgroup": "TESLA",
           "marker": {
            "color": "#FECB52",
            "pattern": {
             "shape": ""
            }
           },
           "name": "TESLA",
           "offsetgroup": "TESLA",
           "orientation": "h",
           "showlegend": true,
           "textposition": "auto",
           "type": "bar",
           "x": [
            24
           ],
           "xaxis": "x",
           "y": [
            "TESLA"
           ],
           "yaxis": "y"
          }
         ],
         "name": "2010"
        },
        {
         "data": [
          {
           "alignmentgroup": "True",
           "hovertemplate": "Make=%{y}<br>Model Year=2002<br>Number of EV Vehicles=%{x}<extra></extra>",
           "legendgroup": "TOYOTA",
           "marker": {
            "color": "#EF553B",
            "pattern": {
             "shape": ""
            }
           },
           "name": "TOYOTA",
           "offsetgroup": "TOYOTA",
           "orientation": "h",
           "showlegend": true,
           "textposition": "auto",
           "type": "bar",
           "x": [
            2
           ],
           "xaxis": "x",
           "y": [
            "TOYOTA"
           ],
           "yaxis": "y"
          }
         ],
         "name": "2002"
        }
       ],
       "layout": {
        "barmode": "relative",
        "height": 800,
        "legend": {
         "title": {
          "text": "Make"
         },
         "tracegroupgap": 0
        },
        "sliders": [
         {
          "active": 0,
          "currentvalue": {
           "prefix": "Model Year="
          },
          "len": 0.9,
          "pad": {
           "b": 10,
           "t": 60
          },
          "steps": [
           {
            "args": [
             [
              "2016"
             ],
             {
              "frame": {
               "duration": 0,
               "redraw": true
              },
              "fromcurrent": true,
              "mode": "immediate",
              "transition": {
               "duration": 0,
               "easing": "linear"
              }
             }
            ],
            "label": "2016",
            "method": "animate"
           },
           {
            "args": [
             [
              "2017"
             ],
             {
              "frame": {
               "duration": 0,
               "redraw": true
              },
              "fromcurrent": true,
              "mode": "immediate",
              "transition": {
               "duration": 0,
               "easing": "linear"
              }
             }
            ],
            "label": "2017",
            "method": "animate"
           },
           {
            "args": [
             [
              "2018"
             ],
             {
              "frame": {
               "duration": 0,
               "redraw": true
              },
              "fromcurrent": true,
              "mode": "immediate",
              "transition": {
               "duration": 0,
               "easing": "linear"
              }
             }
            ],
            "label": "2018",
            "method": "animate"
           },
           {
            "args": [
             [
              "2019"
             ],
             {
              "frame": {
               "duration": 0,
               "redraw": true
              },
              "fromcurrent": true,
              "mode": "immediate",
              "transition": {
               "duration": 0,
               "easing": "linear"
              }
             }
            ],
            "label": "2019",
            "method": "animate"
           },
           {
            "args": [
             [
              "2020"
             ],
             {
              "frame": {
               "duration": 0,
               "redraw": true
              },
              "fromcurrent": true,
              "mode": "immediate",
              "transition": {
               "duration": 0,
               "easing": "linear"
              }
             }
            ],
            "label": "2020",
            "method": "animate"
           },
           {
            "args": [
             [
              "2021"
             ],
             {
              "frame": {
               "duration": 0,
               "redraw": true
              },
              "fromcurrent": true,
              "mode": "immediate",
              "transition": {
               "duration": 0,
               "easing": "linear"
              }
             }
            ],
            "label": "2021",
            "method": "animate"
           },
           {
            "args": [
             [
              "2022"
             ],
             {
              "frame": {
               "duration": 0,
               "redraw": true
              },
              "fromcurrent": true,
              "mode": "immediate",
              "transition": {
               "duration": 0,
               "easing": "linear"
              }
             }
            ],
            "label": "2022",
            "method": "animate"
           },
           {
            "args": [
             [
              "2023"
             ],
             {
              "frame": {
               "duration": 0,
               "redraw": true
              },
              "fromcurrent": true,
              "mode": "immediate",
              "transition": {
               "duration": 0,
               "easing": "linear"
              }
             }
            ],
            "label": "2023",
            "method": "animate"
           },
           {
            "args": [
             [
              "2011"
             ],
             {
              "frame": {
               "duration": 0,
               "redraw": true
              },
              "fromcurrent": true,
              "mode": "immediate",
              "transition": {
               "duration": 0,
               "easing": "linear"
              }
             }
            ],
            "label": "2011",
            "method": "animate"
           },
           {
            "args": [
             [
              "2012"
             ],
             {
              "frame": {
               "duration": 0,
               "redraw": true
              },
              "fromcurrent": true,
              "mode": "immediate",
              "transition": {
               "duration": 0,
               "easing": "linear"
              }
             }
            ],
            "label": "2012",
            "method": "animate"
           },
           {
            "args": [
             [
              "2014"
             ],
             {
              "frame": {
               "duration": 0,
               "redraw": true
              },
              "fromcurrent": true,
              "mode": "immediate",
              "transition": {
               "duration": 0,
               "easing": "linear"
              }
             }
            ],
            "label": "2014",
            "method": "animate"
           },
           {
            "args": [
             [
              "2015"
             ],
             {
              "frame": {
               "duration": 0,
               "redraw": true
              },
              "fromcurrent": true,
              "mode": "immediate",
              "transition": {
               "duration": 0,
               "easing": "linear"
              }
             }
            ],
            "label": "2015",
            "method": "animate"
           },
           {
            "args": [
             [
              "1997"
             ],
             {
              "frame": {
               "duration": 0,
               "redraw": true
              },
              "fromcurrent": true,
              "mode": "immediate",
              "transition": {
               "duration": 0,
               "easing": "linear"
              }
             }
            ],
            "label": "1997",
            "method": "animate"
           },
           {
            "args": [
             [
              "2013"
             ],
             {
              "frame": {
               "duration": 0,
               "redraw": true
              },
              "fromcurrent": true,
              "mode": "immediate",
              "transition": {
               "duration": 0,
               "easing": "linear"
              }
             }
            ],
            "label": "2013",
            "method": "animate"
           },
           {
            "args": [
             [
              "1998"
             ],
             {
              "frame": {
               "duration": 0,
               "redraw": true
              },
              "fromcurrent": true,
              "mode": "immediate",
              "transition": {
               "duration": 0,
               "easing": "linear"
              }
             }
            ],
            "label": "1998",
            "method": "animate"
           },
           {
            "args": [
             [
              "1999"
             ],
             {
              "frame": {
               "duration": 0,
               "redraw": true
              },
              "fromcurrent": true,
              "mode": "immediate",
              "transition": {
               "duration": 0,
               "easing": "linear"
              }
             }
            ],
            "label": "1999",
            "method": "animate"
           },
           {
            "args": [
             [
              "2000"
             ],
             {
              "frame": {
               "duration": 0,
               "redraw": true
              },
              "fromcurrent": true,
              "mode": "immediate",
              "transition": {
               "duration": 0,
               "easing": "linear"
              }
             }
            ],
            "label": "2000",
            "method": "animate"
           },
           {
            "args": [
             [
              "2008"
             ],
             {
              "frame": {
               "duration": 0,
               "redraw": true
              },
              "fromcurrent": true,
              "mode": "immediate",
              "transition": {
               "duration": 0,
               "easing": "linear"
              }
             }
            ],
            "label": "2008",
            "method": "animate"
           },
           {
            "args": [
             [
              "2010"
             ],
             {
              "frame": {
               "duration": 0,
               "redraw": true
              },
              "fromcurrent": true,
              "mode": "immediate",
              "transition": {
               "duration": 0,
               "easing": "linear"
              }
             }
            ],
            "label": "2010",
            "method": "animate"
           },
           {
            "args": [
             [
              "2002"
             ],
             {
              "frame": {
               "duration": 0,
               "redraw": true
              },
              "fromcurrent": true,
              "mode": "immediate",
              "transition": {
               "duration": 0,
               "easing": "linear"
              }
             }
            ],
            "label": "2002",
            "method": "animate"
           }
          ],
          "x": 0.1,
          "xanchor": "left",
          "y": 0,
          "yanchor": "top"
         }
        ],
        "template": {
         "data": {
          "bar": [
           {
            "error_x": {
             "color": "#2a3f5f"
            },
            "error_y": {
             "color": "#2a3f5f"
            },
            "marker": {
             "line": {
              "color": "#E5ECF6",
              "width": 0.5
             },
             "pattern": {
              "fillmode": "overlay",
              "size": 10,
              "solidity": 0.2
             }
            },
            "type": "bar"
           }
          ],
          "barpolar": [
           {
            "marker": {
             "line": {
              "color": "#E5ECF6",
              "width": 0.5
             },
             "pattern": {
              "fillmode": "overlay",
              "size": 10,
              "solidity": 0.2
             }
            },
            "type": "barpolar"
           }
          ],
          "carpet": [
           {
            "aaxis": {
             "endlinecolor": "#2a3f5f",
             "gridcolor": "white",
             "linecolor": "white",
             "minorgridcolor": "white",
             "startlinecolor": "#2a3f5f"
            },
            "baxis": {
             "endlinecolor": "#2a3f5f",
             "gridcolor": "white",
             "linecolor": "white",
             "minorgridcolor": "white",
             "startlinecolor": "#2a3f5f"
            },
            "type": "carpet"
           }
          ],
          "choropleth": [
           {
            "colorbar": {
             "outlinewidth": 0,
             "ticks": ""
            },
            "type": "choropleth"
           }
          ],
          "contour": [
           {
            "colorbar": {
             "outlinewidth": 0,
             "ticks": ""
            },
            "colorscale": [
             [
              0,
              "#0d0887"
             ],
             [
              0.1111111111111111,
              "#46039f"
             ],
             [
              0.2222222222222222,
              "#7201a8"
             ],
             [
              0.3333333333333333,
              "#9c179e"
             ],
             [
              0.4444444444444444,
              "#bd3786"
             ],
             [
              0.5555555555555556,
              "#d8576b"
             ],
             [
              0.6666666666666666,
              "#ed7953"
             ],
             [
              0.7777777777777778,
              "#fb9f3a"
             ],
             [
              0.8888888888888888,
              "#fdca26"
             ],
             [
              1,
              "#f0f921"
             ]
            ],
            "type": "contour"
           }
          ],
          "contourcarpet": [
           {
            "colorbar": {
             "outlinewidth": 0,
             "ticks": ""
            },
            "type": "contourcarpet"
           }
          ],
          "heatmap": [
           {
            "colorbar": {
             "outlinewidth": 0,
             "ticks": ""
            },
            "colorscale": [
             [
              0,
              "#0d0887"
             ],
             [
              0.1111111111111111,
              "#46039f"
             ],
             [
              0.2222222222222222,
              "#7201a8"
             ],
             [
              0.3333333333333333,
              "#9c179e"
             ],
             [
              0.4444444444444444,
              "#bd3786"
             ],
             [
              0.5555555555555556,
              "#d8576b"
             ],
             [
              0.6666666666666666,
              "#ed7953"
             ],
             [
              0.7777777777777778,
              "#fb9f3a"
             ],
             [
              0.8888888888888888,
              "#fdca26"
             ],
             [
              1,
              "#f0f921"
             ]
            ],
            "type": "heatmap"
           }
          ],
          "heatmapgl": [
           {
            "colorbar": {
             "outlinewidth": 0,
             "ticks": ""
            },
            "colorscale": [
             [
              0,
              "#0d0887"
             ],
             [
              0.1111111111111111,
              "#46039f"
             ],
             [
              0.2222222222222222,
              "#7201a8"
             ],
             [
              0.3333333333333333,
              "#9c179e"
             ],
             [
              0.4444444444444444,
              "#bd3786"
             ],
             [
              0.5555555555555556,
              "#d8576b"
             ],
             [
              0.6666666666666666,
              "#ed7953"
             ],
             [
              0.7777777777777778,
              "#fb9f3a"
             ],
             [
              0.8888888888888888,
              "#fdca26"
             ],
             [
              1,
              "#f0f921"
             ]
            ],
            "type": "heatmapgl"
           }
          ],
          "histogram": [
           {
            "marker": {
             "pattern": {
              "fillmode": "overlay",
              "size": 10,
              "solidity": 0.2
             }
            },
            "type": "histogram"
           }
          ],
          "histogram2d": [
           {
            "colorbar": {
             "outlinewidth": 0,
             "ticks": ""
            },
            "colorscale": [
             [
              0,
              "#0d0887"
             ],
             [
              0.1111111111111111,
              "#46039f"
             ],
             [
              0.2222222222222222,
              "#7201a8"
             ],
             [
              0.3333333333333333,
              "#9c179e"
             ],
             [
              0.4444444444444444,
              "#bd3786"
             ],
             [
              0.5555555555555556,
              "#d8576b"
             ],
             [
              0.6666666666666666,
              "#ed7953"
             ],
             [
              0.7777777777777778,
              "#fb9f3a"
             ],
             [
              0.8888888888888888,
              "#fdca26"
             ],
             [
              1,
              "#f0f921"
             ]
            ],
            "type": "histogram2d"
           }
          ],
          "histogram2dcontour": [
           {
            "colorbar": {
             "outlinewidth": 0,
             "ticks": ""
            },
            "colorscale": [
             [
              0,
              "#0d0887"
             ],
             [
              0.1111111111111111,
              "#46039f"
             ],
             [
              0.2222222222222222,
              "#7201a8"
             ],
             [
              0.3333333333333333,
              "#9c179e"
             ],
             [
              0.4444444444444444,
              "#bd3786"
             ],
             [
              0.5555555555555556,
              "#d8576b"
             ],
             [
              0.6666666666666666,
              "#ed7953"
             ],
             [
              0.7777777777777778,
              "#fb9f3a"
             ],
             [
              0.8888888888888888,
              "#fdca26"
             ],
             [
              1,
              "#f0f921"
             ]
            ],
            "type": "histogram2dcontour"
           }
          ],
          "mesh3d": [
           {
            "colorbar": {
             "outlinewidth": 0,
             "ticks": ""
            },
            "type": "mesh3d"
           }
          ],
          "parcoords": [
           {
            "line": {
             "colorbar": {
              "outlinewidth": 0,
              "ticks": ""
             }
            },
            "type": "parcoords"
           }
          ],
          "pie": [
           {
            "automargin": true,
            "type": "pie"
           }
          ],
          "scatter": [
           {
            "fillpattern": {
             "fillmode": "overlay",
             "size": 10,
             "solidity": 0.2
            },
            "type": "scatter"
           }
          ],
          "scatter3d": [
           {
            "line": {
             "colorbar": {
              "outlinewidth": 0,
              "ticks": ""
             }
            },
            "marker": {
             "colorbar": {
              "outlinewidth": 0,
              "ticks": ""
             }
            },
            "type": "scatter3d"
           }
          ],
          "scattercarpet": [
           {
            "marker": {
             "colorbar": {
              "outlinewidth": 0,
              "ticks": ""
             }
            },
            "type": "scattercarpet"
           }
          ],
          "scattergeo": [
           {
            "marker": {
             "colorbar": {
              "outlinewidth": 0,
              "ticks": ""
             }
            },
            "type": "scattergeo"
           }
          ],
          "scattergl": [
           {
            "marker": {
             "colorbar": {
              "outlinewidth": 0,
              "ticks": ""
             }
            },
            "type": "scattergl"
           }
          ],
          "scattermapbox": [
           {
            "marker": {
             "colorbar": {
              "outlinewidth": 0,
              "ticks": ""
             }
            },
            "type": "scattermapbox"
           }
          ],
          "scatterpolar": [
           {
            "marker": {
             "colorbar": {
              "outlinewidth": 0,
              "ticks": ""
             }
            },
            "type": "scatterpolar"
           }
          ],
          "scatterpolargl": [
           {
            "marker": {
             "colorbar": {
              "outlinewidth": 0,
              "ticks": ""
             }
            },
            "type": "scatterpolargl"
           }
          ],
          "scatterternary": [
           {
            "marker": {
             "colorbar": {
              "outlinewidth": 0,
              "ticks": ""
             }
            },
            "type": "scatterternary"
           }
          ],
          "surface": [
           {
            "colorbar": {
             "outlinewidth": 0,
             "ticks": ""
            },
            "colorscale": [
             [
              0,
              "#0d0887"
             ],
             [
              0.1111111111111111,
              "#46039f"
             ],
             [
              0.2222222222222222,
              "#7201a8"
             ],
             [
              0.3333333333333333,
              "#9c179e"
             ],
             [
              0.4444444444444444,
              "#bd3786"
             ],
             [
              0.5555555555555556,
              "#d8576b"
             ],
             [
              0.6666666666666666,
              "#ed7953"
             ],
             [
              0.7777777777777778,
              "#fb9f3a"
             ],
             [
              0.8888888888888888,
              "#fdca26"
             ],
             [
              1,
              "#f0f921"
             ]
            ],
            "type": "surface"
           }
          ],
          "table": [
           {
            "cells": {
             "fill": {
              "color": "#EBF0F8"
             },
             "line": {
              "color": "white"
             }
            },
            "header": {
             "fill": {
              "color": "#C8D4E3"
             },
             "line": {
              "color": "white"
             }
            },
            "type": "table"
           }
          ]
         },
         "layout": {
          "annotationdefaults": {
           "arrowcolor": "#2a3f5f",
           "arrowhead": 0,
           "arrowwidth": 1
          },
          "autotypenumbers": "strict",
          "coloraxis": {
           "colorbar": {
            "outlinewidth": 0,
            "ticks": ""
           }
          },
          "colorscale": {
           "diverging": [
            [
             0,
             "#8e0152"
            ],
            [
             0.1,
             "#c51b7d"
            ],
            [
             0.2,
             "#de77ae"
            ],
            [
             0.3,
             "#f1b6da"
            ],
            [
             0.4,
             "#fde0ef"
            ],
            [
             0.5,
             "#f7f7f7"
            ],
            [
             0.6,
             "#e6f5d0"
            ],
            [
             0.7,
             "#b8e186"
            ],
            [
             0.8,
             "#7fbc41"
            ],
            [
             0.9,
             "#4d9221"
            ],
            [
             1,
             "#276419"
            ]
           ],
           "sequential": [
            [
             0,
             "#0d0887"
            ],
            [
             0.1111111111111111,
             "#46039f"
            ],
            [
             0.2222222222222222,
             "#7201a8"
            ],
            [
             0.3333333333333333,
             "#9c179e"
            ],
            [
             0.4444444444444444,
             "#bd3786"
            ],
            [
             0.5555555555555556,
             "#d8576b"
            ],
            [
             0.6666666666666666,
             "#ed7953"
            ],
            [
             0.7777777777777778,
             "#fb9f3a"
            ],
            [
             0.8888888888888888,
             "#fdca26"
            ],
            [
             1,
             "#f0f921"
            ]
           ],
           "sequentialminus": [
            [
             0,
             "#0d0887"
            ],
            [
             0.1111111111111111,
             "#46039f"
            ],
            [
             0.2222222222222222,
             "#7201a8"
            ],
            [
             0.3333333333333333,
             "#9c179e"
            ],
            [
             0.4444444444444444,
             "#bd3786"
            ],
            [
             0.5555555555555556,
             "#d8576b"
            ],
            [
             0.6666666666666666,
             "#ed7953"
            ],
            [
             0.7777777777777778,
             "#fb9f3a"
            ],
            [
             0.8888888888888888,
             "#fdca26"
            ],
            [
             1,
             "#f0f921"
            ]
           ]
          },
          "colorway": [
           "#636efa",
           "#EF553B",
           "#00cc96",
           "#ab63fa",
           "#FFA15A",
           "#19d3f3",
           "#FF6692",
           "#B6E880",
           "#FF97FF",
           "#FECB52"
          ],
          "font": {
           "color": "#2a3f5f"
          },
          "geo": {
           "bgcolor": "white",
           "lakecolor": "white",
           "landcolor": "#E5ECF6",
           "showlakes": true,
           "showland": true,
           "subunitcolor": "white"
          },
          "hoverlabel": {
           "align": "left"
          },
          "hovermode": "closest",
          "mapbox": {
           "style": "light"
          },
          "paper_bgcolor": "white",
          "plot_bgcolor": "#E5ECF6",
          "polar": {
           "angularaxis": {
            "gridcolor": "white",
            "linecolor": "white",
            "ticks": ""
           },
           "bgcolor": "#E5ECF6",
           "radialaxis": {
            "gridcolor": "white",
            "linecolor": "white",
            "ticks": ""
           }
          },
          "scene": {
           "xaxis": {
            "backgroundcolor": "#E5ECF6",
            "gridcolor": "white",
            "gridwidth": 2,
            "linecolor": "white",
            "showbackground": true,
            "ticks": "",
            "zerolinecolor": "white"
           },
           "yaxis": {
            "backgroundcolor": "#E5ECF6",
            "gridcolor": "white",
            "gridwidth": 2,
            "linecolor": "white",
            "showbackground": true,
            "ticks": "",
            "zerolinecolor": "white"
           },
           "zaxis": {
            "backgroundcolor": "#E5ECF6",
            "gridcolor": "white",
            "gridwidth": 2,
            "linecolor": "white",
            "showbackground": true,
            "ticks": "",
            "zerolinecolor": "white"
           }
          },
          "shapedefaults": {
           "line": {
            "color": "#2a3f5f"
           }
          },
          "ternary": {
           "aaxis": {
            "gridcolor": "white",
            "linecolor": "white",
            "ticks": ""
           },
           "baxis": {
            "gridcolor": "white",
            "linecolor": "white",
            "ticks": ""
           },
           "bgcolor": "#E5ECF6",
           "caxis": {
            "gridcolor": "white",
            "linecolor": "white",
            "ticks": ""
           }
          },
          "title": {
           "x": 0.05
          },
          "xaxis": {
           "automargin": true,
           "gridcolor": "white",
           "linecolor": "white",
           "ticks": "",
           "title": {
            "standoff": 15
           },
           "zerolinecolor": "white",
           "zerolinewidth": 2
          },
          "yaxis": {
           "automargin": true,
           "gridcolor": "white",
           "linecolor": "white",
           "ticks": "",
           "title": {
            "standoff": 15
           },
           "zerolinecolor": "white",
           "zerolinewidth": 2
          }
         }
        },
        "title": {
         "text": "EV Makes and their Count Over the Years in Washington"
        },
        "updatemenus": [
         {
          "buttons": [
           {
            "args": [
             null,
             {
              "frame": {
               "duration": 500,
               "redraw": true
              },
              "fromcurrent": true,
              "mode": "immediate",
              "transition": {
               "duration": 500,
               "easing": "linear"
              }
             }
            ],
            "label": "&#9654;",
            "method": "animate"
           },
           {
            "args": [
             [
              null
             ],
             {
              "frame": {
               "duration": 0,
               "redraw": true
              },
              "fromcurrent": true,
              "mode": "immediate",
              "transition": {
               "duration": 0,
               "easing": "linear"
              }
             }
            ],
            "label": "&#9724;",
            "method": "animate"
           }
          ],
          "direction": "left",
          "pad": {
           "r": 10,
           "t": 70
          },
          "showactive": false,
          "type": "buttons",
          "x": 0.1,
          "xanchor": "right",
          "y": 0,
          "yanchor": "top"
         }
        ],
        "width": 1200,
        "xaxis": {
         "anchor": "y",
         "domain": [
          0,
          1
         ],
         "range": [
          0,
          3000
         ],
         "title": {
          "text": "Number of EV Vehicles"
         }
        },
        "yaxis": {
         "anchor": "x",
         "categoryarray": [
          "VOLVO",
          "VOLKSWAGEN",
          "TOYOTA",
          "TH!NK",
          "TESLA",
          "SUBARU",
          "SMART",
          "RIVIAN",
          "PORSCHE",
          "POLESTAR",
          "NISSAN",
          "MITSUBISHI",
          "MINI",
          "MERCEDES-BENZ",
          "LUCID MOTORS",
          "LINCOLN",
          "LEXUS",
          "LAND ROVER",
          "KIA",
          "JEEP",
          "JAGUAR",
          "HYUNDAI",
          "HONDA",
          "GENESIS",
          "FORD",
          "FISKER",
          "FIAT",
          "CHRYSLER",
          "CHEVROLET",
          "CADILLAC",
          "BMW",
          "BENTLEY",
          "AZURE DYNAMICS",
          "AUDI"
         ],
         "categoryorder": "array",
         "domain": [
          0,
          1
         ],
         "title": {
          "text": "Make"
         }
        }
       }
      },
      "text/html": [
       "<div>                            <div id=\"6f0e19ec-fcb3-43f2-bc0d-b9bd065c0572\" class=\"plotly-graph-div\" style=\"height:800px; width:1200px;\"></div>            <script type=\"text/javascript\">                require([\"plotly\"], function(Plotly) {                    window.PLOTLYENV=window.PLOTLYENV || {};                                    if (document.getElementById(\"6f0e19ec-fcb3-43f2-bc0d-b9bd065c0572\")) {                    Plotly.newPlot(                        \"6f0e19ec-fcb3-43f2-bc0d-b9bd065c0572\",                        [{\"alignmentgroup\":\"True\",\"hovertemplate\":\"Make=%{y}<br>Model Year=2016<br>Number of EV Vehicles=%{x}<extra></extra>\",\"legendgroup\":\"AUDI\",\"marker\":{\"color\":\"#636efa\",\"pattern\":{\"shape\":\"\"}},\"name\":\"AUDI\",\"offsetgroup\":\"AUDI\",\"orientation\":\"h\",\"showlegend\":true,\"textposition\":\"outside\",\"x\":[214],\"xaxis\":\"x\",\"y\":[\"AUDI\"],\"yaxis\":\"y\",\"type\":\"bar\",\"textfont\":{\"size\":16},\"texttemplate\":\"%{x}\"},{\"alignmentgroup\":\"True\",\"hovertemplate\":\"Make=%{y}<br>Model Year=2016<br>Number of EV Vehicles=%{x}<extra></extra>\",\"legendgroup\":\"BMW\",\"marker\":{\"color\":\"#ab63fa\",\"pattern\":{\"shape\":\"\"}},\"name\":\"BMW\",\"offsetgroup\":\"BMW\",\"orientation\":\"h\",\"showlegend\":true,\"textposition\":\"outside\",\"x\":[381],\"xaxis\":\"x\",\"y\":[\"BMW\"],\"yaxis\":\"y\",\"type\":\"bar\",\"textfont\":{\"size\":16},\"texttemplate\":\"%{x}\"},{\"alignmentgroup\":\"True\",\"hovertemplate\":\"Make=%{y}<br>Model Year=2016<br>Number of EV Vehicles=%{x}<extra></extra>\",\"legendgroup\":\"CADILLAC\",\"marker\":{\"color\":\"#FFA15A\",\"pattern\":{\"shape\":\"\"}},\"name\":\"CADILLAC\",\"offsetgroup\":\"CADILLAC\",\"orientation\":\"h\",\"showlegend\":true,\"textposition\":\"outside\",\"x\":[18],\"xaxis\":\"x\",\"y\":[\"CADILLAC\"],\"yaxis\":\"y\",\"type\":\"bar\",\"textfont\":{\"size\":16},\"texttemplate\":\"%{x}\"},{\"alignmentgroup\":\"True\",\"hovertemplate\":\"Make=%{y}<br>Model Year=2016<br>Number of EV Vehicles=%{x}<extra></extra>\",\"legendgroup\":\"CHEVROLET\",\"marker\":{\"color\":\"#19d3f3\",\"pattern\":{\"shape\":\"\"}},\"name\":\"CHEVROLET\",\"offsetgroup\":\"CHEVROLET\",\"orientation\":\"h\",\"showlegend\":true,\"textposition\":\"outside\",\"x\":[309],\"xaxis\":\"x\",\"y\":[\"CHEVROLET\"],\"yaxis\":\"y\",\"type\":\"bar\",\"textfont\":{\"size\":16},\"texttemplate\":\"%{x}\"},{\"alignmentgroup\":\"True\",\"hovertemplate\":\"Make=%{y}<br>Model Year=2016<br>Number of EV Vehicles=%{x}<extra></extra>\",\"legendgroup\":\"FIAT\",\"marker\":{\"color\":\"#B6E880\",\"pattern\":{\"shape\":\"\"}},\"name\":\"FIAT\",\"offsetgroup\":\"FIAT\",\"orientation\":\"h\",\"showlegend\":true,\"textposition\":\"outside\",\"x\":[147],\"xaxis\":\"x\",\"y\":[\"FIAT\"],\"yaxis\":\"y\",\"type\":\"bar\",\"textfont\":{\"size\":16},\"texttemplate\":\"%{x}\"},{\"alignmentgroup\":\"True\",\"hovertemplate\":\"Make=%{y}<br>Model Year=2016<br>Number of EV Vehicles=%{x}<extra></extra>\",\"legendgroup\":\"FORD\",\"marker\":{\"color\":\"#FECB52\",\"pattern\":{\"shape\":\"\"}},\"name\":\"FORD\",\"offsetgroup\":\"FORD\",\"orientation\":\"h\",\"showlegend\":true,\"textposition\":\"outside\",\"x\":[774],\"xaxis\":\"x\",\"y\":[\"FORD\"],\"yaxis\":\"y\",\"type\":\"bar\",\"textfont\":{\"size\":16},\"texttemplate\":\"%{x}\"},{\"alignmentgroup\":\"True\",\"hovertemplate\":\"Make=%{y}<br>Model Year=2016<br>Number of EV Vehicles=%{x}<extra></extra>\",\"legendgroup\":\"HYUNDAI\",\"marker\":{\"color\":\"#00cc96\",\"pattern\":{\"shape\":\"\"}},\"name\":\"HYUNDAI\",\"offsetgroup\":\"HYUNDAI\",\"orientation\":\"h\",\"showlegend\":true,\"textposition\":\"outside\",\"x\":[44],\"xaxis\":\"x\",\"y\":[\"HYUNDAI\"],\"yaxis\":\"y\",\"type\":\"bar\",\"textfont\":{\"size\":16},\"texttemplate\":\"%{x}\"},{\"alignmentgroup\":\"True\",\"hovertemplate\":\"Make=%{y}<br>Model Year=2016<br>Number of EV Vehicles=%{x}<extra></extra>\",\"legendgroup\":\"KIA\",\"marker\":{\"color\":\"#19d3f3\",\"pattern\":{\"shape\":\"\"}},\"name\":\"KIA\",\"offsetgroup\":\"KIA\",\"orientation\":\"h\",\"showlegend\":true,\"textposition\":\"outside\",\"x\":[407],\"xaxis\":\"x\",\"y\":[\"KIA\"],\"yaxis\":\"y\",\"type\":\"bar\",\"textfont\":{\"size\":16},\"texttemplate\":\"%{x}\"},{\"alignmentgroup\":\"True\",\"hovertemplate\":\"Make=%{y}<br>Model Year=2016<br>Number of EV Vehicles=%{x}<extra></extra>\",\"legendgroup\":\"MERCEDES-BENZ\",\"marker\":{\"color\":\"#636efa\",\"pattern\":{\"shape\":\"\"}},\"name\":\"MERCEDES-BENZ\",\"offsetgroup\":\"MERCEDES-BENZ\",\"orientation\":\"h\",\"showlegend\":true,\"textposition\":\"outside\",\"x\":[35],\"xaxis\":\"x\",\"y\":[\"MERCEDES-BENZ\"],\"yaxis\":\"y\",\"type\":\"bar\",\"textfont\":{\"size\":16},\"texttemplate\":\"%{x}\"},{\"alignmentgroup\":\"True\",\"hovertemplate\":\"Make=%{y}<br>Model Year=2016<br>Number of EV Vehicles=%{x}<extra></extra>\",\"legendgroup\":\"MITSUBISHI\",\"marker\":{\"color\":\"#00cc96\",\"pattern\":{\"shape\":\"\"}},\"name\":\"MITSUBISHI\",\"offsetgroup\":\"MITSUBISHI\",\"orientation\":\"h\",\"showlegend\":true,\"textposition\":\"outside\",\"x\":[12],\"xaxis\":\"x\",\"y\":[\"MITSUBISHI\"],\"yaxis\":\"y\",\"type\":\"bar\",\"textfont\":{\"size\":16},\"texttemplate\":\"%{x}\"},{\"alignmentgroup\":\"True\",\"hovertemplate\":\"Make=%{y}<br>Model Year=2016<br>Number of EV Vehicles=%{x}<extra></extra>\",\"legendgroup\":\"NISSAN\",\"marker\":{\"color\":\"#ab63fa\",\"pattern\":{\"shape\":\"\"}},\"name\":\"NISSAN\",\"offsetgroup\":\"NISSAN\",\"orientation\":\"h\",\"showlegend\":true,\"textposition\":\"outside\",\"x\":[1208],\"xaxis\":\"x\",\"y\":[\"NISSAN\"],\"yaxis\":\"y\",\"type\":\"bar\",\"textfont\":{\"size\":16},\"texttemplate\":\"%{x}\"},{\"alignmentgroup\":\"True\",\"hovertemplate\":\"Make=%{y}<br>Model Year=2016<br>Number of EV Vehicles=%{x}<extra></extra>\",\"legendgroup\":\"PORSCHE\",\"marker\":{\"color\":\"#19d3f3\",\"pattern\":{\"shape\":\"\"}},\"name\":\"PORSCHE\",\"offsetgroup\":\"PORSCHE\",\"orientation\":\"h\",\"showlegend\":true,\"textposition\":\"outside\",\"x\":[78],\"xaxis\":\"x\",\"y\":[\"PORSCHE\"],\"yaxis\":\"y\",\"type\":\"bar\",\"textfont\":{\"size\":16},\"texttemplate\":\"%{x}\"},{\"alignmentgroup\":\"True\",\"hovertemplate\":\"Make=%{y}<br>Model Year=2016<br>Number of EV Vehicles=%{x}<extra></extra>\",\"legendgroup\":\"SMART\",\"marker\":{\"color\":\"#B6E880\",\"pattern\":{\"shape\":\"\"}},\"name\":\"SMART\",\"offsetgroup\":\"SMART\",\"orientation\":\"h\",\"showlegend\":true,\"textposition\":\"outside\",\"x\":[31],\"xaxis\":\"x\",\"y\":[\"SMART\"],\"yaxis\":\"y\",\"type\":\"bar\",\"textfont\":{\"size\":16},\"texttemplate\":\"%{x}\"},{\"alignmentgroup\":\"True\",\"hovertemplate\":\"Make=%{y}<br>Model Year=2016<br>Number of EV Vehicles=%{x}<extra></extra>\",\"legendgroup\":\"TESLA\",\"marker\":{\"color\":\"#FECB52\",\"pattern\":{\"shape\":\"\"}},\"name\":\"TESLA\",\"offsetgroup\":\"TESLA\",\"orientation\":\"h\",\"showlegend\":true,\"textposition\":\"outside\",\"x\":[1632],\"xaxis\":\"x\",\"y\":[\"TESLA\"],\"yaxis\":\"y\",\"type\":\"bar\",\"textfont\":{\"size\":16},\"texttemplate\":\"%{x}\"},{\"alignmentgroup\":\"True\",\"hovertemplate\":\"Make=%{y}<br>Model Year=2016<br>Number of EV Vehicles=%{x}<extra></extra>\",\"legendgroup\":\"VOLKSWAGEN\",\"marker\":{\"color\":\"#00cc96\",\"pattern\":{\"shape\":\"\"}},\"name\":\"VOLKSWAGEN\",\"offsetgroup\":\"VOLKSWAGEN\",\"orientation\":\"h\",\"showlegend\":true,\"textposition\":\"outside\",\"x\":[319],\"xaxis\":\"x\",\"y\":[\"VOLKSWAGEN\"],\"yaxis\":\"y\",\"type\":\"bar\",\"textfont\":{\"size\":16},\"texttemplate\":\"%{x}\"},{\"alignmentgroup\":\"True\",\"hovertemplate\":\"Make=%{y}<br>Model Year=2016<br>Number of EV Vehicles=%{x}<extra></extra>\",\"legendgroup\":\"VOLVO\",\"marker\":{\"color\":\"#ab63fa\",\"pattern\":{\"shape\":\"\"}},\"name\":\"VOLVO\",\"offsetgroup\":\"VOLVO\",\"orientation\":\"h\",\"showlegend\":true,\"textposition\":\"outside\",\"x\":[112],\"xaxis\":\"x\",\"y\":[\"VOLVO\"],\"yaxis\":\"y\",\"type\":\"bar\",\"textfont\":{\"size\":16},\"texttemplate\":\"%{x}\"}],                        {\"template\":{\"data\":{\"histogram2dcontour\":[{\"type\":\"histogram2dcontour\",\"colorbar\":{\"outlinewidth\":0,\"ticks\":\"\"},\"colorscale\":[[0.0,\"#0d0887\"],[0.1111111111111111,\"#46039f\"],[0.2222222222222222,\"#7201a8\"],[0.3333333333333333,\"#9c179e\"],[0.4444444444444444,\"#bd3786\"],[0.5555555555555556,\"#d8576b\"],[0.6666666666666666,\"#ed7953\"],[0.7777777777777778,\"#fb9f3a\"],[0.8888888888888888,\"#fdca26\"],[1.0,\"#f0f921\"]]}],\"choropleth\":[{\"type\":\"choropleth\",\"colorbar\":{\"outlinewidth\":0,\"ticks\":\"\"}}],\"histogram2d\":[{\"type\":\"histogram2d\",\"colorbar\":{\"outlinewidth\":0,\"ticks\":\"\"},\"colorscale\":[[0.0,\"#0d0887\"],[0.1111111111111111,\"#46039f\"],[0.2222222222222222,\"#7201a8\"],[0.3333333333333333,\"#9c179e\"],[0.4444444444444444,\"#bd3786\"],[0.5555555555555556,\"#d8576b\"],[0.6666666666666666,\"#ed7953\"],[0.7777777777777778,\"#fb9f3a\"],[0.8888888888888888,\"#fdca26\"],[1.0,\"#f0f921\"]]}],\"heatmap\":[{\"type\":\"heatmap\",\"colorbar\":{\"outlinewidth\":0,\"ticks\":\"\"},\"colorscale\":[[0.0,\"#0d0887\"],[0.1111111111111111,\"#46039f\"],[0.2222222222222222,\"#7201a8\"],[0.3333333333333333,\"#9c179e\"],[0.4444444444444444,\"#bd3786\"],[0.5555555555555556,\"#d8576b\"],[0.6666666666666666,\"#ed7953\"],[0.7777777777777778,\"#fb9f3a\"],[0.8888888888888888,\"#fdca26\"],[1.0,\"#f0f921\"]]}],\"heatmapgl\":[{\"type\":\"heatmapgl\",\"colorbar\":{\"outlinewidth\":0,\"ticks\":\"\"},\"colorscale\":[[0.0,\"#0d0887\"],[0.1111111111111111,\"#46039f\"],[0.2222222222222222,\"#7201a8\"],[0.3333333333333333,\"#9c179e\"],[0.4444444444444444,\"#bd3786\"],[0.5555555555555556,\"#d8576b\"],[0.6666666666666666,\"#ed7953\"],[0.7777777777777778,\"#fb9f3a\"],[0.8888888888888888,\"#fdca26\"],[1.0,\"#f0f921\"]]}],\"contourcarpet\":[{\"type\":\"contourcarpet\",\"colorbar\":{\"outlinewidth\":0,\"ticks\":\"\"}}],\"contour\":[{\"type\":\"contour\",\"colorbar\":{\"outlinewidth\":0,\"ticks\":\"\"},\"colorscale\":[[0.0,\"#0d0887\"],[0.1111111111111111,\"#46039f\"],[0.2222222222222222,\"#7201a8\"],[0.3333333333333333,\"#9c179e\"],[0.4444444444444444,\"#bd3786\"],[0.5555555555555556,\"#d8576b\"],[0.6666666666666666,\"#ed7953\"],[0.7777777777777778,\"#fb9f3a\"],[0.8888888888888888,\"#fdca26\"],[1.0,\"#f0f921\"]]}],\"surface\":[{\"type\":\"surface\",\"colorbar\":{\"outlinewidth\":0,\"ticks\":\"\"},\"colorscale\":[[0.0,\"#0d0887\"],[0.1111111111111111,\"#46039f\"],[0.2222222222222222,\"#7201a8\"],[0.3333333333333333,\"#9c179e\"],[0.4444444444444444,\"#bd3786\"],[0.5555555555555556,\"#d8576b\"],[0.6666666666666666,\"#ed7953\"],[0.7777777777777778,\"#fb9f3a\"],[0.8888888888888888,\"#fdca26\"],[1.0,\"#f0f921\"]]}],\"mesh3d\":[{\"type\":\"mesh3d\",\"colorbar\":{\"outlinewidth\":0,\"ticks\":\"\"}}],\"scatter\":[{\"fillpattern\":{\"fillmode\":\"overlay\",\"size\":10,\"solidity\":0.2},\"type\":\"scatter\"}],\"parcoords\":[{\"type\":\"parcoords\",\"line\":{\"colorbar\":{\"outlinewidth\":0,\"ticks\":\"\"}}}],\"scatterpolargl\":[{\"type\":\"scatterpolargl\",\"marker\":{\"colorbar\":{\"outlinewidth\":0,\"ticks\":\"\"}}}],\"bar\":[{\"error_x\":{\"color\":\"#2a3f5f\"},\"error_y\":{\"color\":\"#2a3f5f\"},\"marker\":{\"line\":{\"color\":\"#E5ECF6\",\"width\":0.5},\"pattern\":{\"fillmode\":\"overlay\",\"size\":10,\"solidity\":0.2}},\"type\":\"bar\"}],\"scattergeo\":[{\"type\":\"scattergeo\",\"marker\":{\"colorbar\":{\"outlinewidth\":0,\"ticks\":\"\"}}}],\"scatterpolar\":[{\"type\":\"scatterpolar\",\"marker\":{\"colorbar\":{\"outlinewidth\":0,\"ticks\":\"\"}}}],\"histogram\":[{\"marker\":{\"pattern\":{\"fillmode\":\"overlay\",\"size\":10,\"solidity\":0.2}},\"type\":\"histogram\"}],\"scattergl\":[{\"type\":\"scattergl\",\"marker\":{\"colorbar\":{\"outlinewidth\":0,\"ticks\":\"\"}}}],\"scatter3d\":[{\"type\":\"scatter3d\",\"line\":{\"colorbar\":{\"outlinewidth\":0,\"ticks\":\"\"}},\"marker\":{\"colorbar\":{\"outlinewidth\":0,\"ticks\":\"\"}}}],\"scattermapbox\":[{\"type\":\"scattermapbox\",\"marker\":{\"colorbar\":{\"outlinewidth\":0,\"ticks\":\"\"}}}],\"scatterternary\":[{\"type\":\"scatterternary\",\"marker\":{\"colorbar\":{\"outlinewidth\":0,\"ticks\":\"\"}}}],\"scattercarpet\":[{\"type\":\"scattercarpet\",\"marker\":{\"colorbar\":{\"outlinewidth\":0,\"ticks\":\"\"}}}],\"carpet\":[{\"aaxis\":{\"endlinecolor\":\"#2a3f5f\",\"gridcolor\":\"white\",\"linecolor\":\"white\",\"minorgridcolor\":\"white\",\"startlinecolor\":\"#2a3f5f\"},\"baxis\":{\"endlinecolor\":\"#2a3f5f\",\"gridcolor\":\"white\",\"linecolor\":\"white\",\"minorgridcolor\":\"white\",\"startlinecolor\":\"#2a3f5f\"},\"type\":\"carpet\"}],\"table\":[{\"cells\":{\"fill\":{\"color\":\"#EBF0F8\"},\"line\":{\"color\":\"white\"}},\"header\":{\"fill\":{\"color\":\"#C8D4E3\"},\"line\":{\"color\":\"white\"}},\"type\":\"table\"}],\"barpolar\":[{\"marker\":{\"line\":{\"color\":\"#E5ECF6\",\"width\":0.5},\"pattern\":{\"fillmode\":\"overlay\",\"size\":10,\"solidity\":0.2}},\"type\":\"barpolar\"}],\"pie\":[{\"automargin\":true,\"type\":\"pie\"}]},\"layout\":{\"autotypenumbers\":\"strict\",\"colorway\":[\"#636efa\",\"#EF553B\",\"#00cc96\",\"#ab63fa\",\"#FFA15A\",\"#19d3f3\",\"#FF6692\",\"#B6E880\",\"#FF97FF\",\"#FECB52\"],\"font\":{\"color\":\"#2a3f5f\"},\"hovermode\":\"closest\",\"hoverlabel\":{\"align\":\"left\"},\"paper_bgcolor\":\"white\",\"plot_bgcolor\":\"#E5ECF6\",\"polar\":{\"bgcolor\":\"#E5ECF6\",\"angularaxis\":{\"gridcolor\":\"white\",\"linecolor\":\"white\",\"ticks\":\"\"},\"radialaxis\":{\"gridcolor\":\"white\",\"linecolor\":\"white\",\"ticks\":\"\"}},\"ternary\":{\"bgcolor\":\"#E5ECF6\",\"aaxis\":{\"gridcolor\":\"white\",\"linecolor\":\"white\",\"ticks\":\"\"},\"baxis\":{\"gridcolor\":\"white\",\"linecolor\":\"white\",\"ticks\":\"\"},\"caxis\":{\"gridcolor\":\"white\",\"linecolor\":\"white\",\"ticks\":\"\"}},\"coloraxis\":{\"colorbar\":{\"outlinewidth\":0,\"ticks\":\"\"}},\"colorscale\":{\"sequential\":[[0.0,\"#0d0887\"],[0.1111111111111111,\"#46039f\"],[0.2222222222222222,\"#7201a8\"],[0.3333333333333333,\"#9c179e\"],[0.4444444444444444,\"#bd3786\"],[0.5555555555555556,\"#d8576b\"],[0.6666666666666666,\"#ed7953\"],[0.7777777777777778,\"#fb9f3a\"],[0.8888888888888888,\"#fdca26\"],[1.0,\"#f0f921\"]],\"sequentialminus\":[[0.0,\"#0d0887\"],[0.1111111111111111,\"#46039f\"],[0.2222222222222222,\"#7201a8\"],[0.3333333333333333,\"#9c179e\"],[0.4444444444444444,\"#bd3786\"],[0.5555555555555556,\"#d8576b\"],[0.6666666666666666,\"#ed7953\"],[0.7777777777777778,\"#fb9f3a\"],[0.8888888888888888,\"#fdca26\"],[1.0,\"#f0f921\"]],\"diverging\":[[0,\"#8e0152\"],[0.1,\"#c51b7d\"],[0.2,\"#de77ae\"],[0.3,\"#f1b6da\"],[0.4,\"#fde0ef\"],[0.5,\"#f7f7f7\"],[0.6,\"#e6f5d0\"],[0.7,\"#b8e186\"],[0.8,\"#7fbc41\"],[0.9,\"#4d9221\"],[1,\"#276419\"]]},\"xaxis\":{\"gridcolor\":\"white\",\"linecolor\":\"white\",\"ticks\":\"\",\"title\":{\"standoff\":15},\"zerolinecolor\":\"white\",\"automargin\":true,\"zerolinewidth\":2},\"yaxis\":{\"gridcolor\":\"white\",\"linecolor\":\"white\",\"ticks\":\"\",\"title\":{\"standoff\":15},\"zerolinecolor\":\"white\",\"automargin\":true,\"zerolinewidth\":2},\"scene\":{\"xaxis\":{\"backgroundcolor\":\"#E5ECF6\",\"gridcolor\":\"white\",\"linecolor\":\"white\",\"showbackground\":true,\"ticks\":\"\",\"zerolinecolor\":\"white\",\"gridwidth\":2},\"yaxis\":{\"backgroundcolor\":\"#E5ECF6\",\"gridcolor\":\"white\",\"linecolor\":\"white\",\"showbackground\":true,\"ticks\":\"\",\"zerolinecolor\":\"white\",\"gridwidth\":2},\"zaxis\":{\"backgroundcolor\":\"#E5ECF6\",\"gridcolor\":\"white\",\"linecolor\":\"white\",\"showbackground\":true,\"ticks\":\"\",\"zerolinecolor\":\"white\",\"gridwidth\":2}},\"shapedefaults\":{\"line\":{\"color\":\"#2a3f5f\"}},\"annotationdefaults\":{\"arrowcolor\":\"#2a3f5f\",\"arrowhead\":0,\"arrowwidth\":1},\"geo\":{\"bgcolor\":\"white\",\"landcolor\":\"#E5ECF6\",\"subunitcolor\":\"white\",\"showland\":true,\"showlakes\":true,\"lakecolor\":\"white\"},\"title\":{\"x\":0.05},\"mapbox\":{\"style\":\"light\"}}},\"xaxis\":{\"anchor\":\"y\",\"domain\":[0.0,1.0],\"title\":{\"text\":\"Number of EV Vehicles\"},\"range\":[0,3000]},\"yaxis\":{\"anchor\":\"x\",\"domain\":[0.0,1.0],\"title\":{\"text\":\"Make\"},\"categoryorder\":\"array\",\"categoryarray\":[\"VOLVO\",\"VOLKSWAGEN\",\"TOYOTA\",\"TH!NK\",\"TESLA\",\"SUBARU\",\"SMART\",\"RIVIAN\",\"PORSCHE\",\"POLESTAR\",\"NISSAN\",\"MITSUBISHI\",\"MINI\",\"MERCEDES-BENZ\",\"LUCID MOTORS\",\"LINCOLN\",\"LEXUS\",\"LAND ROVER\",\"KIA\",\"JEEP\",\"JAGUAR\",\"HYUNDAI\",\"HONDA\",\"GENESIS\",\"FORD\",\"FISKER\",\"FIAT\",\"CHRYSLER\",\"CHEVROLET\",\"CADILLAC\",\"BMW\",\"BENTLEY\",\"AZURE DYNAMICS\",\"AUDI\"]},\"legend\":{\"title\":{\"text\":\"Make\"},\"tracegroupgap\":0},\"title\":{\"text\":\"EV Makes and their Count Over the Years in Washington\"},\"barmode\":\"relative\",\"updatemenus\":[{\"buttons\":[{\"args\":[null,{\"frame\":{\"duration\":500,\"redraw\":true},\"mode\":\"immediate\",\"fromcurrent\":true,\"transition\":{\"duration\":500,\"easing\":\"linear\"}}],\"label\":\"&#9654;\",\"method\":\"animate\"},{\"args\":[[null],{\"frame\":{\"duration\":0,\"redraw\":true},\"mode\":\"immediate\",\"fromcurrent\":true,\"transition\":{\"duration\":0,\"easing\":\"linear\"}}],\"label\":\"&#9724;\",\"method\":\"animate\"}],\"direction\":\"left\",\"pad\":{\"r\":10,\"t\":70},\"showactive\":false,\"type\":\"buttons\",\"x\":0.1,\"xanchor\":\"right\",\"y\":0,\"yanchor\":\"top\"}],\"sliders\":[{\"active\":0,\"currentvalue\":{\"prefix\":\"Model Year=\"},\"len\":0.9,\"pad\":{\"b\":10,\"t\":60},\"steps\":[{\"args\":[[\"2016\"],{\"frame\":{\"duration\":0,\"redraw\":true},\"mode\":\"immediate\",\"fromcurrent\":true,\"transition\":{\"duration\":0,\"easing\":\"linear\"}}],\"label\":\"2016\",\"method\":\"animate\"},{\"args\":[[\"2017\"],{\"frame\":{\"duration\":0,\"redraw\":true},\"mode\":\"immediate\",\"fromcurrent\":true,\"transition\":{\"duration\":0,\"easing\":\"linear\"}}],\"label\":\"2017\",\"method\":\"animate\"},{\"args\":[[\"2018\"],{\"frame\":{\"duration\":0,\"redraw\":true},\"mode\":\"immediate\",\"fromcurrent\":true,\"transition\":{\"duration\":0,\"easing\":\"linear\"}}],\"label\":\"2018\",\"method\":\"animate\"},{\"args\":[[\"2019\"],{\"frame\":{\"duration\":0,\"redraw\":true},\"mode\":\"immediate\",\"fromcurrent\":true,\"transition\":{\"duration\":0,\"easing\":\"linear\"}}],\"label\":\"2019\",\"method\":\"animate\"},{\"args\":[[\"2020\"],{\"frame\":{\"duration\":0,\"redraw\":true},\"mode\":\"immediate\",\"fromcurrent\":true,\"transition\":{\"duration\":0,\"easing\":\"linear\"}}],\"label\":\"2020\",\"method\":\"animate\"},{\"args\":[[\"2021\"],{\"frame\":{\"duration\":0,\"redraw\":true},\"mode\":\"immediate\",\"fromcurrent\":true,\"transition\":{\"duration\":0,\"easing\":\"linear\"}}],\"label\":\"2021\",\"method\":\"animate\"},{\"args\":[[\"2022\"],{\"frame\":{\"duration\":0,\"redraw\":true},\"mode\":\"immediate\",\"fromcurrent\":true,\"transition\":{\"duration\":0,\"easing\":\"linear\"}}],\"label\":\"2022\",\"method\":\"animate\"},{\"args\":[[\"2023\"],{\"frame\":{\"duration\":0,\"redraw\":true},\"mode\":\"immediate\",\"fromcurrent\":true,\"transition\":{\"duration\":0,\"easing\":\"linear\"}}],\"label\":\"2023\",\"method\":\"animate\"},{\"args\":[[\"2011\"],{\"frame\":{\"duration\":0,\"redraw\":true},\"mode\":\"immediate\",\"fromcurrent\":true,\"transition\":{\"duration\":0,\"easing\":\"linear\"}}],\"label\":\"2011\",\"method\":\"animate\"},{\"args\":[[\"2012\"],{\"frame\":{\"duration\":0,\"redraw\":true},\"mode\":\"immediate\",\"fromcurrent\":true,\"transition\":{\"duration\":0,\"easing\":\"linear\"}}],\"label\":\"2012\",\"method\":\"animate\"},{\"args\":[[\"2014\"],{\"frame\":{\"duration\":0,\"redraw\":true},\"mode\":\"immediate\",\"fromcurrent\":true,\"transition\":{\"duration\":0,\"easing\":\"linear\"}}],\"label\":\"2014\",\"method\":\"animate\"},{\"args\":[[\"2015\"],{\"frame\":{\"duration\":0,\"redraw\":true},\"mode\":\"immediate\",\"fromcurrent\":true,\"transition\":{\"duration\":0,\"easing\":\"linear\"}}],\"label\":\"2015\",\"method\":\"animate\"},{\"args\":[[\"1997\"],{\"frame\":{\"duration\":0,\"redraw\":true},\"mode\":\"immediate\",\"fromcurrent\":true,\"transition\":{\"duration\":0,\"easing\":\"linear\"}}],\"label\":\"1997\",\"method\":\"animate\"},{\"args\":[[\"2013\"],{\"frame\":{\"duration\":0,\"redraw\":true},\"mode\":\"immediate\",\"fromcurrent\":true,\"transition\":{\"duration\":0,\"easing\":\"linear\"}}],\"label\":\"2013\",\"method\":\"animate\"},{\"args\":[[\"1998\"],{\"frame\":{\"duration\":0,\"redraw\":true},\"mode\":\"immediate\",\"fromcurrent\":true,\"transition\":{\"duration\":0,\"easing\":\"linear\"}}],\"label\":\"1998\",\"method\":\"animate\"},{\"args\":[[\"1999\"],{\"frame\":{\"duration\":0,\"redraw\":true},\"mode\":\"immediate\",\"fromcurrent\":true,\"transition\":{\"duration\":0,\"easing\":\"linear\"}}],\"label\":\"1999\",\"method\":\"animate\"},{\"args\":[[\"2000\"],{\"frame\":{\"duration\":0,\"redraw\":true},\"mode\":\"immediate\",\"fromcurrent\":true,\"transition\":{\"duration\":0,\"easing\":\"linear\"}}],\"label\":\"2000\",\"method\":\"animate\"},{\"args\":[[\"2008\"],{\"frame\":{\"duration\":0,\"redraw\":true},\"mode\":\"immediate\",\"fromcurrent\":true,\"transition\":{\"duration\":0,\"easing\":\"linear\"}}],\"label\":\"2008\",\"method\":\"animate\"},{\"args\":[[\"2010\"],{\"frame\":{\"duration\":0,\"redraw\":true},\"mode\":\"immediate\",\"fromcurrent\":true,\"transition\":{\"duration\":0,\"easing\":\"linear\"}}],\"label\":\"2010\",\"method\":\"animate\"},{\"args\":[[\"2002\"],{\"frame\":{\"duration\":0,\"redraw\":true},\"mode\":\"immediate\",\"fromcurrent\":true,\"transition\":{\"duration\":0,\"easing\":\"linear\"}}],\"label\":\"2002\",\"method\":\"animate\"}],\"x\":0.1,\"xanchor\":\"left\",\"y\":0,\"yanchor\":\"top\"}],\"width\":1200,\"height\":800},                        {\"responsive\": true}                    ).then(function(){\n",
       "                            Plotly.addFrames('6f0e19ec-fcb3-43f2-bc0d-b9bd065c0572', [{\"data\":[{\"alignmentgroup\":\"True\",\"hovertemplate\":\"Make=%{y}<br>Model Year=2016<br>Number of EV Vehicles=%{x}<extra></extra>\",\"legendgroup\":\"AUDI\",\"marker\":{\"color\":\"#636efa\",\"pattern\":{\"shape\":\"\"}},\"name\":\"AUDI\",\"offsetgroup\":\"AUDI\",\"orientation\":\"h\",\"showlegend\":true,\"textposition\":\"auto\",\"x\":[214],\"xaxis\":\"x\",\"y\":[\"AUDI\"],\"yaxis\":\"y\",\"type\":\"bar\"},{\"alignmentgroup\":\"True\",\"hovertemplate\":\"Make=%{y}<br>Model Year=2016<br>Number of EV Vehicles=%{x}<extra></extra>\",\"legendgroup\":\"BMW\",\"marker\":{\"color\":\"#ab63fa\",\"pattern\":{\"shape\":\"\"}},\"name\":\"BMW\",\"offsetgroup\":\"BMW\",\"orientation\":\"h\",\"showlegend\":true,\"textposition\":\"auto\",\"x\":[381],\"xaxis\":\"x\",\"y\":[\"BMW\"],\"yaxis\":\"y\",\"type\":\"bar\"},{\"alignmentgroup\":\"True\",\"hovertemplate\":\"Make=%{y}<br>Model Year=2016<br>Number of EV Vehicles=%{x}<extra></extra>\",\"legendgroup\":\"CADILLAC\",\"marker\":{\"color\":\"#FFA15A\",\"pattern\":{\"shape\":\"\"}},\"name\":\"CADILLAC\",\"offsetgroup\":\"CADILLAC\",\"orientation\":\"h\",\"showlegend\":true,\"textposition\":\"auto\",\"x\":[18],\"xaxis\":\"x\",\"y\":[\"CADILLAC\"],\"yaxis\":\"y\",\"type\":\"bar\"},{\"alignmentgroup\":\"True\",\"hovertemplate\":\"Make=%{y}<br>Model Year=2016<br>Number of EV Vehicles=%{x}<extra></extra>\",\"legendgroup\":\"CHEVROLET\",\"marker\":{\"color\":\"#19d3f3\",\"pattern\":{\"shape\":\"\"}},\"name\":\"CHEVROLET\",\"offsetgroup\":\"CHEVROLET\",\"orientation\":\"h\",\"showlegend\":true,\"textposition\":\"auto\",\"x\":[309],\"xaxis\":\"x\",\"y\":[\"CHEVROLET\"],\"yaxis\":\"y\",\"type\":\"bar\"},{\"alignmentgroup\":\"True\",\"hovertemplate\":\"Make=%{y}<br>Model Year=2016<br>Number of EV Vehicles=%{x}<extra></extra>\",\"legendgroup\":\"FIAT\",\"marker\":{\"color\":\"#B6E880\",\"pattern\":{\"shape\":\"\"}},\"name\":\"FIAT\",\"offsetgroup\":\"FIAT\",\"orientation\":\"h\",\"showlegend\":true,\"textposition\":\"auto\",\"x\":[147],\"xaxis\":\"x\",\"y\":[\"FIAT\"],\"yaxis\":\"y\",\"type\":\"bar\"},{\"alignmentgroup\":\"True\",\"hovertemplate\":\"Make=%{y}<br>Model Year=2016<br>Number of EV Vehicles=%{x}<extra></extra>\",\"legendgroup\":\"FORD\",\"marker\":{\"color\":\"#FECB52\",\"pattern\":{\"shape\":\"\"}},\"name\":\"FORD\",\"offsetgroup\":\"FORD\",\"orientation\":\"h\",\"showlegend\":true,\"textposition\":\"auto\",\"x\":[774],\"xaxis\":\"x\",\"y\":[\"FORD\"],\"yaxis\":\"y\",\"type\":\"bar\"},{\"alignmentgroup\":\"True\",\"hovertemplate\":\"Make=%{y}<br>Model Year=2016<br>Number of EV Vehicles=%{x}<extra></extra>\",\"legendgroup\":\"HYUNDAI\",\"marker\":{\"color\":\"#00cc96\",\"pattern\":{\"shape\":\"\"}},\"name\":\"HYUNDAI\",\"offsetgroup\":\"HYUNDAI\",\"orientation\":\"h\",\"showlegend\":true,\"textposition\":\"auto\",\"x\":[44],\"xaxis\":\"x\",\"y\":[\"HYUNDAI\"],\"yaxis\":\"y\",\"type\":\"bar\"},{\"alignmentgroup\":\"True\",\"hovertemplate\":\"Make=%{y}<br>Model Year=2016<br>Number of EV Vehicles=%{x}<extra></extra>\",\"legendgroup\":\"KIA\",\"marker\":{\"color\":\"#19d3f3\",\"pattern\":{\"shape\":\"\"}},\"name\":\"KIA\",\"offsetgroup\":\"KIA\",\"orientation\":\"h\",\"showlegend\":true,\"textposition\":\"auto\",\"x\":[407],\"xaxis\":\"x\",\"y\":[\"KIA\"],\"yaxis\":\"y\",\"type\":\"bar\"},{\"alignmentgroup\":\"True\",\"hovertemplate\":\"Make=%{y}<br>Model Year=2016<br>Number of EV Vehicles=%{x}<extra></extra>\",\"legendgroup\":\"MERCEDES-BENZ\",\"marker\":{\"color\":\"#636efa\",\"pattern\":{\"shape\":\"\"}},\"name\":\"MERCEDES-BENZ\",\"offsetgroup\":\"MERCEDES-BENZ\",\"orientation\":\"h\",\"showlegend\":true,\"textposition\":\"auto\",\"x\":[35],\"xaxis\":\"x\",\"y\":[\"MERCEDES-BENZ\"],\"yaxis\":\"y\",\"type\":\"bar\"},{\"alignmentgroup\":\"True\",\"hovertemplate\":\"Make=%{y}<br>Model Year=2016<br>Number of EV Vehicles=%{x}<extra></extra>\",\"legendgroup\":\"MITSUBISHI\",\"marker\":{\"color\":\"#00cc96\",\"pattern\":{\"shape\":\"\"}},\"name\":\"MITSUBISHI\",\"offsetgroup\":\"MITSUBISHI\",\"orientation\":\"h\",\"showlegend\":true,\"textposition\":\"auto\",\"x\":[12],\"xaxis\":\"x\",\"y\":[\"MITSUBISHI\"],\"yaxis\":\"y\",\"type\":\"bar\"},{\"alignmentgroup\":\"True\",\"hovertemplate\":\"Make=%{y}<br>Model Year=2016<br>Number of EV Vehicles=%{x}<extra></extra>\",\"legendgroup\":\"NISSAN\",\"marker\":{\"color\":\"#ab63fa\",\"pattern\":{\"shape\":\"\"}},\"name\":\"NISSAN\",\"offsetgroup\":\"NISSAN\",\"orientation\":\"h\",\"showlegend\":true,\"textposition\":\"auto\",\"x\":[1208],\"xaxis\":\"x\",\"y\":[\"NISSAN\"],\"yaxis\":\"y\",\"type\":\"bar\"},{\"alignmentgroup\":\"True\",\"hovertemplate\":\"Make=%{y}<br>Model Year=2016<br>Number of EV Vehicles=%{x}<extra></extra>\",\"legendgroup\":\"PORSCHE\",\"marker\":{\"color\":\"#19d3f3\",\"pattern\":{\"shape\":\"\"}},\"name\":\"PORSCHE\",\"offsetgroup\":\"PORSCHE\",\"orientation\":\"h\",\"showlegend\":true,\"textposition\":\"auto\",\"x\":[78],\"xaxis\":\"x\",\"y\":[\"PORSCHE\"],\"yaxis\":\"y\",\"type\":\"bar\"},{\"alignmentgroup\":\"True\",\"hovertemplate\":\"Make=%{y}<br>Model Year=2016<br>Number of EV Vehicles=%{x}<extra></extra>\",\"legendgroup\":\"SMART\",\"marker\":{\"color\":\"#B6E880\",\"pattern\":{\"shape\":\"\"}},\"name\":\"SMART\",\"offsetgroup\":\"SMART\",\"orientation\":\"h\",\"showlegend\":true,\"textposition\":\"auto\",\"x\":[31],\"xaxis\":\"x\",\"y\":[\"SMART\"],\"yaxis\":\"y\",\"type\":\"bar\"},{\"alignmentgroup\":\"True\",\"hovertemplate\":\"Make=%{y}<br>Model Year=2016<br>Number of EV Vehicles=%{x}<extra></extra>\",\"legendgroup\":\"TESLA\",\"marker\":{\"color\":\"#FECB52\",\"pattern\":{\"shape\":\"\"}},\"name\":\"TESLA\",\"offsetgroup\":\"TESLA\",\"orientation\":\"h\",\"showlegend\":true,\"textposition\":\"auto\",\"x\":[1632],\"xaxis\":\"x\",\"y\":[\"TESLA\"],\"yaxis\":\"y\",\"type\":\"bar\"},{\"alignmentgroup\":\"True\",\"hovertemplate\":\"Make=%{y}<br>Model Year=2016<br>Number of EV Vehicles=%{x}<extra></extra>\",\"legendgroup\":\"VOLKSWAGEN\",\"marker\":{\"color\":\"#00cc96\",\"pattern\":{\"shape\":\"\"}},\"name\":\"VOLKSWAGEN\",\"offsetgroup\":\"VOLKSWAGEN\",\"orientation\":\"h\",\"showlegend\":true,\"textposition\":\"auto\",\"x\":[319],\"xaxis\":\"x\",\"y\":[\"VOLKSWAGEN\"],\"yaxis\":\"y\",\"type\":\"bar\"},{\"alignmentgroup\":\"True\",\"hovertemplate\":\"Make=%{y}<br>Model Year=2016<br>Number of EV Vehicles=%{x}<extra></extra>\",\"legendgroup\":\"VOLVO\",\"marker\":{\"color\":\"#ab63fa\",\"pattern\":{\"shape\":\"\"}},\"name\":\"VOLVO\",\"offsetgroup\":\"VOLVO\",\"orientation\":\"h\",\"showlegend\":true,\"textposition\":\"auto\",\"x\":[112],\"xaxis\":\"x\",\"y\":[\"VOLVO\"],\"yaxis\":\"y\",\"type\":\"bar\"}],\"name\":\"2016\"},{\"data\":[{\"alignmentgroup\":\"True\",\"hovertemplate\":\"Make=%{y}<br>Model Year=2017<br>Number of EV Vehicles=%{x}<extra></extra>\",\"legendgroup\":\"AUDI\",\"marker\":{\"color\":\"#636efa\",\"pattern\":{\"shape\":\"\"}},\"name\":\"AUDI\",\"offsetgroup\":\"AUDI\",\"orientation\":\"h\",\"showlegend\":true,\"textposition\":\"auto\",\"x\":[185],\"xaxis\":\"x\",\"y\":[\"AUDI\"],\"yaxis\":\"y\",\"type\":\"bar\"},{\"alignmentgroup\":\"True\",\"hovertemplate\":\"Make=%{y}<br>Model Year=2017<br>Number of EV Vehicles=%{x}<extra></extra>\",\"legendgroup\":\"BMW\",\"marker\":{\"color\":\"#ab63fa\",\"pattern\":{\"shape\":\"\"}},\"name\":\"BMW\",\"offsetgroup\":\"BMW\",\"orientation\":\"h\",\"showlegend\":true,\"textposition\":\"auto\",\"x\":[686],\"xaxis\":\"x\",\"y\":[\"BMW\"],\"yaxis\":\"y\",\"type\":\"bar\"},{\"alignmentgroup\":\"True\",\"hovertemplate\":\"Make=%{y}<br>Model Year=2017<br>Number of EV Vehicles=%{x}<extra></extra>\",\"legendgroup\":\"CADILLAC\",\"marker\":{\"color\":\"#FFA15A\",\"pattern\":{\"shape\":\"\"}},\"name\":\"CADILLAC\",\"offsetgroup\":\"CADILLAC\",\"orientation\":\"h\",\"showlegend\":true,\"textposition\":\"auto\",\"x\":[15],\"xaxis\":\"x\",\"y\":[\"CADILLAC\"],\"yaxis\":\"y\",\"type\":\"bar\"},{\"alignmentgroup\":\"True\",\"hovertemplate\":\"Make=%{y}<br>Model Year=2017<br>Number of EV Vehicles=%{x}<extra></extra>\",\"legendgroup\":\"CHEVROLET\",\"marker\":{\"color\":\"#19d3f3\",\"pattern\":{\"shape\":\"\"}},\"name\":\"CHEVROLET\",\"offsetgroup\":\"CHEVROLET\",\"orientation\":\"h\",\"showlegend\":true,\"textposition\":\"auto\",\"x\":[2741],\"xaxis\":\"x\",\"y\":[\"CHEVROLET\"],\"yaxis\":\"y\",\"type\":\"bar\"},{\"alignmentgroup\":\"True\",\"hovertemplate\":\"Make=%{y}<br>Model Year=2017<br>Number of EV Vehicles=%{x}<extra></extra>\",\"legendgroup\":\"CHRYSLER\",\"marker\":{\"color\":\"#FF6692\",\"pattern\":{\"shape\":\"\"}},\"name\":\"CHRYSLER\",\"offsetgroup\":\"CHRYSLER\",\"orientation\":\"h\",\"showlegend\":true,\"textposition\":\"auto\",\"x\":[94],\"xaxis\":\"x\",\"y\":[\"CHRYSLER\"],\"yaxis\":\"y\",\"type\":\"bar\"},{\"alignmentgroup\":\"True\",\"hovertemplate\":\"Make=%{y}<br>Model Year=2017<br>Number of EV Vehicles=%{x}<extra></extra>\",\"legendgroup\":\"FIAT\",\"marker\":{\"color\":\"#B6E880\",\"pattern\":{\"shape\":\"\"}},\"name\":\"FIAT\",\"offsetgroup\":\"FIAT\",\"orientation\":\"h\",\"showlegend\":true,\"textposition\":\"auto\",\"x\":[167],\"xaxis\":\"x\",\"y\":[\"FIAT\"],\"yaxis\":\"y\",\"type\":\"bar\"},{\"alignmentgroup\":\"True\",\"hovertemplate\":\"Make=%{y}<br>Model Year=2017<br>Number of EV Vehicles=%{x}<extra></extra>\",\"legendgroup\":\"FORD\",\"marker\":{\"color\":\"#FECB52\",\"pattern\":{\"shape\":\"\"}},\"name\":\"FORD\",\"offsetgroup\":\"FORD\",\"orientation\":\"h\",\"showlegend\":true,\"textposition\":\"auto\",\"x\":[657],\"xaxis\":\"x\",\"y\":[\"FORD\"],\"yaxis\":\"y\",\"type\":\"bar\"},{\"alignmentgroup\":\"True\",\"hovertemplate\":\"Make=%{y}<br>Model Year=2017<br>Number of EV Vehicles=%{x}<extra></extra>\",\"legendgroup\":\"HYUNDAI\",\"marker\":{\"color\":\"#00cc96\",\"pattern\":{\"shape\":\"\"}},\"name\":\"HYUNDAI\",\"offsetgroup\":\"HYUNDAI\",\"orientation\":\"h\",\"showlegend\":true,\"textposition\":\"auto\",\"x\":[46],\"xaxis\":\"x\",\"y\":[\"HYUNDAI\"],\"yaxis\":\"y\",\"type\":\"bar\"},{\"alignmentgroup\":\"True\",\"hovertemplate\":\"Make=%{y}<br>Model Year=2017<br>Number of EV Vehicles=%{x}<extra></extra>\",\"legendgroup\":\"KIA\",\"marker\":{\"color\":\"#19d3f3\",\"pattern\":{\"shape\":\"\"}},\"name\":\"KIA\",\"offsetgroup\":\"KIA\",\"orientation\":\"h\",\"showlegend\":true,\"textposition\":\"auto\",\"x\":[210],\"xaxis\":\"x\",\"y\":[\"KIA\"],\"yaxis\":\"y\",\"type\":\"bar\"},{\"alignmentgroup\":\"True\",\"hovertemplate\":\"Make=%{y}<br>Model Year=2017<br>Number of EV Vehicles=%{x}<extra></extra>\",\"legendgroup\":\"MERCEDES-BENZ\",\"marker\":{\"color\":\"#636efa\",\"pattern\":{\"shape\":\"\"}},\"name\":\"MERCEDES-BENZ\",\"offsetgroup\":\"MERCEDES-BENZ\",\"orientation\":\"h\",\"showlegend\":true,\"textposition\":\"auto\",\"x\":[45],\"xaxis\":\"x\",\"y\":[\"MERCEDES-BENZ\"],\"yaxis\":\"y\",\"type\":\"bar\"},{\"alignmentgroup\":\"True\",\"hovertemplate\":\"Make=%{y}<br>Model Year=2017<br>Number of EV Vehicles=%{x}<extra></extra>\",\"legendgroup\":\"MITSUBISHI\",\"marker\":{\"color\":\"#00cc96\",\"pattern\":{\"shape\":\"\"}},\"name\":\"MITSUBISHI\",\"offsetgroup\":\"MITSUBISHI\",\"orientation\":\"h\",\"showlegend\":true,\"textposition\":\"auto\",\"x\":[1],\"xaxis\":\"x\",\"y\":[\"MITSUBISHI\"],\"yaxis\":\"y\",\"type\":\"bar\"},{\"alignmentgroup\":\"True\",\"hovertemplate\":\"Make=%{y}<br>Model Year=2017<br>Number of EV Vehicles=%{x}<extra></extra>\",\"legendgroup\":\"NISSAN\",\"marker\":{\"color\":\"#ab63fa\",\"pattern\":{\"shape\":\"\"}},\"name\":\"NISSAN\",\"offsetgroup\":\"NISSAN\",\"orientation\":\"h\",\"showlegend\":true,\"textposition\":\"auto\",\"x\":[933],\"xaxis\":\"x\",\"y\":[\"NISSAN\"],\"yaxis\":\"y\",\"type\":\"bar\"},{\"alignmentgroup\":\"True\",\"hovertemplate\":\"Make=%{y}<br>Model Year=2017<br>Number of EV Vehicles=%{x}<extra></extra>\",\"legendgroup\":\"PORSCHE\",\"marker\":{\"color\":\"#19d3f3\",\"pattern\":{\"shape\":\"\"}},\"name\":\"PORSCHE\",\"offsetgroup\":\"PORSCHE\",\"orientation\":\"h\",\"showlegend\":true,\"textposition\":\"auto\",\"x\":[71],\"xaxis\":\"x\",\"y\":[\"PORSCHE\"],\"yaxis\":\"y\",\"type\":\"bar\"},{\"alignmentgroup\":\"True\",\"hovertemplate\":\"Make=%{y}<br>Model Year=2017<br>Number of EV Vehicles=%{x}<extra></extra>\",\"legendgroup\":\"SMART\",\"marker\":{\"color\":\"#B6E880\",\"pattern\":{\"shape\":\"\"}},\"name\":\"SMART\",\"offsetgroup\":\"SMART\",\"orientation\":\"h\",\"showlegend\":true,\"textposition\":\"auto\",\"x\":[34],\"xaxis\":\"x\",\"y\":[\"SMART\"],\"yaxis\":\"y\",\"type\":\"bar\"},{\"alignmentgroup\":\"True\",\"hovertemplate\":\"Make=%{y}<br>Model Year=2017<br>Number of EV Vehicles=%{x}<extra></extra>\",\"legendgroup\":\"TESLA\",\"marker\":{\"color\":\"#FECB52\",\"pattern\":{\"shape\":\"\"}},\"name\":\"TESLA\",\"offsetgroup\":\"TESLA\",\"orientation\":\"h\",\"showlegend\":true,\"textposition\":\"auto\",\"x\":[1673],\"xaxis\":\"x\",\"y\":[\"TESLA\"],\"yaxis\":\"y\",\"type\":\"bar\"},{\"alignmentgroup\":\"True\",\"hovertemplate\":\"Make=%{y}<br>Model Year=2017<br>Number of EV Vehicles=%{x}<extra></extra>\",\"legendgroup\":\"TOYOTA\",\"marker\":{\"color\":\"#EF553B\",\"pattern\":{\"shape\":\"\"}},\"name\":\"TOYOTA\",\"offsetgroup\":\"TOYOTA\",\"orientation\":\"h\",\"showlegend\":true,\"textposition\":\"auto\",\"x\":[895],\"xaxis\":\"x\",\"y\":[\"TOYOTA\"],\"yaxis\":\"y\",\"type\":\"bar\"},{\"alignmentgroup\":\"True\",\"hovertemplate\":\"Make=%{y}<br>Model Year=2017<br>Number of EV Vehicles=%{x}<extra></extra>\",\"legendgroup\":\"VOLKSWAGEN\",\"marker\":{\"color\":\"#00cc96\",\"pattern\":{\"shape\":\"\"}},\"name\":\"VOLKSWAGEN\",\"offsetgroup\":\"VOLKSWAGEN\",\"orientation\":\"h\",\"showlegend\":true,\"textposition\":\"auto\",\"x\":[52],\"xaxis\":\"x\",\"y\":[\"VOLKSWAGEN\"],\"yaxis\":\"y\",\"type\":\"bar\"},{\"alignmentgroup\":\"True\",\"hovertemplate\":\"Make=%{y}<br>Model Year=2017<br>Number of EV Vehicles=%{x}<extra></extra>\",\"legendgroup\":\"VOLVO\",\"marker\":{\"color\":\"#ab63fa\",\"pattern\":{\"shape\":\"\"}},\"name\":\"VOLVO\",\"offsetgroup\":\"VOLVO\",\"orientation\":\"h\",\"showlegend\":true,\"textposition\":\"auto\",\"x\":[115],\"xaxis\":\"x\",\"y\":[\"VOLVO\"],\"yaxis\":\"y\",\"type\":\"bar\"}],\"name\":\"2017\"},{\"data\":[{\"alignmentgroup\":\"True\",\"hovertemplate\":\"Make=%{y}<br>Model Year=2018<br>Number of EV Vehicles=%{x}<extra></extra>\",\"legendgroup\":\"AUDI\",\"marker\":{\"color\":\"#636efa\",\"pattern\":{\"shape\":\"\"}},\"name\":\"AUDI\",\"offsetgroup\":\"AUDI\",\"orientation\":\"h\",\"showlegend\":true,\"textposition\":\"auto\",\"x\":[174],\"xaxis\":\"x\",\"y\":[\"AUDI\"],\"yaxis\":\"y\",\"type\":\"bar\"},{\"alignmentgroup\":\"True\",\"hovertemplate\":\"Make=%{y}<br>Model Year=2018<br>Number of EV Vehicles=%{x}<extra></extra>\",\"legendgroup\":\"BMW\",\"marker\":{\"color\":\"#ab63fa\",\"pattern\":{\"shape\":\"\"}},\"name\":\"BMW\",\"offsetgroup\":\"BMW\",\"orientation\":\"h\",\"showlegend\":true,\"textposition\":\"auto\",\"x\":[709],\"xaxis\":\"x\",\"y\":[\"BMW\"],\"yaxis\":\"y\",\"type\":\"bar\"},{\"alignmentgroup\":\"True\",\"hovertemplate\":\"Make=%{y}<br>Model Year=2018<br>Number of EV Vehicles=%{x}<extra></extra>\",\"legendgroup\":\"CADILLAC\",\"marker\":{\"color\":\"#FFA15A\",\"pattern\":{\"shape\":\"\"}},\"name\":\"CADILLAC\",\"offsetgroup\":\"CADILLAC\",\"orientation\":\"h\",\"showlegend\":true,\"textposition\":\"auto\",\"x\":[17],\"xaxis\":\"x\",\"y\":[\"CADILLAC\"],\"yaxis\":\"y\",\"type\":\"bar\"},{\"alignmentgroup\":\"True\",\"hovertemplate\":\"Make=%{y}<br>Model Year=2018<br>Number of EV Vehicles=%{x}<extra></extra>\",\"legendgroup\":\"CHEVROLET\",\"marker\":{\"color\":\"#19d3f3\",\"pattern\":{\"shape\":\"\"}},\"name\":\"CHEVROLET\",\"offsetgroup\":\"CHEVROLET\",\"orientation\":\"h\",\"showlegend\":true,\"textposition\":\"auto\",\"x\":[1122],\"xaxis\":\"x\",\"y\":[\"CHEVROLET\"],\"yaxis\":\"y\",\"type\":\"bar\"},{\"alignmentgroup\":\"True\",\"hovertemplate\":\"Make=%{y}<br>Model Year=2018<br>Number of EV Vehicles=%{x}<extra></extra>\",\"legendgroup\":\"CHRYSLER\",\"marker\":{\"color\":\"#FF6692\",\"pattern\":{\"shape\":\"\"}},\"name\":\"CHRYSLER\",\"offsetgroup\":\"CHRYSLER\",\"orientation\":\"h\",\"showlegend\":true,\"textposition\":\"auto\",\"x\":[548],\"xaxis\":\"x\",\"y\":[\"CHRYSLER\"],\"yaxis\":\"y\",\"type\":\"bar\"},{\"alignmentgroup\":\"True\",\"hovertemplate\":\"Make=%{y}<br>Model Year=2018<br>Number of EV Vehicles=%{x}<extra></extra>\",\"legendgroup\":\"FIAT\",\"marker\":{\"color\":\"#B6E880\",\"pattern\":{\"shape\":\"\"}},\"name\":\"FIAT\",\"offsetgroup\":\"FIAT\",\"orientation\":\"h\",\"showlegend\":true,\"textposition\":\"auto\",\"x\":[53],\"xaxis\":\"x\",\"y\":[\"FIAT\"],\"yaxis\":\"y\",\"type\":\"bar\"},{\"alignmentgroup\":\"True\",\"hovertemplate\":\"Make=%{y}<br>Model Year=2018<br>Number of EV Vehicles=%{x}<extra></extra>\",\"legendgroup\":\"FORD\",\"marker\":{\"color\":\"#FECB52\",\"pattern\":{\"shape\":\"\"}},\"name\":\"FORD\",\"offsetgroup\":\"FORD\",\"orientation\":\"h\",\"showlegend\":true,\"textposition\":\"auto\",\"x\":[170],\"xaxis\":\"x\",\"y\":[\"FORD\"],\"yaxis\":\"y\",\"type\":\"bar\"},{\"alignmentgroup\":\"True\",\"hovertemplate\":\"Make=%{y}<br>Model Year=2018<br>Number of EV Vehicles=%{x}<extra></extra>\",\"legendgroup\":\"HONDA\",\"marker\":{\"color\":\"#EF553B\",\"pattern\":{\"shape\":\"\"}},\"name\":\"HONDA\",\"offsetgroup\":\"HONDA\",\"orientation\":\"h\",\"showlegend\":true,\"textposition\":\"auto\",\"x\":[612],\"xaxis\":\"x\",\"y\":[\"HONDA\"],\"yaxis\":\"y\",\"type\":\"bar\"},{\"alignmentgroup\":\"True\",\"hovertemplate\":\"Make=%{y}<br>Model Year=2018<br>Number of EV Vehicles=%{x}<extra></extra>\",\"legendgroup\":\"HYUNDAI\",\"marker\":{\"color\":\"#00cc96\",\"pattern\":{\"shape\":\"\"}},\"name\":\"HYUNDAI\",\"offsetgroup\":\"HYUNDAI\",\"orientation\":\"h\",\"showlegend\":true,\"textposition\":\"auto\",\"x\":[20],\"xaxis\":\"x\",\"y\":[\"HYUNDAI\"],\"yaxis\":\"y\",\"type\":\"bar\"},{\"alignmentgroup\":\"True\",\"hovertemplate\":\"Make=%{y}<br>Model Year=2018<br>Number of EV Vehicles=%{x}<extra></extra>\",\"legendgroup\":\"KIA\",\"marker\":{\"color\":\"#19d3f3\",\"pattern\":{\"shape\":\"\"}},\"name\":\"KIA\",\"offsetgroup\":\"KIA\",\"orientation\":\"h\",\"showlegend\":true,\"textposition\":\"auto\",\"x\":[322],\"xaxis\":\"x\",\"y\":[\"KIA\"],\"yaxis\":\"y\",\"type\":\"bar\"},{\"alignmentgroup\":\"True\",\"hovertemplate\":\"Make=%{y}<br>Model Year=2018<br>Number of EV Vehicles=%{x}<extra></extra>\",\"legendgroup\":\"MERCEDES-BENZ\",\"marker\":{\"color\":\"#636efa\",\"pattern\":{\"shape\":\"\"}},\"name\":\"MERCEDES-BENZ\",\"offsetgroup\":\"MERCEDES-BENZ\",\"orientation\":\"h\",\"showlegend\":true,\"textposition\":\"auto\",\"x\":[53],\"xaxis\":\"x\",\"y\":[\"MERCEDES-BENZ\"],\"yaxis\":\"y\",\"type\":\"bar\"},{\"alignmentgroup\":\"True\",\"hovertemplate\":\"Make=%{y}<br>Model Year=2018<br>Number of EV Vehicles=%{x}<extra></extra>\",\"legendgroup\":\"MINI\",\"marker\":{\"color\":\"#EF553B\",\"pattern\":{\"shape\":\"\"}},\"name\":\"MINI\",\"offsetgroup\":\"MINI\",\"orientation\":\"h\",\"showlegend\":true,\"textposition\":\"auto\",\"x\":[50],\"xaxis\":\"x\",\"y\":[\"MINI\"],\"yaxis\":\"y\",\"type\":\"bar\"},{\"alignmentgroup\":\"True\",\"hovertemplate\":\"Make=%{y}<br>Model Year=2018<br>Number of EV Vehicles=%{x}<extra></extra>\",\"legendgroup\":\"MITSUBISHI\",\"marker\":{\"color\":\"#00cc96\",\"pattern\":{\"shape\":\"\"}},\"name\":\"MITSUBISHI\",\"offsetgroup\":\"MITSUBISHI\",\"orientation\":\"h\",\"showlegend\":true,\"textposition\":\"auto\",\"x\":[181],\"xaxis\":\"x\",\"y\":[\"MITSUBISHI\"],\"yaxis\":\"y\",\"type\":\"bar\"},{\"alignmentgroup\":\"True\",\"hovertemplate\":\"Make=%{y}<br>Model Year=2018<br>Number of EV Vehicles=%{x}<extra></extra>\",\"legendgroup\":\"NISSAN\",\"marker\":{\"color\":\"#ab63fa\",\"pattern\":{\"shape\":\"\"}},\"name\":\"NISSAN\",\"offsetgroup\":\"NISSAN\",\"orientation\":\"h\",\"showlegend\":true,\"textposition\":\"auto\",\"x\":[1230],\"xaxis\":\"x\",\"y\":[\"NISSAN\"],\"yaxis\":\"y\",\"type\":\"bar\"},{\"alignmentgroup\":\"True\",\"hovertemplate\":\"Make=%{y}<br>Model Year=2018<br>Number of EV Vehicles=%{x}<extra></extra>\",\"legendgroup\":\"PORSCHE\",\"marker\":{\"color\":\"#19d3f3\",\"pattern\":{\"shape\":\"\"}},\"name\":\"PORSCHE\",\"offsetgroup\":\"PORSCHE\",\"orientation\":\"h\",\"showlegend\":true,\"textposition\":\"auto\",\"x\":[77],\"xaxis\":\"x\",\"y\":[\"PORSCHE\"],\"yaxis\":\"y\",\"type\":\"bar\"},{\"alignmentgroup\":\"True\",\"hovertemplate\":\"Make=%{y}<br>Model Year=2018<br>Number of EV Vehicles=%{x}<extra></extra>\",\"legendgroup\":\"SMART\",\"marker\":{\"color\":\"#B6E880\",\"pattern\":{\"shape\":\"\"}},\"name\":\"SMART\",\"offsetgroup\":\"SMART\",\"orientation\":\"h\",\"showlegend\":true,\"textposition\":\"auto\",\"x\":[47],\"xaxis\":\"x\",\"y\":[\"SMART\"],\"yaxis\":\"y\",\"type\":\"bar\"},{\"alignmentgroup\":\"True\",\"hovertemplate\":\"Make=%{y}<br>Model Year=2018<br>Number of EV Vehicles=%{x}<extra></extra>\",\"legendgroup\":\"TESLA\",\"marker\":{\"color\":\"#FECB52\",\"pattern\":{\"shape\":\"\"}},\"name\":\"TESLA\",\"offsetgroup\":\"TESLA\",\"orientation\":\"h\",\"showlegend\":true,\"textposition\":\"auto\",\"x\":[7900],\"xaxis\":\"x\",\"y\":[\"TESLA\"],\"yaxis\":\"y\",\"type\":\"bar\"},{\"alignmentgroup\":\"True\",\"hovertemplate\":\"Make=%{y}<br>Model Year=2018<br>Number of EV Vehicles=%{x}<extra></extra>\",\"legendgroup\":\"TOYOTA\",\"marker\":{\"color\":\"#EF553B\",\"pattern\":{\"shape\":\"\"}},\"name\":\"TOYOTA\",\"offsetgroup\":\"TOYOTA\",\"orientation\":\"h\",\"showlegend\":true,\"textposition\":\"auto\",\"x\":[659],\"xaxis\":\"x\",\"y\":[\"TOYOTA\"],\"yaxis\":\"y\",\"type\":\"bar\"},{\"alignmentgroup\":\"True\",\"hovertemplate\":\"Make=%{y}<br>Model Year=2018<br>Number of EV Vehicles=%{x}<extra></extra>\",\"legendgroup\":\"VOLKSWAGEN\",\"marker\":{\"color\":\"#00cc96\",\"pattern\":{\"shape\":\"\"}},\"name\":\"VOLKSWAGEN\",\"offsetgroup\":\"VOLKSWAGEN\",\"orientation\":\"h\",\"showlegend\":true,\"textposition\":\"auto\",\"x\":[39],\"xaxis\":\"x\",\"y\":[\"VOLKSWAGEN\"],\"yaxis\":\"y\",\"type\":\"bar\"},{\"alignmentgroup\":\"True\",\"hovertemplate\":\"Make=%{y}<br>Model Year=2018<br>Number of EV Vehicles=%{x}<extra></extra>\",\"legendgroup\":\"VOLVO\",\"marker\":{\"color\":\"#ab63fa\",\"pattern\":{\"shape\":\"\"}},\"name\":\"VOLVO\",\"offsetgroup\":\"VOLVO\",\"orientation\":\"h\",\"showlegend\":true,\"textposition\":\"auto\",\"x\":[226],\"xaxis\":\"x\",\"y\":[\"VOLVO\"],\"yaxis\":\"y\",\"type\":\"bar\"}],\"name\":\"2018\"},{\"data\":[{\"alignmentgroup\":\"True\",\"hovertemplate\":\"Make=%{y}<br>Model Year=2019<br>Number of EV Vehicles=%{x}<extra></extra>\",\"legendgroup\":\"AUDI\",\"marker\":{\"color\":\"#636efa\",\"pattern\":{\"shape\":\"\"}},\"name\":\"AUDI\",\"offsetgroup\":\"AUDI\",\"orientation\":\"h\",\"showlegend\":true,\"textposition\":\"auto\",\"x\":[391],\"xaxis\":\"x\",\"y\":[\"AUDI\"],\"yaxis\":\"y\",\"type\":\"bar\"},{\"alignmentgroup\":\"True\",\"hovertemplate\":\"Make=%{y}<br>Model Year=2019<br>Number of EV Vehicles=%{x}<extra></extra>\",\"legendgroup\":\"BMW\",\"marker\":{\"color\":\"#ab63fa\",\"pattern\":{\"shape\":\"\"}},\"name\":\"BMW\",\"offsetgroup\":\"BMW\",\"orientation\":\"h\",\"showlegend\":true,\"textposition\":\"auto\",\"x\":[279],\"xaxis\":\"x\",\"y\":[\"BMW\"],\"yaxis\":\"y\",\"type\":\"bar\"},{\"alignmentgroup\":\"True\",\"hovertemplate\":\"Make=%{y}<br>Model Year=2019<br>Number of EV Vehicles=%{x}<extra></extra>\",\"legendgroup\":\"CHEVROLET\",\"marker\":{\"color\":\"#19d3f3\",\"pattern\":{\"shape\":\"\"}},\"name\":\"CHEVROLET\",\"offsetgroup\":\"CHEVROLET\",\"orientation\":\"h\",\"showlegend\":true,\"textposition\":\"auto\",\"x\":[966],\"xaxis\":\"x\",\"y\":[\"CHEVROLET\"],\"yaxis\":\"y\",\"type\":\"bar\"},{\"alignmentgroup\":\"True\",\"hovertemplate\":\"Make=%{y}<br>Model Year=2019<br>Number of EV Vehicles=%{x}<extra></extra>\",\"legendgroup\":\"CHRYSLER\",\"marker\":{\"color\":\"#FF6692\",\"pattern\":{\"shape\":\"\"}},\"name\":\"CHRYSLER\",\"offsetgroup\":\"CHRYSLER\",\"orientation\":\"h\",\"showlegend\":true,\"textposition\":\"auto\",\"x\":[118],\"xaxis\":\"x\",\"y\":[\"CHRYSLER\"],\"yaxis\":\"y\",\"type\":\"bar\"},{\"alignmentgroup\":\"True\",\"hovertemplate\":\"Make=%{y}<br>Model Year=2019<br>Number of EV Vehicles=%{x}<extra></extra>\",\"legendgroup\":\"FIAT\",\"marker\":{\"color\":\"#B6E880\",\"pattern\":{\"shape\":\"\"}},\"name\":\"FIAT\",\"offsetgroup\":\"FIAT\",\"orientation\":\"h\",\"showlegend\":true,\"textposition\":\"auto\",\"x\":[9],\"xaxis\":\"x\",\"y\":[\"FIAT\"],\"yaxis\":\"y\",\"type\":\"bar\"},{\"alignmentgroup\":\"True\",\"hovertemplate\":\"Make=%{y}<br>Model Year=2019<br>Number of EV Vehicles=%{x}<extra></extra>\",\"legendgroup\":\"FORD\",\"marker\":{\"color\":\"#FECB52\",\"pattern\":{\"shape\":\"\"}},\"name\":\"FORD\",\"offsetgroup\":\"FORD\",\"orientation\":\"h\",\"showlegend\":true,\"textposition\":\"auto\",\"x\":[135],\"xaxis\":\"x\",\"y\":[\"FORD\"],\"yaxis\":\"y\",\"type\":\"bar\"},{\"alignmentgroup\":\"True\",\"hovertemplate\":\"Make=%{y}<br>Model Year=2019<br>Number of EV Vehicles=%{x}<extra></extra>\",\"legendgroup\":\"HONDA\",\"marker\":{\"color\":\"#EF553B\",\"pattern\":{\"shape\":\"\"}},\"name\":\"HONDA\",\"offsetgroup\":\"HONDA\",\"orientation\":\"h\",\"showlegend\":true,\"textposition\":\"auto\",\"x\":[73],\"xaxis\":\"x\",\"y\":[\"HONDA\"],\"yaxis\":\"y\",\"type\":\"bar\"},{\"alignmentgroup\":\"True\",\"hovertemplate\":\"Make=%{y}<br>Model Year=2019<br>Number of EV Vehicles=%{x}<extra></extra>\",\"legendgroup\":\"HYUNDAI\",\"marker\":{\"color\":\"#00cc96\",\"pattern\":{\"shape\":\"\"}},\"name\":\"HYUNDAI\",\"offsetgroup\":\"HYUNDAI\",\"orientation\":\"h\",\"showlegend\":true,\"textposition\":\"auto\",\"x\":[115],\"xaxis\":\"x\",\"y\":[\"HYUNDAI\"],\"yaxis\":\"y\",\"type\":\"bar\"},{\"alignmentgroup\":\"True\",\"hovertemplate\":\"Make=%{y}<br>Model Year=2019<br>Number of EV Vehicles=%{x}<extra></extra>\",\"legendgroup\":\"JAGUAR\",\"marker\":{\"color\":\"#ab63fa\",\"pattern\":{\"shape\":\"\"}},\"name\":\"JAGUAR\",\"offsetgroup\":\"JAGUAR\",\"orientation\":\"h\",\"showlegend\":true,\"textposition\":\"auto\",\"x\":[119],\"xaxis\":\"x\",\"y\":[\"JAGUAR\"],\"yaxis\":\"y\",\"type\":\"bar\"},{\"alignmentgroup\":\"True\",\"hovertemplate\":\"Make=%{y}<br>Model Year=2019<br>Number of EV Vehicles=%{x}<extra></extra>\",\"legendgroup\":\"KIA\",\"marker\":{\"color\":\"#19d3f3\",\"pattern\":{\"shape\":\"\"}},\"name\":\"KIA\",\"offsetgroup\":\"KIA\",\"orientation\":\"h\",\"showlegend\":true,\"textposition\":\"auto\",\"x\":[680],\"xaxis\":\"x\",\"y\":[\"KIA\"],\"yaxis\":\"y\",\"type\":\"bar\"},{\"alignmentgroup\":\"True\",\"hovertemplate\":\"Make=%{y}<br>Model Year=2019<br>Number of EV Vehicles=%{x}<extra></extra>\",\"legendgroup\":\"MERCEDES-BENZ\",\"marker\":{\"color\":\"#636efa\",\"pattern\":{\"shape\":\"\"}},\"name\":\"MERCEDES-BENZ\",\"offsetgroup\":\"MERCEDES-BENZ\",\"orientation\":\"h\",\"showlegend\":true,\"textposition\":\"auto\",\"x\":[132],\"xaxis\":\"x\",\"y\":[\"MERCEDES-BENZ\"],\"yaxis\":\"y\",\"type\":\"bar\"},{\"alignmentgroup\":\"True\",\"hovertemplate\":\"Make=%{y}<br>Model Year=2019<br>Number of EV Vehicles=%{x}<extra></extra>\",\"legendgroup\":\"MINI\",\"marker\":{\"color\":\"#EF553B\",\"pattern\":{\"shape\":\"\"}},\"name\":\"MINI\",\"offsetgroup\":\"MINI\",\"orientation\":\"h\",\"showlegend\":true,\"textposition\":\"auto\",\"x\":[100],\"xaxis\":\"x\",\"y\":[\"MINI\"],\"yaxis\":\"y\",\"type\":\"bar\"},{\"alignmentgroup\":\"True\",\"hovertemplate\":\"Make=%{y}<br>Model Year=2019<br>Number of EV Vehicles=%{x}<extra></extra>\",\"legendgroup\":\"MITSUBISHI\",\"marker\":{\"color\":\"#00cc96\",\"pattern\":{\"shape\":\"\"}},\"name\":\"MITSUBISHI\",\"offsetgroup\":\"MITSUBISHI\",\"orientation\":\"h\",\"showlegend\":true,\"textposition\":\"auto\",\"x\":[146],\"xaxis\":\"x\",\"y\":[\"MITSUBISHI\"],\"yaxis\":\"y\",\"type\":\"bar\"},{\"alignmentgroup\":\"True\",\"hovertemplate\":\"Make=%{y}<br>Model Year=2019<br>Number of EV Vehicles=%{x}<extra></extra>\",\"legendgroup\":\"NISSAN\",\"marker\":{\"color\":\"#ab63fa\",\"pattern\":{\"shape\":\"\"}},\"name\":\"NISSAN\",\"offsetgroup\":\"NISSAN\",\"orientation\":\"h\",\"showlegend\":true,\"textposition\":\"auto\",\"x\":[1407],\"xaxis\":\"x\",\"y\":[\"NISSAN\"],\"yaxis\":\"y\",\"type\":\"bar\"},{\"alignmentgroup\":\"True\",\"hovertemplate\":\"Make=%{y}<br>Model Year=2019<br>Number of EV Vehicles=%{x}<extra></extra>\",\"legendgroup\":\"PORSCHE\",\"marker\":{\"color\":\"#19d3f3\",\"pattern\":{\"shape\":\"\"}},\"name\":\"PORSCHE\",\"offsetgroup\":\"PORSCHE\",\"orientation\":\"h\",\"showlegend\":true,\"textposition\":\"auto\",\"x\":[62],\"xaxis\":\"x\",\"y\":[\"PORSCHE\"],\"yaxis\":\"y\",\"type\":\"bar\"},{\"alignmentgroup\":\"True\",\"hovertemplate\":\"Make=%{y}<br>Model Year=2019<br>Number of EV Vehicles=%{x}<extra></extra>\",\"legendgroup\":\"SMART\",\"marker\":{\"color\":\"#B6E880\",\"pattern\":{\"shape\":\"\"}},\"name\":\"SMART\",\"offsetgroup\":\"SMART\",\"orientation\":\"h\",\"showlegend\":true,\"textposition\":\"auto\",\"x\":[9],\"xaxis\":\"x\",\"y\":[\"SMART\"],\"yaxis\":\"y\",\"type\":\"bar\"},{\"alignmentgroup\":\"True\",\"hovertemplate\":\"Make=%{y}<br>Model Year=2019<br>Number of EV Vehicles=%{x}<extra></extra>\",\"legendgroup\":\"SUBARU\",\"marker\":{\"color\":\"#FF97FF\",\"pattern\":{\"shape\":\"\"}},\"name\":\"SUBARU\",\"offsetgroup\":\"SUBARU\",\"orientation\":\"h\",\"showlegend\":true,\"textposition\":\"auto\",\"x\":[58],\"xaxis\":\"x\",\"y\":[\"SUBARU\"],\"yaxis\":\"y\",\"type\":\"bar\"},{\"alignmentgroup\":\"True\",\"hovertemplate\":\"Make=%{y}<br>Model Year=2019<br>Number of EV Vehicles=%{x}<extra></extra>\",\"legendgroup\":\"TESLA\",\"marker\":{\"color\":\"#FECB52\",\"pattern\":{\"shape\":\"\"}},\"name\":\"TESLA\",\"offsetgroup\":\"TESLA\",\"orientation\":\"h\",\"showlegend\":true,\"textposition\":\"auto\",\"x\":[4569],\"xaxis\":\"x\",\"y\":[\"TESLA\"],\"yaxis\":\"y\",\"type\":\"bar\"},{\"alignmentgroup\":\"True\",\"hovertemplate\":\"Make=%{y}<br>Model Year=2019<br>Number of EV Vehicles=%{x}<extra></extra>\",\"legendgroup\":\"TOYOTA\",\"marker\":{\"color\":\"#EF553B\",\"pattern\":{\"shape\":\"\"}},\"name\":\"TOYOTA\",\"offsetgroup\":\"TOYOTA\",\"orientation\":\"h\",\"showlegend\":true,\"textposition\":\"auto\",\"x\":[189],\"xaxis\":\"x\",\"y\":[\"TOYOTA\"],\"yaxis\":\"y\",\"type\":\"bar\"},{\"alignmentgroup\":\"True\",\"hovertemplate\":\"Make=%{y}<br>Model Year=2019<br>Number of EV Vehicles=%{x}<extra></extra>\",\"legendgroup\":\"VOLKSWAGEN\",\"marker\":{\"color\":\"#00cc96\",\"pattern\":{\"shape\":\"\"}},\"name\":\"VOLKSWAGEN\",\"offsetgroup\":\"VOLKSWAGEN\",\"orientation\":\"h\",\"showlegend\":true,\"textposition\":\"auto\",\"x\":[494],\"xaxis\":\"x\",\"y\":[\"VOLKSWAGEN\"],\"yaxis\":\"y\",\"type\":\"bar\"},{\"alignmentgroup\":\"True\",\"hovertemplate\":\"Make=%{y}<br>Model Year=2019<br>Number of EV Vehicles=%{x}<extra></extra>\",\"legendgroup\":\"VOLVO\",\"marker\":{\"color\":\"#ab63fa\",\"pattern\":{\"shape\":\"\"}},\"name\":\"VOLVO\",\"offsetgroup\":\"VOLVO\",\"orientation\":\"h\",\"showlegend\":true,\"textposition\":\"auto\",\"x\":[190],\"xaxis\":\"x\",\"y\":[\"VOLVO\"],\"yaxis\":\"y\",\"type\":\"bar\"}],\"name\":\"2019\"},{\"data\":[{\"alignmentgroup\":\"True\",\"hovertemplate\":\"Make=%{y}<br>Model Year=2020<br>Number of EV Vehicles=%{x}<extra></extra>\",\"legendgroup\":\"AUDI\",\"marker\":{\"color\":\"#636efa\",\"pattern\":{\"shape\":\"\"}},\"name\":\"AUDI\",\"offsetgroup\":\"AUDI\",\"orientation\":\"h\",\"showlegend\":true,\"textposition\":\"auto\",\"x\":[224],\"xaxis\":\"x\",\"y\":[\"AUDI\"],\"yaxis\":\"y\",\"type\":\"bar\"},{\"alignmentgroup\":\"True\",\"hovertemplate\":\"Make=%{y}<br>Model Year=2020<br>Number of EV Vehicles=%{x}<extra></extra>\",\"legendgroup\":\"BENTLEY\",\"marker\":{\"color\":\"#00cc96\",\"pattern\":{\"shape\":\"\"}},\"name\":\"BENTLEY\",\"offsetgroup\":\"BENTLEY\",\"orientation\":\"h\",\"showlegend\":true,\"textposition\":\"auto\",\"x\":[1],\"xaxis\":\"x\",\"y\":[\"BENTLEY\"],\"yaxis\":\"y\",\"type\":\"bar\"},{\"alignmentgroup\":\"True\",\"hovertemplate\":\"Make=%{y}<br>Model Year=2020<br>Number of EV Vehicles=%{x}<extra></extra>\",\"legendgroup\":\"BMW\",\"marker\":{\"color\":\"#ab63fa\",\"pattern\":{\"shape\":\"\"}},\"name\":\"BMW\",\"offsetgroup\":\"BMW\",\"orientation\":\"h\",\"showlegend\":true,\"textposition\":\"auto\",\"x\":[143],\"xaxis\":\"x\",\"y\":[\"BMW\"],\"yaxis\":\"y\",\"type\":\"bar\"},{\"alignmentgroup\":\"True\",\"hovertemplate\":\"Make=%{y}<br>Model Year=2020<br>Number of EV Vehicles=%{x}<extra></extra>\",\"legendgroup\":\"CHEVROLET\",\"marker\":{\"color\":\"#19d3f3\",\"pattern\":{\"shape\":\"\"}},\"name\":\"CHEVROLET\",\"offsetgroup\":\"CHEVROLET\",\"orientation\":\"h\",\"showlegend\":true,\"textposition\":\"auto\",\"x\":[1013],\"xaxis\":\"x\",\"y\":[\"CHEVROLET\"],\"yaxis\":\"y\",\"type\":\"bar\"},{\"alignmentgroup\":\"True\",\"hovertemplate\":\"Make=%{y}<br>Model Year=2020<br>Number of EV Vehicles=%{x}<extra></extra>\",\"legendgroup\":\"CHRYSLER\",\"marker\":{\"color\":\"#FF6692\",\"pattern\":{\"shape\":\"\"}},\"name\":\"CHRYSLER\",\"offsetgroup\":\"CHRYSLER\",\"orientation\":\"h\",\"showlegend\":true,\"textposition\":\"auto\",\"x\":[283],\"xaxis\":\"x\",\"y\":[\"CHRYSLER\"],\"yaxis\":\"y\",\"type\":\"bar\"},{\"alignmentgroup\":\"True\",\"hovertemplate\":\"Make=%{y}<br>Model Year=2020<br>Number of EV Vehicles=%{x}<extra></extra>\",\"legendgroup\":\"FORD\",\"marker\":{\"color\":\"#FECB52\",\"pattern\":{\"shape\":\"\"}},\"name\":\"FORD\",\"offsetgroup\":\"FORD\",\"orientation\":\"h\",\"showlegend\":true,\"textposition\":\"auto\",\"x\":[65],\"xaxis\":\"x\",\"y\":[\"FORD\"],\"yaxis\":\"y\",\"type\":\"bar\"},{\"alignmentgroup\":\"True\",\"hovertemplate\":\"Make=%{y}<br>Model Year=2020<br>Number of EV Vehicles=%{x}<extra></extra>\",\"legendgroup\":\"HONDA\",\"marker\":{\"color\":\"#EF553B\",\"pattern\":{\"shape\":\"\"}},\"name\":\"HONDA\",\"offsetgroup\":\"HONDA\",\"orientation\":\"h\",\"showlegend\":true,\"textposition\":\"auto\",\"x\":[79],\"xaxis\":\"x\",\"y\":[\"HONDA\"],\"yaxis\":\"y\",\"type\":\"bar\"},{\"alignmentgroup\":\"True\",\"hovertemplate\":\"Make=%{y}<br>Model Year=2020<br>Number of EV Vehicles=%{x}<extra></extra>\",\"legendgroup\":\"HYUNDAI\",\"marker\":{\"color\":\"#00cc96\",\"pattern\":{\"shape\":\"\"}},\"name\":\"HYUNDAI\",\"offsetgroup\":\"HYUNDAI\",\"orientation\":\"h\",\"showlegend\":true,\"textposition\":\"auto\",\"x\":[212],\"xaxis\":\"x\",\"y\":[\"HYUNDAI\"],\"yaxis\":\"y\",\"type\":\"bar\"},{\"alignmentgroup\":\"True\",\"hovertemplate\":\"Make=%{y}<br>Model Year=2020<br>Number of EV Vehicles=%{x}<extra></extra>\",\"legendgroup\":\"JAGUAR\",\"marker\":{\"color\":\"#ab63fa\",\"pattern\":{\"shape\":\"\"}},\"name\":\"JAGUAR\",\"offsetgroup\":\"JAGUAR\",\"orientation\":\"h\",\"showlegend\":true,\"textposition\":\"auto\",\"x\":[74],\"xaxis\":\"x\",\"y\":[\"JAGUAR\"],\"yaxis\":\"y\",\"type\":\"bar\"},{\"alignmentgroup\":\"True\",\"hovertemplate\":\"Make=%{y}<br>Model Year=2020<br>Number of EV Vehicles=%{x}<extra></extra>\",\"legendgroup\":\"KIA\",\"marker\":{\"color\":\"#19d3f3\",\"pattern\":{\"shape\":\"\"}},\"name\":\"KIA\",\"offsetgroup\":\"KIA\",\"orientation\":\"h\",\"showlegend\":true,\"textposition\":\"auto\",\"x\":[534],\"xaxis\":\"x\",\"y\":[\"KIA\"],\"yaxis\":\"y\",\"type\":\"bar\"},{\"alignmentgroup\":\"True\",\"hovertemplate\":\"Make=%{y}<br>Model Year=2020<br>Number of EV Vehicles=%{x}<extra></extra>\",\"legendgroup\":\"LAND ROVER\",\"marker\":{\"color\":\"#FF6692\",\"pattern\":{\"shape\":\"\"}},\"name\":\"LAND ROVER\",\"offsetgroup\":\"LAND ROVER\",\"orientation\":\"h\",\"showlegend\":true,\"textposition\":\"auto\",\"x\":[30],\"xaxis\":\"x\",\"y\":[\"LAND ROVER\"],\"yaxis\":\"y\",\"type\":\"bar\"},{\"alignmentgroup\":\"True\",\"hovertemplate\":\"Make=%{y}<br>Model Year=2020<br>Number of EV Vehicles=%{x}<extra></extra>\",\"legendgroup\":\"LINCOLN\",\"marker\":{\"color\":\"#FF97FF\",\"pattern\":{\"shape\":\"\"}},\"name\":\"LINCOLN\",\"offsetgroup\":\"LINCOLN\",\"orientation\":\"h\",\"showlegend\":true,\"textposition\":\"auto\",\"x\":[29],\"xaxis\":\"x\",\"y\":[\"LINCOLN\"],\"yaxis\":\"y\",\"type\":\"bar\"},{\"alignmentgroup\":\"True\",\"hovertemplate\":\"Make=%{y}<br>Model Year=2020<br>Number of EV Vehicles=%{x}<extra></extra>\",\"legendgroup\":\"MERCEDES-BENZ\",\"marker\":{\"color\":\"#636efa\",\"pattern\":{\"shape\":\"\"}},\"name\":\"MERCEDES-BENZ\",\"offsetgroup\":\"MERCEDES-BENZ\",\"orientation\":\"h\",\"showlegend\":true,\"textposition\":\"auto\",\"x\":[31],\"xaxis\":\"x\",\"y\":[\"MERCEDES-BENZ\"],\"yaxis\":\"y\",\"type\":\"bar\"},{\"alignmentgroup\":\"True\",\"hovertemplate\":\"Make=%{y}<br>Model Year=2020<br>Number of EV Vehicles=%{x}<extra></extra>\",\"legendgroup\":\"MINI\",\"marker\":{\"color\":\"#EF553B\",\"pattern\":{\"shape\":\"\"}},\"name\":\"MINI\",\"offsetgroup\":\"MINI\",\"orientation\":\"h\",\"showlegend\":true,\"textposition\":\"auto\",\"x\":[3],\"xaxis\":\"x\",\"y\":[\"MINI\"],\"yaxis\":\"y\",\"type\":\"bar\"},{\"alignmentgroup\":\"True\",\"hovertemplate\":\"Make=%{y}<br>Model Year=2020<br>Number of EV Vehicles=%{x}<extra></extra>\",\"legendgroup\":\"MITSUBISHI\",\"marker\":{\"color\":\"#00cc96\",\"pattern\":{\"shape\":\"\"}},\"name\":\"MITSUBISHI\",\"offsetgroup\":\"MITSUBISHI\",\"orientation\":\"h\",\"showlegend\":true,\"textposition\":\"auto\",\"x\":[97],\"xaxis\":\"x\",\"y\":[\"MITSUBISHI\"],\"yaxis\":\"y\",\"type\":\"bar\"},{\"alignmentgroup\":\"True\",\"hovertemplate\":\"Make=%{y}<br>Model Year=2020<br>Number of EV Vehicles=%{x}<extra></extra>\",\"legendgroup\":\"NISSAN\",\"marker\":{\"color\":\"#ab63fa\",\"pattern\":{\"shape\":\"\"}},\"name\":\"NISSAN\",\"offsetgroup\":\"NISSAN\",\"orientation\":\"h\",\"showlegend\":true,\"textposition\":\"auto\",\"x\":[580],\"xaxis\":\"x\",\"y\":[\"NISSAN\"],\"yaxis\":\"y\",\"type\":\"bar\"},{\"alignmentgroup\":\"True\",\"hovertemplate\":\"Make=%{y}<br>Model Year=2020<br>Number of EV Vehicles=%{x}<extra></extra>\",\"legendgroup\":\"PORSCHE\",\"marker\":{\"color\":\"#19d3f3\",\"pattern\":{\"shape\":\"\"}},\"name\":\"PORSCHE\",\"offsetgroup\":\"PORSCHE\",\"orientation\":\"h\",\"showlegend\":true,\"textposition\":\"auto\",\"x\":[143],\"xaxis\":\"x\",\"y\":[\"PORSCHE\"],\"yaxis\":\"y\",\"type\":\"bar\"},{\"alignmentgroup\":\"True\",\"hovertemplate\":\"Make=%{y}<br>Model Year=2020<br>Number of EV Vehicles=%{x}<extra></extra>\",\"legendgroup\":\"TESLA\",\"marker\":{\"color\":\"#FECB52\",\"pattern\":{\"shape\":\"\"}},\"name\":\"TESLA\",\"offsetgroup\":\"TESLA\",\"orientation\":\"h\",\"showlegend\":true,\"textposition\":\"auto\",\"x\":[6996],\"xaxis\":\"x\",\"y\":[\"TESLA\"],\"yaxis\":\"y\",\"type\":\"bar\"},{\"alignmentgroup\":\"True\",\"hovertemplate\":\"Make=%{y}<br>Model Year=2020<br>Number of EV Vehicles=%{x}<extra></extra>\",\"legendgroup\":\"TOYOTA\",\"marker\":{\"color\":\"#EF553B\",\"pattern\":{\"shape\":\"\"}},\"name\":\"TOYOTA\",\"offsetgroup\":\"TOYOTA\",\"orientation\":\"h\",\"showlegend\":true,\"textposition\":\"auto\",\"x\":[310],\"xaxis\":\"x\",\"y\":[\"TOYOTA\"],\"yaxis\":\"y\",\"type\":\"bar\"},{\"alignmentgroup\":\"True\",\"hovertemplate\":\"Make=%{y}<br>Model Year=2020<br>Number of EV Vehicles=%{x}<extra></extra>\",\"legendgroup\":\"VOLVO\",\"marker\":{\"color\":\"#ab63fa\",\"pattern\":{\"shape\":\"\"}},\"name\":\"VOLVO\",\"offsetgroup\":\"VOLVO\",\"orientation\":\"h\",\"showlegend\":true,\"textposition\":\"auto\",\"x\":[162],\"xaxis\":\"x\",\"y\":[\"VOLVO\"],\"yaxis\":\"y\",\"type\":\"bar\"}],\"name\":\"2020\"},{\"data\":[{\"alignmentgroup\":\"True\",\"hovertemplate\":\"Make=%{y}<br>Model Year=2021<br>Number of EV Vehicles=%{x}<extra></extra>\",\"legendgroup\":\"AUDI\",\"marker\":{\"color\":\"#636efa\",\"pattern\":{\"shape\":\"\"}},\"name\":\"AUDI\",\"offsetgroup\":\"AUDI\",\"orientation\":\"h\",\"showlegend\":true,\"textposition\":\"auto\",\"x\":[543],\"xaxis\":\"x\",\"y\":[\"AUDI\"],\"yaxis\":\"y\",\"type\":\"bar\"},{\"alignmentgroup\":\"True\",\"hovertemplate\":\"Make=%{y}<br>Model Year=2021<br>Number of EV Vehicles=%{x}<extra></extra>\",\"legendgroup\":\"BENTLEY\",\"marker\":{\"color\":\"#00cc96\",\"pattern\":{\"shape\":\"\"}},\"name\":\"BENTLEY\",\"offsetgroup\":\"BENTLEY\",\"orientation\":\"h\",\"showlegend\":true,\"textposition\":\"auto\",\"x\":[1],\"xaxis\":\"x\",\"y\":[\"BENTLEY\"],\"yaxis\":\"y\",\"type\":\"bar\"},{\"alignmentgroup\":\"True\",\"hovertemplate\":\"Make=%{y}<br>Model Year=2021<br>Number of EV Vehicles=%{x}<extra></extra>\",\"legendgroup\":\"BMW\",\"marker\":{\"color\":\"#ab63fa\",\"pattern\":{\"shape\":\"\"}},\"name\":\"BMW\",\"offsetgroup\":\"BMW\",\"orientation\":\"h\",\"showlegend\":true,\"textposition\":\"auto\",\"x\":[634],\"xaxis\":\"x\",\"y\":[\"BMW\"],\"yaxis\":\"y\",\"type\":\"bar\"},{\"alignmentgroup\":\"True\",\"hovertemplate\":\"Make=%{y}<br>Model Year=2021<br>Number of EV Vehicles=%{x}<extra></extra>\",\"legendgroup\":\"CHEVROLET\",\"marker\":{\"color\":\"#19d3f3\",\"pattern\":{\"shape\":\"\"}},\"name\":\"CHEVROLET\",\"offsetgroup\":\"CHEVROLET\",\"orientation\":\"h\",\"showlegend\":true,\"textposition\":\"auto\",\"x\":[376],\"xaxis\":\"x\",\"y\":[\"CHEVROLET\"],\"yaxis\":\"y\",\"type\":\"bar\"},{\"alignmentgroup\":\"True\",\"hovertemplate\":\"Make=%{y}<br>Model Year=2021<br>Number of EV Vehicles=%{x}<extra></extra>\",\"legendgroup\":\"CHRYSLER\",\"marker\":{\"color\":\"#FF6692\",\"pattern\":{\"shape\":\"\"}},\"name\":\"CHRYSLER\",\"offsetgroup\":\"CHRYSLER\",\"orientation\":\"h\",\"showlegend\":true,\"textposition\":\"auto\",\"x\":[501],\"xaxis\":\"x\",\"y\":[\"CHRYSLER\"],\"yaxis\":\"y\",\"type\":\"bar\"},{\"alignmentgroup\":\"True\",\"hovertemplate\":\"Make=%{y}<br>Model Year=2021<br>Number of EV Vehicles=%{x}<extra></extra>\",\"legendgroup\":\"FORD\",\"marker\":{\"color\":\"#FECB52\",\"pattern\":{\"shape\":\"\"}},\"name\":\"FORD\",\"offsetgroup\":\"FORD\",\"orientation\":\"h\",\"showlegend\":true,\"textposition\":\"auto\",\"x\":[880],\"xaxis\":\"x\",\"y\":[\"FORD\"],\"yaxis\":\"y\",\"type\":\"bar\"},{\"alignmentgroup\":\"True\",\"hovertemplate\":\"Make=%{y}<br>Model Year=2021<br>Number of EV Vehicles=%{x}<extra></extra>\",\"legendgroup\":\"HONDA\",\"marker\":{\"color\":\"#EF553B\",\"pattern\":{\"shape\":\"\"}},\"name\":\"HONDA\",\"offsetgroup\":\"HONDA\",\"orientation\":\"h\",\"showlegend\":true,\"textposition\":\"auto\",\"x\":[17],\"xaxis\":\"x\",\"y\":[\"HONDA\"],\"yaxis\":\"y\",\"type\":\"bar\"},{\"alignmentgroup\":\"True\",\"hovertemplate\":\"Make=%{y}<br>Model Year=2021<br>Number of EV Vehicles=%{x}<extra></extra>\",\"legendgroup\":\"HYUNDAI\",\"marker\":{\"color\":\"#00cc96\",\"pattern\":{\"shape\":\"\"}},\"name\":\"HYUNDAI\",\"offsetgroup\":\"HYUNDAI\",\"orientation\":\"h\",\"showlegend\":true,\"textposition\":\"auto\",\"x\":[187],\"xaxis\":\"x\",\"y\":[\"HYUNDAI\"],\"yaxis\":\"y\",\"type\":\"bar\"},{\"alignmentgroup\":\"True\",\"hovertemplate\":\"Make=%{y}<br>Model Year=2021<br>Number of EV Vehicles=%{x}<extra></extra>\",\"legendgroup\":\"JAGUAR\",\"marker\":{\"color\":\"#ab63fa\",\"pattern\":{\"shape\":\"\"}},\"name\":\"JAGUAR\",\"offsetgroup\":\"JAGUAR\",\"orientation\":\"h\",\"showlegend\":true,\"textposition\":\"auto\",\"x\":[6],\"xaxis\":\"x\",\"y\":[\"JAGUAR\"],\"yaxis\":\"y\",\"type\":\"bar\"},{\"alignmentgroup\":\"True\",\"hovertemplate\":\"Make=%{y}<br>Model Year=2021<br>Number of EV Vehicles=%{x}<extra></extra>\",\"legendgroup\":\"JEEP\",\"marker\":{\"color\":\"#FFA15A\",\"pattern\":{\"shape\":\"\"}},\"name\":\"JEEP\",\"offsetgroup\":\"JEEP\",\"orientation\":\"h\",\"showlegend\":true,\"textposition\":\"auto\",\"x\":[625],\"xaxis\":\"x\",\"y\":[\"JEEP\"],\"yaxis\":\"y\",\"type\":\"bar\"},{\"alignmentgroup\":\"True\",\"hovertemplate\":\"Make=%{y}<br>Model Year=2021<br>Number of EV Vehicles=%{x}<extra></extra>\",\"legendgroup\":\"KIA\",\"marker\":{\"color\":\"#19d3f3\",\"pattern\":{\"shape\":\"\"}},\"name\":\"KIA\",\"offsetgroup\":\"KIA\",\"orientation\":\"h\",\"showlegend\":true,\"textposition\":\"auto\",\"x\":[73],\"xaxis\":\"x\",\"y\":[\"KIA\"],\"yaxis\":\"y\",\"type\":\"bar\"},{\"alignmentgroup\":\"True\",\"hovertemplate\":\"Make=%{y}<br>Model Year=2021<br>Number of EV Vehicles=%{x}<extra></extra>\",\"legendgroup\":\"LAND ROVER\",\"marker\":{\"color\":\"#FF6692\",\"pattern\":{\"shape\":\"\"}},\"name\":\"LAND ROVER\",\"offsetgroup\":\"LAND ROVER\",\"orientation\":\"h\",\"showlegend\":true,\"textposition\":\"auto\",\"x\":[8],\"xaxis\":\"x\",\"y\":[\"LAND ROVER\"],\"yaxis\":\"y\",\"type\":\"bar\"},{\"alignmentgroup\":\"True\",\"hovertemplate\":\"Make=%{y}<br>Model Year=2021<br>Number of EV Vehicles=%{x}<extra></extra>\",\"legendgroup\":\"LINCOLN\",\"marker\":{\"color\":\"#FF97FF\",\"pattern\":{\"shape\":\"\"}},\"name\":\"LINCOLN\",\"offsetgroup\":\"LINCOLN\",\"orientation\":\"h\",\"showlegend\":true,\"textposition\":\"auto\",\"x\":[41],\"xaxis\":\"x\",\"y\":[\"LINCOLN\"],\"yaxis\":\"y\",\"type\":\"bar\"},{\"alignmentgroup\":\"True\",\"hovertemplate\":\"Make=%{y}<br>Model Year=2021<br>Number of EV Vehicles=%{x}<extra></extra>\",\"legendgroup\":\"MINI\",\"marker\":{\"color\":\"#EF553B\",\"pattern\":{\"shape\":\"\"}},\"name\":\"MINI\",\"offsetgroup\":\"MINI\",\"orientation\":\"h\",\"showlegend\":true,\"textposition\":\"auto\",\"x\":[143],\"xaxis\":\"x\",\"y\":[\"MINI\"],\"yaxis\":\"y\",\"type\":\"bar\"},{\"alignmentgroup\":\"True\",\"hovertemplate\":\"Make=%{y}<br>Model Year=2021<br>Number of EV Vehicles=%{x}<extra></extra>\",\"legendgroup\":\"MITSUBISHI\",\"marker\":{\"color\":\"#00cc96\",\"pattern\":{\"shape\":\"\"}},\"name\":\"MITSUBISHI\",\"offsetgroup\":\"MITSUBISHI\",\"orientation\":\"h\",\"showlegend\":true,\"textposition\":\"auto\",\"x\":[8],\"xaxis\":\"x\",\"y\":[\"MITSUBISHI\"],\"yaxis\":\"y\",\"type\":\"bar\"},{\"alignmentgroup\":\"True\",\"hovertemplate\":\"Make=%{y}<br>Model Year=2021<br>Number of EV Vehicles=%{x}<extra></extra>\",\"legendgroup\":\"NISSAN\",\"marker\":{\"color\":\"#ab63fa\",\"pattern\":{\"shape\":\"\"}},\"name\":\"NISSAN\",\"offsetgroup\":\"NISSAN\",\"orientation\":\"h\",\"showlegend\":true,\"textposition\":\"auto\",\"x\":[533],\"xaxis\":\"x\",\"y\":[\"NISSAN\"],\"yaxis\":\"y\",\"type\":\"bar\"},{\"alignmentgroup\":\"True\",\"hovertemplate\":\"Make=%{y}<br>Model Year=2021<br>Number of EV Vehicles=%{x}<extra></extra>\",\"legendgroup\":\"POLESTAR\",\"marker\":{\"color\":\"#FFA15A\",\"pattern\":{\"shape\":\"\"}},\"name\":\"POLESTAR\",\"offsetgroup\":\"POLESTAR\",\"orientation\":\"h\",\"showlegend\":true,\"textposition\":\"auto\",\"x\":[97],\"xaxis\":\"x\",\"y\":[\"POLESTAR\"],\"yaxis\":\"y\",\"type\":\"bar\"},{\"alignmentgroup\":\"True\",\"hovertemplate\":\"Make=%{y}<br>Model Year=2021<br>Number of EV Vehicles=%{x}<extra></extra>\",\"legendgroup\":\"PORSCHE\",\"marker\":{\"color\":\"#19d3f3\",\"pattern\":{\"shape\":\"\"}},\"name\":\"PORSCHE\",\"offsetgroup\":\"PORSCHE\",\"orientation\":\"h\",\"showlegend\":true,\"textposition\":\"auto\",\"x\":[145],\"xaxis\":\"x\",\"y\":[\"PORSCHE\"],\"yaxis\":\"y\",\"type\":\"bar\"},{\"alignmentgroup\":\"True\",\"hovertemplate\":\"Make=%{y}<br>Model Year=2021<br>Number of EV Vehicles=%{x}<extra></extra>\",\"legendgroup\":\"TESLA\",\"marker\":{\"color\":\"#FECB52\",\"pattern\":{\"shape\":\"\"}},\"name\":\"TESLA\",\"offsetgroup\":\"TESLA\",\"orientation\":\"h\",\"showlegend\":true,\"textposition\":\"auto\",\"x\":[10990],\"xaxis\":\"x\",\"y\":[\"TESLA\"],\"yaxis\":\"y\",\"type\":\"bar\"},{\"alignmentgroup\":\"True\",\"hovertemplate\":\"Make=%{y}<br>Model Year=2021<br>Number of EV Vehicles=%{x}<extra></extra>\",\"legendgroup\":\"TOYOTA\",\"marker\":{\"color\":\"#EF553B\",\"pattern\":{\"shape\":\"\"}},\"name\":\"TOYOTA\",\"offsetgroup\":\"TOYOTA\",\"orientation\":\"h\",\"showlegend\":true,\"textposition\":\"auto\",\"x\":[930],\"xaxis\":\"x\",\"y\":[\"TOYOTA\"],\"yaxis\":\"y\",\"type\":\"bar\"},{\"alignmentgroup\":\"True\",\"hovertemplate\":\"Make=%{y}<br>Model Year=2021<br>Number of EV Vehicles=%{x}<extra></extra>\",\"legendgroup\":\"VOLKSWAGEN\",\"marker\":{\"color\":\"#00cc96\",\"pattern\":{\"shape\":\"\"}},\"name\":\"VOLKSWAGEN\",\"offsetgroup\":\"VOLKSWAGEN\",\"orientation\":\"h\",\"showlegend\":true,\"textposition\":\"auto\",\"x\":[984],\"xaxis\":\"x\",\"y\":[\"VOLKSWAGEN\"],\"yaxis\":\"y\",\"type\":\"bar\"},{\"alignmentgroup\":\"True\",\"hovertemplate\":\"Make=%{y}<br>Model Year=2021<br>Number of EV Vehicles=%{x}<extra></extra>\",\"legendgroup\":\"VOLVO\",\"marker\":{\"color\":\"#ab63fa\",\"pattern\":{\"shape\":\"\"}},\"name\":\"VOLVO\",\"offsetgroup\":\"VOLVO\",\"orientation\":\"h\",\"showlegend\":true,\"textposition\":\"auto\",\"x\":[577],\"xaxis\":\"x\",\"y\":[\"VOLVO\"],\"yaxis\":\"y\",\"type\":\"bar\"}],\"name\":\"2021\"},{\"data\":[{\"alignmentgroup\":\"True\",\"hovertemplate\":\"Make=%{y}<br>Model Year=2022<br>Number of EV Vehicles=%{x}<extra></extra>\",\"legendgroup\":\"AUDI\",\"marker\":{\"color\":\"#636efa\",\"pattern\":{\"shape\":\"\"}},\"name\":\"AUDI\",\"offsetgroup\":\"AUDI\",\"orientation\":\"h\",\"showlegend\":true,\"textposition\":\"auto\",\"x\":[585],\"xaxis\":\"x\",\"y\":[\"AUDI\"],\"yaxis\":\"y\",\"type\":\"bar\"},{\"alignmentgroup\":\"True\",\"hovertemplate\":\"Make=%{y}<br>Model Year=2022<br>Number of EV Vehicles=%{x}<extra></extra>\",\"legendgroup\":\"BENTLEY\",\"marker\":{\"color\":\"#00cc96\",\"pattern\":{\"shape\":\"\"}},\"name\":\"BENTLEY\",\"offsetgroup\":\"BENTLEY\",\"orientation\":\"h\",\"showlegend\":true,\"textposition\":\"auto\",\"x\":[1],\"xaxis\":\"x\",\"y\":[\"BENTLEY\"],\"yaxis\":\"y\",\"type\":\"bar\"},{\"alignmentgroup\":\"True\",\"hovertemplate\":\"Make=%{y}<br>Model Year=2022<br>Number of EV Vehicles=%{x}<extra></extra>\",\"legendgroup\":\"BMW\",\"marker\":{\"color\":\"#ab63fa\",\"pattern\":{\"shape\":\"\"}},\"name\":\"BMW\",\"offsetgroup\":\"BMW\",\"orientation\":\"h\",\"showlegend\":true,\"textposition\":\"auto\",\"x\":[901],\"xaxis\":\"x\",\"y\":[\"BMW\"],\"yaxis\":\"y\",\"type\":\"bar\"},{\"alignmentgroup\":\"True\",\"hovertemplate\":\"Make=%{y}<br>Model Year=2022<br>Number of EV Vehicles=%{x}<extra></extra>\",\"legendgroup\":\"CHEVROLET\",\"marker\":{\"color\":\"#19d3f3\",\"pattern\":{\"shape\":\"\"}},\"name\":\"CHEVROLET\",\"offsetgroup\":\"CHEVROLET\",\"orientation\":\"h\",\"showlegend\":true,\"textposition\":\"auto\",\"x\":[891],\"xaxis\":\"x\",\"y\":[\"CHEVROLET\"],\"yaxis\":\"y\",\"type\":\"bar\"},{\"alignmentgroup\":\"True\",\"hovertemplate\":\"Make=%{y}<br>Model Year=2022<br>Number of EV Vehicles=%{x}<extra></extra>\",\"legendgroup\":\"CHRYSLER\",\"marker\":{\"color\":\"#FF6692\",\"pattern\":{\"shape\":\"\"}},\"name\":\"CHRYSLER\",\"offsetgroup\":\"CHRYSLER\",\"orientation\":\"h\",\"showlegend\":true,\"textposition\":\"auto\",\"x\":[237],\"xaxis\":\"x\",\"y\":[\"CHRYSLER\"],\"yaxis\":\"y\",\"type\":\"bar\"},{\"alignmentgroup\":\"True\",\"hovertemplate\":\"Make=%{y}<br>Model Year=2022<br>Number of EV Vehicles=%{x}<extra></extra>\",\"legendgroup\":\"FORD\",\"marker\":{\"color\":\"#FECB52\",\"pattern\":{\"shape\":\"\"}},\"name\":\"FORD\",\"offsetgroup\":\"FORD\",\"orientation\":\"h\",\"showlegend\":true,\"textposition\":\"auto\",\"x\":[1248],\"xaxis\":\"x\",\"y\":[\"FORD\"],\"yaxis\":\"y\",\"type\":\"bar\"},{\"alignmentgroup\":\"True\",\"hovertemplate\":\"Make=%{y}<br>Model Year=2022<br>Number of EV Vehicles=%{x}<extra></extra>\",\"legendgroup\":\"HYUNDAI\",\"marker\":{\"color\":\"#00cc96\",\"pattern\":{\"shape\":\"\"}},\"name\":\"HYUNDAI\",\"offsetgroup\":\"HYUNDAI\",\"orientation\":\"h\",\"showlegend\":true,\"textposition\":\"auto\",\"x\":[631],\"xaxis\":\"x\",\"y\":[\"HYUNDAI\"],\"yaxis\":\"y\",\"type\":\"bar\"},{\"alignmentgroup\":\"True\",\"hovertemplate\":\"Make=%{y}<br>Model Year=2022<br>Number of EV Vehicles=%{x}<extra></extra>\",\"legendgroup\":\"JAGUAR\",\"marker\":{\"color\":\"#ab63fa\",\"pattern\":{\"shape\":\"\"}},\"name\":\"JAGUAR\",\"offsetgroup\":\"JAGUAR\",\"orientation\":\"h\",\"showlegend\":true,\"textposition\":\"auto\",\"x\":[19],\"xaxis\":\"x\",\"y\":[\"JAGUAR\"],\"yaxis\":\"y\",\"type\":\"bar\"},{\"alignmentgroup\":\"True\",\"hovertemplate\":\"Make=%{y}<br>Model Year=2022<br>Number of EV Vehicles=%{x}<extra></extra>\",\"legendgroup\":\"JEEP\",\"marker\":{\"color\":\"#FFA15A\",\"pattern\":{\"shape\":\"\"}},\"name\":\"JEEP\",\"offsetgroup\":\"JEEP\",\"orientation\":\"h\",\"showlegend\":true,\"textposition\":\"auto\",\"x\":[521],\"xaxis\":\"x\",\"y\":[\"JEEP\"],\"yaxis\":\"y\",\"type\":\"bar\"},{\"alignmentgroup\":\"True\",\"hovertemplate\":\"Make=%{y}<br>Model Year=2022<br>Number of EV Vehicles=%{x}<extra></extra>\",\"legendgroup\":\"KIA\",\"marker\":{\"color\":\"#19d3f3\",\"pattern\":{\"shape\":\"\"}},\"name\":\"KIA\",\"offsetgroup\":\"KIA\",\"orientation\":\"h\",\"showlegend\":true,\"textposition\":\"auto\",\"x\":[2150],\"xaxis\":\"x\",\"y\":[\"KIA\"],\"yaxis\":\"y\",\"type\":\"bar\"},{\"alignmentgroup\":\"True\",\"hovertemplate\":\"Make=%{y}<br>Model Year=2022<br>Number of EV Vehicles=%{x}<extra></extra>\",\"legendgroup\":\"LEXUS\",\"marker\":{\"color\":\"#B6E880\",\"pattern\":{\"shape\":\"\"}},\"name\":\"LEXUS\",\"offsetgroup\":\"LEXUS\",\"orientation\":\"h\",\"showlegend\":true,\"textposition\":\"auto\",\"x\":[33],\"xaxis\":\"x\",\"y\":[\"LEXUS\"],\"yaxis\":\"y\",\"type\":\"bar\"},{\"alignmentgroup\":\"True\",\"hovertemplate\":\"Make=%{y}<br>Model Year=2022<br>Number of EV Vehicles=%{x}<extra></extra>\",\"legendgroup\":\"LINCOLN\",\"marker\":{\"color\":\"#FF97FF\",\"pattern\":{\"shape\":\"\"}},\"name\":\"LINCOLN\",\"offsetgroup\":\"LINCOLN\",\"orientation\":\"h\",\"showlegend\":true,\"textposition\":\"auto\",\"x\":[94],\"xaxis\":\"x\",\"y\":[\"LINCOLN\"],\"yaxis\":\"y\",\"type\":\"bar\"},{\"alignmentgroup\":\"True\",\"hovertemplate\":\"Make=%{y}<br>Model Year=2022<br>Number of EV Vehicles=%{x}<extra></extra>\",\"legendgroup\":\"LUCID MOTORS\",\"marker\":{\"color\":\"#FECB52\",\"pattern\":{\"shape\":\"\"}},\"name\":\"LUCID MOTORS\",\"offsetgroup\":\"LUCID MOTORS\",\"orientation\":\"h\",\"showlegend\":true,\"textposition\":\"auto\",\"x\":[65],\"xaxis\":\"x\",\"y\":[\"LUCID MOTORS\"],\"yaxis\":\"y\",\"type\":\"bar\"},{\"alignmentgroup\":\"True\",\"hovertemplate\":\"Make=%{y}<br>Model Year=2022<br>Number of EV Vehicles=%{x}<extra></extra>\",\"legendgroup\":\"MERCEDES-BENZ\",\"marker\":{\"color\":\"#636efa\",\"pattern\":{\"shape\":\"\"}},\"name\":\"MERCEDES-BENZ\",\"offsetgroup\":\"MERCEDES-BENZ\",\"orientation\":\"h\",\"showlegend\":true,\"textposition\":\"auto\",\"x\":[130],\"xaxis\":\"x\",\"y\":[\"MERCEDES-BENZ\"],\"yaxis\":\"y\",\"type\":\"bar\"},{\"alignmentgroup\":\"True\",\"hovertemplate\":\"Make=%{y}<br>Model Year=2022<br>Number of EV Vehicles=%{x}<extra></extra>\",\"legendgroup\":\"MINI\",\"marker\":{\"color\":\"#EF553B\",\"pattern\":{\"shape\":\"\"}},\"name\":\"MINI\",\"offsetgroup\":\"MINI\",\"orientation\":\"h\",\"showlegend\":true,\"textposition\":\"auto\",\"x\":[212],\"xaxis\":\"x\",\"y\":[\"MINI\"],\"yaxis\":\"y\",\"type\":\"bar\"},{\"alignmentgroup\":\"True\",\"hovertemplate\":\"Make=%{y}<br>Model Year=2022<br>Number of EV Vehicles=%{x}<extra></extra>\",\"legendgroup\":\"MITSUBISHI\",\"marker\":{\"color\":\"#00cc96\",\"pattern\":{\"shape\":\"\"}},\"name\":\"MITSUBISHI\",\"offsetgroup\":\"MITSUBISHI\",\"orientation\":\"h\",\"showlegend\":true,\"textposition\":\"auto\",\"x\":[89],\"xaxis\":\"x\",\"y\":[\"MITSUBISHI\"],\"yaxis\":\"y\",\"type\":\"bar\"},{\"alignmentgroup\":\"True\",\"hovertemplate\":\"Make=%{y}<br>Model Year=2022<br>Number of EV Vehicles=%{x}<extra></extra>\",\"legendgroup\":\"NISSAN\",\"marker\":{\"color\":\"#ab63fa\",\"pattern\":{\"shape\":\"\"}},\"name\":\"NISSAN\",\"offsetgroup\":\"NISSAN\",\"orientation\":\"h\",\"showlegend\":true,\"textposition\":\"auto\",\"x\":[969],\"xaxis\":\"x\",\"y\":[\"NISSAN\"],\"yaxis\":\"y\",\"type\":\"bar\"},{\"alignmentgroup\":\"True\",\"hovertemplate\":\"Make=%{y}<br>Model Year=2022<br>Number of EV Vehicles=%{x}<extra></extra>\",\"legendgroup\":\"POLESTAR\",\"marker\":{\"color\":\"#FFA15A\",\"pattern\":{\"shape\":\"\"}},\"name\":\"POLESTAR\",\"offsetgroup\":\"POLESTAR\",\"orientation\":\"h\",\"showlegend\":true,\"textposition\":\"auto\",\"x\":[372],\"xaxis\":\"x\",\"y\":[\"POLESTAR\"],\"yaxis\":\"y\",\"type\":\"bar\"},{\"alignmentgroup\":\"True\",\"hovertemplate\":\"Make=%{y}<br>Model Year=2022<br>Number of EV Vehicles=%{x}<extra></extra>\",\"legendgroup\":\"PORSCHE\",\"marker\":{\"color\":\"#19d3f3\",\"pattern\":{\"shape\":\"\"}},\"name\":\"PORSCHE\",\"offsetgroup\":\"PORSCHE\",\"orientation\":\"h\",\"showlegend\":true,\"textposition\":\"auto\",\"x\":[200],\"xaxis\":\"x\",\"y\":[\"PORSCHE\"],\"yaxis\":\"y\",\"type\":\"bar\"},{\"alignmentgroup\":\"True\",\"hovertemplate\":\"Make=%{y}<br>Model Year=2022<br>Number of EV Vehicles=%{x}<extra></extra>\",\"legendgroup\":\"RIVIAN\",\"marker\":{\"color\":\"#FF6692\",\"pattern\":{\"shape\":\"\"}},\"name\":\"RIVIAN\",\"offsetgroup\":\"RIVIAN\",\"orientation\":\"h\",\"showlegend\":true,\"textposition\":\"auto\",\"x\":[884],\"xaxis\":\"x\",\"y\":[\"RIVIAN\"],\"yaxis\":\"y\",\"type\":\"bar\"},{\"alignmentgroup\":\"True\",\"hovertemplate\":\"Make=%{y}<br>Model Year=2022<br>Number of EV Vehicles=%{x}<extra></extra>\",\"legendgroup\":\"TESLA\",\"marker\":{\"color\":\"#FECB52\",\"pattern\":{\"shape\":\"\"}},\"name\":\"TESLA\",\"offsetgroup\":\"TESLA\",\"orientation\":\"h\",\"showlegend\":true,\"textposition\":\"auto\",\"x\":[14524],\"xaxis\":\"x\",\"y\":[\"TESLA\"],\"yaxis\":\"y\",\"type\":\"bar\"},{\"alignmentgroup\":\"True\",\"hovertemplate\":\"Make=%{y}<br>Model Year=2022<br>Number of EV Vehicles=%{x}<extra></extra>\",\"legendgroup\":\"TOYOTA\",\"marker\":{\"color\":\"#EF553B\",\"pattern\":{\"shape\":\"\"}},\"name\":\"TOYOTA\",\"offsetgroup\":\"TOYOTA\",\"orientation\":\"h\",\"showlegend\":true,\"textposition\":\"auto\",\"x\":[419],\"xaxis\":\"x\",\"y\":[\"TOYOTA\"],\"yaxis\":\"y\",\"type\":\"bar\"},{\"alignmentgroup\":\"True\",\"hovertemplate\":\"Make=%{y}<br>Model Year=2022<br>Number of EV Vehicles=%{x}<extra></extra>\",\"legendgroup\":\"VOLKSWAGEN\",\"marker\":{\"color\":\"#00cc96\",\"pattern\":{\"shape\":\"\"}},\"name\":\"VOLKSWAGEN\",\"offsetgroup\":\"VOLKSWAGEN\",\"orientation\":\"h\",\"showlegend\":true,\"textposition\":\"auto\",\"x\":[428],\"xaxis\":\"x\",\"y\":[\"VOLKSWAGEN\"],\"yaxis\":\"y\",\"type\":\"bar\"},{\"alignmentgroup\":\"True\",\"hovertemplate\":\"Make=%{y}<br>Model Year=2022<br>Number of EV Vehicles=%{x}<extra></extra>\",\"legendgroup\":\"VOLVO\",\"marker\":{\"color\":\"#ab63fa\",\"pattern\":{\"shape\":\"\"}},\"name\":\"VOLVO\",\"offsetgroup\":\"VOLVO\",\"orientation\":\"h\",\"showlegend\":true,\"textposition\":\"auto\",\"x\":[878],\"xaxis\":\"x\",\"y\":[\"VOLVO\"],\"yaxis\":\"y\",\"type\":\"bar\"}],\"name\":\"2022\"},{\"data\":[{\"alignmentgroup\":\"True\",\"hovertemplate\":\"Make=%{y}<br>Model Year=2023<br>Number of EV Vehicles=%{x}<extra></extra>\",\"legendgroup\":\"AUDI\",\"marker\":{\"color\":\"#636efa\",\"pattern\":{\"shape\":\"\"}},\"name\":\"AUDI\",\"offsetgroup\":\"AUDI\",\"orientation\":\"h\",\"showlegend\":true,\"textposition\":\"auto\",\"x\":[11],\"xaxis\":\"x\",\"y\":[\"AUDI\"],\"yaxis\":\"y\",\"type\":\"bar\"},{\"alignmentgroup\":\"True\",\"hovertemplate\":\"Make=%{y}<br>Model Year=2023<br>Number of EV Vehicles=%{x}<extra></extra>\",\"legendgroup\":\"BMW\",\"marker\":{\"color\":\"#ab63fa\",\"pattern\":{\"shape\":\"\"}},\"name\":\"BMW\",\"offsetgroup\":\"BMW\",\"orientation\":\"h\",\"showlegend\":true,\"textposition\":\"auto\",\"x\":[73],\"xaxis\":\"x\",\"y\":[\"BMW\"],\"yaxis\":\"y\",\"type\":\"bar\"},{\"alignmentgroup\":\"True\",\"hovertemplate\":\"Make=%{y}<br>Model Year=2023<br>Number of EV Vehicles=%{x}<extra></extra>\",\"legendgroup\":\"CHEVROLET\",\"marker\":{\"color\":\"#19d3f3\",\"pattern\":{\"shape\":\"\"}},\"name\":\"CHEVROLET\",\"offsetgroup\":\"CHEVROLET\",\"orientation\":\"h\",\"showlegend\":true,\"textposition\":\"auto\",\"x\":[177],\"xaxis\":\"x\",\"y\":[\"CHEVROLET\"],\"yaxis\":\"y\",\"type\":\"bar\"},{\"alignmentgroup\":\"True\",\"hovertemplate\":\"Make=%{y}<br>Model Year=2023<br>Number of EV Vehicles=%{x}<extra></extra>\",\"legendgroup\":\"FORD\",\"marker\":{\"color\":\"#FECB52\",\"pattern\":{\"shape\":\"\"}},\"name\":\"FORD\",\"offsetgroup\":\"FORD\",\"orientation\":\"h\",\"showlegend\":true,\"textposition\":\"auto\",\"x\":[4],\"xaxis\":\"x\",\"y\":[\"FORD\"],\"yaxis\":\"y\",\"type\":\"bar\"},{\"alignmentgroup\":\"True\",\"hovertemplate\":\"Make=%{y}<br>Model Year=2023<br>Number of EV Vehicles=%{x}<extra></extra>\",\"legendgroup\":\"GENESIS\",\"marker\":{\"color\":\"#636efa\",\"pattern\":{\"shape\":\"\"}},\"name\":\"GENESIS\",\"offsetgroup\":\"GENESIS\",\"orientation\":\"h\",\"showlegend\":true,\"textposition\":\"auto\",\"x\":[18],\"xaxis\":\"x\",\"y\":[\"GENESIS\"],\"yaxis\":\"y\",\"type\":\"bar\"},{\"alignmentgroup\":\"True\",\"hovertemplate\":\"Make=%{y}<br>Model Year=2023<br>Number of EV Vehicles=%{x}<extra></extra>\",\"legendgroup\":\"HYUNDAI\",\"marker\":{\"color\":\"#00cc96\",\"pattern\":{\"shape\":\"\"}},\"name\":\"HYUNDAI\",\"offsetgroup\":\"HYUNDAI\",\"orientation\":\"h\",\"showlegend\":true,\"textposition\":\"auto\",\"x\":[154],\"xaxis\":\"x\",\"y\":[\"HYUNDAI\"],\"yaxis\":\"y\",\"type\":\"bar\"},{\"alignmentgroup\":\"True\",\"hovertemplate\":\"Make=%{y}<br>Model Year=2023<br>Number of EV Vehicles=%{x}<extra></extra>\",\"legendgroup\":\"KIA\",\"marker\":{\"color\":\"#19d3f3\",\"pattern\":{\"shape\":\"\"}},\"name\":\"KIA\",\"offsetgroup\":\"KIA\",\"orientation\":\"h\",\"showlegend\":true,\"textposition\":\"auto\",\"x\":[78],\"xaxis\":\"x\",\"y\":[\"KIA\"],\"yaxis\":\"y\",\"type\":\"bar\"},{\"alignmentgroup\":\"True\",\"hovertemplate\":\"Make=%{y}<br>Model Year=2023<br>Number of EV Vehicles=%{x}<extra></extra>\",\"legendgroup\":\"LINCOLN\",\"marker\":{\"color\":\"#FF97FF\",\"pattern\":{\"shape\":\"\"}},\"name\":\"LINCOLN\",\"offsetgroup\":\"LINCOLN\",\"orientation\":\"h\",\"showlegend\":true,\"textposition\":\"auto\",\"x\":[4],\"xaxis\":\"x\",\"y\":[\"LINCOLN\"],\"yaxis\":\"y\",\"type\":\"bar\"},{\"alignmentgroup\":\"True\",\"hovertemplate\":\"Make=%{y}<br>Model Year=2023<br>Number of EV Vehicles=%{x}<extra></extra>\",\"legendgroup\":\"MERCEDES-BENZ\",\"marker\":{\"color\":\"#636efa\",\"pattern\":{\"shape\":\"\"}},\"name\":\"MERCEDES-BENZ\",\"offsetgroup\":\"MERCEDES-BENZ\",\"orientation\":\"h\",\"showlegend\":true,\"textposition\":\"auto\",\"x\":[23],\"xaxis\":\"x\",\"y\":[\"MERCEDES-BENZ\"],\"yaxis\":\"y\",\"type\":\"bar\"},{\"alignmentgroup\":\"True\",\"hovertemplate\":\"Make=%{y}<br>Model Year=2023<br>Number of EV Vehicles=%{x}<extra></extra>\",\"legendgroup\":\"MINI\",\"marker\":{\"color\":\"#EF553B\",\"pattern\":{\"shape\":\"\"}},\"name\":\"MINI\",\"offsetgroup\":\"MINI\",\"orientation\":\"h\",\"showlegend\":true,\"textposition\":\"auto\",\"x\":[124],\"xaxis\":\"x\",\"y\":[\"MINI\"],\"yaxis\":\"y\",\"type\":\"bar\"},{\"alignmentgroup\":\"True\",\"hovertemplate\":\"Make=%{y}<br>Model Year=2023<br>Number of EV Vehicles=%{x}<extra></extra>\",\"legendgroup\":\"NISSAN\",\"marker\":{\"color\":\"#ab63fa\",\"pattern\":{\"shape\":\"\"}},\"name\":\"NISSAN\",\"offsetgroup\":\"NISSAN\",\"orientation\":\"h\",\"showlegend\":true,\"textposition\":\"auto\",\"x\":[149],\"xaxis\":\"x\",\"y\":[\"NISSAN\"],\"yaxis\":\"y\",\"type\":\"bar\"},{\"alignmentgroup\":\"True\",\"hovertemplate\":\"Make=%{y}<br>Model Year=2023<br>Number of EV Vehicles=%{x}<extra></extra>\",\"legendgroup\":\"POLESTAR\",\"marker\":{\"color\":\"#FFA15A\",\"pattern\":{\"shape\":\"\"}},\"name\":\"POLESTAR\",\"offsetgroup\":\"POLESTAR\",\"orientation\":\"h\",\"showlegend\":true,\"textposition\":\"auto\",\"x\":[88],\"xaxis\":\"x\",\"y\":[\"POLESTAR\"],\"yaxis\":\"y\",\"type\":\"bar\"},{\"alignmentgroup\":\"True\",\"hovertemplate\":\"Make=%{y}<br>Model Year=2023<br>Number of EV Vehicles=%{x}<extra></extra>\",\"legendgroup\":\"SUBARU\",\"marker\":{\"color\":\"#FF97FF\",\"pattern\":{\"shape\":\"\"}},\"name\":\"SUBARU\",\"offsetgroup\":\"SUBARU\",\"orientation\":\"h\",\"showlegend\":true,\"textposition\":\"auto\",\"x\":[1],\"xaxis\":\"x\",\"y\":[\"SUBARU\"],\"yaxis\":\"y\",\"type\":\"bar\"},{\"alignmentgroup\":\"True\",\"hovertemplate\":\"Make=%{y}<br>Model Year=2023<br>Number of EV Vehicles=%{x}<extra></extra>\",\"legendgroup\":\"TESLA\",\"marker\":{\"color\":\"#FECB52\",\"pattern\":{\"shape\":\"\"}},\"name\":\"TESLA\",\"offsetgroup\":\"TESLA\",\"orientation\":\"h\",\"showlegend\":true,\"textposition\":\"auto\",\"x\":[890],\"xaxis\":\"x\",\"y\":[\"TESLA\"],\"yaxis\":\"y\",\"type\":\"bar\"},{\"alignmentgroup\":\"True\",\"hovertemplate\":\"Make=%{y}<br>Model Year=2023<br>Number of EV Vehicles=%{x}<extra></extra>\",\"legendgroup\":\"VOLKSWAGEN\",\"marker\":{\"color\":\"#00cc96\",\"pattern\":{\"shape\":\"\"}},\"name\":\"VOLKSWAGEN\",\"offsetgroup\":\"VOLKSWAGEN\",\"orientation\":\"h\",\"showlegend\":true,\"textposition\":\"auto\",\"x\":[69],\"xaxis\":\"x\",\"y\":[\"VOLKSWAGEN\"],\"yaxis\":\"y\",\"type\":\"bar\"},{\"alignmentgroup\":\"True\",\"hovertemplate\":\"Make=%{y}<br>Model Year=2023<br>Number of EV Vehicles=%{x}<extra></extra>\",\"legendgroup\":\"VOLVO\",\"marker\":{\"color\":\"#ab63fa\",\"pattern\":{\"shape\":\"\"}},\"name\":\"VOLVO\",\"offsetgroup\":\"VOLVO\",\"orientation\":\"h\",\"showlegend\":true,\"textposition\":\"auto\",\"x\":[21],\"xaxis\":\"x\",\"y\":[\"VOLVO\"],\"yaxis\":\"y\",\"type\":\"bar\"}],\"name\":\"2023\"},{\"data\":[{\"alignmentgroup\":\"True\",\"hovertemplate\":\"Make=%{y}<br>Model Year=2011<br>Number of EV Vehicles=%{x}<extra></extra>\",\"legendgroup\":\"AZURE DYNAMICS\",\"marker\":{\"color\":\"#EF553B\",\"pattern\":{\"shape\":\"\"}},\"name\":\"AZURE DYNAMICS\",\"offsetgroup\":\"AZURE DYNAMICS\",\"orientation\":\"h\",\"showlegend\":true,\"textposition\":\"auto\",\"x\":[4],\"xaxis\":\"x\",\"y\":[\"AZURE DYNAMICS\"],\"yaxis\":\"y\",\"type\":\"bar\"},{\"alignmentgroup\":\"True\",\"hovertemplate\":\"Make=%{y}<br>Model Year=2011<br>Number of EV Vehicles=%{x}<extra></extra>\",\"legendgroup\":\"CHEVROLET\",\"marker\":{\"color\":\"#19d3f3\",\"pattern\":{\"shape\":\"\"}},\"name\":\"CHEVROLET\",\"offsetgroup\":\"CHEVROLET\",\"orientation\":\"h\",\"showlegend\":true,\"textposition\":\"auto\",\"x\":[71],\"xaxis\":\"x\",\"y\":[\"CHEVROLET\"],\"yaxis\":\"y\",\"type\":\"bar\"},{\"alignmentgroup\":\"True\",\"hovertemplate\":\"Make=%{y}<br>Model Year=2011<br>Number of EV Vehicles=%{x}<extra></extra>\",\"legendgroup\":\"NISSAN\",\"marker\":{\"color\":\"#ab63fa\",\"pattern\":{\"shape\":\"\"}},\"name\":\"NISSAN\",\"offsetgroup\":\"NISSAN\",\"orientation\":\"h\",\"showlegend\":true,\"textposition\":\"auto\",\"x\":[754],\"xaxis\":\"x\",\"y\":[\"NISSAN\"],\"yaxis\":\"y\",\"type\":\"bar\"},{\"alignmentgroup\":\"True\",\"hovertemplate\":\"Make=%{y}<br>Model Year=2011<br>Number of EV Vehicles=%{x}<extra></extra>\",\"legendgroup\":\"TESLA\",\"marker\":{\"color\":\"#FECB52\",\"pattern\":{\"shape\":\"\"}},\"name\":\"TESLA\",\"offsetgroup\":\"TESLA\",\"orientation\":\"h\",\"showlegend\":true,\"textposition\":\"auto\",\"x\":[7],\"xaxis\":\"x\",\"y\":[\"TESLA\"],\"yaxis\":\"y\",\"type\":\"bar\"},{\"alignmentgroup\":\"True\",\"hovertemplate\":\"Make=%{y}<br>Model Year=2011<br>Number of EV Vehicles=%{x}<extra></extra>\",\"legendgroup\":\"TH!NK\",\"marker\":{\"color\":\"#636efa\",\"pattern\":{\"shape\":\"\"}},\"name\":\"TH!NK\",\"offsetgroup\":\"TH!NK\",\"orientation\":\"h\",\"showlegend\":true,\"textposition\":\"auto\",\"x\":[3],\"xaxis\":\"x\",\"y\":[\"TH!NK\"],\"yaxis\":\"y\",\"type\":\"bar\"}],\"name\":\"2011\"},{\"data\":[{\"alignmentgroup\":\"True\",\"hovertemplate\":\"Make=%{y}<br>Model Year=2012<br>Number of EV Vehicles=%{x}<extra></extra>\",\"legendgroup\":\"AZURE DYNAMICS\",\"marker\":{\"color\":\"#EF553B\",\"pattern\":{\"shape\":\"\"}},\"name\":\"AZURE DYNAMICS\",\"offsetgroup\":\"AZURE DYNAMICS\",\"orientation\":\"h\",\"showlegend\":true,\"textposition\":\"auto\",\"x\":[3],\"xaxis\":\"x\",\"y\":[\"AZURE DYNAMICS\"],\"yaxis\":\"y\",\"type\":\"bar\"},{\"alignmentgroup\":\"True\",\"hovertemplate\":\"Make=%{y}<br>Model Year=2012<br>Number of EV Vehicles=%{x}<extra></extra>\",\"legendgroup\":\"CHEVROLET\",\"marker\":{\"color\":\"#19d3f3\",\"pattern\":{\"shape\":\"\"}},\"name\":\"CHEVROLET\",\"offsetgroup\":\"CHEVROLET\",\"orientation\":\"h\",\"showlegend\":true,\"textposition\":\"auto\",\"x\":[495],\"xaxis\":\"x\",\"y\":[\"CHEVROLET\"],\"yaxis\":\"y\",\"type\":\"bar\"},{\"alignmentgroup\":\"True\",\"hovertemplate\":\"Make=%{y}<br>Model Year=2012<br>Number of EV Vehicles=%{x}<extra></extra>\",\"legendgroup\":\"FISKER\",\"marker\":{\"color\":\"#FF97FF\",\"pattern\":{\"shape\":\"\"}},\"name\":\"FISKER\",\"offsetgroup\":\"FISKER\",\"orientation\":\"h\",\"showlegend\":true,\"textposition\":\"auto\",\"x\":[19],\"xaxis\":\"x\",\"y\":[\"FISKER\"],\"yaxis\":\"y\",\"type\":\"bar\"},{\"alignmentgroup\":\"True\",\"hovertemplate\":\"Make=%{y}<br>Model Year=2012<br>Number of EV Vehicles=%{x}<extra></extra>\",\"legendgroup\":\"FORD\",\"marker\":{\"color\":\"#FECB52\",\"pattern\":{\"shape\":\"\"}},\"name\":\"FORD\",\"offsetgroup\":\"FORD\",\"orientation\":\"h\",\"showlegend\":true,\"textposition\":\"auto\",\"x\":[15],\"xaxis\":\"x\",\"y\":[\"FORD\"],\"yaxis\":\"y\",\"type\":\"bar\"},{\"alignmentgroup\":\"True\",\"hovertemplate\":\"Make=%{y}<br>Model Year=2012<br>Number of EV Vehicles=%{x}<extra></extra>\",\"legendgroup\":\"MITSUBISHI\",\"marker\":{\"color\":\"#00cc96\",\"pattern\":{\"shape\":\"\"}},\"name\":\"MITSUBISHI\",\"offsetgroup\":\"MITSUBISHI\",\"orientation\":\"h\",\"showlegend\":true,\"textposition\":\"auto\",\"x\":[42],\"xaxis\":\"x\",\"y\":[\"MITSUBISHI\"],\"yaxis\":\"y\",\"type\":\"bar\"},{\"alignmentgroup\":\"True\",\"hovertemplate\":\"Make=%{y}<br>Model Year=2012<br>Number of EV Vehicles=%{x}<extra></extra>\",\"legendgroup\":\"NISSAN\",\"marker\":{\"color\":\"#ab63fa\",\"pattern\":{\"shape\":\"\"}},\"name\":\"NISSAN\",\"offsetgroup\":\"NISSAN\",\"orientation\":\"h\",\"showlegend\":true,\"textposition\":\"auto\",\"x\":[610],\"xaxis\":\"x\",\"y\":[\"NISSAN\"],\"yaxis\":\"y\",\"type\":\"bar\"},{\"alignmentgroup\":\"True\",\"hovertemplate\":\"Make=%{y}<br>Model Year=2012<br>Number of EV Vehicles=%{x}<extra></extra>\",\"legendgroup\":\"TESLA\",\"marker\":{\"color\":\"#FECB52\",\"pattern\":{\"shape\":\"\"}},\"name\":\"TESLA\",\"offsetgroup\":\"TESLA\",\"orientation\":\"h\",\"showlegend\":true,\"textposition\":\"auto\",\"x\":[134],\"xaxis\":\"x\",\"y\":[\"TESLA\"],\"yaxis\":\"y\",\"type\":\"bar\"},{\"alignmentgroup\":\"True\",\"hovertemplate\":\"Make=%{y}<br>Model Year=2012<br>Number of EV Vehicles=%{x}<extra></extra>\",\"legendgroup\":\"TOYOTA\",\"marker\":{\"color\":\"#EF553B\",\"pattern\":{\"shape\":\"\"}},\"name\":\"TOYOTA\",\"offsetgroup\":\"TOYOTA\",\"orientation\":\"h\",\"showlegend\":true,\"textposition\":\"auto\",\"x\":[384],\"xaxis\":\"x\",\"y\":[\"TOYOTA\"],\"yaxis\":\"y\",\"type\":\"bar\"}],\"name\":\"2012\"},{\"data\":[{\"alignmentgroup\":\"True\",\"hovertemplate\":\"Make=%{y}<br>Model Year=2014<br>Number of EV Vehicles=%{x}<extra></extra>\",\"legendgroup\":\"BMW\",\"marker\":{\"color\":\"#ab63fa\",\"pattern\":{\"shape\":\"\"}},\"name\":\"BMW\",\"offsetgroup\":\"BMW\",\"orientation\":\"h\",\"showlegend\":true,\"textposition\":\"auto\",\"x\":[457],\"xaxis\":\"x\",\"y\":[\"BMW\"],\"yaxis\":\"y\",\"type\":\"bar\"},{\"alignmentgroup\":\"True\",\"hovertemplate\":\"Make=%{y}<br>Model Year=2014<br>Number of EV Vehicles=%{x}<extra></extra>\",\"legendgroup\":\"CADILLAC\",\"marker\":{\"color\":\"#FFA15A\",\"pattern\":{\"shape\":\"\"}},\"name\":\"CADILLAC\",\"offsetgroup\":\"CADILLAC\",\"orientation\":\"h\",\"showlegend\":true,\"textposition\":\"auto\",\"x\":[58],\"xaxis\":\"x\",\"y\":[\"CADILLAC\"],\"yaxis\":\"y\",\"type\":\"bar\"},{\"alignmentgroup\":\"True\",\"hovertemplate\":\"Make=%{y}<br>Model Year=2014<br>Number of EV Vehicles=%{x}<extra></extra>\",\"legendgroup\":\"CHEVROLET\",\"marker\":{\"color\":\"#19d3f3\",\"pattern\":{\"shape\":\"\"}},\"name\":\"CHEVROLET\",\"offsetgroup\":\"CHEVROLET\",\"orientation\":\"h\",\"showlegend\":true,\"textposition\":\"auto\",\"x\":[720],\"xaxis\":\"x\",\"y\":[\"CHEVROLET\"],\"yaxis\":\"y\",\"type\":\"bar\"},{\"alignmentgroup\":\"True\",\"hovertemplate\":\"Make=%{y}<br>Model Year=2014<br>Number of EV Vehicles=%{x}<extra></extra>\",\"legendgroup\":\"FIAT\",\"marker\":{\"color\":\"#B6E880\",\"pattern\":{\"shape\":\"\"}},\"name\":\"FIAT\",\"offsetgroup\":\"FIAT\",\"orientation\":\"h\",\"showlegend\":true,\"textposition\":\"auto\",\"x\":[97],\"xaxis\":\"x\",\"y\":[\"FIAT\"],\"yaxis\":\"y\",\"type\":\"bar\"},{\"alignmentgroup\":\"True\",\"hovertemplate\":\"Make=%{y}<br>Model Year=2014<br>Number of EV Vehicles=%{x}<extra></extra>\",\"legendgroup\":\"FORD\",\"marker\":{\"color\":\"#FECB52\",\"pattern\":{\"shape\":\"\"}},\"name\":\"FORD\",\"offsetgroup\":\"FORD\",\"orientation\":\"h\",\"showlegend\":true,\"textposition\":\"auto\",\"x\":[622],\"xaxis\":\"x\",\"y\":[\"FORD\"],\"yaxis\":\"y\",\"type\":\"bar\"},{\"alignmentgroup\":\"True\",\"hovertemplate\":\"Make=%{y}<br>Model Year=2014<br>Number of EV Vehicles=%{x}<extra></extra>\",\"legendgroup\":\"HONDA\",\"marker\":{\"color\":\"#EF553B\",\"pattern\":{\"shape\":\"\"}},\"name\":\"HONDA\",\"offsetgroup\":\"HONDA\",\"orientation\":\"h\",\"showlegend\":true,\"textposition\":\"auto\",\"x\":[9],\"xaxis\":\"x\",\"y\":[\"HONDA\"],\"yaxis\":\"y\",\"type\":\"bar\"},{\"alignmentgroup\":\"True\",\"hovertemplate\":\"Make=%{y}<br>Model Year=2014<br>Number of EV Vehicles=%{x}<extra></extra>\",\"legendgroup\":\"MERCEDES-BENZ\",\"marker\":{\"color\":\"#636efa\",\"pattern\":{\"shape\":\"\"}},\"name\":\"MERCEDES-BENZ\",\"offsetgroup\":\"MERCEDES-BENZ\",\"orientation\":\"h\",\"showlegend\":true,\"textposition\":\"auto\",\"x\":[31],\"xaxis\":\"x\",\"y\":[\"MERCEDES-BENZ\"],\"yaxis\":\"y\",\"type\":\"bar\"},{\"alignmentgroup\":\"True\",\"hovertemplate\":\"Make=%{y}<br>Model Year=2014<br>Number of EV Vehicles=%{x}<extra></extra>\",\"legendgroup\":\"MITSUBISHI\",\"marker\":{\"color\":\"#00cc96\",\"pattern\":{\"shape\":\"\"}},\"name\":\"MITSUBISHI\",\"offsetgroup\":\"MITSUBISHI\",\"orientation\":\"h\",\"showlegend\":true,\"textposition\":\"auto\",\"x\":[10],\"xaxis\":\"x\",\"y\":[\"MITSUBISHI\"],\"yaxis\":\"y\",\"type\":\"bar\"},{\"alignmentgroup\":\"True\",\"hovertemplate\":\"Make=%{y}<br>Model Year=2014<br>Number of EV Vehicles=%{x}<extra></extra>\",\"legendgroup\":\"NISSAN\",\"marker\":{\"color\":\"#ab63fa\",\"pattern\":{\"shape\":\"\"}},\"name\":\"NISSAN\",\"offsetgroup\":\"NISSAN\",\"orientation\":\"h\",\"showlegend\":true,\"textposition\":\"auto\",\"x\":[692],\"xaxis\":\"x\",\"y\":[\"NISSAN\"],\"yaxis\":\"y\",\"type\":\"bar\"},{\"alignmentgroup\":\"True\",\"hovertemplate\":\"Make=%{y}<br>Model Year=2014<br>Number of EV Vehicles=%{x}<extra></extra>\",\"legendgroup\":\"PORSCHE\",\"marker\":{\"color\":\"#19d3f3\",\"pattern\":{\"shape\":\"\"}},\"name\":\"PORSCHE\",\"offsetgroup\":\"PORSCHE\",\"orientation\":\"h\",\"showlegend\":true,\"textposition\":\"auto\",\"x\":[8],\"xaxis\":\"x\",\"y\":[\"PORSCHE\"],\"yaxis\":\"y\",\"type\":\"bar\"},{\"alignmentgroup\":\"True\",\"hovertemplate\":\"Make=%{y}<br>Model Year=2014<br>Number of EV Vehicles=%{x}<extra></extra>\",\"legendgroup\":\"SMART\",\"marker\":{\"color\":\"#B6E880\",\"pattern\":{\"shape\":\"\"}},\"name\":\"SMART\",\"offsetgroup\":\"SMART\",\"orientation\":\"h\",\"showlegend\":true,\"textposition\":\"auto\",\"x\":[71],\"xaxis\":\"x\",\"y\":[\"SMART\"],\"yaxis\":\"y\",\"type\":\"bar\"},{\"alignmentgroup\":\"True\",\"hovertemplate\":\"Make=%{y}<br>Model Year=2014<br>Number of EV Vehicles=%{x}<extra></extra>\",\"legendgroup\":\"TESLA\",\"marker\":{\"color\":\"#FECB52\",\"pattern\":{\"shape\":\"\"}},\"name\":\"TESLA\",\"offsetgroup\":\"TESLA\",\"orientation\":\"h\",\"showlegend\":true,\"textposition\":\"auto\",\"x\":[683],\"xaxis\":\"x\",\"y\":[\"TESLA\"],\"yaxis\":\"y\",\"type\":\"bar\"},{\"alignmentgroup\":\"True\",\"hovertemplate\":\"Make=%{y}<br>Model Year=2014<br>Number of EV Vehicles=%{x}<extra></extra>\",\"legendgroup\":\"TOYOTA\",\"marker\":{\"color\":\"#EF553B\",\"pattern\":{\"shape\":\"\"}},\"name\":\"TOYOTA\",\"offsetgroup\":\"TOYOTA\",\"orientation\":\"h\",\"showlegend\":true,\"textposition\":\"auto\",\"x\":[215],\"xaxis\":\"x\",\"y\":[\"TOYOTA\"],\"yaxis\":\"y\",\"type\":\"bar\"}],\"name\":\"2014\"},{\"data\":[{\"alignmentgroup\":\"True\",\"hovertemplate\":\"Make=%{y}<br>Model Year=2015<br>Number of EV Vehicles=%{x}<extra></extra>\",\"legendgroup\":\"BMW\",\"marker\":{\"color\":\"#ab63fa\",\"pattern\":{\"shape\":\"\"}},\"name\":\"BMW\",\"offsetgroup\":\"BMW\",\"orientation\":\"h\",\"showlegend\":true,\"textposition\":\"auto\",\"x\":[402],\"xaxis\":\"x\",\"y\":[\"BMW\"],\"yaxis\":\"y\",\"type\":\"bar\"},{\"alignmentgroup\":\"True\",\"hovertemplate\":\"Make=%{y}<br>Model Year=2015<br>Number of EV Vehicles=%{x}<extra></extra>\",\"legendgroup\":\"CHEVROLET\",\"marker\":{\"color\":\"#19d3f3\",\"pattern\":{\"shape\":\"\"}},\"name\":\"CHEVROLET\",\"offsetgroup\":\"CHEVROLET\",\"orientation\":\"h\",\"showlegend\":true,\"textposition\":\"auto\",\"x\":[465],\"xaxis\":\"x\",\"y\":[\"CHEVROLET\"],\"yaxis\":\"y\",\"type\":\"bar\"},{\"alignmentgroup\":\"True\",\"hovertemplate\":\"Make=%{y}<br>Model Year=2015<br>Number of EV Vehicles=%{x}<extra></extra>\",\"legendgroup\":\"FIAT\",\"marker\":{\"color\":\"#B6E880\",\"pattern\":{\"shape\":\"\"}},\"name\":\"FIAT\",\"offsetgroup\":\"FIAT\",\"orientation\":\"h\",\"showlegend\":true,\"textposition\":\"auto\",\"x\":[242],\"xaxis\":\"x\",\"y\":[\"FIAT\"],\"yaxis\":\"y\",\"type\":\"bar\"},{\"alignmentgroup\":\"True\",\"hovertemplate\":\"Make=%{y}<br>Model Year=2015<br>Number of EV Vehicles=%{x}<extra></extra>\",\"legendgroup\":\"FORD\",\"marker\":{\"color\":\"#FECB52\",\"pattern\":{\"shape\":\"\"}},\"name\":\"FORD\",\"offsetgroup\":\"FORD\",\"orientation\":\"h\",\"showlegend\":true,\"textposition\":\"auto\",\"x\":[550],\"xaxis\":\"x\",\"y\":[\"FORD\"],\"yaxis\":\"y\",\"type\":\"bar\"},{\"alignmentgroup\":\"True\",\"hovertemplate\":\"Make=%{y}<br>Model Year=2015<br>Number of EV Vehicles=%{x}<extra></extra>\",\"legendgroup\":\"KIA\",\"marker\":{\"color\":\"#19d3f3\",\"pattern\":{\"shape\":\"\"}},\"name\":\"KIA\",\"offsetgroup\":\"KIA\",\"orientation\":\"h\",\"showlegend\":true,\"textposition\":\"auto\",\"x\":[22],\"xaxis\":\"x\",\"y\":[\"KIA\"],\"yaxis\":\"y\",\"type\":\"bar\"},{\"alignmentgroup\":\"True\",\"hovertemplate\":\"Make=%{y}<br>Model Year=2015<br>Number of EV Vehicles=%{x}<extra></extra>\",\"legendgroup\":\"MERCEDES-BENZ\",\"marker\":{\"color\":\"#636efa\",\"pattern\":{\"shape\":\"\"}},\"name\":\"MERCEDES-BENZ\",\"offsetgroup\":\"MERCEDES-BENZ\",\"orientation\":\"h\",\"showlegend\":true,\"textposition\":\"auto\",\"x\":[24],\"xaxis\":\"x\",\"y\":[\"MERCEDES-BENZ\"],\"yaxis\":\"y\",\"type\":\"bar\"},{\"alignmentgroup\":\"True\",\"hovertemplate\":\"Make=%{y}<br>Model Year=2015<br>Number of EV Vehicles=%{x}<extra></extra>\",\"legendgroup\":\"NISSAN\",\"marker\":{\"color\":\"#ab63fa\",\"pattern\":{\"shape\":\"\"}},\"name\":\"NISSAN\",\"offsetgroup\":\"NISSAN\",\"orientation\":\"h\",\"showlegend\":true,\"textposition\":\"auto\",\"x\":[1837],\"xaxis\":\"x\",\"y\":[\"NISSAN\"],\"yaxis\":\"y\",\"type\":\"bar\"},{\"alignmentgroup\":\"True\",\"hovertemplate\":\"Make=%{y}<br>Model Year=2015<br>Number of EV Vehicles=%{x}<extra></extra>\",\"legendgroup\":\"PORSCHE\",\"marker\":{\"color\":\"#19d3f3\",\"pattern\":{\"shape\":\"\"}},\"name\":\"PORSCHE\",\"offsetgroup\":\"PORSCHE\",\"orientation\":\"h\",\"showlegend\":true,\"textposition\":\"auto\",\"x\":[33],\"xaxis\":\"x\",\"y\":[\"PORSCHE\"],\"yaxis\":\"y\",\"type\":\"bar\"},{\"alignmentgroup\":\"True\",\"hovertemplate\":\"Make=%{y}<br>Model Year=2015<br>Number of EV Vehicles=%{x}<extra></extra>\",\"legendgroup\":\"SMART\",\"marker\":{\"color\":\"#B6E880\",\"pattern\":{\"shape\":\"\"}},\"name\":\"SMART\",\"offsetgroup\":\"SMART\",\"orientation\":\"h\",\"showlegend\":true,\"textposition\":\"auto\",\"x\":[52],\"xaxis\":\"x\",\"y\":[\"SMART\"],\"yaxis\":\"y\",\"type\":\"bar\"},{\"alignmentgroup\":\"True\",\"hovertemplate\":\"Make=%{y}<br>Model Year=2015<br>Number of EV Vehicles=%{x}<extra></extra>\",\"legendgroup\":\"TESLA\",\"marker\":{\"color\":\"#FECB52\",\"pattern\":{\"shape\":\"\"}},\"name\":\"TESLA\",\"offsetgroup\":\"TESLA\",\"orientation\":\"h\",\"showlegend\":true,\"textposition\":\"auto\",\"x\":[1086],\"xaxis\":\"x\",\"y\":[\"TESLA\"],\"yaxis\":\"y\",\"type\":\"bar\"},{\"alignmentgroup\":\"True\",\"hovertemplate\":\"Make=%{y}<br>Model Year=2015<br>Number of EV Vehicles=%{x}<extra></extra>\",\"legendgroup\":\"TOYOTA\",\"marker\":{\"color\":\"#EF553B\",\"pattern\":{\"shape\":\"\"}},\"name\":\"TOYOTA\",\"offsetgroup\":\"TOYOTA\",\"orientation\":\"h\",\"showlegend\":true,\"textposition\":\"auto\",\"x\":[87],\"xaxis\":\"x\",\"y\":[\"TOYOTA\"],\"yaxis\":\"y\",\"type\":\"bar\"},{\"alignmentgroup\":\"True\",\"hovertemplate\":\"Make=%{y}<br>Model Year=2015<br>Number of EV Vehicles=%{x}<extra></extra>\",\"legendgroup\":\"VOLKSWAGEN\",\"marker\":{\"color\":\"#00cc96\",\"pattern\":{\"shape\":\"\"}},\"name\":\"VOLKSWAGEN\",\"offsetgroup\":\"VOLKSWAGEN\",\"orientation\":\"h\",\"showlegend\":true,\"textposition\":\"auto\",\"x\":[124],\"xaxis\":\"x\",\"y\":[\"VOLKSWAGEN\"],\"yaxis\":\"y\",\"type\":\"bar\"}],\"name\":\"2015\"},{\"data\":[{\"alignmentgroup\":\"True\",\"hovertemplate\":\"Make=%{y}<br>Model Year=1997<br>Number of EV Vehicles=%{x}<extra></extra>\",\"legendgroup\":\"CHEVROLET\",\"marker\":{\"color\":\"#19d3f3\",\"pattern\":{\"shape\":\"\"}},\"name\":\"CHEVROLET\",\"offsetgroup\":\"CHEVROLET\",\"orientation\":\"h\",\"showlegend\":true,\"textposition\":\"auto\",\"x\":[1],\"xaxis\":\"x\",\"y\":[\"CHEVROLET\"],\"yaxis\":\"y\",\"type\":\"bar\"}],\"name\":\"1997\"},{\"data\":[{\"alignmentgroup\":\"True\",\"hovertemplate\":\"Make=%{y}<br>Model Year=2013<br>Number of EV Vehicles=%{x}<extra></extra>\",\"legendgroup\":\"CHEVROLET\",\"marker\":{\"color\":\"#19d3f3\",\"pattern\":{\"shape\":\"\"}},\"name\":\"CHEVROLET\",\"offsetgroup\":\"CHEVROLET\",\"orientation\":\"h\",\"showlegend\":true,\"textposition\":\"auto\",\"x\":[815],\"xaxis\":\"x\",\"y\":[\"CHEVROLET\"],\"yaxis\":\"y\",\"type\":\"bar\"},{\"alignmentgroup\":\"True\",\"hovertemplate\":\"Make=%{y}<br>Model Year=2013<br>Number of EV Vehicles=%{x}<extra></extra>\",\"legendgroup\":\"FIAT\",\"marker\":{\"color\":\"#B6E880\",\"pattern\":{\"shape\":\"\"}},\"name\":\"FIAT\",\"offsetgroup\":\"FIAT\",\"orientation\":\"h\",\"showlegend\":true,\"textposition\":\"auto\",\"x\":[106],\"xaxis\":\"x\",\"y\":[\"FIAT\"],\"yaxis\":\"y\",\"type\":\"bar\"},{\"alignmentgroup\":\"True\",\"hovertemplate\":\"Make=%{y}<br>Model Year=2013<br>Number of EV Vehicles=%{x}<extra></extra>\",\"legendgroup\":\"FORD\",\"marker\":{\"color\":\"#FECB52\",\"pattern\":{\"shape\":\"\"}},\"name\":\"FORD\",\"offsetgroup\":\"FORD\",\"orientation\":\"h\",\"showlegend\":true,\"textposition\":\"auto\",\"x\":[661],\"xaxis\":\"x\",\"y\":[\"FORD\"],\"yaxis\":\"y\",\"type\":\"bar\"},{\"alignmentgroup\":\"True\",\"hovertemplate\":\"Make=%{y}<br>Model Year=2013<br>Number of EV Vehicles=%{x}<extra></extra>\",\"legendgroup\":\"NISSAN\",\"marker\":{\"color\":\"#ab63fa\",\"pattern\":{\"shape\":\"\"}},\"name\":\"NISSAN\",\"offsetgroup\":\"NISSAN\",\"orientation\":\"h\",\"showlegend\":true,\"textposition\":\"auto\",\"x\":[1964],\"xaxis\":\"x\",\"y\":[\"NISSAN\"],\"yaxis\":\"y\",\"type\":\"bar\"},{\"alignmentgroup\":\"True\",\"hovertemplate\":\"Make=%{y}<br>Model Year=2013<br>Number of EV Vehicles=%{x}<extra></extra>\",\"legendgroup\":\"SMART\",\"marker\":{\"color\":\"#B6E880\",\"pattern\":{\"shape\":\"\"}},\"name\":\"SMART\",\"offsetgroup\":\"SMART\",\"orientation\":\"h\",\"showlegend\":true,\"textposition\":\"auto\",\"x\":[29],\"xaxis\":\"x\",\"y\":[\"SMART\"],\"yaxis\":\"y\",\"type\":\"bar\"},{\"alignmentgroup\":\"True\",\"hovertemplate\":\"Make=%{y}<br>Model Year=2013<br>Number of EV Vehicles=%{x}<extra></extra>\",\"legendgroup\":\"TESLA\",\"marker\":{\"color\":\"#FECB52\",\"pattern\":{\"shape\":\"\"}},\"name\":\"TESLA\",\"offsetgroup\":\"TESLA\",\"orientation\":\"h\",\"showlegend\":true,\"textposition\":\"auto\",\"x\":[813],\"xaxis\":\"x\",\"y\":[\"TESLA\"],\"yaxis\":\"y\",\"type\":\"bar\"},{\"alignmentgroup\":\"True\",\"hovertemplate\":\"Make=%{y}<br>Model Year=2013<br>Number of EV Vehicles=%{x}<extra></extra>\",\"legendgroup\":\"TOYOTA\",\"marker\":{\"color\":\"#EF553B\",\"pattern\":{\"shape\":\"\"}},\"name\":\"TOYOTA\",\"offsetgroup\":\"TOYOTA\",\"orientation\":\"h\",\"showlegend\":true,\"textposition\":\"auto\",\"x\":[294],\"xaxis\":\"x\",\"y\":[\"TOYOTA\"],\"yaxis\":\"y\",\"type\":\"bar\"}],\"name\":\"2013\"},{\"data\":[{\"alignmentgroup\":\"True\",\"hovertemplate\":\"Make=%{y}<br>Model Year=1998<br>Number of EV Vehicles=%{x}<extra></extra>\",\"legendgroup\":\"FORD\",\"marker\":{\"color\":\"#FECB52\",\"pattern\":{\"shape\":\"\"}},\"name\":\"FORD\",\"offsetgroup\":\"FORD\",\"orientation\":\"h\",\"showlegend\":true,\"textposition\":\"auto\",\"x\":[1],\"xaxis\":\"x\",\"y\":[\"FORD\"],\"yaxis\":\"y\",\"type\":\"bar\"}],\"name\":\"1998\"},{\"data\":[{\"alignmentgroup\":\"True\",\"hovertemplate\":\"Make=%{y}<br>Model Year=1999<br>Number of EV Vehicles=%{x}<extra></extra>\",\"legendgroup\":\"FORD\",\"marker\":{\"color\":\"#FECB52\",\"pattern\":{\"shape\":\"\"}},\"name\":\"FORD\",\"offsetgroup\":\"FORD\",\"orientation\":\"h\",\"showlegend\":true,\"textposition\":\"auto\",\"x\":[3],\"xaxis\":\"x\",\"y\":[\"FORD\"],\"yaxis\":\"y\",\"type\":\"bar\"}],\"name\":\"1999\"},{\"data\":[{\"alignmentgroup\":\"True\",\"hovertemplate\":\"Make=%{y}<br>Model Year=2000<br>Number of EV Vehicles=%{x}<extra></extra>\",\"legendgroup\":\"FORD\",\"marker\":{\"color\":\"#FECB52\",\"pattern\":{\"shape\":\"\"}},\"name\":\"FORD\",\"offsetgroup\":\"FORD\",\"orientation\":\"h\",\"showlegend\":true,\"textposition\":\"auto\",\"x\":[10],\"xaxis\":\"x\",\"y\":[\"FORD\"],\"yaxis\":\"y\",\"type\":\"bar\"}],\"name\":\"2000\"},{\"data\":[{\"alignmentgroup\":\"True\",\"hovertemplate\":\"Make=%{y}<br>Model Year=2008<br>Number of EV Vehicles=%{x}<extra></extra>\",\"legendgroup\":\"TESLA\",\"marker\":{\"color\":\"#FECB52\",\"pattern\":{\"shape\":\"\"}},\"name\":\"TESLA\",\"offsetgroup\":\"TESLA\",\"orientation\":\"h\",\"showlegend\":true,\"textposition\":\"auto\",\"x\":[23],\"xaxis\":\"x\",\"y\":[\"TESLA\"],\"yaxis\":\"y\",\"type\":\"bar\"}],\"name\":\"2008\"},{\"data\":[{\"alignmentgroup\":\"True\",\"hovertemplate\":\"Make=%{y}<br>Model Year=2010<br>Number of EV Vehicles=%{x}<extra></extra>\",\"legendgroup\":\"TESLA\",\"marker\":{\"color\":\"#FECB52\",\"pattern\":{\"shape\":\"\"}},\"name\":\"TESLA\",\"offsetgroup\":\"TESLA\",\"orientation\":\"h\",\"showlegend\":true,\"textposition\":\"auto\",\"x\":[24],\"xaxis\":\"x\",\"y\":[\"TESLA\"],\"yaxis\":\"y\",\"type\":\"bar\"}],\"name\":\"2010\"},{\"data\":[{\"alignmentgroup\":\"True\",\"hovertemplate\":\"Make=%{y}<br>Model Year=2002<br>Number of EV Vehicles=%{x}<extra></extra>\",\"legendgroup\":\"TOYOTA\",\"marker\":{\"color\":\"#EF553B\",\"pattern\":{\"shape\":\"\"}},\"name\":\"TOYOTA\",\"offsetgroup\":\"TOYOTA\",\"orientation\":\"h\",\"showlegend\":true,\"textposition\":\"auto\",\"x\":[2],\"xaxis\":\"x\",\"y\":[\"TOYOTA\"],\"yaxis\":\"y\",\"type\":\"bar\"}],\"name\":\"2002\"}]);\n",
       "                        }).then(function(){\n",
       "                            \n",
       "var gd = document.getElementById('6f0e19ec-fcb3-43f2-bc0d-b9bd065c0572');\n",
       "var x = new MutationObserver(function (mutations, observer) {{\n",
       "        var display = window.getComputedStyle(gd).display;\n",
       "        if (!display || display === 'none') {{\n",
       "            console.log([gd, 'removed!']);\n",
       "            Plotly.purge(gd);\n",
       "            observer.disconnect();\n",
       "        }}\n",
       "}});\n",
       "\n",
       "// Listen for the removal of the full notebook cells\n",
       "var notebookContainer = gd.closest('#notebook-container');\n",
       "if (notebookContainer) {{\n",
       "    x.observe(notebookContainer, {childList: true});\n",
       "}}\n",
       "\n",
       "// Listen for the clearing of the current output cell\n",
       "var outputEl = gd.closest('.output');\n",
       "if (outputEl) {{\n",
       "    x.observe(outputEl, {childList: true});\n",
       "}}\n",
       "\n",
       "                        })                };                });            </script>        </div>"
      ]
     },
     "metadata": {},
     "output_type": "display_data"
    }
   ],
   "source": [
    "ev_make_counts = df[df['State'] == 'WA'].groupby(['Make', 'Model Year']).size().reset_index(name='Count')\n",
    "fig = px.bar(\n",
    "    ev_make_counts,\n",
    "    y='Make',  \n",
    "    x='Count',  \n",
    "    color='Make',  \n",
    "    animation_frame='Model Year',  \n",
    "    orientation='h',  \n",
    "    title='EV Makes and their Count Over the Years in Washington',\n",
    "    labels={'Count': 'Number of EV Vehicles'},\n",
    "    range_x=[0, 3000]\n",
    ")\n",
    "fig.update_traces(\n",
    "    texttemplate='%{x}',  \n",
    "    textposition='outside',  \n",
    "    textfont_size=16\n",
    ")\n",
    "\n",
    "fig.update_layout(\n",
    "    yaxis_title='Make', \n",
    "    xaxis_title='Number of EV Vehicles',\n",
    "    width=1200,\n",
    "    height=800   \n",
    ")\n",
    "\n",
    "fig.show()"
   ]
  },
  {
   "cell_type": "code",
   "execution_count": null,
   "id": "83d0a22c",
   "metadata": {},
   "outputs": [],
   "source": []
  }
 ],
 "metadata": {
  "kernelspec": {
   "display_name": "Python 3 (ipykernel)",
   "language": "python",
   "name": "python3"
  },
  "language_info": {
   "codemirror_mode": {
    "name": "ipython",
    "version": 3
   },
   "file_extension": ".py",
   "mimetype": "text/x-python",
   "name": "python",
   "nbconvert_exporter": "python",
   "pygments_lexer": "ipython3",
   "version": "3.9.13"
  }
 },
 "nbformat": 4,
 "nbformat_minor": 5
}
